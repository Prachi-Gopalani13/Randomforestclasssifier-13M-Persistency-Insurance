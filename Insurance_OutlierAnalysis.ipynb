{
 "cells": [
  {
   "cell_type": "code",
   "execution_count": 1,
   "metadata": {},
   "outputs": [],
   "source": [
    "# Importing the required libraries\n",
    "import pandas as pd\n",
    "import numpy as np\n",
    "import matplotlib.pyplot as plt\n",
    "import seaborn as sns\n",
    "%matplotlib inline"
   ]
  },
  {
   "cell_type": "code",
   "execution_count": 2,
   "metadata": {},
   "outputs": [],
   "source": [
    "df = pd.read_csv('data')"
   ]
  },
  {
   "cell_type": "code",
   "execution_count": 3,
   "metadata": {},
   "outputs": [
    {
     "data": {
      "text/html": [
       "<div>\n",
       "<style scoped>\n",
       "    .dataframe tbody tr th:only-of-type {\n",
       "        vertical-align: middle;\n",
       "    }\n",
       "\n",
       "    .dataframe tbody tr th {\n",
       "        vertical-align: top;\n",
       "    }\n",
       "\n",
       "    .dataframe thead th {\n",
       "        text-align: right;\n",
       "    }\n",
       "</style>\n",
       "<table border=\"1\" class=\"dataframe\">\n",
       "  <thead>\n",
       "    <tr style=\"text-align: right;\">\n",
       "      <th></th>\n",
       "      <th>Mapped Agent 13M Persistency</th>\n",
       "      <th>Mapped Agent Branch</th>\n",
       "      <th>Application Life Assured Alcohol Declaration</th>\n",
       "      <th>Applicant's Policy Annualized Premium</th>\n",
       "      <th>Mapped Agent Vintage</th>\n",
       "      <th>Auto Debit of Premium Opted Flag(Yes/No)</th>\n",
       "      <th>Application Life Assured BMI</th>\n",
       "      <th>Total Risk Exposure of HDFC Life w.r.t. Life Assured</th>\n",
       "      <th>Application  Sourcing Channel</th>\n",
       "      <th>Application  Life Assured City</th>\n",
       "      <th>...</th>\n",
       "      <th>Applicant's Policy Price Sensitivity(1-'Yes', 0-'No')</th>\n",
       "      <th>Application Life Assured Residential Status</th>\n",
       "      <th>Applicant's Policy Risk Cessation Term</th>\n",
       "      <th>Applicant's Policy Rider Opted Flag(1-'Yes', 0-'No')</th>\n",
       "      <th>Application Life Assured Smoker Declaration</th>\n",
       "      <th>Application Life Assured State</th>\n",
       "      <th>Application Sourcing Sub Channel</th>\n",
       "      <th>Applicant's Policy Sum Assured</th>\n",
       "      <th>HDFC Life Operational Zone</th>\n",
       "      <th>Target - Paid Premium Within 90 Days of Due Date Flag(1-'Yes', 0-'No')</th>\n",
       "    </tr>\n",
       "  </thead>\n",
       "  <tbody>\n",
       "    <tr>\n",
       "      <th>0</th>\n",
       "      <td>93.47</td>\n",
       "      <td>Delhi - Asaf Ali Road</td>\n",
       "      <td>N</td>\n",
       "      <td>7157.0</td>\n",
       "      <td>33.0</td>\n",
       "      <td>Y</td>\n",
       "      <td>16.22784</td>\n",
       "      <td>10000000.0</td>\n",
       "      <td>HDFC BANK</td>\n",
       "      <td>bangalore</td>\n",
       "      <td>...</td>\n",
       "      <td>1</td>\n",
       "      <td>Resident Indian</td>\n",
       "      <td>40</td>\n",
       "      <td>1</td>\n",
       "      <td>N</td>\n",
       "      <td>Karnataka</td>\n",
       "      <td>HDFC BANK</td>\n",
       "      <td>10000000</td>\n",
       "      <td>North 1</td>\n",
       "      <td>1</td>\n",
       "    </tr>\n",
       "    <tr>\n",
       "      <th>1</th>\n",
       "      <td>81.59</td>\n",
       "      <td>Ahmedabad Vastrapur Branch</td>\n",
       "      <td>N</td>\n",
       "      <td>25000.0</td>\n",
       "      <td>42.0</td>\n",
       "      <td>N</td>\n",
       "      <td>28.34467</td>\n",
       "      <td>145501.0</td>\n",
       "      <td>HDFC BANK</td>\n",
       "      <td>Navsari</td>\n",
       "      <td>...</td>\n",
       "      <td>0</td>\n",
       "      <td>Resident Indian</td>\n",
       "      <td>16</td>\n",
       "      <td>0</td>\n",
       "      <td>N</td>\n",
       "      <td>Gujarat</td>\n",
       "      <td>HDFC BANK</td>\n",
       "      <td>145501</td>\n",
       "      <td>West</td>\n",
       "      <td>1</td>\n",
       "    </tr>\n",
       "    <tr>\n",
       "      <th>2</th>\n",
       "      <td>87.58</td>\n",
       "      <td>Jaipur-Tonk Road</td>\n",
       "      <td>N</td>\n",
       "      <td>35000.0</td>\n",
       "      <td>35.0</td>\n",
       "      <td>Y</td>\n",
       "      <td>21.87500</td>\n",
       "      <td>800000.0</td>\n",
       "      <td>Ex-HDFC</td>\n",
       "      <td>jaipur</td>\n",
       "      <td>...</td>\n",
       "      <td>0</td>\n",
       "      <td>Resident Indian</td>\n",
       "      <td>15</td>\n",
       "      <td>1</td>\n",
       "      <td>N</td>\n",
       "      <td>Rajasthan</td>\n",
       "      <td>HDFC Sales</td>\n",
       "      <td>1600000</td>\n",
       "      <td>North 2</td>\n",
       "      <td>1</td>\n",
       "    </tr>\n",
       "    <tr>\n",
       "      <th>3</th>\n",
       "      <td>80.18</td>\n",
       "      <td>Jaipur-Tonk Road</td>\n",
       "      <td>N</td>\n",
       "      <td>100000.0</td>\n",
       "      <td>12.0</td>\n",
       "      <td>Y</td>\n",
       "      <td>22.85714</td>\n",
       "      <td>1000000.0</td>\n",
       "      <td>HDFC BANK</td>\n",
       "      <td>Jaipur</td>\n",
       "      <td>...</td>\n",
       "      <td>0</td>\n",
       "      <td>Resident Indian</td>\n",
       "      <td>10</td>\n",
       "      <td>1</td>\n",
       "      <td>N</td>\n",
       "      <td>Rajasthan</td>\n",
       "      <td>HDFC BANK</td>\n",
       "      <td>2000000</td>\n",
       "      <td>North 2</td>\n",
       "      <td>1</td>\n",
       "    </tr>\n",
       "    <tr>\n",
       "      <th>4</th>\n",
       "      <td>97.19</td>\n",
       "      <td>Bhavnagar - Patni Plaza</td>\n",
       "      <td>N</td>\n",
       "      <td>15000.0</td>\n",
       "      <td>45.0</td>\n",
       "      <td>Y</td>\n",
       "      <td>20.70082</td>\n",
       "      <td>300000.0</td>\n",
       "      <td>HDFC BANK</td>\n",
       "      <td>botad</td>\n",
       "      <td>...</td>\n",
       "      <td>0</td>\n",
       "      <td>Resident Indian</td>\n",
       "      <td>20</td>\n",
       "      <td>1</td>\n",
       "      <td>N</td>\n",
       "      <td>Gujarat</td>\n",
       "      <td>HDFC BANK</td>\n",
       "      <td>165000</td>\n",
       "      <td>West</td>\n",
       "      <td>1</td>\n",
       "    </tr>\n",
       "  </tbody>\n",
       "</table>\n",
       "<p>5 rows × 37 columns</p>\n",
       "</div>"
      ],
      "text/plain": [
       "   Mapped Agent 13M Persistency        Mapped Agent Branch   \\\n",
       "0                         93.47       Delhi - Asaf Ali Road   \n",
       "1                         81.59  Ahmedabad Vastrapur Branch   \n",
       "2                         87.58            Jaipur-Tonk Road   \n",
       "3                         80.18            Jaipur-Tonk Road   \n",
       "4                         97.19     Bhavnagar - Patni Plaza   \n",
       "\n",
       "  Application Life Assured Alcohol Declaration  \\\n",
       "0                                            N   \n",
       "1                                            N   \n",
       "2                                            N   \n",
       "3                                            N   \n",
       "4                                            N   \n",
       "\n",
       "   Applicant's Policy Annualized Premium  Mapped Agent Vintage  \\\n",
       "0                                 7157.0                  33.0   \n",
       "1                                25000.0                  42.0   \n",
       "2                                35000.0                  35.0   \n",
       "3                               100000.0                  12.0   \n",
       "4                                15000.0                  45.0   \n",
       "\n",
       "  Auto Debit of Premium Opted Flag(Yes/No)  Application Life Assured BMI  \\\n",
       "0                                        Y                      16.22784   \n",
       "1                                        N                      28.34467   \n",
       "2                                        Y                      21.87500   \n",
       "3                                        Y                      22.85714   \n",
       "4                                        Y                      20.70082   \n",
       "\n",
       "   Total Risk Exposure of HDFC Life w.r.t. Life Assured  \\\n",
       "0                                         10000000.0      \n",
       "1                                           145501.0      \n",
       "2                                           800000.0      \n",
       "3                                          1000000.0      \n",
       "4                                           300000.0      \n",
       "\n",
       "  Application  Sourcing Channel Application  Life Assured City  ...  \\\n",
       "0                     HDFC BANK                      bangalore  ...   \n",
       "1                     HDFC BANK                        Navsari  ...   \n",
       "2                       Ex-HDFC                         jaipur  ...   \n",
       "3                     HDFC BANK                         Jaipur  ...   \n",
       "4                     HDFC BANK                          botad  ...   \n",
       "\n",
       "  Applicant's Policy Price Sensitivity(1-'Yes', 0-'No')  \\\n",
       "0                                                  1      \n",
       "1                                                  0      \n",
       "2                                                  0      \n",
       "3                                                  0      \n",
       "4                                                  0      \n",
       "\n",
       "  Application Life Assured Residential Status  \\\n",
       "0                             Resident Indian   \n",
       "1                             Resident Indian   \n",
       "2                             Resident Indian   \n",
       "3                             Resident Indian   \n",
       "4                             Resident Indian   \n",
       "\n",
       "   Applicant's Policy Risk Cessation Term  \\\n",
       "0                                      40   \n",
       "1                                      16   \n",
       "2                                      15   \n",
       "3                                      10   \n",
       "4                                      20   \n",
       "\n",
       "  Applicant's Policy Rider Opted Flag(1-'Yes', 0-'No')  \\\n",
       "0                                                  1     \n",
       "1                                                  0     \n",
       "2                                                  1     \n",
       "3                                                  1     \n",
       "4                                                  1     \n",
       "\n",
       "  Application Life Assured Smoker Declaration  Application Life Assured State  \\\n",
       "0                                           N                       Karnataka   \n",
       "1                                           N                         Gujarat   \n",
       "2                                           N                       Rajasthan   \n",
       "3                                           N                       Rajasthan   \n",
       "4                                           N                         Gujarat   \n",
       "\n",
       "  Application Sourcing Sub Channel Applicant's Policy Sum Assured  \\\n",
       "0                        HDFC BANK                       10000000   \n",
       "1                        HDFC BANK                         145501   \n",
       "2                       HDFC Sales                        1600000   \n",
       "3                        HDFC BANK                        2000000   \n",
       "4                        HDFC BANK                         165000   \n",
       "\n",
       "  HDFC Life Operational Zone  \\\n",
       "0                    North 1   \n",
       "1                       West   \n",
       "2                    North 2   \n",
       "3                    North 2   \n",
       "4                       West   \n",
       "\n",
       "  Target - Paid Premium Within 90 Days of Due Date Flag(1-'Yes', 0-'No')  \n",
       "0                                                  1                      \n",
       "1                                                  1                      \n",
       "2                                                  1                      \n",
       "3                                                  1                      \n",
       "4                                                  1                      \n",
       "\n",
       "[5 rows x 37 columns]"
      ]
     },
     "execution_count": 3,
     "metadata": {},
     "output_type": "execute_result"
    }
   ],
   "source": [
    "df.head()"
   ]
  },
  {
   "cell_type": "markdown",
   "metadata": {},
   "source": [
    "## Numerical Columns Visualization"
   ]
  },
  {
   "cell_type": "code",
   "execution_count": 4,
   "metadata": {},
   "outputs": [],
   "source": [
    "c = ['Mapped Agent 13M Persistency', 'Applicant\\'s Policy Annualized Premium',\n",
    "       'Mapped Agent Vintage', 'Application Life Assured BMI',\n",
    "       'Total Risk Exposure of HDFC Life w.r.t. Life Assured',\n",
    "       'Application  Life Assured Age', 'Application  Life Assured Income',\n",
    "       'Applicant\\'s Policy Risk Cessation Term',\n",
    "       'Applicant\\'s Policy Sum Assured']"
   ]
  },
  {
   "cell_type": "code",
   "execution_count": 5,
   "metadata": {},
   "outputs": [
    {
     "data": {
      "text/plain": [
       "9"
      ]
     },
     "execution_count": 5,
     "metadata": {},
     "output_type": "execute_result"
    }
   ],
   "source": [
    "len(c)"
   ]
  },
  {
   "cell_type": "code",
   "execution_count": 6,
   "metadata": {
    "scrolled": false
   },
   "outputs": [
    {
     "data": {
      "text/plain": [
       "<matplotlib.axes._subplots.AxesSubplot at 0x7ff52800c940>"
      ]
     },
     "execution_count": 6,
     "metadata": {},
     "output_type": "execute_result"
    },
    {
     "data": {
      "image/png": "[encoded data removed]",
      "text/plain": [
       "<Figure size 432x288 with 1 Axes>"
      ]
     },
     "metadata": {
      "needs_background": "light"
     },
     "output_type": "display_data"
    }
   ],
   "source": [
    "#1\n",
    "sns.kdeplot(df['Mapped Agent 13M Persistency'])"
   ]
  },
  {
   "cell_type": "code",
   "execution_count": 7,
   "metadata": {},
   "outputs": [
    {
     "data": {
      "text/plain": [
       "0.0"
      ]
     },
     "execution_count": 7,
     "metadata": {},
     "output_type": "execute_result"
    }
   ],
   "source": [
    "df['Mapped Agent 13M Persistency'].min()"
   ]
  },
  {
   "cell_type": "code",
   "execution_count": 8,
   "metadata": {},
   "outputs": [
    {
     "data": {
      "text/plain": [
       "100.0"
      ]
     },
     "execution_count": 8,
     "metadata": {},
     "output_type": "execute_result"
    }
   ],
   "source": [
    "df['Mapped Agent 13M Persistency'].max()"
   ]
  },
  {
   "cell_type": "code",
   "execution_count": 9,
   "metadata": {},
   "outputs": [
    {
     "data": {
      "text/plain": [
       "<matplotlib.axes._subplots.AxesSubplot at 0x7ff52496a2b0>"
      ]
     },
     "execution_count": 9,
     "metadata": {},
     "output_type": "execute_result"
    },
    {
     "data": {
      "image/png": "[encoded data removed]",
      "text/plain": [
       "<Figure size 432x288 with 1 Axes>"
      ]
     },
     "metadata": {
      "needs_background": "light"
     },
     "output_type": "display_data"
    }
   ],
   "source": [
    "#2\n",
    "sns.kdeplot(df['Applicant\\'s Policy Annualized Premium'])"
   ]
  },
  {
   "cell_type": "code",
   "execution_count": 10,
   "metadata": {},
   "outputs": [
    {
     "data": {
      "text/plain": [
       "3079.0"
      ]
     },
     "execution_count": 10,
     "metadata": {},
     "output_type": "execute_result"
    }
   ],
   "source": [
    "df['Applicant\\'s Policy Annualized Premium'].min()"
   ]
  },
  {
   "cell_type": "code",
   "execution_count": 11,
   "metadata": {},
   "outputs": [
    {
     "data": {
      "text/plain": [
       "2500000.0"
      ]
     },
     "execution_count": 11,
     "metadata": {},
     "output_type": "execute_result"
    }
   ],
   "source": [
    "df['Applicant\\'s Policy Annualized Premium'].max()"
   ]
  },
  {
   "cell_type": "code",
   "execution_count": 12,
   "metadata": {
    "scrolled": true
   },
   "outputs": [
    {
     "data": {
      "text/plain": [
       "<matplotlib.axes._subplots.AxesSubplot at 0x7ff524900080>"
      ]
     },
     "execution_count": 12,
     "metadata": {},
     "output_type": "execute_result"
    },
    {
     "data": {
      "image/png": "[encoded data removed]",
      "text/plain": [
       "<Figure size 432x288 with 1 Axes>"
      ]
     },
     "metadata": {
      "needs_background": "light"
     },
     "output_type": "display_data"
    }
   ],
   "source": [
    "#3\n",
    "sns.kdeplot(df['Mapped Agent Vintage'])"
   ]
  },
  {
   "cell_type": "code",
   "execution_count": 13,
   "metadata": {},
   "outputs": [
    {
     "data": {
      "text/plain": [
       "0.0"
      ]
     },
     "execution_count": 13,
     "metadata": {},
     "output_type": "execute_result"
    }
   ],
   "source": [
    "df['Mapped Agent Vintage'].min()"
   ]
  },
  {
   "cell_type": "code",
   "execution_count": 14,
   "metadata": {},
   "outputs": [
    {
     "data": {
      "text/plain": [
       "173.0"
      ]
     },
     "execution_count": 14,
     "metadata": {},
     "output_type": "execute_result"
    }
   ],
   "source": [
    "df['Mapped Agent Vintage'].max()"
   ]
  },
  {
   "cell_type": "code",
   "execution_count": 15,
   "metadata": {},
   "outputs": [
    {
     "data": {
      "text/plain": [
       "<matplotlib.axes._subplots.AxesSubplot at 0x7ff5280dbb00>"
      ]
     },
     "execution_count": 15,
     "metadata": {},
     "output_type": "execute_result"
    },
    {
     "data": {
      "image/png": "[encoded data removed]",
      "text/plain": [
       "<Figure size 432x288 with 1 Axes>"
      ]
     },
     "metadata": {
      "needs_background": "light"
     },
     "output_type": "display_data"
    }
   ],
   "source": [
    "#4\n",
    "sns.kdeplot(df['Application Life Assured BMI'])"
   ]
  },
  {
   "cell_type": "code",
   "execution_count": 16,
   "metadata": {},
   "outputs": [
    {
     "data": {
      "text/plain": [
       "7.324219999999999"
      ]
     },
     "execution_count": 16,
     "metadata": {},
     "output_type": "execute_result"
    }
   ],
   "source": [
    "df['Application Life Assured BMI'].min()"
   ]
  },
  {
   "cell_type": "code",
   "execution_count": 17,
   "metadata": {},
   "outputs": [
    {
     "data": {
      "text/plain": [
       "478.39506"
      ]
     },
     "execution_count": 17,
     "metadata": {},
     "output_type": "execute_result"
    }
   ],
   "source": [
    "df['Application Life Assured BMI'].max()"
   ]
  },
  {
   "cell_type": "code",
   "execution_count": 18,
   "metadata": {},
   "outputs": [
    {
     "data": {
      "text/plain": [
       "<matplotlib.axes._subplots.AxesSubplot at 0x7ff528267828>"
      ]
     },
     "execution_count": 18,
     "metadata": {},
     "output_type": "execute_result"
    },
    {
     "data": {
      "image/png": "[encoded data removed]",
      "text/plain": [
       "<Figure size 432x288 with 1 Axes>"
      ]
     },
     "metadata": {
      "needs_background": "light"
     },
     "output_type": "display_data"
    }
   ],
   "source": [
    "#5\n",
    "sns.kdeplot(df['Total Risk Exposure of HDFC Life w.r.t. Life Assured'])"
   ]
  },
  {
   "cell_type": "code",
   "execution_count": 19,
   "metadata": {},
   "outputs": [
    {
     "data": {
      "text/plain": [
       "51699.0"
      ]
     },
     "execution_count": 19,
     "metadata": {},
     "output_type": "execute_result"
    }
   ],
   "source": [
    "df['Total Risk Exposure of HDFC Life w.r.t. Life Assured'].min()"
   ]
  },
  {
   "cell_type": "code",
   "execution_count": 20,
   "metadata": {},
   "outputs": [
    {
     "data": {
      "text/plain": [
       "260000000.0"
      ]
     },
     "execution_count": 20,
     "metadata": {},
     "output_type": "execute_result"
    }
   ],
   "source": [
    "df['Total Risk Exposure of HDFC Life w.r.t. Life Assured'].max()"
   ]
  },
  {
   "cell_type": "code",
   "execution_count": 21,
   "metadata": {
    "scrolled": true
   },
   "outputs": [
    {
     "data": {
      "text/plain": [
       "<matplotlib.axes._subplots.AxesSubplot at 0x7ff528d36d30>"
      ]
     },
     "execution_count": 21,
     "metadata": {},
     "output_type": "execute_result"
    },
    {
     "data": {
      "image/png": "[encoded data removed]",
      "text/plain": [
       "<Figure size 432x288 with 1 Axes>"
      ]
     },
     "metadata": {
      "needs_background": "light"
     },
     "output_type": "display_data"
    }
   ],
   "source": [
    "#6\n",
    "sns.kdeplot(df['Application  Life Assured Age'])"
   ]
  },
  {
   "cell_type": "code",
   "execution_count": 22,
   "metadata": {},
   "outputs": [
    {
     "data": {
      "text/plain": [
       "0.0"
      ]
     },
     "execution_count": 22,
     "metadata": {},
     "output_type": "execute_result"
    }
   ],
   "source": [
    "df['Application  Life Assured Age'].min()"
   ]
  },
  {
   "cell_type": "code",
   "execution_count": 23,
   "metadata": {},
   "outputs": [
    {
     "data": {
      "text/plain": [
       "66.0"
      ]
     },
     "execution_count": 23,
     "metadata": {},
     "output_type": "execute_result"
    }
   ],
   "source": [
    "df['Application  Life Assured Age'].max()"
   ]
  },
  {
   "cell_type": "code",
   "execution_count": 24,
   "metadata": {
    "scrolled": true
   },
   "outputs": [
    {
     "data": {
      "text/plain": [
       "<matplotlib.axes._subplots.AxesSubplot at 0x7ff528d51518>"
      ]
     },
     "execution_count": 24,
     "metadata": {},
     "output_type": "execute_result"
    },
    {
     "data": {
      "image/png": "[encoded data removed]",
      "text/plain": [
       "<Figure size 432x288 with 1 Axes>"
      ]
     },
     "metadata": {
      "needs_background": "light"
     },
     "output_type": "display_data"
    }
   ],
   "source": [
    "#7\n",
    "sns.kdeplot(df['Application  Life Assured Income'])"
   ]
  },
  {
   "cell_type": "code",
   "execution_count": 25,
   "metadata": {},
   "outputs": [
    {
     "data": {
      "text/plain": [
       "1.0"
      ]
     },
     "execution_count": 25,
     "metadata": {},
     "output_type": "execute_result"
    }
   ],
   "source": [
    "df['Application  Life Assured Income'].min()"
   ]
  },
  {
   "cell_type": "code",
   "execution_count": 26,
   "metadata": {},
   "outputs": [
    {
     "data": {
      "text/plain": [
       "150000000.0"
      ]
     },
     "execution_count": 26,
     "metadata": {},
     "output_type": "execute_result"
    }
   ],
   "source": [
    "df['Application  Life Assured Income'].max()"
   ]
  },
  {
   "cell_type": "code",
   "execution_count": 27,
   "metadata": {},
   "outputs": [
    {
     "data": {
      "text/plain": [
       "<matplotlib.axes._subplots.AxesSubplot at 0x7ff528e01fd0>"
      ]
     },
     "execution_count": 27,
     "metadata": {},
     "output_type": "execute_result"
    },
    {
     "data": {
      "image/png": "[encoded data removed]",
      "text/plain": [
       "<Figure size 432x288 with 1 Axes>"
      ]
     },
     "metadata": {
      "needs_background": "light"
     },
     "output_type": "display_data"
    }
   ],
   "source": [
    "#8\n",
    "sns.kdeplot(df['Applicant\\'s Policy Risk Cessation Term'])"
   ]
  },
  {
   "cell_type": "code",
   "execution_count": 28,
   "metadata": {},
   "outputs": [
    {
     "data": {
      "text/plain": [
       "5"
      ]
     },
     "execution_count": 28,
     "metadata": {},
     "output_type": "execute_result"
    }
   ],
   "source": [
    "df['Applicant\\'s Policy Risk Cessation Term'].min()"
   ]
  },
  {
   "cell_type": "code",
   "execution_count": 29,
   "metadata": {},
   "outputs": [
    {
     "data": {
      "text/plain": [
       "69"
      ]
     },
     "execution_count": 29,
     "metadata": {},
     "output_type": "execute_result"
    }
   ],
   "source": [
    "df['Applicant\\'s Policy Risk Cessation Term'].max()"
   ]
  },
  {
   "cell_type": "code",
   "execution_count": 30,
   "metadata": {
    "scrolled": true
   },
   "outputs": [
    {
     "data": {
      "text/plain": [
       "<matplotlib.axes._subplots.AxesSubplot at 0x7ff52901a358>"
      ]
     },
     "execution_count": 30,
     "metadata": {},
     "output_type": "execute_result"
    },
    {
     "data": {
      "image/png": "[encoded data removed]",
      "text/plain": [
       "<Figure size 432x288 with 1 Axes>"
      ]
     },
     "metadata": {
      "needs_background": "light"
     },
     "output_type": "display_data"
    }
   ],
   "source": [
    "#9\n",
    "sns.kdeplot(df['Applicant\\'s Policy Sum Assured'])"
   ]
  },
  {
   "cell_type": "code",
   "execution_count": 31,
   "metadata": {},
   "outputs": [
    {
     "data": {
      "text/plain": [
       "29061"
      ]
     },
     "execution_count": 31,
     "metadata": {},
     "output_type": "execute_result"
    }
   ],
   "source": [
    "df['Applicant\\'s Policy Sum Assured'].min()"
   ]
  },
  {
   "cell_type": "code",
   "execution_count": 32,
   "metadata": {},
   "outputs": [
    {
     "data": {
      "text/plain": [
       "150000000"
      ]
     },
     "execution_count": 32,
     "metadata": {},
     "output_type": "execute_result"
    }
   ],
   "source": [
    "df['Applicant\\'s Policy Sum Assured'].max()"
   ]
  },
  {
   "cell_type": "code",
   "execution_count": 38,
   "metadata": {},
   "outputs": [
    {
     "data": {
      "text/plain": [
       "0    22664\n",
       "1     2656\n",
       "Name: Applicant's Policy Price Sensitivity(1-'Yes', 0-'No'), dtype: int64"
      ]
     },
     "execution_count": 38,
     "metadata": {},
     "output_type": "execute_result"
    }
   ],
   "source": [
    "#categorical\n",
    "df['Applicant\\'s Policy Price Sensitivity(1-\\'Yes\\', 0-\\'No\\')'].value_counts()"
   ]
  },
  {
   "cell_type": "code",
   "execution_count": 34,
   "metadata": {},
   "outputs": [
    {
     "data": {
      "text/plain": [
       "1    13114\n",
       "0    12206\n",
       "Name: Applicant's Policy Rider Opted Flag(1-'Yes', 0-'No'), dtype: int64"
      ]
     },
     "execution_count": 34,
     "metadata": {},
     "output_type": "execute_result"
    }
   ],
   "source": [
    "# categorical\n",
    "df['Applicant\\'s Policy Rider Opted Flag(1-\\'Yes\\', 0-\\'No\\')'].value_counts()"
   ]
  },
  {
   "cell_type": "code",
   "execution_count": 35,
   "metadata": {},
   "outputs": [
    {
     "data": {
      "text/plain": [
       "1    19713\n",
       "0     5607\n",
       "Name: Target - Paid Premium Within 90 Days of Due Date Flag(1-'Yes', 0-'No'), dtype: int64"
      ]
     },
     "execution_count": 35,
     "metadata": {},
     "output_type": "execute_result"
    }
   ],
   "source": [
    "# Target column\n",
    "\n",
    "df['Target - Paid Premium Within 90 Days of Due Date Flag(1-\\'Yes\\', 0-\\'No\\')'].value_counts()\n",
    "# class imbalance"
   ]
  },
  {
   "cell_type": "code",
   "execution_count": null,
   "metadata": {},
   "outputs": [],
   "source": []
  },
  {
   "cell_type": "code",
   "execution_count": null,
   "metadata": {},
   "outputs": [],
   "source": []
  }
 ],
 "metadata": {
  "kernelspec": {
   "display_name": "Python 3",
   "language": "python",
   "name": "python3"
  },
  "language_info": {
   "codemirror_mode": {
    "name": "ipython",
    "version": 3
   },
   "file_extension": ".py",
   "mimetype": "text/x-python",
   "name": "python",
   "nbconvert_exporter": "python",
   "pygments_lexer": "ipython3",
   "version": "3.8.3"
  }
 },
 "nbformat": 4,
 "nbformat_minor": 2
}
