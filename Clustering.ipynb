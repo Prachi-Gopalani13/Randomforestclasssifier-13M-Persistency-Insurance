{
 "cells": [
  {
   "cell_type": "markdown",
   "metadata": {},
   "source": [
    "## Reading Library"
   ]
  },
  {
   "cell_type": "code",
   "execution_count": 1,
   "metadata": {},
   "outputs": [],
   "source": [
    "import numpy as np                        ## Main Library\n",
    "import pandas as pd                       ## Main Library\n",
    "import matplotlib.pyplot as plt           ## Plotting Graphs\n",
    "%matplotlib inline\n",
    "from patsy import dmatrices                \n",
    "import sklearn                            ## Used for Building model\n",
    "import seaborn as sns                     ## Statistical plotting\n",
    "import statsmodels.api as sm              ##Statistical Features\n",
    "from scipy import stats\n",
    "import warnings                           ## Remove warnings\n",
    "warnings.filterwarnings(\"ignore\")\n",
    "from scipy.special import factorial"
   ]
  },
  {
   "cell_type": "code",
   "execution_count": 277,
   "metadata": {},
   "outputs": [
    {
     "data": {
      "text/html": [
       "<div>\n",
       "<style scoped>\n",
       "    .dataframe tbody tr th:only-of-type {\n",
       "        vertical-align: middle;\n",
       "    }\n",
       "\n",
       "    .dataframe tbody tr th {\n",
       "        vertical-align: top;\n",
       "    }\n",
       "\n",
       "    .dataframe thead th {\n",
       "        text-align: right;\n",
       "    }\n",
       "</style>\n",
       "<table border=\"1\" class=\"dataframe\">\n",
       "  <thead>\n",
       "    <tr style=\"text-align: right;\">\n",
       "      <th></th>\n",
       "      <th>Mapped Agent 13M Persistency</th>\n",
       "      <th>Applicant's Policy Annualized Premium</th>\n",
       "      <th>Mapped Agent Vintage</th>\n",
       "      <th>Auto Debit of Premium Opted Flag(Yes/No)</th>\n",
       "      <th>Application Life Assured BMI</th>\n",
       "      <th>Total Risk Exposure of HDFC Life w.r.t. Life Assured</th>\n",
       "      <th>Application  Sourcing Channel</th>\n",
       "      <th>Application  Life Assured City</th>\n",
       "      <th>Application  Life Assured City Tier</th>\n",
       "      <th>Application  Life Assured Age</th>\n",
       "      <th>...</th>\n",
       "      <th>Applicant's Policy Sum Assured</th>\n",
       "      <th>HDFC Life Operational Zone</th>\n",
       "      <th>Application Login year</th>\n",
       "      <th>Application Login month</th>\n",
       "      <th>Application Login day</th>\n",
       "      <th>Mapped Agent city</th>\n",
       "      <th>Applicant's Policy Contract city</th>\n",
       "      <th>Target</th>\n",
       "      <th>smoker_drinker</th>\n",
       "      <th>Perf+vintage</th>\n",
       "    </tr>\n",
       "  </thead>\n",
       "  <tbody>\n",
       "    <tr>\n",
       "      <th>0</th>\n",
       "      <td>93.47</td>\n",
       "      <td>7157.0</td>\n",
       "      <td>33.0</td>\n",
       "      <td>Y</td>\n",
       "      <td>1.0</td>\n",
       "      <td>10000000.0</td>\n",
       "      <td>HDFC BANK</td>\n",
       "      <td>bangalore</td>\n",
       "      <td>Tier I</td>\n",
       "      <td>(6.999, 33.0]</td>\n",
       "      <td>...</td>\n",
       "      <td>10000000</td>\n",
       "      <td>North 1</td>\n",
       "      <td>18</td>\n",
       "      <td>7</td>\n",
       "      <td>7</td>\n",
       "      <td>Delhi</td>\n",
       "      <td>Delhi</td>\n",
       "      <td>1</td>\n",
       "      <td>NN</td>\n",
       "      <td>3084.51</td>\n",
       "    </tr>\n",
       "    <tr>\n",
       "      <th>1</th>\n",
       "      <td>81.59</td>\n",
       "      <td>25000.0</td>\n",
       "      <td>42.0</td>\n",
       "      <td>N</td>\n",
       "      <td>3.0</td>\n",
       "      <td>145501.0</td>\n",
       "      <td>HDFC BANK</td>\n",
       "      <td>others</td>\n",
       "      <td>Tier III</td>\n",
       "      <td>(41.0, 50.0]</td>\n",
       "      <td>...</td>\n",
       "      <td>145501</td>\n",
       "      <td>West</td>\n",
       "      <td>18</td>\n",
       "      <td>3</td>\n",
       "      <td>31</td>\n",
       "      <td>Ahmedabad</td>\n",
       "      <td>Ahmedabad</td>\n",
       "      <td>1</td>\n",
       "      <td>NN</td>\n",
       "      <td>3426.78</td>\n",
       "    </tr>\n",
       "    <tr>\n",
       "      <th>2</th>\n",
       "      <td>87.58</td>\n",
       "      <td>35000.0</td>\n",
       "      <td>35.0</td>\n",
       "      <td>Y</td>\n",
       "      <td>2.0</td>\n",
       "      <td>800000.0</td>\n",
       "      <td>Ex-HDFC</td>\n",
       "      <td>jaipur</td>\n",
       "      <td>Tier II</td>\n",
       "      <td>(50.0, 66.0]</td>\n",
       "      <td>...</td>\n",
       "      <td>1600000</td>\n",
       "      <td>North 2</td>\n",
       "      <td>18</td>\n",
       "      <td>6</td>\n",
       "      <td>9</td>\n",
       "      <td>Jaipur</td>\n",
       "      <td>Jaipur</td>\n",
       "      <td>1</td>\n",
       "      <td>NN</td>\n",
       "      <td>3065.30</td>\n",
       "    </tr>\n",
       "    <tr>\n",
       "      <th>3</th>\n",
       "      <td>80.18</td>\n",
       "      <td>100000.0</td>\n",
       "      <td>12.0</td>\n",
       "      <td>Y</td>\n",
       "      <td>2.0</td>\n",
       "      <td>1000000.0</td>\n",
       "      <td>HDFC BANK</td>\n",
       "      <td>jaipur</td>\n",
       "      <td>Tier II</td>\n",
       "      <td>(6.999, 33.0]</td>\n",
       "      <td>...</td>\n",
       "      <td>2000000</td>\n",
       "      <td>North 2</td>\n",
       "      <td>18</td>\n",
       "      <td>2</td>\n",
       "      <td>21</td>\n",
       "      <td>Jaipur</td>\n",
       "      <td>Mumbai</td>\n",
       "      <td>1</td>\n",
       "      <td>NN</td>\n",
       "      <td>962.16</td>\n",
       "    </tr>\n",
       "    <tr>\n",
       "      <th>4</th>\n",
       "      <td>97.19</td>\n",
       "      <td>15000.0</td>\n",
       "      <td>45.0</td>\n",
       "      <td>Y</td>\n",
       "      <td>2.0</td>\n",
       "      <td>300000.0</td>\n",
       "      <td>HDFC BANK</td>\n",
       "      <td>others</td>\n",
       "      <td>Tier III</td>\n",
       "      <td>(33.0, 41.0]</td>\n",
       "      <td>...</td>\n",
       "      <td>165000</td>\n",
       "      <td>West</td>\n",
       "      <td>18</td>\n",
       "      <td>6</td>\n",
       "      <td>6</td>\n",
       "      <td>others</td>\n",
       "      <td>others</td>\n",
       "      <td>1</td>\n",
       "      <td>NN</td>\n",
       "      <td>4373.55</td>\n",
       "    </tr>\n",
       "  </tbody>\n",
       "</table>\n",
       "<p>5 rows × 38 columns</p>\n",
       "</div>"
      ],
      "text/plain": [
       "   Mapped Agent 13M Persistency  Applicant's Policy Annualized Premium  \\\n",
       "0                         93.47                                 7157.0   \n",
       "1                         81.59                                25000.0   \n",
       "2                         87.58                                35000.0   \n",
       "3                         80.18                               100000.0   \n",
       "4                         97.19                                15000.0   \n",
       "\n",
       "   Mapped Agent Vintage Auto Debit of Premium Opted Flag(Yes/No)  \\\n",
       "0                  33.0                                        Y   \n",
       "1                  42.0                                        N   \n",
       "2                  35.0                                        Y   \n",
       "3                  12.0                                        Y   \n",
       "4                  45.0                                        Y   \n",
       "\n",
       "   Application Life Assured BMI  \\\n",
       "0                           1.0   \n",
       "1                           3.0   \n",
       "2                           2.0   \n",
       "3                           2.0   \n",
       "4                           2.0   \n",
       "\n",
       "   Total Risk Exposure of HDFC Life w.r.t. Life Assured  \\\n",
       "0                                         10000000.0      \n",
       "1                                           145501.0      \n",
       "2                                           800000.0      \n",
       "3                                          1000000.0      \n",
       "4                                           300000.0      \n",
       "\n",
       "  Application  Sourcing Channel Application  Life Assured City  \\\n",
       "0                     HDFC BANK                      bangalore   \n",
       "1                     HDFC BANK                         others   \n",
       "2                       Ex-HDFC                         jaipur   \n",
       "3                     HDFC BANK                         jaipur   \n",
       "4                     HDFC BANK                         others   \n",
       "\n",
       "  Application  Life Assured City Tier Application  Life Assured Age  ...  \\\n",
       "0                              Tier I                 (6.999, 33.0]  ...   \n",
       "1                            Tier III                  (41.0, 50.0]  ...   \n",
       "2                             Tier II                  (50.0, 66.0]  ...   \n",
       "3                             Tier II                 (6.999, 33.0]  ...   \n",
       "4                            Tier III                  (33.0, 41.0]  ...   \n",
       "\n",
       "  Applicant's Policy Sum Assured HDFC Life Operational Zone  \\\n",
       "0                       10000000                    North 1   \n",
       "1                         145501                       West   \n",
       "2                        1600000                    North 2   \n",
       "3                        2000000                    North 2   \n",
       "4                         165000                       West   \n",
       "\n",
       "   Application Login year Application Login month Application Login day  \\\n",
       "0                      18                       7                     7   \n",
       "1                      18                       3                    31   \n",
       "2                      18                       6                     9   \n",
       "3                      18                       2                    21   \n",
       "4                      18                       6                     6   \n",
       "\n",
       "  Mapped Agent city Applicant's Policy Contract city Target smoker_drinker  \\\n",
       "0             Delhi                            Delhi      1             NN   \n",
       "1         Ahmedabad                        Ahmedabad      1             NN   \n",
       "2            Jaipur                           Jaipur      1             NN   \n",
       "3            Jaipur                           Mumbai      1             NN   \n",
       "4            others                           others      1             NN   \n",
       "\n",
       "  Perf+vintage  \n",
       "0      3084.51  \n",
       "1      3426.78  \n",
       "2      3065.30  \n",
       "3       962.16  \n",
       "4      4373.55  \n",
       "\n",
       "[5 rows x 38 columns]"
      ]
     },
     "execution_count": 277,
     "metadata": {},
     "output_type": "execute_result"
    }
   ],
   "source": [
    "## Importing Data\n",
    "df=pd.read_csv(\"Data3.csv\")\n",
    "df.head()"
   ]
  },
  {
   "cell_type": "code",
   "execution_count": 278,
   "metadata": {},
   "outputs": [
    {
     "name": "stdout",
     "output_type": "stream",
     "text": [
      "['Mapped Agent 13M Persistency' \"Applicant's Policy Annualized Premium\"\n",
      " 'Mapped Agent Vintage' 'Auto Debit of Premium Opted Flag(Yes/No)'\n",
      " 'Application Life Assured BMI'\n",
      " 'Total Risk Exposure of HDFC Life w.r.t. Life Assured'\n",
      " 'Application  Sourcing Channel' 'Application  Life Assured City'\n",
      " 'Application  Life Assured City Tier' 'Application  Life Assured Age'\n",
      " 'Application  Life Assured Education' 'Application  Life Assured Gender'\n",
      " 'Application  Life Assured Income' 'Application  Life Assured Industry'\n",
      " 'Application  Life Assured Marital Status'\n",
      " 'Application  Life Assured Occupation'\n",
      " \"Applicant's Policy PAR/NON PAR/ULIP Tag\"\n",
      " 'Application Specific Sourcing Partner' 'First Premium Payment Type'\n",
      " \"Applicant's Policy Product Category\"\n",
      " \"Applicant's Policy Premium Payment Frequency\"\n",
      " \"Applicant's Policy Product Name\"\n",
      " \"Applicant's Policy Price Sensitivity(1-'Yes', 0-'No')\"\n",
      " 'Application Life Assured Residential Status'\n",
      " \"Applicant's Policy Risk Cessation Term\"\n",
      " \"Applicant's Policy Rider Opted Flag(1-'Yes', 0-'No')\"\n",
      " 'Application Life Assured State' 'Application Sourcing Sub Channel'\n",
      " \"Applicant's Policy Sum Assured\" 'HDFC Life Operational Zone'\n",
      " 'Application Login year' 'Application Login month'\n",
      " 'Application Login day' 'Mapped Agent city'\n",
      " \"Applicant's Policy Contract city\" 'Target' 'smoker_drinker'\n",
      " 'Perf+vintage']\n"
     ]
    }
   ],
   "source": [
    "## Display all column names\n",
    "names = df.columns.values \n",
    "print(names)"
   ]
  },
  {
   "cell_type": "code",
   "execution_count": 279,
   "metadata": {},
   "outputs": [
    {
     "name": "stdout",
     "output_type": "stream",
     "text": [
      "<class 'pandas.core.frame.DataFrame'>\n",
      "RangeIndex: 25320 entries, 0 to 25319\n",
      "Data columns (total 38 columns):\n",
      "Mapped Agent 13M Persistency                             25320 non-null float64\n",
      "Applicant's Policy Annualized Premium                    25320 non-null float64\n",
      "Mapped Agent Vintage                                     25320 non-null float64\n",
      "Auto Debit of Premium Opted Flag(Yes/No)                 25320 non-null object\n",
      "Application Life Assured BMI                             25320 non-null float64\n",
      "Total Risk Exposure of HDFC Life w.r.t. Life Assured     25320 non-null float64\n",
      "Application  Sourcing Channel                            25320 non-null object\n",
      "Application  Life Assured City                           25320 non-null object\n",
      "Application  Life Assured City Tier                      25320 non-null object\n",
      "Application  Life Assured Age                            25320 non-null object\n",
      "Application  Life Assured Education                      25320 non-null object\n",
      "Application  Life Assured Gender                         25320 non-null object\n",
      "Application  Life Assured Income                         25320 non-null float64\n",
      "Application  Life Assured Industry                       25320 non-null object\n",
      "Application  Life Assured Marital Status                 25320 non-null object\n",
      "Application  Life Assured Occupation                     25320 non-null object\n",
      "Applicant's Policy PAR/NON PAR/ULIP Tag                  25320 non-null object\n",
      "Application Specific Sourcing Partner                    25320 non-null object\n",
      "First Premium Payment Type                               25320 non-null object\n",
      "Applicant's Policy Product Category                      25320 non-null object\n",
      "Applicant's Policy Premium Payment Frequency             25320 non-null object\n",
      "Applicant's Policy Product Name                          25320 non-null object\n",
      "Applicant's Policy Price Sensitivity(1-'Yes', 0-'No')    25320 non-null int64\n",
      "Application Life Assured Residential Status              25320 non-null object\n",
      "Applicant's Policy Risk Cessation Term                   25320 non-null int64\n",
      "Applicant's Policy Rider Opted Flag(1-'Yes', 0-'No')     25320 non-null int64\n",
      "Application Life Assured State                           25320 non-null object\n",
      "Application Sourcing Sub Channel                         25320 non-null object\n",
      "Applicant's Policy Sum Assured                           25320 non-null int64\n",
      "HDFC Life Operational Zone                               25320 non-null object\n",
      "Application Login year                                   25320 non-null int64\n",
      "Application Login month                                  25320 non-null int64\n",
      "Application Login day                                    25320 non-null int64\n",
      "Mapped Agent city                                        25320 non-null object\n",
      "Applicant's Policy Contract city                         25320 non-null object\n",
      "Target                                                   25320 non-null int64\n",
      "smoker_drinker                                           25320 non-null object\n",
      "Perf+vintage                                             25320 non-null float64\n",
      "dtypes: float64(7), int64(8), object(23)\n",
      "memory usage: 7.3+ MB\n"
     ]
    }
   ],
   "source": [
    "## Data Information\n",
    "df.info()"
   ]
  },
  {
   "cell_type": "code",
   "execution_count": 280,
   "metadata": {},
   "outputs": [
    {
     "data": {
      "text/plain": [
       "Mapped Agent 13M Persistency                             1.439343e+01\n",
       "Applicant's Policy Annualized Premium                    7.173271e+04\n",
       "Mapped Agent Vintage                                     1.803208e+01\n",
       "Application Life Assured BMI                             1.631083e+00\n",
       "Total Risk Exposure of HDFC Life w.r.t. Life Assured     4.910357e+06\n",
       "Application  Life Assured Income                         1.486164e+06\n",
       "Applicant's Policy Price Sensitivity(1-'Yes', 0-'No')    3.064271e-01\n",
       "Applicant's Policy Risk Cessation Term                   7.217959e+00\n",
       "Applicant's Policy Rider Opted Flag(1-'Yes', 0-'No')     4.996883e-01\n",
       "Applicant's Policy Sum Assured                           2.685334e+06\n",
       "Application Login year                                   2.972338e-01\n",
       "Application Login month                                  3.717016e+00\n",
       "Application Login day                                    9.387921e+00\n",
       "Target                                                   4.152279e-01\n",
       "Perf+vintage                                             1.500578e+03\n",
       "dtype: float64"
      ]
     },
     "execution_count": 280,
     "metadata": {},
     "output_type": "execute_result"
    }
   ],
   "source": [
    "## Standard Deviation of all attributes\n",
    "df.std()"
   ]
  },
  {
   "cell_type": "markdown",
   "metadata": {},
   "source": [
    "## Label Encoding"
   ]
  },
  {
   "cell_type": "code",
   "execution_count": 281,
   "metadata": {},
   "outputs": [],
   "source": [
    "# Import label encoder \n",
    "from sklearn import preprocessing \n",
    "  \n",
    "# label_encoder object knows how to understand word labels. \n",
    "label_encoder = preprocessing.LabelEncoder() "
   ]
  },
  {
   "cell_type": "code",
   "execution_count": 282,
   "metadata": {},
   "outputs": [
    {
     "data": {
      "text/plain": [
       "array([1, 0])"
      ]
     },
     "execution_count": 282,
     "metadata": {},
     "output_type": "execute_result"
    }
   ],
   "source": [
    "df['Auto Debit of Premium Opted Flag(Yes/No)']= label_encoder.fit_transform(df['Auto Debit of Premium Opted Flag(Yes/No)']) \n",
    "df['Auto Debit of Premium Opted Flag(Yes/No)'].unique() "
   ]
  },
  {
   "cell_type": "code",
   "execution_count": 283,
   "metadata": {},
   "outputs": [
    {
     "data": {
      "text/plain": [
       "array([2, 1, 0, 3, 4, 5, 6])"
      ]
     },
     "execution_count": 283,
     "metadata": {},
     "output_type": "execute_result"
    }
   ],
   "source": [
    "df['Application  Sourcing Channel']= label_encoder.fit_transform(df['Application  Sourcing Channel']) \n",
    "df['Application  Sourcing Channel'].unique() \n"
   ]
  },
  {
   "cell_type": "code",
   "execution_count": 284,
   "metadata": {},
   "outputs": [
    {
     "data": {
      "text/plain": [
       "array([ 1, 10,  6, 11,  2,  9, 12,  4,  7,  0,  8,  5,  3, 13])"
      ]
     },
     "execution_count": 284,
     "metadata": {},
     "output_type": "execute_result"
    }
   ],
   "source": [
    "df['Application  Life Assured City']= label_encoder.fit_transform(df['Application  Life Assured City']) \n",
    "df['Application  Life Assured City'].unique() "
   ]
  },
  {
   "cell_type": "code",
   "execution_count": 285,
   "metadata": {},
   "outputs": [
    {
     "data": {
      "text/plain": [
       "array([0, 2, 1])"
      ]
     },
     "execution_count": 285,
     "metadata": {},
     "output_type": "execute_result"
    }
   ],
   "source": [
    "df['Application  Life Assured City Tier']= label_encoder.fit_transform(df['Application  Life Assured City Tier']) \n",
    "df['Application  Life Assured City Tier'].unique() "
   ]
  },
  {
   "cell_type": "code",
   "execution_count": 286,
   "metadata": {},
   "outputs": [
    {
     "data": {
      "text/plain": [
       "array([ 4,  1,  0, 11,  6,  2,  3, 12,  7,  8,  5,  9, 10])"
      ]
     },
     "execution_count": 286,
     "metadata": {},
     "output_type": "execute_result"
    }
   ],
   "source": [
    "df['Application  Life Assured Education']= label_encoder.fit_transform(df['Application  Life Assured Education']) \n",
    "df['Application  Life Assured Education'].unique() "
   ]
  },
  {
   "cell_type": "code",
   "execution_count": 287,
   "metadata": {},
   "outputs": [
    {
     "data": {
      "text/plain": [
       "array([0, 1])"
      ]
     },
     "execution_count": 287,
     "metadata": {},
     "output_type": "execute_result"
    }
   ],
   "source": [
    "df['Application  Life Assured Gender']= label_encoder.fit_transform(df['Application  Life Assured Gender']) \n",
    "df['Application  Life Assured Gender'].unique()"
   ]
  },
  {
   "cell_type": "code",
   "execution_count": 288,
   "metadata": {},
   "outputs": [
    {
     "data": {
      "text/plain": [
       "array([ 9, 10,  7,  8,  3,  2,  6,  1,  0,  4,  5])"
      ]
     },
     "execution_count": 288,
     "metadata": {},
     "output_type": "execute_result"
    }
   ],
   "source": [
    "df['Application  Life Assured Industry']= label_encoder.fit_transform(df['Application  Life Assured Industry']) \n",
    "df['Application  Life Assured Industry'].unique()"
   ]
  },
  {
   "cell_type": "code",
   "execution_count": 289,
   "metadata": {},
   "outputs": [
    {
     "data": {
      "text/plain": [
       "array([2, 1, 3, 0])"
      ]
     },
     "execution_count": 289,
     "metadata": {},
     "output_type": "execute_result"
    }
   ],
   "source": [
    "df['Application  Life Assured Marital Status']= label_encoder.fit_transform(df['Application  Life Assured Marital Status']) \n",
    "df['Application  Life Assured Marital Status'].unique() "
   ]
  },
  {
   "cell_type": "code",
   "execution_count": 290,
   "metadata": {},
   "outputs": [
    {
     "data": {
      "text/plain": [
       "array([3, 4, 0, 2, 5, 6, 1])"
      ]
     },
     "execution_count": 290,
     "metadata": {},
     "output_type": "execute_result"
    }
   ],
   "source": [
    "df['Application  Life Assured Occupation']= label_encoder.fit_transform(df['Application  Life Assured Occupation']) \n",
    "df['Application  Life Assured Occupation'].unique() "
   ]
  },
  {
   "cell_type": "code",
   "execution_count": 291,
   "metadata": {},
   "outputs": [
    {
     "data": {
      "text/plain": [
       "array([0, 1, 2])"
      ]
     },
     "execution_count": 291,
     "metadata": {},
     "output_type": "execute_result"
    }
   ],
   "source": [
    "df[\"Applicant's Policy PAR/NON PAR/ULIP Tag\"]= label_encoder.fit_transform(df[\"Applicant's Policy PAR/NON PAR/ULIP Tag\"]) \n",
    "df[\"Applicant's Policy PAR/NON PAR/ULIP Tag\"].unique() "
   ]
  },
  {
   "cell_type": "code",
   "execution_count": 292,
   "metadata": {},
   "outputs": [
    {
     "data": {
      "text/plain": [
       "array([ 44,  46,  70,  80,  29,  95,  78,  73,  39,   9,  57,  45,  49,\n",
       "        31,  85, 111, 122,  14,  90, 115,  12,   7,  10,  18,  24,  91,\n",
       "        66,  51,  19, 109,   8, 102, 114,  77,  83,  22,  88, 108,  96,\n",
       "        67,  41,  84,   3,  30, 107,  52,  20,  21, 116,  42,  47, 120,\n",
       "        58,   0,  64, 118, 112,  94,  28, 110,  75,  36,  62,  74, 113,\n",
       "       125, 121,  48,  65, 106, 103,  60,   6,  93,  71,  55, 119,  59,\n",
       "       117,   4,  15,  27,  50,  11,   5, 124,  82,  54,  79,  16,  43,\n",
       "        26,  53, 105,  86,  33,  97, 101, 104, 123,  72,  37,  25,  63,\n",
       "        87,  92,  99,  56,  23,  61,  40,  35,  69,  34,   1,  89,  76,\n",
       "        68,   2, 100,  32,  81,  98,  17,  38,  13])"
      ]
     },
     "execution_count": 292,
     "metadata": {},
     "output_type": "execute_result"
    }
   ],
   "source": [
    "df['Application Specific Sourcing Partner']= label_encoder.fit_transform(df['Application Specific Sourcing Partner']) \n",
    "df['Application Specific Sourcing Partner'].unique() "
   ]
  },
  {
   "cell_type": "code",
   "execution_count": 293,
   "metadata": {},
   "outputs": [
    {
     "data": {
      "text/plain": [
       "array([4, 6, 1, 3, 7, 5, 8, 2, 0])"
      ]
     },
     "execution_count": 293,
     "metadata": {},
     "output_type": "execute_result"
    }
   ],
   "source": [
    "df['First Premium Payment Type']= label_encoder.fit_transform(df['First Premium Payment Type']) \n",
    "df['First Premium Payment Type'].unique() "
   ]
  },
  {
   "cell_type": "code",
   "execution_count": 294,
   "metadata": {},
   "outputs": [
    {
     "data": {
      "text/plain": [
       "array([2, 3, 1, 0])"
      ]
     },
     "execution_count": 294,
     "metadata": {},
     "output_type": "execute_result"
    }
   ],
   "source": [
    "df[\"Applicant's Policy Product Category\"]= label_encoder.fit_transform(df[\"Applicant's Policy Product Category\"]) \n",
    "df[\"Applicant's Policy Product Category\"].unique() "
   ]
  },
  {
   "cell_type": "code",
   "execution_count": 295,
   "metadata": {},
   "outputs": [
    {
     "data": {
      "text/plain": [
       "array([0, 2, 1, 3])"
      ]
     },
     "execution_count": 295,
     "metadata": {},
     "output_type": "execute_result"
    }
   ],
   "source": [
    "df[\"Applicant's Policy Premium Payment Frequency\"]= label_encoder.fit_transform(df[\"Applicant's Policy Premium Payment Frequency\"]) \n",
    "df[\"Applicant's Policy Premium Payment Frequency\"].unique() "
   ]
  },
  {
   "cell_type": "code",
   "execution_count": 296,
   "metadata": {},
   "outputs": [
    {
     "data": {
      "text/plain": [
       "array([ 2,  7, 14,  4, 16,  1, 15, 17, 13,  6,  8, 10,  3,  9, 18,  5,  0,\n",
       "       12, 11])"
      ]
     },
     "execution_count": 296,
     "metadata": {},
     "output_type": "execute_result"
    }
   ],
   "source": [
    "df[\"Applicant's Policy Product Name\"]= label_encoder.fit_transform(df[\"Applicant's Policy Product Name\"]) \n",
    "df[\"Applicant's Policy Product Name\"].unique()"
   ]
  },
  {
   "cell_type": "code",
   "execution_count": 297,
   "metadata": {},
   "outputs": [
    {
     "data": {
      "text/plain": [
       "array([1, 0])"
      ]
     },
     "execution_count": 297,
     "metadata": {},
     "output_type": "execute_result"
    }
   ],
   "source": [
    "df['Application Life Assured Residential Status']= label_encoder.fit_transform(df['Application Life Assured Residential Status']) \n",
    "df['Application Life Assured Residential Status'].unique()"
   ]
  },
  {
   "cell_type": "code",
   "execution_count": 298,
   "metadata": {},
   "outputs": [
    {
     "data": {
      "text/plain": [
       "array([ 3,  1,  8,  6,  5,  9,  4,  7, 10, 12,  0,  2, 11])"
      ]
     },
     "execution_count": 298,
     "metadata": {},
     "output_type": "execute_result"
    }
   ],
   "source": [
    "df['Application Life Assured State']= label_encoder.fit_transform(df['Application Life Assured State']) \n",
    "df['Application Life Assured State'].unique() "
   ]
  },
  {
   "cell_type": "code",
   "execution_count": 299,
   "metadata": {},
   "outputs": [
    {
     "data": {
      "text/plain": [
       "array([1, 3, 0, 2, 7, 6, 4, 5])"
      ]
     },
     "execution_count": 299,
     "metadata": {},
     "output_type": "execute_result"
    }
   ],
   "source": [
    "df['Application Sourcing Sub Channel']= label_encoder.fit_transform(df['Application Sourcing Sub Channel']) \n",
    "df['Application Sourcing Sub Channel'].unique() "
   ]
  },
  {
   "cell_type": "code",
   "execution_count": 300,
   "metadata": {},
   "outputs": [
    {
     "data": {
      "text/plain": [
       "array([1, 5, 2, 3, 4, 0])"
      ]
     },
     "execution_count": 300,
     "metadata": {},
     "output_type": "execute_result"
    }
   ],
   "source": [
    "df['HDFC Life Operational Zone']= label_encoder.fit_transform(df['HDFC Life Operational Zone']) \n",
    "df['HDFC Life Operational Zone'].unique() "
   ]
  },
  {
   "cell_type": "code",
   "execution_count": 301,
   "metadata": {},
   "outputs": [
    {
     "data": {
      "text/plain": [
       "array([ 4,  0,  6, 10,  9,  3,  2,  7,  5,  8,  1])"
      ]
     },
     "execution_count": 301,
     "metadata": {},
     "output_type": "execute_result"
    }
   ],
   "source": [
    "df['Mapped Agent city']= label_encoder.fit_transform(df['Mapped Agent city']) \n",
    "df['Mapped Agent city'].unique() "
   ]
  },
  {
   "cell_type": "code",
   "execution_count": 302,
   "metadata": {},
   "outputs": [
    {
     "data": {
      "text/plain": [
       "array([ 4,  0,  8, 10, 13, 11,  3,  2,  5,  9,  6,  7,  1, 12])"
      ]
     },
     "execution_count": 302,
     "metadata": {},
     "output_type": "execute_result"
    }
   ],
   "source": [
    "df[\"Applicant's Policy Contract city\"]= label_encoder.fit_transform(df[\"Applicant's Policy Contract city\"]) \n",
    "df[\"Applicant's Policy Contract city\"].unique() "
   ]
  },
  {
   "cell_type": "code",
   "execution_count": 303,
   "metadata": {},
   "outputs": [
    {
     "data": {
      "text/plain": [
       "array([3, 1, 2, 0])"
      ]
     },
     "execution_count": 303,
     "metadata": {},
     "output_type": "execute_result"
    }
   ],
   "source": [
    "df[\"Application  Life Assured Age\"]= label_encoder.fit_transform(df[\"Application  Life Assured Age\"]) \n",
    "df[\"Application  Life Assured Age\"].unique()"
   ]
  },
  {
   "cell_type": "code",
   "execution_count": 304,
   "metadata": {},
   "outputs": [
    {
     "data": {
      "text/plain": [
       "array([0, 3, 2, 1])"
      ]
     },
     "execution_count": 304,
     "metadata": {},
     "output_type": "execute_result"
    }
   ],
   "source": [
    "df[\"smoker_drinker\"]= label_encoder.fit_transform(df[\"smoker_drinker\"]) \n",
    "df[\"smoker_drinker\"].unique()"
   ]
  },
  {
   "cell_type": "code",
   "execution_count": 306,
   "metadata": {},
   "outputs": [],
   "source": [
    "df = df.drop('Perf+vintage', axis = 1)"
   ]
  },
  {
   "cell_type": "code",
   "execution_count": 307,
   "metadata": {},
   "outputs": [],
   "source": [
    "df1 = df.copy()"
   ]
  },
  {
   "cell_type": "code",
   "execution_count": 308,
   "metadata": {},
   "outputs": [
    {
     "data": {
      "text/plain": [
       "StandardScaler(copy=True, with_mean=True, with_std=True)"
      ]
     },
     "execution_count": 308,
     "metadata": {},
     "output_type": "execute_result"
    }
   ],
   "source": [
    "from sklearn.preprocessing import StandardScaler \n",
    "\n",
    "scaler = StandardScaler()\n",
    "scaler.fit(df1)"
   ]
  },
  {
   "cell_type": "code",
   "execution_count": 309,
   "metadata": {},
   "outputs": [],
   "source": [
    "df1 = scaler.transform(df1)"
   ]
  },
  {
   "cell_type": "markdown",
   "metadata": {},
   "source": [
    "# PCA"
   ]
  },
  {
   "cell_type": "code",
   "execution_count": 310,
   "metadata": {},
   "outputs": [],
   "source": [
    "from sklearn.decomposition import PCA"
   ]
  },
  {
   "cell_type": "code",
   "execution_count": 311,
   "metadata": {},
   "outputs": [],
   "source": [
    "pca = PCA(n_components=4)"
   ]
  },
  {
   "cell_type": "code",
   "execution_count": 312,
   "metadata": {},
   "outputs": [
    {
     "data": {
      "text/plain": [
       "PCA(copy=True, iterated_power='auto', n_components=4, random_state=None,\n",
       "    svd_solver='auto', tol=0.0, whiten=False)"
      ]
     },
     "execution_count": 312,
     "metadata": {},
     "output_type": "execute_result"
    }
   ],
   "source": [
    "pca.fit(df1)"
   ]
  },
  {
   "cell_type": "code",
   "execution_count": 313,
   "metadata": {},
   "outputs": [],
   "source": [
    "x_pca = pca.transform(df1)"
   ]
  },
  {
   "cell_type": "code",
   "execution_count": 314,
   "metadata": {},
   "outputs": [
    {
     "data": {
      "text/plain": [
       "Text(0, 0.5, 'Second Principal Component')"
      ]
     },
     "execution_count": 314,
     "metadata": {},
     "output_type": "execute_result"
    },
    {
     "data": {
      "image/png": "[encoded data removed]",
      "text/plain": [
       "<Figure size 576x432 with 1 Axes>"
      ]
     },
     "metadata": {
      "needs_background": "light"
     },
     "output_type": "display_data"
    }
   ],
   "source": [
    "plt.figure(figsize=(8,6))\n",
    "plt.scatter(x_pca[:,0],x_pca[:,1],c=df['Target'],cmap='plasma')\n",
    "plt.xlabel('First principal component')\n",
    "plt.ylabel('Second Principal Component')"
   ]
  },
  {
   "cell_type": "code",
   "execution_count": 315,
   "metadata": {},
   "outputs": [],
   "source": [
    "df_comp = pd.DataFrame(pca.components_,columns=df.columns)"
   ]
  },
  {
   "cell_type": "code",
   "execution_count": 316,
   "metadata": {},
   "outputs": [
    {
     "data": {
      "text/html": [
       "<div>\n",
       "<style scoped>\n",
       "    .dataframe tbody tr th:only-of-type {\n",
       "        vertical-align: middle;\n",
       "    }\n",
       "\n",
       "    .dataframe tbody tr th {\n",
       "        vertical-align: top;\n",
       "    }\n",
       "\n",
       "    .dataframe thead th {\n",
       "        text-align: right;\n",
       "    }\n",
       "</style>\n",
       "<table border=\"1\" class=\"dataframe\">\n",
       "  <thead>\n",
       "    <tr style=\"text-align: right;\">\n",
       "      <th></th>\n",
       "      <th>Mapped Agent 13M Persistency</th>\n",
       "      <th>Applicant's Policy Annualized Premium</th>\n",
       "      <th>Mapped Agent Vintage</th>\n",
       "      <th>Auto Debit of Premium Opted Flag(Yes/No)</th>\n",
       "      <th>Application Life Assured BMI</th>\n",
       "      <th>Total Risk Exposure of HDFC Life w.r.t. Life Assured</th>\n",
       "      <th>Application  Sourcing Channel</th>\n",
       "      <th>Application  Life Assured City</th>\n",
       "      <th>Application  Life Assured City Tier</th>\n",
       "      <th>Application  Life Assured Age</th>\n",
       "      <th>...</th>\n",
       "      <th>Application Sourcing Sub Channel</th>\n",
       "      <th>Applicant's Policy Sum Assured</th>\n",
       "      <th>HDFC Life Operational Zone</th>\n",
       "      <th>Application Login year</th>\n",
       "      <th>Application Login month</th>\n",
       "      <th>Application Login day</th>\n",
       "      <th>Mapped Agent city</th>\n",
       "      <th>Applicant's Policy Contract city</th>\n",
       "      <th>Target</th>\n",
       "      <th>smoker_drinker</th>\n",
       "    </tr>\n",
       "  </thead>\n",
       "  <tbody>\n",
       "    <tr>\n",
       "      <th>0</th>\n",
       "      <td>0.013270</td>\n",
       "      <td>0.008575</td>\n",
       "      <td>-0.034425</td>\n",
       "      <td>-0.012656</td>\n",
       "      <td>0.036111</td>\n",
       "      <td>0.294358</td>\n",
       "      <td>0.086504</td>\n",
       "      <td>-0.108300</td>\n",
       "      <td>-0.155895</td>\n",
       "      <td>-0.004450</td>\n",
       "      <td>...</td>\n",
       "      <td>0.210008</td>\n",
       "      <td>0.373102</td>\n",
       "      <td>0.116954</td>\n",
       "      <td>-0.000886</td>\n",
       "      <td>0.016622</td>\n",
       "      <td>0.000646</td>\n",
       "      <td>-0.150329</td>\n",
       "      <td>-0.143757</td>\n",
       "      <td>0.006006</td>\n",
       "      <td>0.107840</td>\n",
       "    </tr>\n",
       "    <tr>\n",
       "      <th>1</th>\n",
       "      <td>0.043909</td>\n",
       "      <td>0.233320</td>\n",
       "      <td>0.029505</td>\n",
       "      <td>0.054533</td>\n",
       "      <td>0.017521</td>\n",
       "      <td>-0.012858</td>\n",
       "      <td>-0.093725</td>\n",
       "      <td>-0.422728</td>\n",
       "      <td>-0.389235</td>\n",
       "      <td>0.002943</td>\n",
       "      <td>...</td>\n",
       "      <td>-0.091897</td>\n",
       "      <td>-0.046843</td>\n",
       "      <td>0.076994</td>\n",
       "      <td>-0.020835</td>\n",
       "      <td>-0.001737</td>\n",
       "      <td>0.022993</td>\n",
       "      <td>-0.402318</td>\n",
       "      <td>-0.427389</td>\n",
       "      <td>0.078289</td>\n",
       "      <td>-0.032536</td>\n",
       "    </tr>\n",
       "    <tr>\n",
       "      <th>2</th>\n",
       "      <td>0.080975</td>\n",
       "      <td>0.362422</td>\n",
       "      <td>0.157976</td>\n",
       "      <td>0.272635</td>\n",
       "      <td>-0.024525</td>\n",
       "      <td>0.302912</td>\n",
       "      <td>-0.151558</td>\n",
       "      <td>0.120577</td>\n",
       "      <td>0.027495</td>\n",
       "      <td>-0.133745</td>\n",
       "      <td>...</td>\n",
       "      <td>-0.180471</td>\n",
       "      <td>0.294583</td>\n",
       "      <td>0.091329</td>\n",
       "      <td>-0.116767</td>\n",
       "      <td>0.121706</td>\n",
       "      <td>0.036837</td>\n",
       "      <td>0.256120</td>\n",
       "      <td>0.234097</td>\n",
       "      <td>0.278441</td>\n",
       "      <td>-0.011223</td>\n",
       "    </tr>\n",
       "    <tr>\n",
       "      <th>3</th>\n",
       "      <td>-0.121203</td>\n",
       "      <td>0.051310</td>\n",
       "      <td>-0.015310</td>\n",
       "      <td>-0.491709</td>\n",
       "      <td>-0.048612</td>\n",
       "      <td>0.178079</td>\n",
       "      <td>-0.234200</td>\n",
       "      <td>-0.063411</td>\n",
       "      <td>0.036480</td>\n",
       "      <td>-0.088046</td>\n",
       "      <td>...</td>\n",
       "      <td>-0.186469</td>\n",
       "      <td>0.178363</td>\n",
       "      <td>-0.115577</td>\n",
       "      <td>-0.110754</td>\n",
       "      <td>0.027421</td>\n",
       "      <td>-0.011684</td>\n",
       "      <td>-0.099258</td>\n",
       "      <td>-0.107529</td>\n",
       "      <td>-0.454745</td>\n",
       "      <td>0.171701</td>\n",
       "    </tr>\n",
       "  </tbody>\n",
       "</table>\n",
       "<p>4 rows × 37 columns</p>\n",
       "</div>"
      ],
      "text/plain": [
       "   Mapped Agent 13M Persistency  Applicant's Policy Annualized Premium  \\\n",
       "0                      0.013270                               0.008575   \n",
       "1                      0.043909                               0.233320   \n",
       "2                      0.080975                               0.362422   \n",
       "3                     -0.121203                               0.051310   \n",
       "\n",
       "   Mapped Agent Vintage  Auto Debit of Premium Opted Flag(Yes/No)  \\\n",
       "0             -0.034425                                 -0.012656   \n",
       "1              0.029505                                  0.054533   \n",
       "2              0.157976                                  0.272635   \n",
       "3             -0.015310                                 -0.491709   \n",
       "\n",
       "   Application Life Assured BMI  \\\n",
       "0                      0.036111   \n",
       "1                      0.017521   \n",
       "2                     -0.024525   \n",
       "3                     -0.048612   \n",
       "\n",
       "   Total Risk Exposure of HDFC Life w.r.t. Life Assured  \\\n",
       "0                                           0.294358      \n",
       "1                                          -0.012858      \n",
       "2                                           0.302912      \n",
       "3                                           0.178079      \n",
       "\n",
       "   Application  Sourcing Channel  Application  Life Assured City  \\\n",
       "0                       0.086504                       -0.108300   \n",
       "1                      -0.093725                       -0.422728   \n",
       "2                      -0.151558                        0.120577   \n",
       "3                      -0.234200                       -0.063411   \n",
       "\n",
       "   Application  Life Assured City Tier  Application  Life Assured Age  ...  \\\n",
       "0                            -0.155895                      -0.004450  ...   \n",
       "1                            -0.389235                       0.002943  ...   \n",
       "2                             0.027495                      -0.133745  ...   \n",
       "3                             0.036480                      -0.088046  ...   \n",
       "\n",
       "   Application Sourcing Sub Channel  Applicant's Policy Sum Assured  \\\n",
       "0                          0.210008                        0.373102   \n",
       "1                         -0.091897                       -0.046843   \n",
       "2                         -0.180471                        0.294583   \n",
       "3                         -0.186469                        0.178363   \n",
       "\n",
       "   HDFC Life Operational Zone  Application Login year  \\\n",
       "0                    0.116954               -0.000886   \n",
       "1                    0.076994               -0.020835   \n",
       "2                    0.091329               -0.116767   \n",
       "3                   -0.115577               -0.110754   \n",
       "\n",
       "   Application Login month  Application Login day  Mapped Agent city  \\\n",
       "0                 0.016622               0.000646          -0.150329   \n",
       "1                -0.001737               0.022993          -0.402318   \n",
       "2                 0.121706               0.036837           0.256120   \n",
       "3                 0.027421              -0.011684          -0.099258   \n",
       "\n",
       "   Applicant's Policy Contract city    Target  smoker_drinker  \n",
       "0                         -0.143757  0.006006        0.107840  \n",
       "1                         -0.427389  0.078289       -0.032536  \n",
       "2                          0.234097  0.278441       -0.011223  \n",
       "3                         -0.107529 -0.454745        0.171701  \n",
       "\n",
       "[4 rows x 37 columns]"
      ]
     },
     "execution_count": 316,
     "metadata": {},
     "output_type": "execute_result"
    }
   ],
   "source": [
    "df_comp"
   ]
  },
  {
   "cell_type": "code",
   "execution_count": 317,
   "metadata": {},
   "outputs": [
    {
     "data": {
      "text/plain": [
       "<matplotlib.axes._subplots.AxesSubplot at 0x7f8f32d0ce10>"
      ]
     },
     "execution_count": 317,
     "metadata": {},
     "output_type": "execute_result"
    },
    {
     "data": {
      "image/png": "[encoded data removed]",
      "text/plain": [
       "<Figure size 864x432 with 2 Axes>"
      ]
     },
     "metadata": {
      "needs_background": "light"
     },
     "output_type": "display_data"
    }
   ],
   "source": [
    "plt.figure(figsize=(12,6))\n",
    "sns.heatmap(df_comp,cmap='plasma',)"
   ]
  },
  {
   "cell_type": "code",
   "execution_count": 331,
   "metadata": {},
   "outputs": [],
   "source": [
    "dff = df_comp.T"
   ]
  },
  {
   "cell_type": "code",
   "execution_count": 332,
   "metadata": {},
   "outputs": [],
   "source": [
    "dff.columns = ['PC1', 'PC2', 'PC3', 'PC4']"
   ]
  },
  {
   "cell_type": "code",
   "execution_count": 333,
   "metadata": {},
   "outputs": [
    {
     "data": {
      "text/html": [
       "<div>\n",
       "<style scoped>\n",
       "    .dataframe tbody tr th:only-of-type {\n",
       "        vertical-align: middle;\n",
       "    }\n",
       "\n",
       "    .dataframe tbody tr th {\n",
       "        vertical-align: top;\n",
       "    }\n",
       "\n",
       "    .dataframe thead th {\n",
       "        text-align: right;\n",
       "    }\n",
       "</style>\n",
       "<table border=\"1\" class=\"dataframe\">\n",
       "  <thead>\n",
       "    <tr style=\"text-align: right;\">\n",
       "      <th></th>\n",
       "      <th>PC1</th>\n",
       "      <th>PC2</th>\n",
       "      <th>PC3</th>\n",
       "      <th>PC4</th>\n",
       "    </tr>\n",
       "  </thead>\n",
       "  <tbody>\n",
       "    <tr>\n",
       "      <th>Mapped Agent 13M Persistency</th>\n",
       "      <td>0.013270</td>\n",
       "      <td>0.043909</td>\n",
       "      <td>0.080975</td>\n",
       "      <td>-0.121203</td>\n",
       "    </tr>\n",
       "    <tr>\n",
       "      <th>Applicant's Policy Annualized Premium</th>\n",
       "      <td>0.008575</td>\n",
       "      <td>0.233320</td>\n",
       "      <td>0.362422</td>\n",
       "      <td>0.051310</td>\n",
       "    </tr>\n",
       "    <tr>\n",
       "      <th>Mapped Agent Vintage</th>\n",
       "      <td>-0.034425</td>\n",
       "      <td>0.029505</td>\n",
       "      <td>0.157976</td>\n",
       "      <td>-0.015310</td>\n",
       "    </tr>\n",
       "    <tr>\n",
       "      <th>Auto Debit of Premium Opted Flag(Yes/No)</th>\n",
       "      <td>-0.012656</td>\n",
       "      <td>0.054533</td>\n",
       "      <td>0.272635</td>\n",
       "      <td>-0.491709</td>\n",
       "    </tr>\n",
       "    <tr>\n",
       "      <th>Application Life Assured BMI</th>\n",
       "      <td>0.036111</td>\n",
       "      <td>0.017521</td>\n",
       "      <td>-0.024525</td>\n",
       "      <td>-0.048612</td>\n",
       "    </tr>\n",
       "    <tr>\n",
       "      <th>Total Risk Exposure of HDFC Life w.r.t. Life Assured</th>\n",
       "      <td>0.294358</td>\n",
       "      <td>-0.012858</td>\n",
       "      <td>0.302912</td>\n",
       "      <td>0.178079</td>\n",
       "    </tr>\n",
       "    <tr>\n",
       "      <th>Application  Sourcing Channel</th>\n",
       "      <td>0.086504</td>\n",
       "      <td>-0.093725</td>\n",
       "      <td>-0.151558</td>\n",
       "      <td>-0.234200</td>\n",
       "    </tr>\n",
       "    <tr>\n",
       "      <th>Application  Life Assured City</th>\n",
       "      <td>-0.108300</td>\n",
       "      <td>-0.422728</td>\n",
       "      <td>0.120577</td>\n",
       "      <td>-0.063411</td>\n",
       "    </tr>\n",
       "    <tr>\n",
       "      <th>Application  Life Assured City Tier</th>\n",
       "      <td>-0.155895</td>\n",
       "      <td>-0.389235</td>\n",
       "      <td>0.027495</td>\n",
       "      <td>0.036480</td>\n",
       "    </tr>\n",
       "    <tr>\n",
       "      <th>Application  Life Assured Age</th>\n",
       "      <td>-0.004450</td>\n",
       "      <td>0.002943</td>\n",
       "      <td>-0.133745</td>\n",
       "      <td>-0.088046</td>\n",
       "    </tr>\n",
       "    <tr>\n",
       "      <th>Application  Life Assured Education</th>\n",
       "      <td>0.033928</td>\n",
       "      <td>0.068513</td>\n",
       "      <td>-0.018169</td>\n",
       "      <td>-0.007103</td>\n",
       "    </tr>\n",
       "    <tr>\n",
       "      <th>Application  Life Assured Gender</th>\n",
       "      <td>0.032782</td>\n",
       "      <td>-0.110443</td>\n",
       "      <td>-0.042144</td>\n",
       "      <td>0.195009</td>\n",
       "    </tr>\n",
       "    <tr>\n",
       "      <th>Application  Life Assured Income</th>\n",
       "      <td>0.114724</td>\n",
       "      <td>0.152355</td>\n",
       "      <td>0.337786</td>\n",
       "      <td>0.097890</td>\n",
       "    </tr>\n",
       "    <tr>\n",
       "      <th>Application  Life Assured Industry</th>\n",
       "      <td>0.094338</td>\n",
       "      <td>0.125006</td>\n",
       "      <td>0.078070</td>\n",
       "      <td>-0.075266</td>\n",
       "    </tr>\n",
       "    <tr>\n",
       "      <th>Application  Life Assured Marital Status</th>\n",
       "      <td>0.020943</td>\n",
       "      <td>0.022662</td>\n",
       "      <td>-0.080820</td>\n",
       "      <td>-0.085840</td>\n",
       "    </tr>\n",
       "    <tr>\n",
       "      <th>Application  Life Assured Occupation</th>\n",
       "      <td>0.051748</td>\n",
       "      <td>0.115526</td>\n",
       "      <td>0.074814</td>\n",
       "      <td>-0.046462</td>\n",
       "    </tr>\n",
       "    <tr>\n",
       "      <th>Applicant's Policy PAR/NON PAR/ULIP Tag</th>\n",
       "      <td>-0.407012</td>\n",
       "      <td>0.172933</td>\n",
       "      <td>0.111694</td>\n",
       "      <td>0.087053</td>\n",
       "    </tr>\n",
       "    <tr>\n",
       "      <th>Application Specific Sourcing Partner</th>\n",
       "      <td>0.147680</td>\n",
       "      <td>-0.051733</td>\n",
       "      <td>-0.188859</td>\n",
       "      <td>-0.170986</td>\n",
       "    </tr>\n",
       "    <tr>\n",
       "      <th>First Premium Payment Type</th>\n",
       "      <td>-0.014154</td>\n",
       "      <td>-0.059341</td>\n",
       "      <td>-0.092032</td>\n",
       "      <td>0.160208</td>\n",
       "    </tr>\n",
       "    <tr>\n",
       "      <th>Applicant's Policy Product Category</th>\n",
       "      <td>0.236673</td>\n",
       "      <td>-0.095267</td>\n",
       "      <td>-0.227455</td>\n",
       "      <td>-0.190852</td>\n",
       "    </tr>\n",
       "    <tr>\n",
       "      <th>Applicant's Policy Premium Payment Frequency</th>\n",
       "      <td>0.063155</td>\n",
       "      <td>0.034031</td>\n",
       "      <td>0.053884</td>\n",
       "      <td>-0.070538</td>\n",
       "    </tr>\n",
       "    <tr>\n",
       "      <th>Applicant's Policy Product Name</th>\n",
       "      <td>-0.064789</td>\n",
       "      <td>-0.085975</td>\n",
       "      <td>0.099408</td>\n",
       "      <td>0.196471</td>\n",
       "    </tr>\n",
       "    <tr>\n",
       "      <th>Applicant's Policy Price Sensitivity(1-'Yes', 0-'No')</th>\n",
       "      <td>0.412085</td>\n",
       "      <td>-0.172027</td>\n",
       "      <td>0.045085</td>\n",
       "      <td>0.051330</td>\n",
       "    </tr>\n",
       "    <tr>\n",
       "      <th>Application Life Assured Residential Status</th>\n",
       "      <td>-0.001836</td>\n",
       "      <td>-0.008314</td>\n",
       "      <td>-0.008603</td>\n",
       "      <td>0.016190</td>\n",
       "    </tr>\n",
       "    <tr>\n",
       "      <th>Applicant's Policy Risk Cessation Term</th>\n",
       "      <td>0.403469</td>\n",
       "      <td>-0.170354</td>\n",
       "      <td>-0.008122</td>\n",
       "      <td>0.002727</td>\n",
       "    </tr>\n",
       "    <tr>\n",
       "      <th>Applicant's Policy Rider Opted Flag(1-'Yes', 0-'No')</th>\n",
       "      <td>0.011159</td>\n",
       "      <td>-0.075939</td>\n",
       "      <td>0.031785</td>\n",
       "      <td>0.270668</td>\n",
       "    </tr>\n",
       "    <tr>\n",
       "      <th>Application Life Assured State</th>\n",
       "      <td>-0.052180</td>\n",
       "      <td>-0.208114</td>\n",
       "      <td>-0.001693</td>\n",
       "      <td>0.079686</td>\n",
       "    </tr>\n",
       "    <tr>\n",
       "      <th>Application Sourcing Sub Channel</th>\n",
       "      <td>0.210008</td>\n",
       "      <td>-0.091897</td>\n",
       "      <td>-0.180471</td>\n",
       "      <td>-0.186469</td>\n",
       "    </tr>\n",
       "    <tr>\n",
       "      <th>Applicant's Policy Sum Assured</th>\n",
       "      <td>0.373102</td>\n",
       "      <td>-0.046843</td>\n",
       "      <td>0.294583</td>\n",
       "      <td>0.178363</td>\n",
       "    </tr>\n",
       "    <tr>\n",
       "      <th>HDFC Life Operational Zone</th>\n",
       "      <td>0.116954</td>\n",
       "      <td>0.076994</td>\n",
       "      <td>0.091329</td>\n",
       "      <td>-0.115577</td>\n",
       "    </tr>\n",
       "    <tr>\n",
       "      <th>Application Login year</th>\n",
       "      <td>-0.000886</td>\n",
       "      <td>-0.020835</td>\n",
       "      <td>-0.116767</td>\n",
       "      <td>-0.110754</td>\n",
       "    </tr>\n",
       "    <tr>\n",
       "      <th>Application Login month</th>\n",
       "      <td>0.016622</td>\n",
       "      <td>-0.001737</td>\n",
       "      <td>0.121706</td>\n",
       "      <td>0.027421</td>\n",
       "    </tr>\n",
       "    <tr>\n",
       "      <th>Application Login day</th>\n",
       "      <td>0.000646</td>\n",
       "      <td>0.022993</td>\n",
       "      <td>0.036837</td>\n",
       "      <td>-0.011684</td>\n",
       "    </tr>\n",
       "    <tr>\n",
       "      <th>Mapped Agent city</th>\n",
       "      <td>-0.150329</td>\n",
       "      <td>-0.402318</td>\n",
       "      <td>0.256120</td>\n",
       "      <td>-0.099258</td>\n",
       "    </tr>\n",
       "    <tr>\n",
       "      <th>Applicant's Policy Contract city</th>\n",
       "      <td>-0.143757</td>\n",
       "      <td>-0.427389</td>\n",
       "      <td>0.234097</td>\n",
       "      <td>-0.107529</td>\n",
       "    </tr>\n",
       "    <tr>\n",
       "      <th>Target</th>\n",
       "      <td>0.006006</td>\n",
       "      <td>0.078289</td>\n",
       "      <td>0.278441</td>\n",
       "      <td>-0.454745</td>\n",
       "    </tr>\n",
       "    <tr>\n",
       "      <th>smoker_drinker</th>\n",
       "      <td>0.107840</td>\n",
       "      <td>-0.032536</td>\n",
       "      <td>-0.011223</td>\n",
       "      <td>0.171701</td>\n",
       "    </tr>\n",
       "  </tbody>\n",
       "</table>\n",
       "</div>"
      ],
      "text/plain": [
       "                                                         PC1       PC2  \\\n",
       "Mapped Agent 13M Persistency                        0.013270  0.043909   \n",
       "Applicant's Policy Annualized Premium               0.008575  0.233320   \n",
       "Mapped Agent Vintage                               -0.034425  0.029505   \n",
       "Auto Debit of Premium Opted Flag(Yes/No)           -0.012656  0.054533   \n",
       "Application Life Assured BMI                        0.036111  0.017521   \n",
       "Total Risk Exposure of HDFC Life w.r.t. Life As...  0.294358 -0.012858   \n",
       "Application  Sourcing Channel                       0.086504 -0.093725   \n",
       "Application  Life Assured City                     -0.108300 -0.422728   \n",
       "Application  Life Assured City Tier                -0.155895 -0.389235   \n",
       "Application  Life Assured Age                      -0.004450  0.002943   \n",
       "Application  Life Assured Education                 0.033928  0.068513   \n",
       "Application  Life Assured Gender                    0.032782 -0.110443   \n",
       "Application  Life Assured Income                    0.114724  0.152355   \n",
       "Application  Life Assured Industry                  0.094338  0.125006   \n",
       "Application  Life Assured Marital Status            0.020943  0.022662   \n",
       "Application  Life Assured Occupation                0.051748  0.115526   \n",
       "Applicant's Policy PAR/NON PAR/ULIP Tag            -0.407012  0.172933   \n",
       "Application Specific Sourcing Partner               0.147680 -0.051733   \n",
       "First Premium Payment Type                         -0.014154 -0.059341   \n",
       "Applicant's Policy Product Category                 0.236673 -0.095267   \n",
       "Applicant's Policy Premium Payment Frequency        0.063155  0.034031   \n",
       "Applicant's Policy Product Name                    -0.064789 -0.085975   \n",
       "Applicant's Policy Price Sensitivity(1-'Yes', 0...  0.412085 -0.172027   \n",
       "Application Life Assured Residential Status        -0.001836 -0.008314   \n",
       "Applicant's Policy Risk Cessation Term              0.403469 -0.170354   \n",
       "Applicant's Policy Rider Opted Flag(1-'Yes', 0-...  0.011159 -0.075939   \n",
       "Application Life Assured State                     -0.052180 -0.208114   \n",
       "Application Sourcing Sub Channel                    0.210008 -0.091897   \n",
       "Applicant's Policy Sum Assured                      0.373102 -0.046843   \n",
       "HDFC Life Operational Zone                          0.116954  0.076994   \n",
       "Application Login year                             -0.000886 -0.020835   \n",
       "Application Login month                             0.016622 -0.001737   \n",
       "Application Login day                               0.000646  0.022993   \n",
       "Mapped Agent city                                  -0.150329 -0.402318   \n",
       "Applicant's Policy Contract city                   -0.143757 -0.427389   \n",
       "Target                                              0.006006  0.078289   \n",
       "smoker_drinker                                      0.107840 -0.032536   \n",
       "\n",
       "                                                         PC3       PC4  \n",
       "Mapped Agent 13M Persistency                        0.080975 -0.121203  \n",
       "Applicant's Policy Annualized Premium               0.362422  0.051310  \n",
       "Mapped Agent Vintage                                0.157976 -0.015310  \n",
       "Auto Debit of Premium Opted Flag(Yes/No)            0.272635 -0.491709  \n",
       "Application Life Assured BMI                       -0.024525 -0.048612  \n",
       "Total Risk Exposure of HDFC Life w.r.t. Life As...  0.302912  0.178079  \n",
       "Application  Sourcing Channel                      -0.151558 -0.234200  \n",
       "Application  Life Assured City                      0.120577 -0.063411  \n",
       "Application  Life Assured City Tier                 0.027495  0.036480  \n",
       "Application  Life Assured Age                      -0.133745 -0.088046  \n",
       "Application  Life Assured Education                -0.018169 -0.007103  \n",
       "Application  Life Assured Gender                   -0.042144  0.195009  \n",
       "Application  Life Assured Income                    0.337786  0.097890  \n",
       "Application  Life Assured Industry                  0.078070 -0.075266  \n",
       "Application  Life Assured Marital Status           -0.080820 -0.085840  \n",
       "Application  Life Assured Occupation                0.074814 -0.046462  \n",
       "Applicant's Policy PAR/NON PAR/ULIP Tag             0.111694  0.087053  \n",
       "Application Specific Sourcing Partner              -0.188859 -0.170986  \n",
       "First Premium Payment Type                         -0.092032  0.160208  \n",
       "Applicant's Policy Product Category                -0.227455 -0.190852  \n",
       "Applicant's Policy Premium Payment Frequency        0.053884 -0.070538  \n",
       "Applicant's Policy Product Name                     0.099408  0.196471  \n",
       "Applicant's Policy Price Sensitivity(1-'Yes', 0...  0.045085  0.051330  \n",
       "Application Life Assured Residential Status        -0.008603  0.016190  \n",
       "Applicant's Policy Risk Cessation Term             -0.008122  0.002727  \n",
       "Applicant's Policy Rider Opted Flag(1-'Yes', 0-...  0.031785  0.270668  \n",
       "Application Life Assured State                     -0.001693  0.079686  \n",
       "Application Sourcing Sub Channel                   -0.180471 -0.186469  \n",
       "Applicant's Policy Sum Assured                      0.294583  0.178363  \n",
       "HDFC Life Operational Zone                          0.091329 -0.115577  \n",
       "Application Login year                             -0.116767 -0.110754  \n",
       "Application Login month                             0.121706  0.027421  \n",
       "Application Login day                               0.036837 -0.011684  \n",
       "Mapped Agent city                                   0.256120 -0.099258  \n",
       "Applicant's Policy Contract city                    0.234097 -0.107529  \n",
       "Target                                              0.278441 -0.454745  \n",
       "smoker_drinker                                     -0.011223  0.171701  "
      ]
     },
     "execution_count": 333,
     "metadata": {},
     "output_type": "execute_result"
    }
   ],
   "source": [
    "dff"
   ]
  },
  {
   "cell_type": "code",
   "execution_count": 334,
   "metadata": {},
   "outputs": [
    {
     "data": {
      "text/plain": [
       "array([4.07792041, 2.87142576, 1.99919552, 1.57879526])"
      ]
     },
     "execution_count": 334,
     "metadata": {},
     "output_type": "execute_result"
    }
   ],
   "source": [
    "pca.explained_variance_"
   ]
  },
  {
   "cell_type": "code",
   "execution_count": 335,
   "metadata": {},
   "outputs": [
    {
     "data": {
      "text/plain": [
       "array([11.02097123,  7.76030365,  5.40301773,  4.26684571])"
      ]
     },
     "execution_count": 335,
     "metadata": {},
     "output_type": "execute_result"
    }
   ],
   "source": [
    "pca.explained_variance_ratio_*100"
   ]
  },
  {
   "cell_type": "code",
   "execution_count": 336,
   "metadata": {},
   "outputs": [
    {
     "data": {
      "text/html": [
       "<div>\n",
       "<style scoped>\n",
       "    .dataframe tbody tr th:only-of-type {\n",
       "        vertical-align: middle;\n",
       "    }\n",
       "\n",
       "    .dataframe tbody tr th {\n",
       "        vertical-align: top;\n",
       "    }\n",
       "\n",
       "    .dataframe thead th {\n",
       "        text-align: right;\n",
       "    }\n",
       "</style>\n",
       "<table border=\"1\" class=\"dataframe\">\n",
       "  <thead>\n",
       "    <tr style=\"text-align: right;\">\n",
       "      <th></th>\n",
       "      <th>PC1</th>\n",
       "      <th>PC2</th>\n",
       "      <th>PC3</th>\n",
       "      <th>PC4</th>\n",
       "    </tr>\n",
       "  </thead>\n",
       "  <tbody>\n",
       "    <tr>\n",
       "      <th>Mapped Agent 13M Persistency</th>\n",
       "      <td>0.013270</td>\n",
       "      <td>0.043909</td>\n",
       "      <td>0.080975</td>\n",
       "      <td>-0.121203</td>\n",
       "    </tr>\n",
       "    <tr>\n",
       "      <th>Applicant's Policy Annualized Premium</th>\n",
       "      <td>0.008575</td>\n",
       "      <td>0.233320</td>\n",
       "      <td>0.362422</td>\n",
       "      <td>0.051310</td>\n",
       "    </tr>\n",
       "    <tr>\n",
       "      <th>Mapped Agent Vintage</th>\n",
       "      <td>-0.034425</td>\n",
       "      <td>0.029505</td>\n",
       "      <td>0.157976</td>\n",
       "      <td>-0.015310</td>\n",
       "    </tr>\n",
       "    <tr>\n",
       "      <th>Auto Debit of Premium Opted Flag(Yes/No)</th>\n",
       "      <td>-0.012656</td>\n",
       "      <td>0.054533</td>\n",
       "      <td>0.272635</td>\n",
       "      <td>-0.491709</td>\n",
       "    </tr>\n",
       "    <tr>\n",
       "      <th>Application Life Assured BMI</th>\n",
       "      <td>0.036111</td>\n",
       "      <td>0.017521</td>\n",
       "      <td>-0.024525</td>\n",
       "      <td>-0.048612</td>\n",
       "    </tr>\n",
       "  </tbody>\n",
       "</table>\n",
       "</div>"
      ],
      "text/plain": [
       "                                               PC1       PC2       PC3  \\\n",
       "Mapped Agent 13M Persistency              0.013270  0.043909  0.080975   \n",
       "Applicant's Policy Annualized Premium     0.008575  0.233320  0.362422   \n",
       "Mapped Agent Vintage                     -0.034425  0.029505  0.157976   \n",
       "Auto Debit of Premium Opted Flag(Yes/No) -0.012656  0.054533  0.272635   \n",
       "Application Life Assured BMI              0.036111  0.017521 -0.024525   \n",
       "\n",
       "                                               PC4  \n",
       "Mapped Agent 13M Persistency             -0.121203  \n",
       "Applicant's Policy Annualized Premium     0.051310  \n",
       "Mapped Agent Vintage                     -0.015310  \n",
       "Auto Debit of Premium Opted Flag(Yes/No) -0.491709  \n",
       "Application Life Assured BMI             -0.048612  "
      ]
     },
     "execution_count": 336,
     "metadata": {},
     "output_type": "execute_result"
    }
   ],
   "source": [
    "dff.head()"
   ]
  },
  {
   "cell_type": "code",
   "execution_count": 337,
   "metadata": {},
   "outputs": [],
   "source": [
    "dff1 = dff.T"
   ]
  },
  {
   "cell_type": "code",
   "execution_count": 338,
   "metadata": {},
   "outputs": [
    {
     "data": {
      "text/html": [
       "<div>\n",
       "<style scoped>\n",
       "    .dataframe tbody tr th:only-of-type {\n",
       "        vertical-align: middle;\n",
       "    }\n",
       "\n",
       "    .dataframe tbody tr th {\n",
       "        vertical-align: top;\n",
       "    }\n",
       "\n",
       "    .dataframe thead th {\n",
       "        text-align: right;\n",
       "    }\n",
       "</style>\n",
       "<table border=\"1\" class=\"dataframe\">\n",
       "  <thead>\n",
       "    <tr style=\"text-align: right;\">\n",
       "      <th></th>\n",
       "      <th>Mapped Agent 13M Persistency</th>\n",
       "      <th>Applicant's Policy Annualized Premium</th>\n",
       "      <th>Mapped Agent Vintage</th>\n",
       "      <th>Auto Debit of Premium Opted Flag(Yes/No)</th>\n",
       "      <th>Application Life Assured BMI</th>\n",
       "      <th>Total Risk Exposure of HDFC Life w.r.t. Life Assured</th>\n",
       "      <th>Application  Sourcing Channel</th>\n",
       "      <th>Application  Life Assured City</th>\n",
       "      <th>Application  Life Assured City Tier</th>\n",
       "      <th>Application  Life Assured Age</th>\n",
       "      <th>...</th>\n",
       "      <th>Application Sourcing Sub Channel</th>\n",
       "      <th>Applicant's Policy Sum Assured</th>\n",
       "      <th>HDFC Life Operational Zone</th>\n",
       "      <th>Application Login year</th>\n",
       "      <th>Application Login month</th>\n",
       "      <th>Application Login day</th>\n",
       "      <th>Mapped Agent city</th>\n",
       "      <th>Applicant's Policy Contract city</th>\n",
       "      <th>Target</th>\n",
       "      <th>smoker_drinker</th>\n",
       "    </tr>\n",
       "  </thead>\n",
       "  <tbody>\n",
       "    <tr>\n",
       "      <th>PC1</th>\n",
       "      <td>0.013270</td>\n",
       "      <td>0.008575</td>\n",
       "      <td>-0.034425</td>\n",
       "      <td>-0.012656</td>\n",
       "      <td>0.036111</td>\n",
       "      <td>0.294358</td>\n",
       "      <td>0.086504</td>\n",
       "      <td>-0.108300</td>\n",
       "      <td>-0.155895</td>\n",
       "      <td>-0.004450</td>\n",
       "      <td>...</td>\n",
       "      <td>0.210008</td>\n",
       "      <td>0.373102</td>\n",
       "      <td>0.116954</td>\n",
       "      <td>-0.000886</td>\n",
       "      <td>0.016622</td>\n",
       "      <td>0.000646</td>\n",
       "      <td>-0.150329</td>\n",
       "      <td>-0.143757</td>\n",
       "      <td>0.006006</td>\n",
       "      <td>0.107840</td>\n",
       "    </tr>\n",
       "    <tr>\n",
       "      <th>PC2</th>\n",
       "      <td>0.043909</td>\n",
       "      <td>0.233320</td>\n",
       "      <td>0.029505</td>\n",
       "      <td>0.054533</td>\n",
       "      <td>0.017521</td>\n",
       "      <td>-0.012858</td>\n",
       "      <td>-0.093725</td>\n",
       "      <td>-0.422728</td>\n",
       "      <td>-0.389235</td>\n",
       "      <td>0.002943</td>\n",
       "      <td>...</td>\n",
       "      <td>-0.091897</td>\n",
       "      <td>-0.046843</td>\n",
       "      <td>0.076994</td>\n",
       "      <td>-0.020835</td>\n",
       "      <td>-0.001737</td>\n",
       "      <td>0.022993</td>\n",
       "      <td>-0.402318</td>\n",
       "      <td>-0.427389</td>\n",
       "      <td>0.078289</td>\n",
       "      <td>-0.032536</td>\n",
       "    </tr>\n",
       "    <tr>\n",
       "      <th>PC3</th>\n",
       "      <td>0.080975</td>\n",
       "      <td>0.362422</td>\n",
       "      <td>0.157976</td>\n",
       "      <td>0.272635</td>\n",
       "      <td>-0.024525</td>\n",
       "      <td>0.302912</td>\n",
       "      <td>-0.151558</td>\n",
       "      <td>0.120577</td>\n",
       "      <td>0.027495</td>\n",
       "      <td>-0.133745</td>\n",
       "      <td>...</td>\n",
       "      <td>-0.180471</td>\n",
       "      <td>0.294583</td>\n",
       "      <td>0.091329</td>\n",
       "      <td>-0.116767</td>\n",
       "      <td>0.121706</td>\n",
       "      <td>0.036837</td>\n",
       "      <td>0.256120</td>\n",
       "      <td>0.234097</td>\n",
       "      <td>0.278441</td>\n",
       "      <td>-0.011223</td>\n",
       "    </tr>\n",
       "    <tr>\n",
       "      <th>PC4</th>\n",
       "      <td>-0.121203</td>\n",
       "      <td>0.051310</td>\n",
       "      <td>-0.015310</td>\n",
       "      <td>-0.491709</td>\n",
       "      <td>-0.048612</td>\n",
       "      <td>0.178079</td>\n",
       "      <td>-0.234200</td>\n",
       "      <td>-0.063411</td>\n",
       "      <td>0.036480</td>\n",
       "      <td>-0.088046</td>\n",
       "      <td>...</td>\n",
       "      <td>-0.186469</td>\n",
       "      <td>0.178363</td>\n",
       "      <td>-0.115577</td>\n",
       "      <td>-0.110754</td>\n",
       "      <td>0.027421</td>\n",
       "      <td>-0.011684</td>\n",
       "      <td>-0.099258</td>\n",
       "      <td>-0.107529</td>\n",
       "      <td>-0.454745</td>\n",
       "      <td>0.171701</td>\n",
       "    </tr>\n",
       "  </tbody>\n",
       "</table>\n",
       "<p>4 rows × 37 columns</p>\n",
       "</div>"
      ],
      "text/plain": [
       "     Mapped Agent 13M Persistency  Applicant's Policy Annualized Premium  \\\n",
       "PC1                      0.013270                               0.008575   \n",
       "PC2                      0.043909                               0.233320   \n",
       "PC3                      0.080975                               0.362422   \n",
       "PC4                     -0.121203                               0.051310   \n",
       "\n",
       "     Mapped Agent Vintage  Auto Debit of Premium Opted Flag(Yes/No)  \\\n",
       "PC1             -0.034425                                 -0.012656   \n",
       "PC2              0.029505                                  0.054533   \n",
       "PC3              0.157976                                  0.272635   \n",
       "PC4             -0.015310                                 -0.491709   \n",
       "\n",
       "     Application Life Assured BMI  \\\n",
       "PC1                      0.036111   \n",
       "PC2                      0.017521   \n",
       "PC3                     -0.024525   \n",
       "PC4                     -0.048612   \n",
       "\n",
       "     Total Risk Exposure of HDFC Life w.r.t. Life Assured  \\\n",
       "PC1                                           0.294358      \n",
       "PC2                                          -0.012858      \n",
       "PC3                                           0.302912      \n",
       "PC4                                           0.178079      \n",
       "\n",
       "     Application  Sourcing Channel  Application  Life Assured City  \\\n",
       "PC1                       0.086504                       -0.108300   \n",
       "PC2                      -0.093725                       -0.422728   \n",
       "PC3                      -0.151558                        0.120577   \n",
       "PC4                      -0.234200                       -0.063411   \n",
       "\n",
       "     Application  Life Assured City Tier  Application  Life Assured Age  ...  \\\n",
       "PC1                            -0.155895                      -0.004450  ...   \n",
       "PC2                            -0.389235                       0.002943  ...   \n",
       "PC3                             0.027495                      -0.133745  ...   \n",
       "PC4                             0.036480                      -0.088046  ...   \n",
       "\n",
       "     Application Sourcing Sub Channel  Applicant's Policy Sum Assured  \\\n",
       "PC1                          0.210008                        0.373102   \n",
       "PC2                         -0.091897                       -0.046843   \n",
       "PC3                         -0.180471                        0.294583   \n",
       "PC4                         -0.186469                        0.178363   \n",
       "\n",
       "     HDFC Life Operational Zone  Application Login year  \\\n",
       "PC1                    0.116954               -0.000886   \n",
       "PC2                    0.076994               -0.020835   \n",
       "PC3                    0.091329               -0.116767   \n",
       "PC4                   -0.115577               -0.110754   \n",
       "\n",
       "     Application Login month  Application Login day  Mapped Agent city  \\\n",
       "PC1                 0.016622               0.000646          -0.150329   \n",
       "PC2                -0.001737               0.022993          -0.402318   \n",
       "PC3                 0.121706               0.036837           0.256120   \n",
       "PC4                 0.027421              -0.011684          -0.099258   \n",
       "\n",
       "     Applicant's Policy Contract city    Target  smoker_drinker  \n",
       "PC1                         -0.143757  0.006006        0.107840  \n",
       "PC2                         -0.427389  0.078289       -0.032536  \n",
       "PC3                          0.234097  0.278441       -0.011223  \n",
       "PC4                         -0.107529 -0.454745        0.171701  \n",
       "\n",
       "[4 rows x 37 columns]"
      ]
     },
     "execution_count": 338,
     "metadata": {},
     "output_type": "execute_result"
    }
   ],
   "source": [
    "dff1"
   ]
  },
  {
   "cell_type": "code",
   "execution_count": 340,
   "metadata": {},
   "outputs": [
    {
     "data": {
      "text/plain": [
       "'PC3'"
      ]
     },
     "execution_count": 340,
     "metadata": {},
     "output_type": "execute_result"
    }
   ],
   "source": [
    "dff1['Mapped Agent 13M Persistency'].argmax()"
   ]
  },
  {
   "cell_type": "code",
   "execution_count": 341,
   "metadata": {},
   "outputs": [],
   "source": [
    "PC1 = []\n",
    "PC2 = []\n",
    "PC3 = []\n",
    "PC4 = []"
   ]
  },
  {
   "cell_type": "code",
   "execution_count": 349,
   "metadata": {},
   "outputs": [],
   "source": [
    "for col in dff1.columns:\n",
    "    if abs(dff1[col]).argmax() == 'PC1':\n",
    "        PC1.append(col)\n",
    "    elif abs(dff1[col]).argmax() == 'PC2':\n",
    "        PC2.append(col)\n",
    "    elif abs(dff1[col]).argmax() == 'PC3':\n",
    "        PC3.append(col)\n",
    "    else : \n",
    "        PC4.append(col)"
   ]
  },
  {
   "cell_type": "code",
   "execution_count": 350,
   "metadata": {},
   "outputs": [
    {
     "data": {
      "text/plain": [
       "['Application Life Assured BMI',\n",
       " 'Application  Sourcing Channel',\n",
       " 'Application Specific Sourcing Partner',\n",
       " \"Applicant's Policy Product Category\",\n",
       " \"Applicant's Policy Premium Payment Frequency\",\n",
       " \"Applicant's Policy Price Sensitivity(1-'Yes', 0-'No')\",\n",
       " \"Applicant's Policy Risk Cessation Term\",\n",
       " 'Application Sourcing Sub Channel',\n",
       " \"Applicant's Policy Sum Assured\",\n",
       " 'HDFC Life Operational Zone',\n",
       " 'Application Login year',\n",
       " \"Applicant's Policy PAR/NON PAR/ULIP Tag\",\n",
       " \"Applicant's Policy Product Category\",\n",
       " \"Applicant's Policy Price Sensitivity(1-'Yes', 0-'No')\",\n",
       " \"Applicant's Policy Risk Cessation Term\",\n",
       " 'Application Sourcing Sub Channel',\n",
       " \"Applicant's Policy Sum Assured\",\n",
       " 'HDFC Life Operational Zone']"
      ]
     },
     "execution_count": 350,
     "metadata": {},
     "output_type": "execute_result"
    }
   ],
   "source": [
    "PC1   \n",
    "# More about policy takes"
   ]
  },
  {
   "cell_type": "code",
   "execution_count": 351,
   "metadata": {},
   "outputs": [
    {
     "data": {
      "text/plain": [
       "['Application  Life Assured Age',\n",
       " 'Application  Life Assured Education',\n",
       " 'Application  Life Assured Industry',\n",
       " 'Application  Life Assured Marital Status',\n",
       " 'Application  Life Assured Occupation',\n",
       " \"Applicant's Policy PAR/NON PAR/ULIP Tag\",\n",
       " 'Application  Life Assured City',\n",
       " 'Application  Life Assured City Tier',\n",
       " 'Application  Life Assured Education',\n",
       " 'Application  Life Assured Industry',\n",
       " 'Application  Life Assured Occupation',\n",
       " 'Application Life Assured State',\n",
       " 'Mapped Agent city',\n",
       " \"Applicant's Policy Contract city\"]"
      ]
     },
     "execution_count": 351,
     "metadata": {},
     "output_type": "execute_result"
    }
   ],
   "source": [
    "PC2\n",
    "# More about Applicants personal details"
   ]
  },
  {
   "cell_type": "code",
   "execution_count": 352,
   "metadata": {},
   "outputs": [
    {
     "data": {
      "text/plain": [
       "['Mapped Agent 13M Persistency',\n",
       " \"Applicant's Policy Annualized Premium\",\n",
       " 'Mapped Agent Vintage',\n",
       " 'Auto Debit of Premium Opted Flag(Yes/No)',\n",
       " 'Total Risk Exposure of HDFC Life w.r.t. Life Assured',\n",
       " 'Application  Life Assured City',\n",
       " 'Application  Life Assured Income',\n",
       " 'Application Login month',\n",
       " 'Application Login day',\n",
       " 'Mapped Agent city',\n",
       " \"Applicant's Policy Contract city\",\n",
       " 'Target',\n",
       " \"Applicant's Policy Annualized Premium\",\n",
       " 'Mapped Agent Vintage',\n",
       " 'Total Risk Exposure of HDFC Life w.r.t. Life Assured',\n",
       " 'Application  Life Assured Age',\n",
       " 'Application  Life Assured Income',\n",
       " 'Application Specific Sourcing Partner',\n",
       " 'Application Login year',\n",
       " 'Application Login month',\n",
       " 'Application Login day']"
      ]
     },
     "execution_count": 352,
     "metadata": {},
     "output_type": "execute_result"
    }
   ],
   "source": [
    "PC3"
   ]
  },
  {
   "cell_type": "code",
   "execution_count": 353,
   "metadata": {},
   "outputs": [
    {
     "data": {
      "text/plain": [
       "['Application  Life Assured City Tier',\n",
       " 'Application  Life Assured Gender',\n",
       " 'First Premium Payment Type',\n",
       " \"Applicant's Policy Product Name\",\n",
       " 'Application Life Assured Residential Status',\n",
       " \"Applicant's Policy Rider Opted Flag(1-'Yes', 0-'No')\",\n",
       " 'Application Life Assured State',\n",
       " 'smoker_drinker',\n",
       " 'Mapped Agent 13M Persistency',\n",
       " 'Auto Debit of Premium Opted Flag(Yes/No)',\n",
       " 'Application Life Assured BMI',\n",
       " 'Application  Sourcing Channel',\n",
       " 'Application  Life Assured Gender',\n",
       " 'Application  Life Assured Marital Status',\n",
       " 'First Premium Payment Type',\n",
       " \"Applicant's Policy Premium Payment Frequency\",\n",
       " \"Applicant's Policy Product Name\",\n",
       " 'Application Life Assured Residential Status',\n",
       " \"Applicant's Policy Rider Opted Flag(1-'Yes', 0-'No')\",\n",
       " 'Target',\n",
       " 'smoker_drinker']"
      ]
     },
     "execution_count": 353,
     "metadata": {},
     "output_type": "execute_result"
    }
   ],
   "source": [
    "PC4"
   ]
  },
  {
   "cell_type": "code",
   "execution_count": null,
   "metadata": {},
   "outputs": [],
   "source": []
  },
  {
   "cell_type": "code",
   "execution_count": 323,
   "metadata": {},
   "outputs": [
    {
     "data": {
      "text/plain": [
       "([<matplotlib.axis.XTick at 0x7f8f37070780>,\n",
       "  <matplotlib.axis.XTick at 0x7f8f33e423c8>,\n",
       "  <matplotlib.axis.XTick at 0x7f8f33e42278>,\n",
       "  <matplotlib.axis.XTick at 0x7f8f33e642e8>],\n",
       " <a list of 4 Text xticklabel objects>)"
      ]
     },
     "execution_count": 323,
     "metadata": {},
     "output_type": "execute_result"
    },
    {
     "data": {
      "image/png": "[encoded data removed]",
      "text/plain": [
       "<Figure size 504x360 with 1 Axes>"
      ]
     },
     "metadata": {
      "needs_background": "light"
     },
     "output_type": "display_data"
    }
   ],
   "source": [
    "plt.figure(figsize=(7,5))\n",
    "plt.plot([1,2,3,4], pca.explained_variance_ratio_, '-o')\n",
    "plt.ylabel('Proportion of Variance Explained')\n",
    "plt.xlabel('Principal Component')\n",
    "plt.xlim(0.75,4.25)\n",
    "plt.ylim(0,0.15)\n",
    "plt.xticks([1,2,3,4])"
   ]
  },
  {
   "cell_type": "code",
   "execution_count": 324,
   "metadata": {},
   "outputs": [],
   "source": [
    "from sklearn.cluster import KMeans"
   ]
  },
  {
   "cell_type": "code",
   "execution_count": 325,
   "metadata": {},
   "outputs": [
    {
     "data": {
      "text/plain": [
       "KMeans(algorithm='auto', copy_x=True, init='k-means++', max_iter=300,\n",
       "       n_clusters=3, n_init=10, n_jobs=None, precompute_distances='auto',\n",
       "       random_state=42, tol=0.0001, verbose=0)"
      ]
     },
     "execution_count": 325,
     "metadata": {},
     "output_type": "execute_result"
    }
   ],
   "source": [
    "k = 3\n",
    "clusters = KMeans( k, random_state = 42 )\n",
    "clusters.fit(dff)"
   ]
  },
  {
   "cell_type": "code",
   "execution_count": 326,
   "metadata": {},
   "outputs": [],
   "source": [
    "dff['Cluster'] = clusters.labels_"
   ]
  },
  {
   "cell_type": "code",
   "execution_count": 327,
   "metadata": {},
   "outputs": [
    {
     "data": {
      "text/html": [
       "<div>\n",
       "<style scoped>\n",
       "    .dataframe tbody tr th:only-of-type {\n",
       "        vertical-align: middle;\n",
       "    }\n",
       "\n",
       "    .dataframe tbody tr th {\n",
       "        vertical-align: top;\n",
       "    }\n",
       "\n",
       "    .dataframe thead th {\n",
       "        text-align: right;\n",
       "    }\n",
       "</style>\n",
       "<table border=\"1\" class=\"dataframe\">\n",
       "  <thead>\n",
       "    <tr style=\"text-align: right;\">\n",
       "      <th></th>\n",
       "      <th>PC1</th>\n",
       "      <th>PC2</th>\n",
       "      <th>PC3</th>\n",
       "      <th>PC4</th>\n",
       "      <th>Cluster</th>\n",
       "    </tr>\n",
       "  </thead>\n",
       "  <tbody>\n",
       "    <tr>\n",
       "      <th>Mapped Agent 13M Persistency</th>\n",
       "      <td>0.013270</td>\n",
       "      <td>0.043909</td>\n",
       "      <td>0.080975</td>\n",
       "      <td>-0.121203</td>\n",
       "      <td>1</td>\n",
       "    </tr>\n",
       "    <tr>\n",
       "      <th>Applicant's Policy Annualized Premium</th>\n",
       "      <td>0.008575</td>\n",
       "      <td>0.233320</td>\n",
       "      <td>0.362422</td>\n",
       "      <td>0.051310</td>\n",
       "      <td>1</td>\n",
       "    </tr>\n",
       "    <tr>\n",
       "      <th>Mapped Agent Vintage</th>\n",
       "      <td>-0.034425</td>\n",
       "      <td>0.029505</td>\n",
       "      <td>0.157976</td>\n",
       "      <td>-0.015310</td>\n",
       "      <td>1</td>\n",
       "    </tr>\n",
       "    <tr>\n",
       "      <th>Auto Debit of Premium Opted Flag(Yes/No)</th>\n",
       "      <td>-0.012656</td>\n",
       "      <td>0.054533</td>\n",
       "      <td>0.272635</td>\n",
       "      <td>-0.491709</td>\n",
       "      <td>1</td>\n",
       "    </tr>\n",
       "    <tr>\n",
       "      <th>Application Life Assured BMI</th>\n",
       "      <td>0.036111</td>\n",
       "      <td>0.017521</td>\n",
       "      <td>-0.024525</td>\n",
       "      <td>-0.048612</td>\n",
       "      <td>1</td>\n",
       "    </tr>\n",
       "    <tr>\n",
       "      <th>Total Risk Exposure of HDFC Life w.r.t. Life Assured</th>\n",
       "      <td>0.294358</td>\n",
       "      <td>-0.012858</td>\n",
       "      <td>0.302912</td>\n",
       "      <td>0.178079</td>\n",
       "      <td>1</td>\n",
       "    </tr>\n",
       "    <tr>\n",
       "      <th>Application  Sourcing Channel</th>\n",
       "      <td>0.086504</td>\n",
       "      <td>-0.093725</td>\n",
       "      <td>-0.151558</td>\n",
       "      <td>-0.234200</td>\n",
       "      <td>0</td>\n",
       "    </tr>\n",
       "    <tr>\n",
       "      <th>Application  Life Assured City</th>\n",
       "      <td>-0.108300</td>\n",
       "      <td>-0.422728</td>\n",
       "      <td>0.120577</td>\n",
       "      <td>-0.063411</td>\n",
       "      <td>2</td>\n",
       "    </tr>\n",
       "    <tr>\n",
       "      <th>Application  Life Assured City Tier</th>\n",
       "      <td>-0.155895</td>\n",
       "      <td>-0.389235</td>\n",
       "      <td>0.027495</td>\n",
       "      <td>0.036480</td>\n",
       "      <td>2</td>\n",
       "    </tr>\n",
       "    <tr>\n",
       "      <th>Application  Life Assured Age</th>\n",
       "      <td>-0.004450</td>\n",
       "      <td>0.002943</td>\n",
       "      <td>-0.133745</td>\n",
       "      <td>-0.088046</td>\n",
       "      <td>0</td>\n",
       "    </tr>\n",
       "    <tr>\n",
       "      <th>Application  Life Assured Education</th>\n",
       "      <td>0.033928</td>\n",
       "      <td>0.068513</td>\n",
       "      <td>-0.018169</td>\n",
       "      <td>-0.007103</td>\n",
       "      <td>1</td>\n",
       "    </tr>\n",
       "    <tr>\n",
       "      <th>Application  Life Assured Gender</th>\n",
       "      <td>0.032782</td>\n",
       "      <td>-0.110443</td>\n",
       "      <td>-0.042144</td>\n",
       "      <td>0.195009</td>\n",
       "      <td>1</td>\n",
       "    </tr>\n",
       "    <tr>\n",
       "      <th>Application  Life Assured Income</th>\n",
       "      <td>0.114724</td>\n",
       "      <td>0.152355</td>\n",
       "      <td>0.337786</td>\n",
       "      <td>0.097890</td>\n",
       "      <td>1</td>\n",
       "    </tr>\n",
       "    <tr>\n",
       "      <th>Application  Life Assured Industry</th>\n",
       "      <td>0.094338</td>\n",
       "      <td>0.125006</td>\n",
       "      <td>0.078070</td>\n",
       "      <td>-0.075266</td>\n",
       "      <td>1</td>\n",
       "    </tr>\n",
       "    <tr>\n",
       "      <th>Application  Life Assured Marital Status</th>\n",
       "      <td>0.020943</td>\n",
       "      <td>0.022662</td>\n",
       "      <td>-0.080820</td>\n",
       "      <td>-0.085840</td>\n",
       "      <td>0</td>\n",
       "    </tr>\n",
       "    <tr>\n",
       "      <th>Application  Life Assured Occupation</th>\n",
       "      <td>0.051748</td>\n",
       "      <td>0.115526</td>\n",
       "      <td>0.074814</td>\n",
       "      <td>-0.046462</td>\n",
       "      <td>1</td>\n",
       "    </tr>\n",
       "    <tr>\n",
       "      <th>Applicant's Policy PAR/NON PAR/ULIP Tag</th>\n",
       "      <td>-0.407012</td>\n",
       "      <td>0.172933</td>\n",
       "      <td>0.111694</td>\n",
       "      <td>0.087053</td>\n",
       "      <td>1</td>\n",
       "    </tr>\n",
       "    <tr>\n",
       "      <th>Application Specific Sourcing Partner</th>\n",
       "      <td>0.147680</td>\n",
       "      <td>-0.051733</td>\n",
       "      <td>-0.188859</td>\n",
       "      <td>-0.170986</td>\n",
       "      <td>0</td>\n",
       "    </tr>\n",
       "    <tr>\n",
       "      <th>First Premium Payment Type</th>\n",
       "      <td>-0.014154</td>\n",
       "      <td>-0.059341</td>\n",
       "      <td>-0.092032</td>\n",
       "      <td>0.160208</td>\n",
       "      <td>1</td>\n",
       "    </tr>\n",
       "    <tr>\n",
       "      <th>Applicant's Policy Product Category</th>\n",
       "      <td>0.236673</td>\n",
       "      <td>-0.095267</td>\n",
       "      <td>-0.227455</td>\n",
       "      <td>-0.190852</td>\n",
       "      <td>0</td>\n",
       "    </tr>\n",
       "    <tr>\n",
       "      <th>Applicant's Policy Premium Payment Frequency</th>\n",
       "      <td>0.063155</td>\n",
       "      <td>0.034031</td>\n",
       "      <td>0.053884</td>\n",
       "      <td>-0.070538</td>\n",
       "      <td>1</td>\n",
       "    </tr>\n",
       "    <tr>\n",
       "      <th>Applicant's Policy Product Name</th>\n",
       "      <td>-0.064789</td>\n",
       "      <td>-0.085975</td>\n",
       "      <td>0.099408</td>\n",
       "      <td>0.196471</td>\n",
       "      <td>1</td>\n",
       "    </tr>\n",
       "    <tr>\n",
       "      <th>Applicant's Policy Price Sensitivity(1-'Yes', 0-'No')</th>\n",
       "      <td>0.412085</td>\n",
       "      <td>-0.172027</td>\n",
       "      <td>0.045085</td>\n",
       "      <td>0.051330</td>\n",
       "      <td>0</td>\n",
       "    </tr>\n",
       "    <tr>\n",
       "      <th>Application Life Assured Residential Status</th>\n",
       "      <td>-0.001836</td>\n",
       "      <td>-0.008314</td>\n",
       "      <td>-0.008603</td>\n",
       "      <td>0.016190</td>\n",
       "      <td>1</td>\n",
       "    </tr>\n",
       "    <tr>\n",
       "      <th>Applicant's Policy Risk Cessation Term</th>\n",
       "      <td>0.403469</td>\n",
       "      <td>-0.170354</td>\n",
       "      <td>-0.008122</td>\n",
       "      <td>0.002727</td>\n",
       "      <td>0</td>\n",
       "    </tr>\n",
       "    <tr>\n",
       "      <th>Applicant's Policy Rider Opted Flag(1-'Yes', 0-'No')</th>\n",
       "      <td>0.011159</td>\n",
       "      <td>-0.075939</td>\n",
       "      <td>0.031785</td>\n",
       "      <td>0.270668</td>\n",
       "      <td>1</td>\n",
       "    </tr>\n",
       "    <tr>\n",
       "      <th>Application Life Assured State</th>\n",
       "      <td>-0.052180</td>\n",
       "      <td>-0.208114</td>\n",
       "      <td>-0.001693</td>\n",
       "      <td>0.079686</td>\n",
       "      <td>2</td>\n",
       "    </tr>\n",
       "    <tr>\n",
       "      <th>Application Sourcing Sub Channel</th>\n",
       "      <td>0.210008</td>\n",
       "      <td>-0.091897</td>\n",
       "      <td>-0.180471</td>\n",
       "      <td>-0.186469</td>\n",
       "      <td>0</td>\n",
       "    </tr>\n",
       "    <tr>\n",
       "      <th>Applicant's Policy Sum Assured</th>\n",
       "      <td>0.373102</td>\n",
       "      <td>-0.046843</td>\n",
       "      <td>0.294583</td>\n",
       "      <td>0.178363</td>\n",
       "      <td>1</td>\n",
       "    </tr>\n",
       "    <tr>\n",
       "      <th>HDFC Life Operational Zone</th>\n",
       "      <td>0.116954</td>\n",
       "      <td>0.076994</td>\n",
       "      <td>0.091329</td>\n",
       "      <td>-0.115577</td>\n",
       "      <td>1</td>\n",
       "    </tr>\n",
       "    <tr>\n",
       "      <th>Application Login year</th>\n",
       "      <td>-0.000886</td>\n",
       "      <td>-0.020835</td>\n",
       "      <td>-0.116767</td>\n",
       "      <td>-0.110754</td>\n",
       "      <td>0</td>\n",
       "    </tr>\n",
       "    <tr>\n",
       "      <th>Application Login month</th>\n",
       "      <td>0.016622</td>\n",
       "      <td>-0.001737</td>\n",
       "      <td>0.121706</td>\n",
       "      <td>0.027421</td>\n",
       "      <td>1</td>\n",
       "    </tr>\n",
       "    <tr>\n",
       "      <th>Application Login day</th>\n",
       "      <td>0.000646</td>\n",
       "      <td>0.022993</td>\n",
       "      <td>0.036837</td>\n",
       "      <td>-0.011684</td>\n",
       "      <td>1</td>\n",
       "    </tr>\n",
       "    <tr>\n",
       "      <th>Mapped Agent city</th>\n",
       "      <td>-0.150329</td>\n",
       "      <td>-0.402318</td>\n",
       "      <td>0.256120</td>\n",
       "      <td>-0.099258</td>\n",
       "      <td>2</td>\n",
       "    </tr>\n",
       "    <tr>\n",
       "      <th>Applicant's Policy Contract city</th>\n",
       "      <td>-0.143757</td>\n",
       "      <td>-0.427389</td>\n",
       "      <td>0.234097</td>\n",
       "      <td>-0.107529</td>\n",
       "      <td>2</td>\n",
       "    </tr>\n",
       "    <tr>\n",
       "      <th>Target</th>\n",
       "      <td>0.006006</td>\n",
       "      <td>0.078289</td>\n",
       "      <td>0.278441</td>\n",
       "      <td>-0.454745</td>\n",
       "      <td>1</td>\n",
       "    </tr>\n",
       "    <tr>\n",
       "      <th>smoker_drinker</th>\n",
       "      <td>0.107840</td>\n",
       "      <td>-0.032536</td>\n",
       "      <td>-0.011223</td>\n",
       "      <td>0.171701</td>\n",
       "      <td>1</td>\n",
       "    </tr>\n",
       "  </tbody>\n",
       "</table>\n",
       "</div>"
      ],
      "text/plain": [
       "                                                         PC1       PC2  \\\n",
       "Mapped Agent 13M Persistency                        0.013270  0.043909   \n",
       "Applicant's Policy Annualized Premium               0.008575  0.233320   \n",
       "Mapped Agent Vintage                               -0.034425  0.029505   \n",
       "Auto Debit of Premium Opted Flag(Yes/No)           -0.012656  0.054533   \n",
       "Application Life Assured BMI                        0.036111  0.017521   \n",
       "Total Risk Exposure of HDFC Life w.r.t. Life As...  0.294358 -0.012858   \n",
       "Application  Sourcing Channel                       0.086504 -0.093725   \n",
       "Application  Life Assured City                     -0.108300 -0.422728   \n",
       "Application  Life Assured City Tier                -0.155895 -0.389235   \n",
       "Application  Life Assured Age                      -0.004450  0.002943   \n",
       "Application  Life Assured Education                 0.033928  0.068513   \n",
       "Application  Life Assured Gender                    0.032782 -0.110443   \n",
       "Application  Life Assured Income                    0.114724  0.152355   \n",
       "Application  Life Assured Industry                  0.094338  0.125006   \n",
       "Application  Life Assured Marital Status            0.020943  0.022662   \n",
       "Application  Life Assured Occupation                0.051748  0.115526   \n",
       "Applicant's Policy PAR/NON PAR/ULIP Tag            -0.407012  0.172933   \n",
       "Application Specific Sourcing Partner               0.147680 -0.051733   \n",
       "First Premium Payment Type                         -0.014154 -0.059341   \n",
       "Applicant's Policy Product Category                 0.236673 -0.095267   \n",
       "Applicant's Policy Premium Payment Frequency        0.063155  0.034031   \n",
       "Applicant's Policy Product Name                    -0.064789 -0.085975   \n",
       "Applicant's Policy Price Sensitivity(1-'Yes', 0...  0.412085 -0.172027   \n",
       "Application Life Assured Residential Status        -0.001836 -0.008314   \n",
       "Applicant's Policy Risk Cessation Term              0.403469 -0.170354   \n",
       "Applicant's Policy Rider Opted Flag(1-'Yes', 0-...  0.011159 -0.075939   \n",
       "Application Life Assured State                     -0.052180 -0.208114   \n",
       "Application Sourcing Sub Channel                    0.210008 -0.091897   \n",
       "Applicant's Policy Sum Assured                      0.373102 -0.046843   \n",
       "HDFC Life Operational Zone                          0.116954  0.076994   \n",
       "Application Login year                             -0.000886 -0.020835   \n",
       "Application Login month                             0.016622 -0.001737   \n",
       "Application Login day                               0.000646  0.022993   \n",
       "Mapped Agent city                                  -0.150329 -0.402318   \n",
       "Applicant's Policy Contract city                   -0.143757 -0.427389   \n",
       "Target                                              0.006006  0.078289   \n",
       "smoker_drinker                                      0.107840 -0.032536   \n",
       "\n",
       "                                                         PC3       PC4  \\\n",
       "Mapped Agent 13M Persistency                        0.080975 -0.121203   \n",
       "Applicant's Policy Annualized Premium               0.362422  0.051310   \n",
       "Mapped Agent Vintage                                0.157976 -0.015310   \n",
       "Auto Debit of Premium Opted Flag(Yes/No)            0.272635 -0.491709   \n",
       "Application Life Assured BMI                       -0.024525 -0.048612   \n",
       "Total Risk Exposure of HDFC Life w.r.t. Life As...  0.302912  0.178079   \n",
       "Application  Sourcing Channel                      -0.151558 -0.234200   \n",
       "Application  Life Assured City                      0.120577 -0.063411   \n",
       "Application  Life Assured City Tier                 0.027495  0.036480   \n",
       "Application  Life Assured Age                      -0.133745 -0.088046   \n",
       "Application  Life Assured Education                -0.018169 -0.007103   \n",
       "Application  Life Assured Gender                   -0.042144  0.195009   \n",
       "Application  Life Assured Income                    0.337786  0.097890   \n",
       "Application  Life Assured Industry                  0.078070 -0.075266   \n",
       "Application  Life Assured Marital Status           -0.080820 -0.085840   \n",
       "Application  Life Assured Occupation                0.074814 -0.046462   \n",
       "Applicant's Policy PAR/NON PAR/ULIP Tag             0.111694  0.087053   \n",
       "Application Specific Sourcing Partner              -0.188859 -0.170986   \n",
       "First Premium Payment Type                         -0.092032  0.160208   \n",
       "Applicant's Policy Product Category                -0.227455 -0.190852   \n",
       "Applicant's Policy Premium Payment Frequency        0.053884 -0.070538   \n",
       "Applicant's Policy Product Name                     0.099408  0.196471   \n",
       "Applicant's Policy Price Sensitivity(1-'Yes', 0...  0.045085  0.051330   \n",
       "Application Life Assured Residential Status        -0.008603  0.016190   \n",
       "Applicant's Policy Risk Cessation Term             -0.008122  0.002727   \n",
       "Applicant's Policy Rider Opted Flag(1-'Yes', 0-...  0.031785  0.270668   \n",
       "Application Life Assured State                     -0.001693  0.079686   \n",
       "Application Sourcing Sub Channel                   -0.180471 -0.186469   \n",
       "Applicant's Policy Sum Assured                      0.294583  0.178363   \n",
       "HDFC Life Operational Zone                          0.091329 -0.115577   \n",
       "Application Login year                             -0.116767 -0.110754   \n",
       "Application Login month                             0.121706  0.027421   \n",
       "Application Login day                               0.036837 -0.011684   \n",
       "Mapped Agent city                                   0.256120 -0.099258   \n",
       "Applicant's Policy Contract city                    0.234097 -0.107529   \n",
       "Target                                              0.278441 -0.454745   \n",
       "smoker_drinker                                     -0.011223  0.171701   \n",
       "\n",
       "                                                    Cluster  \n",
       "Mapped Agent 13M Persistency                              1  \n",
       "Applicant's Policy Annualized Premium                     1  \n",
       "Mapped Agent Vintage                                      1  \n",
       "Auto Debit of Premium Opted Flag(Yes/No)                  1  \n",
       "Application Life Assured BMI                              1  \n",
       "Total Risk Exposure of HDFC Life w.r.t. Life As...        1  \n",
       "Application  Sourcing Channel                             0  \n",
       "Application  Life Assured City                            2  \n",
       "Application  Life Assured City Tier                       2  \n",
       "Application  Life Assured Age                             0  \n",
       "Application  Life Assured Education                       1  \n",
       "Application  Life Assured Gender                          1  \n",
       "Application  Life Assured Income                          1  \n",
       "Application  Life Assured Industry                        1  \n",
       "Application  Life Assured Marital Status                  0  \n",
       "Application  Life Assured Occupation                      1  \n",
       "Applicant's Policy PAR/NON PAR/ULIP Tag                   1  \n",
       "Application Specific Sourcing Partner                     0  \n",
       "First Premium Payment Type                                1  \n",
       "Applicant's Policy Product Category                       0  \n",
       "Applicant's Policy Premium Payment Frequency              1  \n",
       "Applicant's Policy Product Name                           1  \n",
       "Applicant's Policy Price Sensitivity(1-'Yes', 0...        0  \n",
       "Application Life Assured Residential Status               1  \n",
       "Applicant's Policy Risk Cessation Term                    0  \n",
       "Applicant's Policy Rider Opted Flag(1-'Yes', 0-...        1  \n",
       "Application Life Assured State                            2  \n",
       "Application Sourcing Sub Channel                          0  \n",
       "Applicant's Policy Sum Assured                            1  \n",
       "HDFC Life Operational Zone                                1  \n",
       "Application Login year                                    0  \n",
       "Application Login month                                   1  \n",
       "Application Login day                                     1  \n",
       "Mapped Agent city                                         2  \n",
       "Applicant's Policy Contract city                          2  \n",
       "Target                                                    1  \n",
       "smoker_drinker                                            1  "
      ]
     },
     "execution_count": 327,
     "metadata": {},
     "output_type": "execute_result"
    }
   ],
   "source": [
    "dff"
   ]
  },
  {
   "cell_type": "code",
   "execution_count": 328,
   "metadata": {},
   "outputs": [
    {
     "data": {
      "text/html": [
       "<div>\n",
       "<style scoped>\n",
       "    .dataframe tbody tr th:only-of-type {\n",
       "        vertical-align: middle;\n",
       "    }\n",
       "\n",
       "    .dataframe tbody tr th {\n",
       "        vertical-align: top;\n",
       "    }\n",
       "\n",
       "    .dataframe thead th {\n",
       "        text-align: right;\n",
       "    }\n",
       "</style>\n",
       "<table border=\"1\" class=\"dataframe\">\n",
       "  <thead>\n",
       "    <tr style=\"text-align: right;\">\n",
       "      <th></th>\n",
       "      <th>PC1</th>\n",
       "      <th>PC2</th>\n",
       "      <th>PC3</th>\n",
       "      <th>PC4</th>\n",
       "      <th>Cluster</th>\n",
       "    </tr>\n",
       "  </thead>\n",
       "  <tbody>\n",
       "    <tr>\n",
       "      <th>Application  Sourcing Channel</th>\n",
       "      <td>0.086504</td>\n",
       "      <td>-0.093725</td>\n",
       "      <td>-0.151558</td>\n",
       "      <td>-0.234200</td>\n",
       "      <td>0</td>\n",
       "    </tr>\n",
       "    <tr>\n",
       "      <th>Application  Life Assured Age</th>\n",
       "      <td>-0.004450</td>\n",
       "      <td>0.002943</td>\n",
       "      <td>-0.133745</td>\n",
       "      <td>-0.088046</td>\n",
       "      <td>0</td>\n",
       "    </tr>\n",
       "    <tr>\n",
       "      <th>Application  Life Assured Marital Status</th>\n",
       "      <td>0.020943</td>\n",
       "      <td>0.022662</td>\n",
       "      <td>-0.080820</td>\n",
       "      <td>-0.085840</td>\n",
       "      <td>0</td>\n",
       "    </tr>\n",
       "    <tr>\n",
       "      <th>Application Specific Sourcing Partner</th>\n",
       "      <td>0.147680</td>\n",
       "      <td>-0.051733</td>\n",
       "      <td>-0.188859</td>\n",
       "      <td>-0.170986</td>\n",
       "      <td>0</td>\n",
       "    </tr>\n",
       "    <tr>\n",
       "      <th>Applicant's Policy Product Category</th>\n",
       "      <td>0.236673</td>\n",
       "      <td>-0.095267</td>\n",
       "      <td>-0.227455</td>\n",
       "      <td>-0.190852</td>\n",
       "      <td>0</td>\n",
       "    </tr>\n",
       "    <tr>\n",
       "      <th>Applicant's Policy Price Sensitivity(1-'Yes', 0-'No')</th>\n",
       "      <td>0.412085</td>\n",
       "      <td>-0.172027</td>\n",
       "      <td>0.045085</td>\n",
       "      <td>0.051330</td>\n",
       "      <td>0</td>\n",
       "    </tr>\n",
       "    <tr>\n",
       "      <th>Applicant's Policy Risk Cessation Term</th>\n",
       "      <td>0.403469</td>\n",
       "      <td>-0.170354</td>\n",
       "      <td>-0.008122</td>\n",
       "      <td>0.002727</td>\n",
       "      <td>0</td>\n",
       "    </tr>\n",
       "    <tr>\n",
       "      <th>Application Sourcing Sub Channel</th>\n",
       "      <td>0.210008</td>\n",
       "      <td>-0.091897</td>\n",
       "      <td>-0.180471</td>\n",
       "      <td>-0.186469</td>\n",
       "      <td>0</td>\n",
       "    </tr>\n",
       "    <tr>\n",
       "      <th>Application Login year</th>\n",
       "      <td>-0.000886</td>\n",
       "      <td>-0.020835</td>\n",
       "      <td>-0.116767</td>\n",
       "      <td>-0.110754</td>\n",
       "      <td>0</td>\n",
       "    </tr>\n",
       "  </tbody>\n",
       "</table>\n",
       "</div>"
      ],
      "text/plain": [
       "                                                         PC1       PC2  \\\n",
       "Application  Sourcing Channel                       0.086504 -0.093725   \n",
       "Application  Life Assured Age                      -0.004450  0.002943   \n",
       "Application  Life Assured Marital Status            0.020943  0.022662   \n",
       "Application Specific Sourcing Partner               0.147680 -0.051733   \n",
       "Applicant's Policy Product Category                 0.236673 -0.095267   \n",
       "Applicant's Policy Price Sensitivity(1-'Yes', 0...  0.412085 -0.172027   \n",
       "Applicant's Policy Risk Cessation Term              0.403469 -0.170354   \n",
       "Application Sourcing Sub Channel                    0.210008 -0.091897   \n",
       "Application Login year                             -0.000886 -0.020835   \n",
       "\n",
       "                                                         PC3       PC4  \\\n",
       "Application  Sourcing Channel                      -0.151558 -0.234200   \n",
       "Application  Life Assured Age                      -0.133745 -0.088046   \n",
       "Application  Life Assured Marital Status           -0.080820 -0.085840   \n",
       "Application Specific Sourcing Partner              -0.188859 -0.170986   \n",
       "Applicant's Policy Product Category                -0.227455 -0.190852   \n",
       "Applicant's Policy Price Sensitivity(1-'Yes', 0...  0.045085  0.051330   \n",
       "Applicant's Policy Risk Cessation Term             -0.008122  0.002727   \n",
       "Application Sourcing Sub Channel                   -0.180471 -0.186469   \n",
       "Application Login year                             -0.116767 -0.110754   \n",
       "\n",
       "                                                    Cluster  \n",
       "Application  Sourcing Channel                             0  \n",
       "Application  Life Assured Age                             0  \n",
       "Application  Life Assured Marital Status                  0  \n",
       "Application Specific Sourcing Partner                     0  \n",
       "Applicant's Policy Product Category                       0  \n",
       "Applicant's Policy Price Sensitivity(1-'Yes', 0...        0  \n",
       "Applicant's Policy Risk Cessation Term                    0  \n",
       "Application Sourcing Sub Channel                          0  \n",
       "Application Login year                                    0  "
      ]
     },
     "execution_count": 328,
     "metadata": {},
     "output_type": "execute_result"
    }
   ],
   "source": [
    "dff[dff.Cluster == 0]"
   ]
  },
  {
   "cell_type": "code",
   "execution_count": 329,
   "metadata": {},
   "outputs": [
    {
     "data": {
      "text/html": [
       "<div>\n",
       "<style scoped>\n",
       "    .dataframe tbody tr th:only-of-type {\n",
       "        vertical-align: middle;\n",
       "    }\n",
       "\n",
       "    .dataframe tbody tr th {\n",
       "        vertical-align: top;\n",
       "    }\n",
       "\n",
       "    .dataframe thead th {\n",
       "        text-align: right;\n",
       "    }\n",
       "</style>\n",
       "<table border=\"1\" class=\"dataframe\">\n",
       "  <thead>\n",
       "    <tr style=\"text-align: right;\">\n",
       "      <th></th>\n",
       "      <th>PC1</th>\n",
       "      <th>PC2</th>\n",
       "      <th>PC3</th>\n",
       "      <th>PC4</th>\n",
       "      <th>Cluster</th>\n",
       "    </tr>\n",
       "  </thead>\n",
       "  <tbody>\n",
       "    <tr>\n",
       "      <th>Mapped Agent 13M Persistency</th>\n",
       "      <td>0.013270</td>\n",
       "      <td>0.043909</td>\n",
       "      <td>0.080975</td>\n",
       "      <td>-0.121203</td>\n",
       "      <td>1</td>\n",
       "    </tr>\n",
       "    <tr>\n",
       "      <th>Applicant's Policy Annualized Premium</th>\n",
       "      <td>0.008575</td>\n",
       "      <td>0.233320</td>\n",
       "      <td>0.362422</td>\n",
       "      <td>0.051310</td>\n",
       "      <td>1</td>\n",
       "    </tr>\n",
       "    <tr>\n",
       "      <th>Mapped Agent Vintage</th>\n",
       "      <td>-0.034425</td>\n",
       "      <td>0.029505</td>\n",
       "      <td>0.157976</td>\n",
       "      <td>-0.015310</td>\n",
       "      <td>1</td>\n",
       "    </tr>\n",
       "    <tr>\n",
       "      <th>Auto Debit of Premium Opted Flag(Yes/No)</th>\n",
       "      <td>-0.012656</td>\n",
       "      <td>0.054533</td>\n",
       "      <td>0.272635</td>\n",
       "      <td>-0.491709</td>\n",
       "      <td>1</td>\n",
       "    </tr>\n",
       "    <tr>\n",
       "      <th>Application Life Assured BMI</th>\n",
       "      <td>0.036111</td>\n",
       "      <td>0.017521</td>\n",
       "      <td>-0.024525</td>\n",
       "      <td>-0.048612</td>\n",
       "      <td>1</td>\n",
       "    </tr>\n",
       "    <tr>\n",
       "      <th>Total Risk Exposure of HDFC Life w.r.t. Life Assured</th>\n",
       "      <td>0.294358</td>\n",
       "      <td>-0.012858</td>\n",
       "      <td>0.302912</td>\n",
       "      <td>0.178079</td>\n",
       "      <td>1</td>\n",
       "    </tr>\n",
       "    <tr>\n",
       "      <th>Application  Life Assured Education</th>\n",
       "      <td>0.033928</td>\n",
       "      <td>0.068513</td>\n",
       "      <td>-0.018169</td>\n",
       "      <td>-0.007103</td>\n",
       "      <td>1</td>\n",
       "    </tr>\n",
       "    <tr>\n",
       "      <th>Application  Life Assured Gender</th>\n",
       "      <td>0.032782</td>\n",
       "      <td>-0.110443</td>\n",
       "      <td>-0.042144</td>\n",
       "      <td>0.195009</td>\n",
       "      <td>1</td>\n",
       "    </tr>\n",
       "    <tr>\n",
       "      <th>Application  Life Assured Income</th>\n",
       "      <td>0.114724</td>\n",
       "      <td>0.152355</td>\n",
       "      <td>0.337786</td>\n",
       "      <td>0.097890</td>\n",
       "      <td>1</td>\n",
       "    </tr>\n",
       "    <tr>\n",
       "      <th>Application  Life Assured Industry</th>\n",
       "      <td>0.094338</td>\n",
       "      <td>0.125006</td>\n",
       "      <td>0.078070</td>\n",
       "      <td>-0.075266</td>\n",
       "      <td>1</td>\n",
       "    </tr>\n",
       "    <tr>\n",
       "      <th>Application  Life Assured Occupation</th>\n",
       "      <td>0.051748</td>\n",
       "      <td>0.115526</td>\n",
       "      <td>0.074814</td>\n",
       "      <td>-0.046462</td>\n",
       "      <td>1</td>\n",
       "    </tr>\n",
       "    <tr>\n",
       "      <th>Applicant's Policy PAR/NON PAR/ULIP Tag</th>\n",
       "      <td>-0.407012</td>\n",
       "      <td>0.172933</td>\n",
       "      <td>0.111694</td>\n",
       "      <td>0.087053</td>\n",
       "      <td>1</td>\n",
       "    </tr>\n",
       "    <tr>\n",
       "      <th>First Premium Payment Type</th>\n",
       "      <td>-0.014154</td>\n",
       "      <td>-0.059341</td>\n",
       "      <td>-0.092032</td>\n",
       "      <td>0.160208</td>\n",
       "      <td>1</td>\n",
       "    </tr>\n",
       "    <tr>\n",
       "      <th>Applicant's Policy Premium Payment Frequency</th>\n",
       "      <td>0.063155</td>\n",
       "      <td>0.034031</td>\n",
       "      <td>0.053884</td>\n",
       "      <td>-0.070538</td>\n",
       "      <td>1</td>\n",
       "    </tr>\n",
       "    <tr>\n",
       "      <th>Applicant's Policy Product Name</th>\n",
       "      <td>-0.064789</td>\n",
       "      <td>-0.085975</td>\n",
       "      <td>0.099408</td>\n",
       "      <td>0.196471</td>\n",
       "      <td>1</td>\n",
       "    </tr>\n",
       "    <tr>\n",
       "      <th>Application Life Assured Residential Status</th>\n",
       "      <td>-0.001836</td>\n",
       "      <td>-0.008314</td>\n",
       "      <td>-0.008603</td>\n",
       "      <td>0.016190</td>\n",
       "      <td>1</td>\n",
       "    </tr>\n",
       "    <tr>\n",
       "      <th>Applicant's Policy Rider Opted Flag(1-'Yes', 0-'No')</th>\n",
       "      <td>0.011159</td>\n",
       "      <td>-0.075939</td>\n",
       "      <td>0.031785</td>\n",
       "      <td>0.270668</td>\n",
       "      <td>1</td>\n",
       "    </tr>\n",
       "    <tr>\n",
       "      <th>Applicant's Policy Sum Assured</th>\n",
       "      <td>0.373102</td>\n",
       "      <td>-0.046843</td>\n",
       "      <td>0.294583</td>\n",
       "      <td>0.178363</td>\n",
       "      <td>1</td>\n",
       "    </tr>\n",
       "    <tr>\n",
       "      <th>HDFC Life Operational Zone</th>\n",
       "      <td>0.116954</td>\n",
       "      <td>0.076994</td>\n",
       "      <td>0.091329</td>\n",
       "      <td>-0.115577</td>\n",
       "      <td>1</td>\n",
       "    </tr>\n",
       "    <tr>\n",
       "      <th>Application Login month</th>\n",
       "      <td>0.016622</td>\n",
       "      <td>-0.001737</td>\n",
       "      <td>0.121706</td>\n",
       "      <td>0.027421</td>\n",
       "      <td>1</td>\n",
       "    </tr>\n",
       "    <tr>\n",
       "      <th>Application Login day</th>\n",
       "      <td>0.000646</td>\n",
       "      <td>0.022993</td>\n",
       "      <td>0.036837</td>\n",
       "      <td>-0.011684</td>\n",
       "      <td>1</td>\n",
       "    </tr>\n",
       "    <tr>\n",
       "      <th>Target</th>\n",
       "      <td>0.006006</td>\n",
       "      <td>0.078289</td>\n",
       "      <td>0.278441</td>\n",
       "      <td>-0.454745</td>\n",
       "      <td>1</td>\n",
       "    </tr>\n",
       "    <tr>\n",
       "      <th>smoker_drinker</th>\n",
       "      <td>0.107840</td>\n",
       "      <td>-0.032536</td>\n",
       "      <td>-0.011223</td>\n",
       "      <td>0.171701</td>\n",
       "      <td>1</td>\n",
       "    </tr>\n",
       "  </tbody>\n",
       "</table>\n",
       "</div>"
      ],
      "text/plain": [
       "                                                         PC1       PC2  \\\n",
       "Mapped Agent 13M Persistency                        0.013270  0.043909   \n",
       "Applicant's Policy Annualized Premium               0.008575  0.233320   \n",
       "Mapped Agent Vintage                               -0.034425  0.029505   \n",
       "Auto Debit of Premium Opted Flag(Yes/No)           -0.012656  0.054533   \n",
       "Application Life Assured BMI                        0.036111  0.017521   \n",
       "Total Risk Exposure of HDFC Life w.r.t. Life As...  0.294358 -0.012858   \n",
       "Application  Life Assured Education                 0.033928  0.068513   \n",
       "Application  Life Assured Gender                    0.032782 -0.110443   \n",
       "Application  Life Assured Income                    0.114724  0.152355   \n",
       "Application  Life Assured Industry                  0.094338  0.125006   \n",
       "Application  Life Assured Occupation                0.051748  0.115526   \n",
       "Applicant's Policy PAR/NON PAR/ULIP Tag            -0.407012  0.172933   \n",
       "First Premium Payment Type                         -0.014154 -0.059341   \n",
       "Applicant's Policy Premium Payment Frequency        0.063155  0.034031   \n",
       "Applicant's Policy Product Name                    -0.064789 -0.085975   \n",
       "Application Life Assured Residential Status        -0.001836 -0.008314   \n",
       "Applicant's Policy Rider Opted Flag(1-'Yes', 0-...  0.011159 -0.075939   \n",
       "Applicant's Policy Sum Assured                      0.373102 -0.046843   \n",
       "HDFC Life Operational Zone                          0.116954  0.076994   \n",
       "Application Login month                             0.016622 -0.001737   \n",
       "Application Login day                               0.000646  0.022993   \n",
       "Target                                              0.006006  0.078289   \n",
       "smoker_drinker                                      0.107840 -0.032536   \n",
       "\n",
       "                                                         PC3       PC4  \\\n",
       "Mapped Agent 13M Persistency                        0.080975 -0.121203   \n",
       "Applicant's Policy Annualized Premium               0.362422  0.051310   \n",
       "Mapped Agent Vintage                                0.157976 -0.015310   \n",
       "Auto Debit of Premium Opted Flag(Yes/No)            0.272635 -0.491709   \n",
       "Application Life Assured BMI                       -0.024525 -0.048612   \n",
       "Total Risk Exposure of HDFC Life w.r.t. Life As...  0.302912  0.178079   \n",
       "Application  Life Assured Education                -0.018169 -0.007103   \n",
       "Application  Life Assured Gender                   -0.042144  0.195009   \n",
       "Application  Life Assured Income                    0.337786  0.097890   \n",
       "Application  Life Assured Industry                  0.078070 -0.075266   \n",
       "Application  Life Assured Occupation                0.074814 -0.046462   \n",
       "Applicant's Policy PAR/NON PAR/ULIP Tag             0.111694  0.087053   \n",
       "First Premium Payment Type                         -0.092032  0.160208   \n",
       "Applicant's Policy Premium Payment Frequency        0.053884 -0.070538   \n",
       "Applicant's Policy Product Name                     0.099408  0.196471   \n",
       "Application Life Assured Residential Status        -0.008603  0.016190   \n",
       "Applicant's Policy Rider Opted Flag(1-'Yes', 0-...  0.031785  0.270668   \n",
       "Applicant's Policy Sum Assured                      0.294583  0.178363   \n",
       "HDFC Life Operational Zone                          0.091329 -0.115577   \n",
       "Application Login month                             0.121706  0.027421   \n",
       "Application Login day                               0.036837 -0.011684   \n",
       "Target                                              0.278441 -0.454745   \n",
       "smoker_drinker                                     -0.011223  0.171701   \n",
       "\n",
       "                                                    Cluster  \n",
       "Mapped Agent 13M Persistency                              1  \n",
       "Applicant's Policy Annualized Premium                     1  \n",
       "Mapped Agent Vintage                                      1  \n",
       "Auto Debit of Premium Opted Flag(Yes/No)                  1  \n",
       "Application Life Assured BMI                              1  \n",
       "Total Risk Exposure of HDFC Life w.r.t. Life As...        1  \n",
       "Application  Life Assured Education                       1  \n",
       "Application  Life Assured Gender                          1  \n",
       "Application  Life Assured Income                          1  \n",
       "Application  Life Assured Industry                        1  \n",
       "Application  Life Assured Occupation                      1  \n",
       "Applicant's Policy PAR/NON PAR/ULIP Tag                   1  \n",
       "First Premium Payment Type                                1  \n",
       "Applicant's Policy Premium Payment Frequency              1  \n",
       "Applicant's Policy Product Name                           1  \n",
       "Application Life Assured Residential Status               1  \n",
       "Applicant's Policy Rider Opted Flag(1-'Yes', 0-...        1  \n",
       "Applicant's Policy Sum Assured                            1  \n",
       "HDFC Life Operational Zone                                1  \n",
       "Application Login month                                   1  \n",
       "Application Login day                                     1  \n",
       "Target                                                    1  \n",
       "smoker_drinker                                            1  "
      ]
     },
     "execution_count": 329,
     "metadata": {},
     "output_type": "execute_result"
    }
   ],
   "source": [
    "dff[dff.Cluster == 1]"
   ]
  },
  {
   "cell_type": "code",
   "execution_count": 330,
   "metadata": {},
   "outputs": [
    {
     "data": {
      "text/html": [
       "<div>\n",
       "<style scoped>\n",
       "    .dataframe tbody tr th:only-of-type {\n",
       "        vertical-align: middle;\n",
       "    }\n",
       "\n",
       "    .dataframe tbody tr th {\n",
       "        vertical-align: top;\n",
       "    }\n",
       "\n",
       "    .dataframe thead th {\n",
       "        text-align: right;\n",
       "    }\n",
       "</style>\n",
       "<table border=\"1\" class=\"dataframe\">\n",
       "  <thead>\n",
       "    <tr style=\"text-align: right;\">\n",
       "      <th></th>\n",
       "      <th>PC1</th>\n",
       "      <th>PC2</th>\n",
       "      <th>PC3</th>\n",
       "      <th>PC4</th>\n",
       "      <th>Cluster</th>\n",
       "    </tr>\n",
       "  </thead>\n",
       "  <tbody>\n",
       "    <tr>\n",
       "      <th>Application  Life Assured City</th>\n",
       "      <td>-0.108300</td>\n",
       "      <td>-0.422728</td>\n",
       "      <td>0.120577</td>\n",
       "      <td>-0.063411</td>\n",
       "      <td>2</td>\n",
       "    </tr>\n",
       "    <tr>\n",
       "      <th>Application  Life Assured City Tier</th>\n",
       "      <td>-0.155895</td>\n",
       "      <td>-0.389235</td>\n",
       "      <td>0.027495</td>\n",
       "      <td>0.036480</td>\n",
       "      <td>2</td>\n",
       "    </tr>\n",
       "    <tr>\n",
       "      <th>Application Life Assured State</th>\n",
       "      <td>-0.052180</td>\n",
       "      <td>-0.208114</td>\n",
       "      <td>-0.001693</td>\n",
       "      <td>0.079686</td>\n",
       "      <td>2</td>\n",
       "    </tr>\n",
       "    <tr>\n",
       "      <th>Mapped Agent city</th>\n",
       "      <td>-0.150329</td>\n",
       "      <td>-0.402318</td>\n",
       "      <td>0.256120</td>\n",
       "      <td>-0.099258</td>\n",
       "      <td>2</td>\n",
       "    </tr>\n",
       "    <tr>\n",
       "      <th>Applicant's Policy Contract city</th>\n",
       "      <td>-0.143757</td>\n",
       "      <td>-0.427389</td>\n",
       "      <td>0.234097</td>\n",
       "      <td>-0.107529</td>\n",
       "      <td>2</td>\n",
       "    </tr>\n",
       "  </tbody>\n",
       "</table>\n",
       "</div>"
      ],
      "text/plain": [
       "                                          PC1       PC2       PC3       PC4  \\\n",
       "Application  Life Assured City      -0.108300 -0.422728  0.120577 -0.063411   \n",
       "Application  Life Assured City Tier -0.155895 -0.389235  0.027495  0.036480   \n",
       "Application Life Assured State      -0.052180 -0.208114 -0.001693  0.079686   \n",
       "Mapped Agent city                   -0.150329 -0.402318  0.256120 -0.099258   \n",
       "Applicant's Policy Contract city    -0.143757 -0.427389  0.234097 -0.107529   \n",
       "\n",
       "                                     Cluster  \n",
       "Application  Life Assured City             2  \n",
       "Application  Life Assured City Tier        2  \n",
       "Application Life Assured State             2  \n",
       "Mapped Agent city                          2  \n",
       "Applicant's Policy Contract city           2  "
      ]
     },
     "execution_count": 330,
     "metadata": {},
     "output_type": "execute_result"
    }
   ],
   "source": [
    "dff[dff.Cluster == 2]"
   ]
  },
  {
   "cell_type": "code",
   "execution_count": null,
   "metadata": {},
   "outputs": [],
   "source": []
  },
  {
   "cell_type": "code",
   "execution_count": null,
   "metadata": {},
   "outputs": [],
   "source": []
  },
  {
   "cell_type": "markdown",
   "metadata": {},
   "source": [
    "# K- Means"
   ]
  },
  {
   "cell_type": "code",
   "execution_count": 125,
   "metadata": {},
   "outputs": [],
   "source": [
    "from sklearn.cluster import KMeans"
   ]
  },
  {
   "cell_type": "code",
   "execution_count": 166,
   "metadata": {},
   "outputs": [
    {
     "data": {
      "text/plain": [
       "KMeans(algorithm='auto', copy_x=True, init='k-means++', max_iter=300,\n",
       "       n_clusters=5, n_init=10, n_jobs=None, precompute_distances='auto',\n",
       "       random_state=42, tol=0.0001, verbose=0)"
      ]
     },
     "execution_count": 166,
     "metadata": {},
     "output_type": "execute_result"
    }
   ],
   "source": [
    "k = 5\n",
    "clusters = KMeans( k, random_state = 42 )\n",
    "clusters.fit(df1)"
   ]
  },
  {
   "cell_type": "code",
   "execution_count": 167,
   "metadata": {},
   "outputs": [],
   "source": [
    "y = pd.DataFrame(clusters.labels_)"
   ]
  },
  {
   "cell_type": "code",
   "execution_count": 168,
   "metadata": {},
   "outputs": [],
   "source": [
    "y.column = 'Cluster'"
   ]
  },
  {
   "cell_type": "code",
   "execution_count": 169,
   "metadata": {},
   "outputs": [],
   "source": [
    "df2 = df.copy()"
   ]
  },
  {
   "cell_type": "code",
   "execution_count": 170,
   "metadata": {},
   "outputs": [],
   "source": [
    "df2['Cluster'] = y"
   ]
  },
  {
   "cell_type": "code",
   "execution_count": 171,
   "metadata": {},
   "outputs": [],
   "source": [
    "c1 = df2[df2.Cluster == 0]"
   ]
  },
  {
   "cell_type": "code",
   "execution_count": 172,
   "metadata": {},
   "outputs": [],
   "source": [
    "c2 = df2[df2.Cluster == 1]"
   ]
  },
  {
   "cell_type": "code",
   "execution_count": 173,
   "metadata": {},
   "outputs": [],
   "source": [
    "c3 = df2[df2.Cluster == 2]"
   ]
  },
  {
   "cell_type": "code",
   "execution_count": 174,
   "metadata": {},
   "outputs": [],
   "source": [
    "c4 = df2[df2.Cluster == 3]"
   ]
  },
  {
   "cell_type": "code",
   "execution_count": 175,
   "metadata": {},
   "outputs": [],
   "source": [
    "c5 = df2[df2.Cluster == 4]"
   ]
  },
  {
   "cell_type": "code",
   "execution_count": 176,
   "metadata": {},
   "outputs": [
    {
     "data": {
      "text/plain": [
       "1    10229\n",
       "0     2991\n",
       "Name: Target, dtype: int64"
      ]
     },
     "execution_count": 176,
     "metadata": {},
     "output_type": "execute_result"
    }
   ],
   "source": [
    "c1['Target'].value_counts()"
   ]
  },
  {
   "cell_type": "code",
   "execution_count": 177,
   "metadata": {},
   "outputs": [
    {
     "data": {
      "text/plain": [
       "1    12\n",
       "Name: Target, dtype: int64"
      ]
     },
     "execution_count": 177,
     "metadata": {},
     "output_type": "execute_result"
    }
   ],
   "source": [
    "c2['Target'].value_counts()"
   ]
  },
  {
   "cell_type": "code",
   "execution_count": 150,
   "metadata": {},
   "outputs": [
    {
     "data": {
      "text/plain": [
       "1    5722\n",
       "0    1488\n",
       "Name: Target, dtype: int64"
      ]
     },
     "execution_count": 150,
     "metadata": {},
     "output_type": "execute_result"
    }
   ],
   "source": [
    "c3['Target'].value_counts()"
   ]
  },
  {
   "cell_type": "code",
   "execution_count": 178,
   "metadata": {},
   "outputs": [
    {
     "data": {
      "text/plain": [
       "1    2096\n",
       "0     516\n",
       "Name: Target, dtype: int64"
      ]
     },
     "execution_count": 178,
     "metadata": {},
     "output_type": "execute_result"
    }
   ],
   "source": [
    "c4['Target'].value_counts()"
   ]
  },
  {
   "cell_type": "code",
   "execution_count": 179,
   "metadata": {},
   "outputs": [
    {
     "data": {
      "text/plain": [
       "1    4649\n",
       "0     841\n",
       "Name: Target, dtype: int64"
      ]
     },
     "execution_count": 179,
     "metadata": {},
     "output_type": "execute_result"
    }
   ],
   "source": [
    "c5['Target'].value_counts()"
   ]
  },
  {
   "cell_type": "markdown",
   "metadata": {},
   "source": [
    "# K-Mode"
   ]
  },
  {
   "cell_type": "code",
   "execution_count": 154,
   "metadata": {},
   "outputs": [],
   "source": [
    "from kmodes.kmodes import KModes"
   ]
  },
  {
   "cell_type": "code",
   "execution_count": 159,
   "metadata": {},
   "outputs": [
    {
     "name": "stdout",
     "output_type": "stream",
     "text": [
      "Init: initializing centroids\n",
      "Init: initializing clusters\n",
      "Starting iterations...\n",
      "Run 1, iteration: 1/100, moves: 6746, cost: 417333.0\n",
      "Run 1, iteration: 2/100, moves: 2940, cost: 414343.0\n",
      "Run 1, iteration: 3/100, moves: 1787, cost: 413603.0\n",
      "Run 1, iteration: 4/100, moves: 457, cost: 413540.0\n",
      "Run 1, iteration: 5/100, moves: 1, cost: 413540.0\n"
     ]
    }
   ],
   "source": [
    "km_cao = KModes(n_clusters=5, init = \"Cao\", n_init = 1, verbose=1)\n",
    "fitClusters_cao = km_cao.fit_predict(df)"
   ]
  },
  {
   "cell_type": "code",
   "execution_count": 163,
   "metadata": {},
   "outputs": [
    {
     "data": {
      "text/plain": [
       "array([0, 3, 1, ..., 2, 1, 2], dtype=uint16)"
      ]
     },
     "execution_count": 163,
     "metadata": {},
     "output_type": "execute_result"
    }
   ],
   "source": [
    "fitClusters_cao"
   ]
  },
  {
   "cell_type": "code",
   "execution_count": 164,
   "metadata": {},
   "outputs": [],
   "source": [
    "clusterCentroidsDf = pd.DataFrame(km_cao.cluster_centroids_)\n",
    "clusterCentroidsDf.columns = df.columns"
   ]
  },
  {
   "cell_type": "code",
   "execution_count": 165,
   "metadata": {},
   "outputs": [
    {
     "data": {
      "text/html": [
       "<div>\n",
       "<style scoped>\n",
       "    .dataframe tbody tr th:only-of-type {\n",
       "        vertical-align: middle;\n",
       "    }\n",
       "\n",
       "    .dataframe tbody tr th {\n",
       "        vertical-align: top;\n",
       "    }\n",
       "\n",
       "    .dataframe thead th {\n",
       "        text-align: right;\n",
       "    }\n",
       "</style>\n",
       "<table border=\"1\" class=\"dataframe\">\n",
       "  <thead>\n",
       "    <tr style=\"text-align: right;\">\n",
       "      <th></th>\n",
       "      <th>Mapped Agent 13M Persistency</th>\n",
       "      <th>Applicant's Policy Annualized Premium</th>\n",
       "      <th>Mapped Agent Vintage</th>\n",
       "      <th>Auto Debit of Premium Opted Flag(Yes/No)</th>\n",
       "      <th>Application Life Assured BMI</th>\n",
       "      <th>Total Risk Exposure of HDFC Life w.r.t. Life Assured</th>\n",
       "      <th>Application  Sourcing Channel</th>\n",
       "      <th>Application  Life Assured City</th>\n",
       "      <th>Application  Life Assured City Tier</th>\n",
       "      <th>Application  Life Assured Age</th>\n",
       "      <th>...</th>\n",
       "      <th>Applicant's Policy Sum Assured</th>\n",
       "      <th>HDFC Life Operational Zone</th>\n",
       "      <th>Application Login year</th>\n",
       "      <th>Application Login month</th>\n",
       "      <th>Application Login day</th>\n",
       "      <th>Mapped Agent city</th>\n",
       "      <th>Applicant's Policy Contract city</th>\n",
       "      <th>Target</th>\n",
       "      <th>smoker_drinker</th>\n",
       "      <th>Perf+vintage</th>\n",
       "    </tr>\n",
       "  </thead>\n",
       "  <tbody>\n",
       "    <tr>\n",
       "      <th>0</th>\n",
       "      <td>80.18</td>\n",
       "      <td>50000.0</td>\n",
       "      <td>12.0</td>\n",
       "      <td>1.0</td>\n",
       "      <td>2.0</td>\n",
       "      <td>500000.0</td>\n",
       "      <td>2.0</td>\n",
       "      <td>10.0</td>\n",
       "      <td>2.0</td>\n",
       "      <td>1.0</td>\n",
       "      <td>...</td>\n",
       "      <td>500000.0</td>\n",
       "      <td>1.0</td>\n",
       "      <td>18.0</td>\n",
       "      <td>1.0</td>\n",
       "      <td>1.0</td>\n",
       "      <td>10.0</td>\n",
       "      <td>13.0</td>\n",
       "      <td>1.0</td>\n",
       "      <td>0.0</td>\n",
       "      <td>962.16</td>\n",
       "    </tr>\n",
       "    <tr>\n",
       "      <th>1</th>\n",
       "      <td>80.18</td>\n",
       "      <td>50000.0</td>\n",
       "      <td>4.0</td>\n",
       "      <td>1.0</td>\n",
       "      <td>2.0</td>\n",
       "      <td>5000000.0</td>\n",
       "      <td>1.0</td>\n",
       "      <td>10.0</td>\n",
       "      <td>0.0</td>\n",
       "      <td>0.0</td>\n",
       "      <td>...</td>\n",
       "      <td>5000000.0</td>\n",
       "      <td>5.0</td>\n",
       "      <td>18.0</td>\n",
       "      <td>12.0</td>\n",
       "      <td>28.0</td>\n",
       "      <td>10.0</td>\n",
       "      <td>13.0</td>\n",
       "      <td>1.0</td>\n",
       "      <td>0.0</td>\n",
       "      <td>320.72</td>\n",
       "    </tr>\n",
       "    <tr>\n",
       "      <th>2</th>\n",
       "      <td>80.18</td>\n",
       "      <td>100000.0</td>\n",
       "      <td>9.0</td>\n",
       "      <td>0.0</td>\n",
       "      <td>2.0</td>\n",
       "      <td>1000000.0</td>\n",
       "      <td>2.0</td>\n",
       "      <td>10.0</td>\n",
       "      <td>1.0</td>\n",
       "      <td>2.0</td>\n",
       "      <td>...</td>\n",
       "      <td>1000000.0</td>\n",
       "      <td>5.0</td>\n",
       "      <td>18.0</td>\n",
       "      <td>3.0</td>\n",
       "      <td>1.0</td>\n",
       "      <td>10.0</td>\n",
       "      <td>13.0</td>\n",
       "      <td>1.0</td>\n",
       "      <td>0.0</td>\n",
       "      <td>721.62</td>\n",
       "    </tr>\n",
       "    <tr>\n",
       "      <th>3</th>\n",
       "      <td>80.18</td>\n",
       "      <td>47847.0</td>\n",
       "      <td>16.0</td>\n",
       "      <td>1.0</td>\n",
       "      <td>2.0</td>\n",
       "      <td>5000000.0</td>\n",
       "      <td>2.0</td>\n",
       "      <td>10.0</td>\n",
       "      <td>2.0</td>\n",
       "      <td>2.0</td>\n",
       "      <td>...</td>\n",
       "      <td>5000000.0</td>\n",
       "      <td>1.0</td>\n",
       "      <td>18.0</td>\n",
       "      <td>3.0</td>\n",
       "      <td>28.0</td>\n",
       "      <td>10.0</td>\n",
       "      <td>13.0</td>\n",
       "      <td>1.0</td>\n",
       "      <td>0.0</td>\n",
       "      <td>881.98</td>\n",
       "    </tr>\n",
       "    <tr>\n",
       "      <th>4</th>\n",
       "      <td>80.18</td>\n",
       "      <td>25000.0</td>\n",
       "      <td>10.0</td>\n",
       "      <td>0.0</td>\n",
       "      <td>3.0</td>\n",
       "      <td>250000.0</td>\n",
       "      <td>1.0</td>\n",
       "      <td>10.0</td>\n",
       "      <td>0.0</td>\n",
       "      <td>3.0</td>\n",
       "      <td>...</td>\n",
       "      <td>500000.0</td>\n",
       "      <td>1.0</td>\n",
       "      <td>18.0</td>\n",
       "      <td>3.0</td>\n",
       "      <td>30.0</td>\n",
       "      <td>4.0</td>\n",
       "      <td>4.0</td>\n",
       "      <td>1.0</td>\n",
       "      <td>0.0</td>\n",
       "      <td>801.80</td>\n",
       "    </tr>\n",
       "  </tbody>\n",
       "</table>\n",
       "<p>5 rows × 38 columns</p>\n",
       "</div>"
      ],
      "text/plain": [
       "   Mapped Agent 13M Persistency  Applicant's Policy Annualized Premium  \\\n",
       "0                         80.18                                50000.0   \n",
       "1                         80.18                                50000.0   \n",
       "2                         80.18                               100000.0   \n",
       "3                         80.18                                47847.0   \n",
       "4                         80.18                                25000.0   \n",
       "\n",
       "   Mapped Agent Vintage  Auto Debit of Premium Opted Flag(Yes/No)  \\\n",
       "0                  12.0                                       1.0   \n",
       "1                   4.0                                       1.0   \n",
       "2                   9.0                                       0.0   \n",
       "3                  16.0                                       1.0   \n",
       "4                  10.0                                       0.0   \n",
       "\n",
       "   Application Life Assured BMI  \\\n",
       "0                           2.0   \n",
       "1                           2.0   \n",
       "2                           2.0   \n",
       "3                           2.0   \n",
       "4                           3.0   \n",
       "\n",
       "   Total Risk Exposure of HDFC Life w.r.t. Life Assured  \\\n",
       "0                                           500000.0      \n",
       "1                                          5000000.0      \n",
       "2                                          1000000.0      \n",
       "3                                          5000000.0      \n",
       "4                                           250000.0      \n",
       "\n",
       "   Application  Sourcing Channel  Application  Life Assured City  \\\n",
       "0                            2.0                            10.0   \n",
       "1                            1.0                            10.0   \n",
       "2                            2.0                            10.0   \n",
       "3                            2.0                            10.0   \n",
       "4                            1.0                            10.0   \n",
       "\n",
       "   Application  Life Assured City Tier  Application  Life Assured Age  ...  \\\n",
       "0                                  2.0                            1.0  ...   \n",
       "1                                  0.0                            0.0  ...   \n",
       "2                                  1.0                            2.0  ...   \n",
       "3                                  2.0                            2.0  ...   \n",
       "4                                  0.0                            3.0  ...   \n",
       "\n",
       "   Applicant's Policy Sum Assured  HDFC Life Operational Zone  \\\n",
       "0                        500000.0                         1.0   \n",
       "1                       5000000.0                         5.0   \n",
       "2                       1000000.0                         5.0   \n",
       "3                       5000000.0                         1.0   \n",
       "4                        500000.0                         1.0   \n",
       "\n",
       "   Application Login year  Application Login month  Application Login day  \\\n",
       "0                    18.0                      1.0                    1.0   \n",
       "1                    18.0                     12.0                   28.0   \n",
       "2                    18.0                      3.0                    1.0   \n",
       "3                    18.0                      3.0                   28.0   \n",
       "4                    18.0                      3.0                   30.0   \n",
       "\n",
       "   Mapped Agent city  Applicant's Policy Contract city  Target  \\\n",
       "0               10.0                              13.0     1.0   \n",
       "1               10.0                              13.0     1.0   \n",
       "2               10.0                              13.0     1.0   \n",
       "3               10.0                              13.0     1.0   \n",
       "4                4.0                               4.0     1.0   \n",
       "\n",
       "   smoker_drinker  Perf+vintage  \n",
       "0             0.0        962.16  \n",
       "1             0.0        320.72  \n",
       "2             0.0        721.62  \n",
       "3             0.0        881.98  \n",
       "4             0.0        801.80  \n",
       "\n",
       "[5 rows x 38 columns]"
      ]
     },
     "execution_count": 165,
     "metadata": {},
     "output_type": "execute_result"
    }
   ],
   "source": [
    "clusterCentroidsDf"
   ]
  },
  {
   "cell_type": "code",
   "execution_count": 188,
   "metadata": {},
   "outputs": [
    {
     "name": "stdout",
     "output_type": "stream",
     "text": [
      "Init: initializing centroids\n",
      "Init: initializing clusters\n",
      "Starting iterations...\n",
      "Run 1, iteration: 1/100, moves: 7944, cost: 419986.0\n",
      "Run 1, iteration: 2/100, moves: 99, cost: 419986.0\n"
     ]
    }
   ],
   "source": [
    "km_huang = KModes(n_clusters=5, init = \"Huang\", n_init = 1, verbose=1)\n",
    "fitClusters_huang = km_huang.fit_predict(df)"
   ]
  },
  {
   "cell_type": "code",
   "execution_count": 189,
   "metadata": {},
   "outputs": [
    {
     "data": {
      "text/plain": [
       "array([2, 1, 0, ..., 0, 3, 0], dtype=uint16)"
      ]
     },
     "execution_count": 189,
     "metadata": {},
     "output_type": "execute_result"
    }
   ],
   "source": [
    "# Predicted clusters\n",
    "fitClusters_huang"
   ]
  },
  {
   "cell_type": "code",
   "execution_count": 190,
   "metadata": {},
   "outputs": [],
   "source": [
    "clusterCentroidsDf = pd.DataFrame(km_huang.cluster_centroids_)\n",
    "clusterCentroidsDf.columns = df.columns"
   ]
  },
  {
   "cell_type": "code",
   "execution_count": 191,
   "metadata": {
    "scrolled": true
   },
   "outputs": [
    {
     "data": {
      "text/html": [
       "<div>\n",
       "<style scoped>\n",
       "    .dataframe tbody tr th:only-of-type {\n",
       "        vertical-align: middle;\n",
       "    }\n",
       "\n",
       "    .dataframe tbody tr th {\n",
       "        vertical-align: top;\n",
       "    }\n",
       "\n",
       "    .dataframe thead th {\n",
       "        text-align: right;\n",
       "    }\n",
       "</style>\n",
       "<table border=\"1\" class=\"dataframe\">\n",
       "  <thead>\n",
       "    <tr style=\"text-align: right;\">\n",
       "      <th></th>\n",
       "      <th>Mapped Agent 13M Persistency</th>\n",
       "      <th>Applicant's Policy Annualized Premium</th>\n",
       "      <th>Mapped Agent Vintage</th>\n",
       "      <th>Auto Debit of Premium Opted Flag(Yes/No)</th>\n",
       "      <th>Application Life Assured BMI</th>\n",
       "      <th>Total Risk Exposure of HDFC Life w.r.t. Life Assured</th>\n",
       "      <th>Application  Sourcing Channel</th>\n",
       "      <th>Application  Life Assured City</th>\n",
       "      <th>Application  Life Assured City Tier</th>\n",
       "      <th>Application  Life Assured Age</th>\n",
       "      <th>...</th>\n",
       "      <th>Applicant's Policy Sum Assured</th>\n",
       "      <th>HDFC Life Operational Zone</th>\n",
       "      <th>Application Login year</th>\n",
       "      <th>Application Login month</th>\n",
       "      <th>Application Login day</th>\n",
       "      <th>Mapped Agent city</th>\n",
       "      <th>Applicant's Policy Contract city</th>\n",
       "      <th>Target</th>\n",
       "      <th>smoker_drinker</th>\n",
       "      <th>Perf+vintage</th>\n",
       "    </tr>\n",
       "  </thead>\n",
       "  <tbody>\n",
       "    <tr>\n",
       "      <th>0</th>\n",
       "      <td>80.18</td>\n",
       "      <td>50000.0</td>\n",
       "      <td>8.0</td>\n",
       "      <td>1.0</td>\n",
       "      <td>2.0</td>\n",
       "      <td>500000.0</td>\n",
       "      <td>2.0</td>\n",
       "      <td>10.0</td>\n",
       "      <td>1.0</td>\n",
       "      <td>2.0</td>\n",
       "      <td>...</td>\n",
       "      <td>1000000.0</td>\n",
       "      <td>5.0</td>\n",
       "      <td>18.0</td>\n",
       "      <td>12.0</td>\n",
       "      <td>1.0</td>\n",
       "      <td>10.0</td>\n",
       "      <td>13.0</td>\n",
       "      <td>1.0</td>\n",
       "      <td>0.0</td>\n",
       "      <td>641.44</td>\n",
       "    </tr>\n",
       "    <tr>\n",
       "      <th>1</th>\n",
       "      <td>80.18</td>\n",
       "      <td>25000.0</td>\n",
       "      <td>18.0</td>\n",
       "      <td>1.0</td>\n",
       "      <td>2.0</td>\n",
       "      <td>250000.0</td>\n",
       "      <td>2.0</td>\n",
       "      <td>10.0</td>\n",
       "      <td>2.0</td>\n",
       "      <td>1.0</td>\n",
       "      <td>...</td>\n",
       "      <td>500000.0</td>\n",
       "      <td>2.0</td>\n",
       "      <td>18.0</td>\n",
       "      <td>12.0</td>\n",
       "      <td>29.0</td>\n",
       "      <td>10.0</td>\n",
       "      <td>13.0</td>\n",
       "      <td>1.0</td>\n",
       "      <td>0.0</td>\n",
       "      <td>962.16</td>\n",
       "    </tr>\n",
       "    <tr>\n",
       "      <th>2</th>\n",
       "      <td>80.18</td>\n",
       "      <td>100000.0</td>\n",
       "      <td>12.0</td>\n",
       "      <td>1.0</td>\n",
       "      <td>2.0</td>\n",
       "      <td>5000000.0</td>\n",
       "      <td>2.0</td>\n",
       "      <td>2.0</td>\n",
       "      <td>0.0</td>\n",
       "      <td>3.0</td>\n",
       "      <td>...</td>\n",
       "      <td>5000000.0</td>\n",
       "      <td>3.0</td>\n",
       "      <td>18.0</td>\n",
       "      <td>3.0</td>\n",
       "      <td>30.0</td>\n",
       "      <td>3.0</td>\n",
       "      <td>3.0</td>\n",
       "      <td>1.0</td>\n",
       "      <td>0.0</td>\n",
       "      <td>962.16</td>\n",
       "    </tr>\n",
       "    <tr>\n",
       "      <th>3</th>\n",
       "      <td>80.18</td>\n",
       "      <td>50000.0</td>\n",
       "      <td>11.0</td>\n",
       "      <td>0.0</td>\n",
       "      <td>2.0</td>\n",
       "      <td>500000.0</td>\n",
       "      <td>2.0</td>\n",
       "      <td>10.0</td>\n",
       "      <td>2.0</td>\n",
       "      <td>3.0</td>\n",
       "      <td>...</td>\n",
       "      <td>1000000.0</td>\n",
       "      <td>1.0</td>\n",
       "      <td>18.0</td>\n",
       "      <td>1.0</td>\n",
       "      <td>1.0</td>\n",
       "      <td>10.0</td>\n",
       "      <td>13.0</td>\n",
       "      <td>1.0</td>\n",
       "      <td>0.0</td>\n",
       "      <td>881.98</td>\n",
       "    </tr>\n",
       "    <tr>\n",
       "      <th>4</th>\n",
       "      <td>80.18</td>\n",
       "      <td>30000.0</td>\n",
       "      <td>7.0</td>\n",
       "      <td>1.0</td>\n",
       "      <td>2.0</td>\n",
       "      <td>300000.0</td>\n",
       "      <td>2.0</td>\n",
       "      <td>10.0</td>\n",
       "      <td>2.0</td>\n",
       "      <td>1.0</td>\n",
       "      <td>...</td>\n",
       "      <td>300000.0</td>\n",
       "      <td>0.0</td>\n",
       "      <td>18.0</td>\n",
       "      <td>3.0</td>\n",
       "      <td>21.0</td>\n",
       "      <td>10.0</td>\n",
       "      <td>13.0</td>\n",
       "      <td>1.0</td>\n",
       "      <td>0.0</td>\n",
       "      <td>561.26</td>\n",
       "    </tr>\n",
       "  </tbody>\n",
       "</table>\n",
       "<p>5 rows × 38 columns</p>\n",
       "</div>"
      ],
      "text/plain": [
       "   Mapped Agent 13M Persistency  Applicant's Policy Annualized Premium  \\\n",
       "0                         80.18                                50000.0   \n",
       "1                         80.18                                25000.0   \n",
       "2                         80.18                               100000.0   \n",
       "3                         80.18                                50000.0   \n",
       "4                         80.18                                30000.0   \n",
       "\n",
       "   Mapped Agent Vintage  Auto Debit of Premium Opted Flag(Yes/No)  \\\n",
       "0                   8.0                                       1.0   \n",
       "1                  18.0                                       1.0   \n",
       "2                  12.0                                       1.0   \n",
       "3                  11.0                                       0.0   \n",
       "4                   7.0                                       1.0   \n",
       "\n",
       "   Application Life Assured BMI  \\\n",
       "0                           2.0   \n",
       "1                           2.0   \n",
       "2                           2.0   \n",
       "3                           2.0   \n",
       "4                           2.0   \n",
       "\n",
       "   Total Risk Exposure of HDFC Life w.r.t. Life Assured  \\\n",
       "0                                           500000.0      \n",
       "1                                           250000.0      \n",
       "2                                          5000000.0      \n",
       "3                                           500000.0      \n",
       "4                                           300000.0      \n",
       "\n",
       "   Application  Sourcing Channel  Application  Life Assured City  \\\n",
       "0                            2.0                            10.0   \n",
       "1                            2.0                            10.0   \n",
       "2                            2.0                             2.0   \n",
       "3                            2.0                            10.0   \n",
       "4                            2.0                            10.0   \n",
       "\n",
       "   Application  Life Assured City Tier  Application  Life Assured Age  ...  \\\n",
       "0                                  1.0                            2.0  ...   \n",
       "1                                  2.0                            1.0  ...   \n",
       "2                                  0.0                            3.0  ...   \n",
       "3                                  2.0                            3.0  ...   \n",
       "4                                  2.0                            1.0  ...   \n",
       "\n",
       "   Applicant's Policy Sum Assured  HDFC Life Operational Zone  \\\n",
       "0                       1000000.0                         5.0   \n",
       "1                        500000.0                         2.0   \n",
       "2                       5000000.0                         3.0   \n",
       "3                       1000000.0                         1.0   \n",
       "4                        300000.0                         0.0   \n",
       "\n",
       "   Application Login year  Application Login month  Application Login day  \\\n",
       "0                    18.0                     12.0                    1.0   \n",
       "1                    18.0                     12.0                   29.0   \n",
       "2                    18.0                      3.0                   30.0   \n",
       "3                    18.0                      1.0                    1.0   \n",
       "4                    18.0                      3.0                   21.0   \n",
       "\n",
       "   Mapped Agent city  Applicant's Policy Contract city  Target  \\\n",
       "0               10.0                              13.0     1.0   \n",
       "1               10.0                              13.0     1.0   \n",
       "2                3.0                               3.0     1.0   \n",
       "3               10.0                              13.0     1.0   \n",
       "4               10.0                              13.0     1.0   \n",
       "\n",
       "   smoker_drinker  Perf+vintage  \n",
       "0             0.0        641.44  \n",
       "1             0.0        962.16  \n",
       "2             0.0        962.16  \n",
       "3             0.0        881.98  \n",
       "4             0.0        561.26  \n",
       "\n",
       "[5 rows x 38 columns]"
      ]
     },
     "execution_count": 191,
     "metadata": {},
     "output_type": "execute_result"
    }
   ],
   "source": [
    "clusterCentroidsDf"
   ]
  },
  {
   "cell_type": "code",
   "execution_count": 417,
   "metadata": {},
   "outputs": [],
   "source": [
    "NP = df[df['Target'] == 0]"
   ]
  },
  {
   "cell_type": "code",
   "execution_count": 418,
   "metadata": {},
   "outputs": [],
   "source": [
    "P = df[df['Target'] == 1]"
   ]
  },
  {
   "cell_type": "code",
   "execution_count": 419,
   "metadata": {},
   "outputs": [],
   "source": [
    "NP = NP.drop('Target',axis = 1)"
   ]
  },
  {
   "cell_type": "code",
   "execution_count": 420,
   "metadata": {},
   "outputs": [],
   "source": [
    "P = P.drop('Target',axis = 1)"
   ]
  },
  {
   "cell_type": "code",
   "execution_count": 401,
   "metadata": {},
   "outputs": [
    {
     "data": {
      "text/plain": [
       "Index(['Mapped Agent 13M Persistency', 'Applicant's Policy Annualized Premium',\n",
       "       'Mapped Agent Vintage', 'Auto Debit of Premium Opted Flag(Yes/No)',\n",
       "       'Application Life Assured BMI',\n",
       "       'Total Risk Exposure of HDFC Life w.r.t. Life Assured',\n",
       "       'Application  Sourcing Channel', 'Application  Life Assured City',\n",
       "       'Application  Life Assured City Tier', 'Application  Life Assured Age',\n",
       "       'Application  Life Assured Education',\n",
       "       'Application  Life Assured Gender', 'Application  Life Assured Income',\n",
       "       'Application  Life Assured Industry',\n",
       "       'Application  Life Assured Marital Status',\n",
       "       'Application  Life Assured Occupation',\n",
       "       'Applicant's Policy PAR/NON PAR/ULIP Tag',\n",
       "       'Application Specific Sourcing Partner', 'First Premium Payment Type',\n",
       "       'Applicant's Policy Product Category',\n",
       "       'Applicant's Policy Premium Payment Frequency',\n",
       "       'Applicant's Policy Product Name',\n",
       "       'Applicant's Policy Price Sensitivity(1-'Yes', 0-'No')',\n",
       "       'Application Life Assured Residential Status',\n",
       "       'Applicant's Policy Risk Cessation Term',\n",
       "       'Applicant's Policy Rider Opted Flag(1-'Yes', 0-'No')',\n",
       "       'Application Life Assured State', 'Application Sourcing Sub Channel',\n",
       "       'Applicant's Policy Sum Assured', 'HDFC Life Operational Zone',\n",
       "       'Application Login year', 'Application Login month',\n",
       "       'Application Login day', 'Mapped Agent city',\n",
       "       'Applicant's Policy Contract city', 'Target', 'smoker_drinker'],\n",
       "      dtype='object')"
      ]
     },
     "execution_count": 401,
     "metadata": {},
     "output_type": "execute_result"
    }
   ],
   "source": [
    "df.columns"
   ]
  },
  {
   "cell_type": "code",
   "execution_count": 430,
   "metadata": {},
   "outputs": [],
   "source": [
    "a = []\n",
    "b = []"
   ]
  },
  {
   "cell_type": "code",
   "execution_count": 431,
   "metadata": {},
   "outputs": [],
   "source": [
    "for i in range(len(P.columns)):\n",
    "        a.append(NP.iloc[:,i].mean())"
   ]
  },
  {
   "cell_type": "code",
   "execution_count": 432,
   "metadata": {},
   "outputs": [],
   "source": [
    "for j in range(len(P.columns)):\n",
    "        b.append(P.iloc[:,j].mean())"
   ]
  },
  {
   "cell_type": "code",
   "execution_count": 433,
   "metadata": {},
   "outputs": [],
   "source": [
    "dx = pd.DataFrame()"
   ]
  },
  {
   "cell_type": "code",
   "execution_count": 434,
   "metadata": {},
   "outputs": [
    {
     "data": {
      "text/plain": [
       "36"
      ]
     },
     "execution_count": 434,
     "metadata": {},
     "output_type": "execute_result"
    }
   ],
   "source": [
    "len(a)"
   ]
  },
  {
   "cell_type": "code",
   "execution_count": 435,
   "metadata": {},
   "outputs": [],
   "source": [
    "dx['NP'] = a"
   ]
  },
  {
   "cell_type": "code",
   "execution_count": 436,
   "metadata": {},
   "outputs": [],
   "source": [
    "dx['P'] = b"
   ]
  },
  {
   "cell_type": "code",
   "execution_count": 437,
   "metadata": {},
   "outputs": [],
   "source": [
    "dx.index = P.columns"
   ]
  },
  {
   "cell_type": "code",
   "execution_count": 438,
   "metadata": {},
   "outputs": [
    {
     "data": {
      "text/html": [
       "<div>\n",
       "<style scoped>\n",
       "    .dataframe tbody tr th:only-of-type {\n",
       "        vertical-align: middle;\n",
       "    }\n",
       "\n",
       "    .dataframe tbody tr th {\n",
       "        vertical-align: top;\n",
       "    }\n",
       "\n",
       "    .dataframe thead th {\n",
       "        text-align: right;\n",
       "    }\n",
       "</style>\n",
       "<table border=\"1\" class=\"dataframe\">\n",
       "  <thead>\n",
       "    <tr style=\"text-align: right;\">\n",
       "      <th></th>\n",
       "      <th>NP</th>\n",
       "      <th>P</th>\n",
       "    </tr>\n",
       "  </thead>\n",
       "  <tbody>\n",
       "    <tr>\n",
       "      <th>Mapped Agent 13M Persistency</th>\n",
       "      <td>7.634366e+01</td>\n",
       "      <td>7.822451e+01</td>\n",
       "    </tr>\n",
       "    <tr>\n",
       "      <th>Applicant's Policy Annualized Premium</th>\n",
       "      <td>5.613681e+04</td>\n",
       "      <td>6.617417e+04</td>\n",
       "    </tr>\n",
       "    <tr>\n",
       "      <th>Mapped Agent Vintage</th>\n",
       "      <td>2.279722e+01</td>\n",
       "      <td>2.484416e+01</td>\n",
       "    </tr>\n",
       "    <tr>\n",
       "      <th>Auto Debit of Premium Opted Flag(Yes/No)</th>\n",
       "      <td>9.809167e-02</td>\n",
       "      <td>7.420991e-01</td>\n",
       "    </tr>\n",
       "    <tr>\n",
       "      <th>Application Life Assured BMI</th>\n",
       "      <td>2.399857e+00</td>\n",
       "      <td>2.411911e+00</td>\n",
       "    </tr>\n",
       "    <tr>\n",
       "      <th>Total Risk Exposure of HDFC Life w.r.t. Life Assured</th>\n",
       "      <td>1.571289e+06</td>\n",
       "      <td>1.974444e+06</td>\n",
       "    </tr>\n",
       "    <tr>\n",
       "      <th>Application  Sourcing Channel</th>\n",
       "      <td>1.932049e+00</td>\n",
       "      <td>1.891949e+00</td>\n",
       "    </tr>\n",
       "    <tr>\n",
       "      <th>Application  Life Assured City</th>\n",
       "      <td>9.114678e+00</td>\n",
       "      <td>8.857049e+00</td>\n",
       "    </tr>\n",
       "    <tr>\n",
       "      <th>Application  Life Assured City Tier</th>\n",
       "      <td>1.337792e+00</td>\n",
       "      <td>1.199564e+00</td>\n",
       "    </tr>\n",
       "    <tr>\n",
       "      <th>Application  Life Assured Age</th>\n",
       "      <td>1.611557e+00</td>\n",
       "      <td>1.541572e+00</td>\n",
       "    </tr>\n",
       "    <tr>\n",
       "      <th>Application  Life Assured Education</th>\n",
       "      <td>3.057963e+00</td>\n",
       "      <td>3.092426e+00</td>\n",
       "    </tr>\n",
       "    <tr>\n",
       "      <th>Application  Life Assured Gender</th>\n",
       "      <td>8.175495e-01</td>\n",
       "      <td>7.573175e-01</td>\n",
       "    </tr>\n",
       "    <tr>\n",
       "      <th>Application  Life Assured Income</th>\n",
       "      <td>7.986899e+05</td>\n",
       "      <td>9.977193e+05</td>\n",
       "    </tr>\n",
       "    <tr>\n",
       "      <th>Application  Life Assured Industry</th>\n",
       "      <td>6.962904e+00</td>\n",
       "      <td>7.340182e+00</td>\n",
       "    </tr>\n",
       "    <tr>\n",
       "      <th>Application  Life Assured Marital Status</th>\n",
       "      <td>1.151061e+00</td>\n",
       "      <td>1.142647e+00</td>\n",
       "    </tr>\n",
       "    <tr>\n",
       "      <th>Application  Life Assured Occupation</th>\n",
       "      <td>3.197788e+00</td>\n",
       "      <td>3.242784e+00</td>\n",
       "    </tr>\n",
       "    <tr>\n",
       "      <th>Applicant's Policy PAR/NON PAR/ULIP Tag</th>\n",
       "      <td>1.562868e+00</td>\n",
       "      <td>1.606300e+00</td>\n",
       "    </tr>\n",
       "    <tr>\n",
       "      <th>Application Specific Sourcing Partner</th>\n",
       "      <td>4.807544e+01</td>\n",
       "      <td>4.628545e+01</td>\n",
       "    </tr>\n",
       "    <tr>\n",
       "      <th>First Premium Payment Type</th>\n",
       "      <td>3.373462e+00</td>\n",
       "      <td>3.160199e+00</td>\n",
       "    </tr>\n",
       "    <tr>\n",
       "      <th>Applicant's Policy Product Category</th>\n",
       "      <td>1.526485e+00</td>\n",
       "      <td>1.398214e+00</td>\n",
       "    </tr>\n",
       "    <tr>\n",
       "      <th>Applicant's Policy Premium Payment Frequency</th>\n",
       "      <td>8.043517e-02</td>\n",
       "      <td>1.604525e-01</td>\n",
       "    </tr>\n",
       "    <tr>\n",
       "      <th>Applicant's Policy Product Name</th>\n",
       "      <td>8.398966e+00</td>\n",
       "      <td>8.087912e+00</td>\n",
       "    </tr>\n",
       "    <tr>\n",
       "      <th>Applicant's Policy Price Sensitivity(1-'Yes', 0-'No')</th>\n",
       "      <td>9.559479e-02</td>\n",
       "      <td>1.075432e-01</td>\n",
       "    </tr>\n",
       "    <tr>\n",
       "      <th>Application Life Assured Residential Status</th>\n",
       "      <td>1.000000e+00</td>\n",
       "      <td>9.993913e-01</td>\n",
       "    </tr>\n",
       "    <tr>\n",
       "      <th>Applicant's Policy Risk Cessation Term</th>\n",
       "      <td>1.337489e+01</td>\n",
       "      <td>1.357449e+01</td>\n",
       "    </tr>\n",
       "    <tr>\n",
       "      <th>Applicant's Policy Rider Opted Flag(1-'Yes', 0-'No')</th>\n",
       "      <td>5.664348e-01</td>\n",
       "      <td>5.041343e-01</td>\n",
       "    </tr>\n",
       "    <tr>\n",
       "      <th>Application Life Assured State</th>\n",
       "      <td>6.827894e+00</td>\n",
       "      <td>6.478973e+00</td>\n",
       "    </tr>\n",
       "    <tr>\n",
       "      <th>Application Sourcing Sub Channel</th>\n",
       "      <td>2.081684e+00</td>\n",
       "      <td>1.812307e+00</td>\n",
       "    </tr>\n",
       "    <tr>\n",
       "      <th>Applicant's Policy Sum Assured</th>\n",
       "      <td>1.579807e+06</td>\n",
       "      <td>1.885690e+06</td>\n",
       "    </tr>\n",
       "    <tr>\n",
       "      <th>HDFC Life Operational Zone</th>\n",
       "      <td>2.320314e+00</td>\n",
       "      <td>2.508243e+00</td>\n",
       "    </tr>\n",
       "    <tr>\n",
       "      <th>Application Login year</th>\n",
       "      <td>1.805832e+01</td>\n",
       "      <td>1.804652e+01</td>\n",
       "    </tr>\n",
       "    <tr>\n",
       "      <th>Application Login month</th>\n",
       "      <td>6.312110e+00</td>\n",
       "      <td>6.293208e+00</td>\n",
       "    </tr>\n",
       "    <tr>\n",
       "      <th>Application Login day</th>\n",
       "      <td>1.711200e+01</td>\n",
       "      <td>1.738416e+01</td>\n",
       "    </tr>\n",
       "    <tr>\n",
       "      <th>Mapped Agent city</th>\n",
       "      <td>7.785090e+00</td>\n",
       "      <td>7.905545e+00</td>\n",
       "    </tr>\n",
       "    <tr>\n",
       "      <th>Applicant's Policy Contract city</th>\n",
       "      <td>9.911182e+00</td>\n",
       "      <td>9.839395e+00</td>\n",
       "    </tr>\n",
       "    <tr>\n",
       "      <th>smoker_drinker</th>\n",
       "      <td>3.531300e-02</td>\n",
       "      <td>3.170497e-02</td>\n",
       "    </tr>\n",
       "  </tbody>\n",
       "</table>\n",
       "</div>"
      ],
      "text/plain": [
       "                                                              NP             P\n",
       "Mapped Agent 13M Persistency                        7.634366e+01  7.822451e+01\n",
       "Applicant's Policy Annualized Premium               5.613681e+04  6.617417e+04\n",
       "Mapped Agent Vintage                                2.279722e+01  2.484416e+01\n",
       "Auto Debit of Premium Opted Flag(Yes/No)            9.809167e-02  7.420991e-01\n",
       "Application Life Assured BMI                        2.399857e+00  2.411911e+00\n",
       "Total Risk Exposure of HDFC Life w.r.t. Life As...  1.571289e+06  1.974444e+06\n",
       "Application  Sourcing Channel                       1.932049e+00  1.891949e+00\n",
       "Application  Life Assured City                      9.114678e+00  8.857049e+00\n",
       "Application  Life Assured City Tier                 1.337792e+00  1.199564e+00\n",
       "Application  Life Assured Age                       1.611557e+00  1.541572e+00\n",
       "Application  Life Assured Education                 3.057963e+00  3.092426e+00\n",
       "Application  Life Assured Gender                    8.175495e-01  7.573175e-01\n",
       "Application  Life Assured Income                    7.986899e+05  9.977193e+05\n",
       "Application  Life Assured Industry                  6.962904e+00  7.340182e+00\n",
       "Application  Life Assured Marital Status            1.151061e+00  1.142647e+00\n",
       "Application  Life Assured Occupation                3.197788e+00  3.242784e+00\n",
       "Applicant's Policy PAR/NON PAR/ULIP Tag             1.562868e+00  1.606300e+00\n",
       "Application Specific Sourcing Partner               4.807544e+01  4.628545e+01\n",
       "First Premium Payment Type                          3.373462e+00  3.160199e+00\n",
       "Applicant's Policy Product Category                 1.526485e+00  1.398214e+00\n",
       "Applicant's Policy Premium Payment Frequency        8.043517e-02  1.604525e-01\n",
       "Applicant's Policy Product Name                     8.398966e+00  8.087912e+00\n",
       "Applicant's Policy Price Sensitivity(1-'Yes', 0...  9.559479e-02  1.075432e-01\n",
       "Application Life Assured Residential Status         1.000000e+00  9.993913e-01\n",
       "Applicant's Policy Risk Cessation Term              1.337489e+01  1.357449e+01\n",
       "Applicant's Policy Rider Opted Flag(1-'Yes', 0-...  5.664348e-01  5.041343e-01\n",
       "Application Life Assured State                      6.827894e+00  6.478973e+00\n",
       "Application Sourcing Sub Channel                    2.081684e+00  1.812307e+00\n",
       "Applicant's Policy Sum Assured                      1.579807e+06  1.885690e+06\n",
       "HDFC Life Operational Zone                          2.320314e+00  2.508243e+00\n",
       "Application Login year                              1.805832e+01  1.804652e+01\n",
       "Application Login month                             6.312110e+00  6.293208e+00\n",
       "Application Login day                               1.711200e+01  1.738416e+01\n",
       "Mapped Agent city                                   7.785090e+00  7.905545e+00\n",
       "Applicant's Policy Contract city                    9.911182e+00  9.839395e+00\n",
       "smoker_drinker                                      3.531300e-02  3.170497e-02"
      ]
     },
     "execution_count": 438,
     "metadata": {},
     "output_type": "execute_result"
    }
   ],
   "source": [
    "dx"
   ]
  },
  {
   "cell_type": "code",
   "execution_count": 458,
   "metadata": {},
   "outputs": [],
   "source": [
    "dx['diff'] = dx['P'] - dx['NP']"
   ]
  },
  {
   "cell_type": "code",
   "execution_count": 459,
   "metadata": {},
   "outputs": [],
   "source": [
    "dx['diff'] = (dx['diff'] - dx['diff'].min())/(dx['diff'].max() - dx['diff'].min())"
   ]
  },
  {
   "cell_type": "code",
   "execution_count": 463,
   "metadata": {},
   "outputs": [
    {
     "data": {
      "text/plain": [
       "Mapped Agent 13M Persistency                             0.000009\n",
       "Applicant's Policy Annualized Premium                    0.024901\n",
       "Mapped Agent Vintage                                     0.000010\n",
       "Auto Debit of Premium Opted Flag(Yes/No)                 0.000006\n",
       "Application Life Assured BMI                             0.000004\n",
       "Total Risk Exposure of HDFC Life w.r.t. Life Assured     1.000000\n",
       "Application  Sourcing Channel                            0.000004\n",
       "Application  Life Assured City                           0.000004\n",
       "Application  Life Assured City Tier                      0.000004\n",
       "Application  Life Assured Age                            0.000004\n",
       "Application  Life Assured Education                      0.000005\n",
       "Application  Life Assured Gender                         0.000004\n",
       "Application  Life Assured Income                         0.493681\n",
       "Application  Life Assured Industry                       0.000005\n",
       "Application  Life Assured Marital Status                 0.000004\n",
       "Application  Life Assured Occupation                     0.000005\n",
       "Applicant's Policy PAR/NON PAR/ULIP Tag                  0.000005\n",
       "Application Specific Sourcing Partner                    0.000000\n",
       "First Premium Payment Type                               0.000004\n",
       "Applicant's Policy Product Category                      0.000004\n",
       "Applicant's Policy Premium Payment Frequency             0.000005\n",
       "Applicant's Policy Product Name                          0.000004\n",
       "Applicant's Policy Price Sensitivity(1-'Yes', 0-'No')    0.000004\n",
       "Application Life Assured Residential Status              0.000004\n",
       "Applicant's Policy Risk Cessation Term                   0.000005\n",
       "Applicant's Policy Rider Opted Flag(1-'Yes', 0-'No')     0.000004\n",
       "Application Life Assured State                           0.000004\n",
       "Application Sourcing Sub Channel                         0.000004\n",
       "Applicant's Policy Sum Assured                           0.758723\n",
       "HDFC Life Operational Zone                               0.000005\n",
       "Application Login year                                   0.000004\n",
       "Application Login month                                  0.000004\n",
       "Application Login day                                    0.000005\n",
       "Mapped Agent city                                        0.000005\n",
       "Applicant's Policy Contract city                         0.000004\n",
       "smoker_drinker                                           0.000004\n",
       "Name: diff, dtype: float64"
      ]
     },
     "execution_count": 463,
     "metadata": {},
     "output_type": "execute_result"
    }
   ],
   "source": [
    "dx['diff']"
   ]
  },
  {
   "cell_type": "code",
   "execution_count": 462,
   "metadata": {},
   "outputs": [
    {
     "data": {
      "image/png": "[encoded data removed]",
      "text/plain": [
       "<Figure size 1800x1080 with 1 Axes>"
      ]
     },
     "metadata": {
      "needs_background": "light"
     },
     "output_type": "display_data"
    }
   ],
   "source": [
    "dx['diff'].plot(kind = 'bar', figsize = (25,15) )\n",
    "plt.xticks(fontsize=20)\n",
    "plt.yticks(fontsize=20)\n",
    "plt.show()"
   ]
  },
  {
   "cell_type": "code",
   "execution_count": null,
   "metadata": {},
   "outputs": [],
   "source": []
  }
 ],
 "metadata": {
  "kernelspec": {
   "display_name": "Python 3",
   "language": "python",
   "name": "python3"
  },
  "language_info": {
   "codemirror_mode": {
    "name": "ipython",
    "version": 3
   },
   "file_extension": ".py",
   "mimetype": "text/x-python",
   "name": "python",
   "nbconvert_exporter": "python",
   "pygments_lexer": "ipython3",
   "version": "3.8.3"
  }
 },
 "nbformat": 4,
 "nbformat_minor": 4
}
