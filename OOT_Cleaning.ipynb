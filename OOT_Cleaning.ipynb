{
 "cells": [
  {
   "cell_type": "code",
   "execution_count": 296,
   "metadata": {},
   "outputs": [],
   "source": [
    "# Importing the required libraries\n",
    "import pandas as pd\n",
    "import numpy as np\n",
    "import matplotlib.pyplot as plt\n",
    "import seaborn as sns\n",
    "%matplotlib inline"
   ]
  },
  {
   "cell_type": "code",
   "execution_count": 297,
   "metadata": {},
   "outputs": [],
   "source": [
    "import warnings\n",
    "warnings.filterwarnings(\"ignore\")"
   ]
  },
  {
   "cell_type": "code",
   "execution_count": 299,
   "metadata": {},
   "outputs": [
    {
     "data": {
      "text/html": [
       "<div>\n",
       "<style scoped>\n",
       "    .dataframe tbody tr th:only-of-type {\n",
       "        vertical-align: middle;\n",
       "    }\n",
       "\n",
       "    .dataframe tbody tr th {\n",
       "        vertical-align: top;\n",
       "    }\n",
       "\n",
       "    .dataframe thead th {\n",
       "        text-align: right;\n",
       "    }\n",
       "</style>\n",
       "<table border=\"1\" class=\"dataframe\">\n",
       "  <thead>\n",
       "    <tr style=\"text-align: right;\">\n",
       "      <th></th>\n",
       "      <th>VAR1</th>\n",
       "      <th>VAR2</th>\n",
       "      <th>VAR3</th>\n",
       "      <th>VAR4</th>\n",
       "      <th>VAR5</th>\n",
       "      <th>VAR6</th>\n",
       "      <th>VAR7</th>\n",
       "      <th>VAR8</th>\n",
       "      <th>VAR9</th>\n",
       "      <th>VAR10</th>\n",
       "      <th>...</th>\n",
       "      <th>VAR28</th>\n",
       "      <th>VAR29</th>\n",
       "      <th>VAR30</th>\n",
       "      <th>VAR31</th>\n",
       "      <th>VAR32</th>\n",
       "      <th>VAR33</th>\n",
       "      <th>VAR34</th>\n",
       "      <th>VAR35</th>\n",
       "      <th>VAR36</th>\n",
       "      <th>VAR37</th>\n",
       "    </tr>\n",
       "  </thead>\n",
       "  <tbody>\n",
       "    <tr>\n",
       "      <th>0</th>\n",
       "      <td>19155698</td>\n",
       "      <td>NaN</td>\n",
       "      <td>Mumbai-Goregaon Branch</td>\n",
       "      <td>N</td>\n",
       "      <td>50000.0</td>\n",
       "      <td>4</td>\n",
       "      <td>Y</td>\n",
       "      <td>20.38157</td>\n",
       "      <td>2500000.0</td>\n",
       "      <td>HDFC BANK</td>\n",
       "      <td>...</td>\n",
       "      <td>23-03-2017</td>\n",
       "      <td>0</td>\n",
       "      <td>Resident Indian</td>\n",
       "      <td>10.0</td>\n",
       "      <td>no</td>\n",
       "      <td>N</td>\n",
       "      <td>Maharashtra</td>\n",
       "      <td>HDFC BANK</td>\n",
       "      <td>500000.0</td>\n",
       "      <td>West</td>\n",
       "    </tr>\n",
       "    <tr>\n",
       "      <th>1</th>\n",
       "      <td>19349593</td>\n",
       "      <td>0</td>\n",
       "      <td>Chennai - T Nagar</td>\n",
       "      <td>NaN</td>\n",
       "      <td>67455.0</td>\n",
       "      <td>17</td>\n",
       "      <td>N</td>\n",
       "      <td>NaN</td>\n",
       "      <td>327505.0</td>\n",
       "      <td>Brokers &amp; Small CA</td>\n",
       "      <td>...</td>\n",
       "      <td>06-06-2017</td>\n",
       "      <td>0</td>\n",
       "      <td>Resident Indian</td>\n",
       "      <td>10.0</td>\n",
       "      <td>yes</td>\n",
       "      <td>NaN</td>\n",
       "      <td>Karnataka</td>\n",
       "      <td>Brokers</td>\n",
       "      <td>377506.0</td>\n",
       "      <td>South 2</td>\n",
       "    </tr>\n",
       "    <tr>\n",
       "      <th>2</th>\n",
       "      <td>19236760</td>\n",
       "      <td>-</td>\n",
       "      <td>Ahmedabad Vastrapur Branch</td>\n",
       "      <td>NaN</td>\n",
       "      <td>24094.0</td>\n",
       "      <td>7</td>\n",
       "      <td>N</td>\n",
       "      <td>NaN</td>\n",
       "      <td>177268.0</td>\n",
       "      <td>Brokers &amp; Small CA</td>\n",
       "      <td>...</td>\n",
       "      <td>10-04-2017</td>\n",
       "      <td>0</td>\n",
       "      <td>Resident Indian</td>\n",
       "      <td>15.0</td>\n",
       "      <td>yes</td>\n",
       "      <td>NaN</td>\n",
       "      <td>Gujarat</td>\n",
       "      <td>Brokers</td>\n",
       "      <td>177269.0</td>\n",
       "      <td>West</td>\n",
       "    </tr>\n",
       "    <tr>\n",
       "      <th>3</th>\n",
       "      <td>19105772</td>\n",
       "      <td>0.8596</td>\n",
       "      <td>Pathankot - Dalhousie Road</td>\n",
       "      <td>N</td>\n",
       "      <td>50000.0</td>\n",
       "      <td>55</td>\n",
       "      <td>N</td>\n",
       "      <td>22.49135</td>\n",
       "      <td>500000.0</td>\n",
       "      <td>HDFC BANK</td>\n",
       "      <td>...</td>\n",
       "      <td>24-02-2017</td>\n",
       "      <td>0</td>\n",
       "      <td>Resident Indian</td>\n",
       "      <td>15.0</td>\n",
       "      <td>yes</td>\n",
       "      <td>N</td>\n",
       "      <td>Punjab</td>\n",
       "      <td>HDFC BANK</td>\n",
       "      <td>1000000.0</td>\n",
       "      <td>North 1</td>\n",
       "    </tr>\n",
       "    <tr>\n",
       "      <th>4</th>\n",
       "      <td>19610760</td>\n",
       "      <td>0.7824</td>\n",
       "      <td>Pune City Mall</td>\n",
       "      <td>N</td>\n",
       "      <td>50000.0</td>\n",
       "      <td>71</td>\n",
       "      <td>Y</td>\n",
       "      <td>22.72044</td>\n",
       "      <td>1500000.0</td>\n",
       "      <td>Ex-HDFC</td>\n",
       "      <td>...</td>\n",
       "      <td>09-09-2017</td>\n",
       "      <td>0</td>\n",
       "      <td>Resident Indian</td>\n",
       "      <td>10.0</td>\n",
       "      <td>no</td>\n",
       "      <td>N</td>\n",
       "      <td>Maharashtra</td>\n",
       "      <td>HDFC Sales</td>\n",
       "      <td>1500000.0</td>\n",
       "      <td>West</td>\n",
       "    </tr>\n",
       "  </tbody>\n",
       "</table>\n",
       "<p>5 rows × 37 columns</p>\n",
       "</div>"
      ],
      "text/plain": [
       "       VAR1    VAR2                        VAR3 VAR4     VAR5  VAR6 VAR7  \\\n",
       "0  19155698     NaN      Mumbai-Goregaon Branch    N  50000.0     4    Y   \n",
       "1  19349593       0           Chennai - T Nagar  NaN  67455.0    17    N   \n",
       "2  19236760       -  Ahmedabad Vastrapur Branch  NaN  24094.0     7    N   \n",
       "3  19105772  0.8596  Pathankot - Dalhousie Road    N  50000.0    55    N   \n",
       "4  19610760  0.7824              Pune City Mall    N  50000.0    71    Y   \n",
       "\n",
       "       VAR8       VAR9               VAR10  ...       VAR28 VAR29  \\\n",
       "0  20.38157  2500000.0           HDFC BANK  ...  23-03-2017     0   \n",
       "1       NaN   327505.0  Brokers & Small CA  ...  06-06-2017     0   \n",
       "2       NaN   177268.0  Brokers & Small CA  ...  10-04-2017     0   \n",
       "3  22.49135   500000.0           HDFC BANK  ...  24-02-2017     0   \n",
       "4  22.72044  1500000.0             Ex-HDFC  ...  09-09-2017     0   \n",
       "\n",
       "             VAR30  VAR31 VAR32 VAR33        VAR34       VAR35      VAR36  \\\n",
       "0  Resident Indian   10.0    no     N  Maharashtra   HDFC BANK   500000.0   \n",
       "1  Resident Indian   10.0   yes   NaN    Karnataka     Brokers   377506.0   \n",
       "2  Resident Indian   15.0   yes   NaN      Gujarat     Brokers   177269.0   \n",
       "3  Resident Indian   15.0   yes     N       Punjab   HDFC BANK  1000000.0   \n",
       "4  Resident Indian   10.0    no     N  Maharashtra  HDFC Sales  1500000.0   \n",
       "\n",
       "     VAR37  \n",
       "0     West  \n",
       "1  South 2  \n",
       "2     West  \n",
       "3  North 1  \n",
       "4     West  \n",
       "\n",
       "[5 rows x 37 columns]"
      ]
     },
     "execution_count": 299,
     "metadata": {},
     "output_type": "execute_result"
    }
   ],
   "source": [
    "df_train = pd.read_csv('Assignment_OOT_Data.csv')\n",
    "df_train.head()"
   ]
  },
  {
   "cell_type": "code",
   "execution_count": 300,
   "metadata": {},
   "outputs": [
    {
     "data": {
      "text/html": [
       "<div>\n",
       "<style scoped>\n",
       "    .dataframe tbody tr th:only-of-type {\n",
       "        vertical-align: middle;\n",
       "    }\n",
       "\n",
       "    .dataframe tbody tr th {\n",
       "        vertical-align: top;\n",
       "    }\n",
       "\n",
       "    .dataframe thead th {\n",
       "        text-align: right;\n",
       "    }\n",
       "</style>\n",
       "<table border=\"1\" class=\"dataframe\">\n",
       "  <thead>\n",
       "    <tr style=\"text-align: right;\">\n",
       "      <th></th>\n",
       "      <th>Variable Flag</th>\n",
       "      <th>Variable Detail</th>\n",
       "    </tr>\n",
       "  </thead>\n",
       "  <tbody>\n",
       "    <tr>\n",
       "      <th>0</th>\n",
       "      <td>VAR1</td>\n",
       "      <td>Masked Policy Identifier</td>\n",
       "    </tr>\n",
       "    <tr>\n",
       "      <th>1</th>\n",
       "      <td>VAR2</td>\n",
       "      <td>Mapped Agent 13M Persistency</td>\n",
       "    </tr>\n",
       "    <tr>\n",
       "      <th>2</th>\n",
       "      <td>VAR3</td>\n",
       "      <td>Mapped Agent Branch</td>\n",
       "    </tr>\n",
       "    <tr>\n",
       "      <th>3</th>\n",
       "      <td>VAR4</td>\n",
       "      <td>Application Life Assured Alcohol Declaration</td>\n",
       "    </tr>\n",
       "    <tr>\n",
       "      <th>4</th>\n",
       "      <td>VAR5</td>\n",
       "      <td>Applicant's Policy Annualized Premium</td>\n",
       "    </tr>\n",
       "  </tbody>\n",
       "</table>\n",
       "</div>"
      ],
      "text/plain": [
       "  Variable Flag                               Variable Detail\n",
       "0          VAR1                      Masked Policy Identifier\n",
       "1          VAR2                  Mapped Agent 13M Persistency\n",
       "2          VAR3                          Mapped Agent Branch \n",
       "3          VAR4  Application Life Assured Alcohol Declaration\n",
       "4          VAR5         Applicant's Policy Annualized Premium"
      ]
     },
     "execution_count": 300,
     "metadata": {},
     "output_type": "execute_result"
    }
   ],
   "source": [
    "dic = pd.read_excel('Assignment - Data_Dictionary.xlsx')\n",
    "dic.head()"
   ]
  },
  {
   "cell_type": "code",
   "execution_count": 301,
   "metadata": {},
   "outputs": [
    {
     "data": {
      "text/plain": [
       "Index(['VAR1', 'VAR2', 'VAR3', 'VAR4', 'VAR5', 'VAR6', 'VAR7', 'VAR8', 'VAR9',\n",
       "       'VAR10', 'VAR11', 'VAR12', 'VAR13', 'VAR14', 'VAR15', 'VAR16', 'VAR17',\n",
       "       'VAR18', 'VAR19', 'VAR20', 'VAR21', 'VAR22', 'VAR23', 'VAR24', 'VAR25',\n",
       "       'VAR26', 'VAR27', 'VAR28', 'VAR29', 'VAR30', 'VAR31', 'VAR32', 'VAR33',\n",
       "       'VAR34', 'VAR35', 'VAR36', 'VAR37'],\n",
       "      dtype='object')"
      ]
     },
     "execution_count": 301,
     "metadata": {},
     "output_type": "execute_result"
    }
   ],
   "source": [
    "df_train.columns"
   ]
  },
  {
   "cell_type": "code",
   "execution_count": 302,
   "metadata": {},
   "outputs": [],
   "source": [
    "df_train.columns = dic['Variable Detail']"
   ]
  },
  {
   "cell_type": "code",
   "execution_count": 303,
   "metadata": {},
   "outputs": [],
   "source": [
    "df = df_train.copy()"
   ]
  },
  {
   "cell_type": "code",
   "execution_count": 304,
   "metadata": {
    "scrolled": true
   },
   "outputs": [
    {
     "name": "stdout",
     "output_type": "stream",
     "text": [
      "<class 'pandas.core.frame.DataFrame'>\n",
      "RangeIndex: 30000 entries, 0 to 29999\n",
      "Data columns (total 37 columns):\n",
      " #   Column                                                 Non-Null Count  Dtype  \n",
      "---  ------                                                 --------------  -----  \n",
      " 0   Masked Policy Identifier                               30000 non-null  int64  \n",
      " 1   Mapped Agent 13M Persistency                           20205 non-null  object \n",
      " 2   Mapped Agent Branch                                    30000 non-null  object \n",
      " 3   Application Life Assured Alcohol Declaration           18526 non-null  object \n",
      " 4   Applicant's Policy Annualized Premium                  30000 non-null  float64\n",
      " 5   Mapped Agent Vintage                                   30000 non-null  int64  \n",
      " 6   Auto Debit of Premium Opted Flag(Yes/No)               30000 non-null  object \n",
      " 7   Application Life Assured BMI                           18526 non-null  float64\n",
      " 8   Total Risk Exposure of HDFC Life w.r.t. Life Assured   29968 non-null  float64\n",
      " 9   Application  Sourcing Channel                          30000 non-null  object \n",
      " 10  Application  Life Assured City                         29333 non-null  object \n",
      " 11  Applicant's  Policy Contract Branch                    30000 non-null  object \n",
      " 12  Application  Life Assured City Tier                    29329 non-null  object \n",
      " 13  Application  Life Assured Age                          30000 non-null  int64  \n",
      " 14  Application  Life Assured Education                    30000 non-null  object \n",
      " 15  Application  Life Assured Gender                       30000 non-null  object \n",
      " 16  Application  Life Assured Income                       28469 non-null  float64\n",
      " 17  Application  Life Assured Industry                     28486 non-null  object \n",
      " 18  Application  Life Assured Marital Status               30000 non-null  object \n",
      " 19  Application  Life Assured Nationality                  30000 non-null  object \n",
      " 20  Application  Life Assured Occupation                   29968 non-null  object \n",
      " 21  Applicant's Policy PAR/NON PAR/ULIP Tag                30000 non-null  object \n",
      " 22  Application Specific Sourcing Partner                  21488 non-null  object \n",
      " 23  First Premium Payment Type                             29521 non-null  object \n",
      " 24  Applicant's Policy Product Category                    30000 non-null  object \n",
      " 25  Applicant's Policy Premium Payment Frequency           30000 non-null  object \n",
      " 26  Applicant's Policy Product Name                        30000 non-null  object \n",
      " 27  Application Login Date                                 30000 non-null  object \n",
      " 28  Applicant's Policy Price Sensitivity(1-'Yes', 0-'No')  30000 non-null  int64  \n",
      " 29  Application Life Assured Residential Status            30000 non-null  object \n",
      " 30  Applicant's Policy Risk Cessation Term                 30000 non-null  float64\n",
      " 31  Applicant's Policy Rider Opted Flag(1-'Yes', 0-'No')   30000 non-null  object \n",
      " 32  Application Life Assured Smoker Declaration            18526 non-null  object \n",
      " 33  Application Life Assured State                         29333 non-null  object \n",
      " 34  Application Sourcing Sub Channel                       30000 non-null  object \n",
      " 35  Applicant's Policy Sum Assured                         30000 non-null  float64\n",
      " 36  HDFC Life Operational Zone                             21875 non-null  object \n",
      "dtypes: float64(6), int64(4), object(27)\n",
      "memory usage: 8.5+ MB\n"
     ]
    }
   ],
   "source": [
    "df.info()"
   ]
  },
  {
   "cell_type": "code",
   "execution_count": 305,
   "metadata": {},
   "outputs": [],
   "source": [
    "df['Mapped Agent 13M Persistency'][df['Mapped Agent 13M Persistency'] == '-'] = ''"
   ]
  },
  {
   "cell_type": "code",
   "execution_count": 306,
   "metadata": {},
   "outputs": [],
   "source": [
    "df['Mapped Agent 13M Persistency'] = df['Mapped Agent 13M Persistency'].apply(pd.to_numeric)"
   ]
  },
  {
   "cell_type": "code",
   "execution_count": 307,
   "metadata": {},
   "outputs": [],
   "source": [
    "df = df.drop('Masked Policy Identifier',axis =1)"
   ]
  },
  {
   "cell_type": "code",
   "execution_count": 308,
   "metadata": {
    "scrolled": false
   },
   "outputs": [
    {
     "data": {
      "text/plain": [
       "<matplotlib.axes._subplots.AxesSubplot at 0x2a7c8624250>"
      ]
     },
     "execution_count": 308,
     "metadata": {},
     "output_type": "execute_result"
    },
    {
     "data": {
      "image/png": "[encoded data removed]",
      "text/plain": [
       "<Figure size 1440x720 with 1 Axes>"
      ]
     },
     "metadata": {
      "needs_background": "light"
     },
     "output_type": "display_data"
    }
   ],
   "source": [
    "(df.isna().sum()/df.shape[0] * 100).plot(kind = 'bar',figsize=(20,10))"
   ]
  },
  {
   "cell_type": "code",
   "execution_count": 309,
   "metadata": {},
   "outputs": [
    {
     "data": {
      "text/plain": [
       "Variable Detail\n",
       "Mapped Agent 13M Persistency                            38.616667\n",
       "Application Life Assured Alcohol Declaration            38.246667\n",
       "Application Life Assured BMI                            38.246667\n",
       "Total Risk Exposure of HDFC Life w.r.t. Life Assured     0.106667\n",
       "Application  Life Assured City                           2.223333\n",
       "Application  Life Assured City Tier                      2.236667\n",
       "Application  Life Assured Income                         5.103333\n",
       "Application  Life Assured Industry                       5.046667\n",
       "Application  Life Assured Occupation                     0.106667\n",
       "Application Specific Sourcing Partner                   28.373333\n",
       "First Premium Payment Type                               1.596667\n",
       "Application Life Assured Smoker Declaration             38.246667\n",
       "Application Life Assured State                           2.223333\n",
       "HDFC Life Operational Zone                              27.083333\n",
       "dtype: float64"
      ]
     },
     "execution_count": 309,
     "metadata": {},
     "output_type": "execute_result"
    }
   ],
   "source": [
    "x = df.isna().sum()/df.shape[0] * 100\n",
    "x[x > 0.0]  # missing values"
   ]
  },
  {
   "cell_type": "code",
   "execution_count": 310,
   "metadata": {
    "scrolled": false
   },
   "outputs": [
    {
     "data": {
      "text/html": [
       "<div>\n",
       "<style scoped>\n",
       "    .dataframe tbody tr th:only-of-type {\n",
       "        vertical-align: middle;\n",
       "    }\n",
       "\n",
       "    .dataframe tbody tr th {\n",
       "        vertical-align: top;\n",
       "    }\n",
       "\n",
       "    .dataframe thead th {\n",
       "        text-align: right;\n",
       "    }\n",
       "</style>\n",
       "<table border=\"1\" class=\"dataframe\">\n",
       "  <thead>\n",
       "    <tr style=\"text-align: right;\">\n",
       "      <th>Variable Detail</th>\n",
       "      <th>Mapped Agent 13M Persistency</th>\n",
       "      <th>Applicant's Policy Annualized Premium</th>\n",
       "      <th>Mapped Agent Vintage</th>\n",
       "      <th>Application Life Assured BMI</th>\n",
       "      <th>Total Risk Exposure of HDFC Life w.r.t. Life Assured</th>\n",
       "      <th>Application  Life Assured Age</th>\n",
       "      <th>Application  Life Assured Income</th>\n",
       "      <th>Applicant's Policy Price Sensitivity(1-'Yes', 0-'No')</th>\n",
       "      <th>Applicant's Policy Risk Cessation Term</th>\n",
       "      <th>Applicant's Policy Sum Assured</th>\n",
       "    </tr>\n",
       "  </thead>\n",
       "  <tbody>\n",
       "    <tr>\n",
       "      <th>count</th>\n",
       "      <td>18415.000000</td>\n",
       "      <td>3.000000e+04</td>\n",
       "      <td>30000.000000</td>\n",
       "      <td>18526.000000</td>\n",
       "      <td>2.996800e+04</td>\n",
       "      <td>30000.000000</td>\n",
       "      <td>2.846900e+04</td>\n",
       "      <td>30000.000000</td>\n",
       "      <td>30000.000000</td>\n",
       "      <td>3.000000e+04</td>\n",
       "    </tr>\n",
       "    <tr>\n",
       "      <th>mean</th>\n",
       "      <td>0.809488</td>\n",
       "      <td>5.356715e+04</td>\n",
       "      <td>28.293300</td>\n",
       "      <td>24.243408</td>\n",
       "      <td>1.725513e+06</td>\n",
       "      <td>38.331133</td>\n",
       "      <td>8.347613e+05</td>\n",
       "      <td>0.112767</td>\n",
       "      <td>14.838067</td>\n",
       "      <td>1.730925e+06</td>\n",
       "    </tr>\n",
       "    <tr>\n",
       "      <th>std</th>\n",
       "      <td>0.179400</td>\n",
       "      <td>8.396050e+04</td>\n",
       "      <td>26.932954</td>\n",
       "      <td>8.128877</td>\n",
       "      <td>9.596186e+06</td>\n",
       "      <td>10.889636</td>\n",
       "      <td>4.369550e+06</td>\n",
       "      <td>0.316313</td>\n",
       "      <td>7.881631</td>\n",
       "      <td>5.442750e+06</td>\n",
       "    </tr>\n",
       "    <tr>\n",
       "      <th>min</th>\n",
       "      <td>0.000000</td>\n",
       "      <td>9.120000e+02</td>\n",
       "      <td>0.000000</td>\n",
       "      <td>0.781250</td>\n",
       "      <td>0.000000e+00</td>\n",
       "      <td>0.000000</td>\n",
       "      <td>0.000000e+00</td>\n",
       "      <td>0.000000</td>\n",
       "      <td>5.000000</td>\n",
       "      <td>0.000000e+00</td>\n",
       "    </tr>\n",
       "    <tr>\n",
       "      <th>25%</th>\n",
       "      <td>0.810100</td>\n",
       "      <td>2.400000e+04</td>\n",
       "      <td>10.000000</td>\n",
       "      <td>22.313280</td>\n",
       "      <td>2.000000e+05</td>\n",
       "      <td>31.000000</td>\n",
       "      <td>3.000000e+05</td>\n",
       "      <td>0.000000</td>\n",
       "      <td>10.000000</td>\n",
       "      <td>2.112290e+05</td>\n",
       "    </tr>\n",
       "    <tr>\n",
       "      <th>50%</th>\n",
       "      <td>0.830700</td>\n",
       "      <td>3.349300e+04</td>\n",
       "      <td>23.000000</td>\n",
       "      <td>23.875110</td>\n",
       "      <td>3.750000e+05</td>\n",
       "      <td>37.000000</td>\n",
       "      <td>5.000000e+05</td>\n",
       "      <td>0.000000</td>\n",
       "      <td>10.000000</td>\n",
       "      <td>4.514960e+05</td>\n",
       "    </tr>\n",
       "    <tr>\n",
       "      <th>75%</th>\n",
       "      <td>0.909900</td>\n",
       "      <td>5.000000e+04</td>\n",
       "      <td>34.000000</td>\n",
       "      <td>25.593740</td>\n",
       "      <td>9.999900e+05</td>\n",
       "      <td>46.000000</td>\n",
       "      <td>7.000000e+05</td>\n",
       "      <td>0.000000</td>\n",
       "      <td>16.000000</td>\n",
       "      <td>1.000000e+06</td>\n",
       "    </tr>\n",
       "    <tr>\n",
       "      <th>max</th>\n",
       "      <td>1.000000</td>\n",
       "      <td>5.000000e+06</td>\n",
       "      <td>203.000000</td>\n",
       "      <td>743.801650</td>\n",
       "      <td>1.000000e+09</td>\n",
       "      <td>66.000000</td>\n",
       "      <td>6.134701e+08</td>\n",
       "      <td>1.000000</td>\n",
       "      <td>65.000000</td>\n",
       "      <td>5.000000e+08</td>\n",
       "    </tr>\n",
       "  </tbody>\n",
       "</table>\n",
       "</div>"
      ],
      "text/plain": [
       "Variable Detail  Mapped Agent 13M Persistency  \\\n",
       "count                            18415.000000   \n",
       "mean                                 0.809488   \n",
       "std                                  0.179400   \n",
       "min                                  0.000000   \n",
       "25%                                  0.810100   \n",
       "50%                                  0.830700   \n",
       "75%                                  0.909900   \n",
       "max                                  1.000000   \n",
       "\n",
       "Variable Detail  Applicant's Policy Annualized Premium  Mapped Agent Vintage  \\\n",
       "count                                     3.000000e+04          30000.000000   \n",
       "mean                                      5.356715e+04             28.293300   \n",
       "std                                       8.396050e+04             26.932954   \n",
       "min                                       9.120000e+02              0.000000   \n",
       "25%                                       2.400000e+04             10.000000   \n",
       "50%                                       3.349300e+04             23.000000   \n",
       "75%                                       5.000000e+04             34.000000   \n",
       "max                                       5.000000e+06            203.000000   \n",
       "\n",
       "Variable Detail  Application Life Assured BMI  \\\n",
       "count                            18526.000000   \n",
       "mean                                24.243408   \n",
       "std                                  8.128877   \n",
       "min                                  0.781250   \n",
       "25%                                 22.313280   \n",
       "50%                                 23.875110   \n",
       "75%                                 25.593740   \n",
       "max                                743.801650   \n",
       "\n",
       "Variable Detail  Total Risk Exposure of HDFC Life w.r.t. Life Assured  \\\n",
       "count                                                 2.996800e+04      \n",
       "mean                                                  1.725513e+06      \n",
       "std                                                   9.596186e+06      \n",
       "min                                                   0.000000e+00      \n",
       "25%                                                   2.000000e+05      \n",
       "50%                                                   3.750000e+05      \n",
       "75%                                                   9.999900e+05      \n",
       "max                                                   1.000000e+09      \n",
       "\n",
       "Variable Detail  Application  Life Assured Age  \\\n",
       "count                             30000.000000   \n",
       "mean                                 38.331133   \n",
       "std                                  10.889636   \n",
       "min                                   0.000000   \n",
       "25%                                  31.000000   \n",
       "50%                                  37.000000   \n",
       "75%                                  46.000000   \n",
       "max                                  66.000000   \n",
       "\n",
       "Variable Detail  Application  Life Assured Income  \\\n",
       "count                                2.846900e+04   \n",
       "mean                                 8.347613e+05   \n",
       "std                                  4.369550e+06   \n",
       "min                                  0.000000e+00   \n",
       "25%                                  3.000000e+05   \n",
       "50%                                  5.000000e+05   \n",
       "75%                                  7.000000e+05   \n",
       "max                                  6.134701e+08   \n",
       "\n",
       "Variable Detail  Applicant's Policy Price Sensitivity(1-'Yes', 0-'No')  \\\n",
       "count                                                 30000.000000       \n",
       "mean                                                      0.112767       \n",
       "std                                                       0.316313       \n",
       "min                                                       0.000000       \n",
       "25%                                                       0.000000       \n",
       "50%                                                       0.000000       \n",
       "75%                                                       0.000000       \n",
       "max                                                       1.000000       \n",
       "\n",
       "Variable Detail  Applicant's Policy Risk Cessation Term  \\\n",
       "count                                      30000.000000   \n",
       "mean                                          14.838067   \n",
       "std                                            7.881631   \n",
       "min                                            5.000000   \n",
       "25%                                           10.000000   \n",
       "50%                                           10.000000   \n",
       "75%                                           16.000000   \n",
       "max                                           65.000000   \n",
       "\n",
       "Variable Detail  Applicant's Policy Sum Assured  \n",
       "count                              3.000000e+04  \n",
       "mean                               1.730925e+06  \n",
       "std                                5.442750e+06  \n",
       "min                                0.000000e+00  \n",
       "25%                                2.112290e+05  \n",
       "50%                                4.514960e+05  \n",
       "75%                                1.000000e+06  \n",
       "max                                5.000000e+08  "
      ]
     },
     "execution_count": 310,
     "metadata": {},
     "output_type": "execute_result"
    }
   ],
   "source": [
    "df.describe()"
   ]
  },
  {
   "cell_type": "code",
   "execution_count": 311,
   "metadata": {},
   "outputs": [],
   "source": [
    "# Categorical Columns in df\n",
    "df_cat = df[['Mapped Agent Branch ', 'Application Life Assured Alcohol Declaration',\n",
    "       'Auto Debit of Premium Opted Flag(Yes/No)',\n",
    "       'Application  Sourcing Channel', 'Application  Life Assured City',\n",
    "       'Applicant\\'s  Policy Contract Branch',\n",
    "       'Application  Life Assured Education',\n",
    "        'Application  Life Assured City Tier',\n",
    "       'Application  Life Assured Gender',\n",
    "       'Application  Life Assured Industry',\n",
    "       'Application  Life Assured Marital Status',\n",
    "       'Application  Life Assured Nationality',\n",
    "       'Application  Life Assured Occupation',\n",
    "       'Applicant\\'s Policy PAR/NON PAR/ULIP Tag',\n",
    "       'Application Specific Sourcing Partner', 'First Premium Payment Type',\n",
    "       'Applicant\\'s Policy Product Category',\n",
    "       'Applicant\\'s Policy Premium Payment Frequency',\n",
    "       'Applicant\\'s Policy Product Name', 'Application Login Date',\n",
    "       'Application Life Assured Residential Status',\n",
    "       'Application Life Assured Smoker Declaration',\n",
    "       'Application Life Assured State', 'Application Sourcing Sub Channel',\n",
    "       'HDFC Life Operational Zone']]"
   ]
  },
  {
   "cell_type": "code",
   "execution_count": 312,
   "metadata": {},
   "outputs": [],
   "source": [
    "df1 = df.drop(df_cat.columns, axis =1 )"
   ]
  },
  {
   "cell_type": "code",
   "execution_count": 313,
   "metadata": {},
   "outputs": [
    {
     "data": {
      "text/html": [
       "<div>\n",
       "<style scoped>\n",
       "    .dataframe tbody tr th:only-of-type {\n",
       "        vertical-align: middle;\n",
       "    }\n",
       "\n",
       "    .dataframe tbody tr th {\n",
       "        vertical-align: top;\n",
       "    }\n",
       "\n",
       "    .dataframe thead th {\n",
       "        text-align: right;\n",
       "    }\n",
       "</style>\n",
       "<table border=\"1\" class=\"dataframe\">\n",
       "  <thead>\n",
       "    <tr style=\"text-align: right;\">\n",
       "      <th>Variable Detail</th>\n",
       "      <th>Mapped Agent 13M Persistency</th>\n",
       "      <th>Applicant's Policy Annualized Premium</th>\n",
       "      <th>Mapped Agent Vintage</th>\n",
       "      <th>Application Life Assured BMI</th>\n",
       "      <th>Total Risk Exposure of HDFC Life w.r.t. Life Assured</th>\n",
       "      <th>Application  Life Assured Age</th>\n",
       "      <th>Application  Life Assured Income</th>\n",
       "      <th>Applicant's Policy Price Sensitivity(1-'Yes', 0-'No')</th>\n",
       "      <th>Applicant's Policy Risk Cessation Term</th>\n",
       "      <th>Applicant's Policy Rider Opted Flag(1-'Yes', 0-'No')</th>\n",
       "      <th>Applicant's Policy Sum Assured</th>\n",
       "    </tr>\n",
       "  </thead>\n",
       "  <tbody>\n",
       "    <tr>\n",
       "      <th>0</th>\n",
       "      <td>NaN</td>\n",
       "      <td>50000.0</td>\n",
       "      <td>4</td>\n",
       "      <td>20.38157</td>\n",
       "      <td>2500000.0</td>\n",
       "      <td>35</td>\n",
       "      <td>800000.0</td>\n",
       "      <td>0</td>\n",
       "      <td>10.0</td>\n",
       "      <td>no</td>\n",
       "      <td>500000.0</td>\n",
       "    </tr>\n",
       "    <tr>\n",
       "      <th>1</th>\n",
       "      <td>0.0000</td>\n",
       "      <td>67455.0</td>\n",
       "      <td>17</td>\n",
       "      <td>NaN</td>\n",
       "      <td>327505.0</td>\n",
       "      <td>33</td>\n",
       "      <td>300000.0</td>\n",
       "      <td>0</td>\n",
       "      <td>10.0</td>\n",
       "      <td>yes</td>\n",
       "      <td>377506.0</td>\n",
       "    </tr>\n",
       "    <tr>\n",
       "      <th>2</th>\n",
       "      <td>NaN</td>\n",
       "      <td>24094.0</td>\n",
       "      <td>7</td>\n",
       "      <td>NaN</td>\n",
       "      <td>177268.0</td>\n",
       "      <td>45</td>\n",
       "      <td>500000.0</td>\n",
       "      <td>0</td>\n",
       "      <td>15.0</td>\n",
       "      <td>yes</td>\n",
       "      <td>177269.0</td>\n",
       "    </tr>\n",
       "    <tr>\n",
       "      <th>3</th>\n",
       "      <td>0.8596</td>\n",
       "      <td>50000.0</td>\n",
       "      <td>55</td>\n",
       "      <td>22.49135</td>\n",
       "      <td>500000.0</td>\n",
       "      <td>37</td>\n",
       "      <td>1200000.0</td>\n",
       "      <td>0</td>\n",
       "      <td>15.0</td>\n",
       "      <td>yes</td>\n",
       "      <td>1000000.0</td>\n",
       "    </tr>\n",
       "    <tr>\n",
       "      <th>4</th>\n",
       "      <td>0.7824</td>\n",
       "      <td>50000.0</td>\n",
       "      <td>71</td>\n",
       "      <td>22.72044</td>\n",
       "      <td>1500000.0</td>\n",
       "      <td>43</td>\n",
       "      <td>3000000.0</td>\n",
       "      <td>0</td>\n",
       "      <td>10.0</td>\n",
       "      <td>no</td>\n",
       "      <td>1500000.0</td>\n",
       "    </tr>\n",
       "  </tbody>\n",
       "</table>\n",
       "</div>"
      ],
      "text/plain": [
       "Variable Detail  Mapped Agent 13M Persistency  \\\n",
       "0                                         NaN   \n",
       "1                                      0.0000   \n",
       "2                                         NaN   \n",
       "3                                      0.8596   \n",
       "4                                      0.7824   \n",
       "\n",
       "Variable Detail  Applicant's Policy Annualized Premium  Mapped Agent Vintage  \\\n",
       "0                                              50000.0                     4   \n",
       "1                                              67455.0                    17   \n",
       "2                                              24094.0                     7   \n",
       "3                                              50000.0                    55   \n",
       "4                                              50000.0                    71   \n",
       "\n",
       "Variable Detail  Application Life Assured BMI  \\\n",
       "0                                    20.38157   \n",
       "1                                         NaN   \n",
       "2                                         NaN   \n",
       "3                                    22.49135   \n",
       "4                                    22.72044   \n",
       "\n",
       "Variable Detail  Total Risk Exposure of HDFC Life w.r.t. Life Assured  \\\n",
       "0                                                        2500000.0      \n",
       "1                                                         327505.0      \n",
       "2                                                         177268.0      \n",
       "3                                                         500000.0      \n",
       "4                                                        1500000.0      \n",
       "\n",
       "Variable Detail  Application  Life Assured Age  \\\n",
       "0                                           35   \n",
       "1                                           33   \n",
       "2                                           45   \n",
       "3                                           37   \n",
       "4                                           43   \n",
       "\n",
       "Variable Detail  Application  Life Assured Income  \\\n",
       "0                                        800000.0   \n",
       "1                                        300000.0   \n",
       "2                                        500000.0   \n",
       "3                                       1200000.0   \n",
       "4                                       3000000.0   \n",
       "\n",
       "Variable Detail  Applicant's Policy Price Sensitivity(1-'Yes', 0-'No')  \\\n",
       "0                                                                0       \n",
       "1                                                                0       \n",
       "2                                                                0       \n",
       "3                                                                0       \n",
       "4                                                                0       \n",
       "\n",
       "Variable Detail  Applicant's Policy Risk Cessation Term  \\\n",
       "0                                                  10.0   \n",
       "1                                                  10.0   \n",
       "2                                                  15.0   \n",
       "3                                                  15.0   \n",
       "4                                                  10.0   \n",
       "\n",
       "Variable Detail Applicant's Policy Rider Opted Flag(1-'Yes', 0-'No')  \\\n",
       "0                                                               no     \n",
       "1                                                              yes     \n",
       "2                                                              yes     \n",
       "3                                                              yes     \n",
       "4                                                               no     \n",
       "\n",
       "Variable Detail  Applicant's Policy Sum Assured  \n",
       "0                                      500000.0  \n",
       "1                                      377506.0  \n",
       "2                                      177269.0  \n",
       "3                                     1000000.0  \n",
       "4                                     1500000.0  "
      ]
     },
     "execution_count": 313,
     "metadata": {},
     "output_type": "execute_result"
    }
   ],
   "source": [
    "df1.head()"
   ]
  },
  {
   "cell_type": "code",
   "execution_count": 314,
   "metadata": {},
   "outputs": [
    {
     "name": "stdout",
     "output_type": "stream",
     "text": [
      "<class 'pandas.core.frame.DataFrame'>\n",
      "RangeIndex: 30000 entries, 0 to 29999\n",
      "Data columns (total 11 columns):\n",
      " #   Column                                                 Non-Null Count  Dtype  \n",
      "---  ------                                                 --------------  -----  \n",
      " 0   Mapped Agent 13M Persistency                           18415 non-null  float64\n",
      " 1   Applicant's Policy Annualized Premium                  30000 non-null  float64\n",
      " 2   Mapped Agent Vintage                                   30000 non-null  int64  \n",
      " 3   Application Life Assured BMI                           18526 non-null  float64\n",
      " 4   Total Risk Exposure of HDFC Life w.r.t. Life Assured   29968 non-null  float64\n",
      " 5   Application  Life Assured Age                          30000 non-null  int64  \n",
      " 6   Application  Life Assured Income                       28469 non-null  float64\n",
      " 7   Applicant's Policy Price Sensitivity(1-'Yes', 0-'No')  30000 non-null  int64  \n",
      " 8   Applicant's Policy Risk Cessation Term                 30000 non-null  float64\n",
      " 9   Applicant's Policy Rider Opted Flag(1-'Yes', 0-'No')   30000 non-null  object \n",
      " 10  Applicant's Policy Sum Assured                         30000 non-null  float64\n",
      "dtypes: float64(7), int64(3), object(1)\n",
      "memory usage: 2.5+ MB\n"
     ]
    }
   ],
   "source": [
    "df1.info()"
   ]
  },
  {
   "cell_type": "code",
   "execution_count": 315,
   "metadata": {
    "scrolled": false
   },
   "outputs": [
    {
     "data": {
      "text/plain": [
       "Variable Detail\n",
       "Mapped Agent 13M Persistency                             11585\n",
       "Applicant's Policy Annualized Premium                        0\n",
       "Mapped Agent Vintage                                         0\n",
       "Application Life Assured BMI                             11474\n",
       "Total Risk Exposure of HDFC Life w.r.t. Life Assured        32\n",
       "Application  Life Assured Age                                0\n",
       "Application  Life Assured Income                          1531\n",
       "Applicant's Policy Price Sensitivity(1-'Yes', 0-'No')        0\n",
       "Applicant's Policy Risk Cessation Term                       0\n",
       "Applicant's Policy Rider Opted Flag(1-'Yes', 0-'No')         0\n",
       "Applicant's Policy Sum Assured                               0\n",
       "dtype: int64"
      ]
     },
     "execution_count": 315,
     "metadata": {},
     "output_type": "execute_result"
    }
   ],
   "source": [
    "df1.isna().sum()"
   ]
  },
  {
   "cell_type": "code",
   "execution_count": 316,
   "metadata": {},
   "outputs": [],
   "source": [
    "df1_miss = df1[['Mapped Agent 13M Persistency', 'Applicant\\'s Policy Annualized Premium',\n",
    "       'Mapped Agent Vintage', 'Application Life Assured BMI',\n",
    "       'Total Risk Exposure of HDFC Life w.r.t. Life Assured',\n",
    "       'Application  Life Assured Age', 'Application  Life Assured Income']]"
   ]
  },
  {
   "cell_type": "code",
   "execution_count": null,
   "metadata": {},
   "outputs": [],
   "source": []
  },
  {
   "cell_type": "markdown",
   "metadata": {},
   "source": [
    "## Numeric Missing Values handling "
   ]
  },
  {
   "cell_type": "code",
   "execution_count": 317,
   "metadata": {},
   "outputs": [
    {
     "data": {
      "text/plain": [
       "Index(['Mapped Agent 13M Persistency', 'Applicant's Policy Annualized Premium',\n",
       "       'Mapped Agent Vintage', 'Application Life Assured BMI',\n",
       "       'Total Risk Exposure of HDFC Life w.r.t. Life Assured',\n",
       "       'Application  Life Assured Age', 'Application  Life Assured Income'],\n",
       "      dtype='object', name='Variable Detail')"
      ]
     },
     "execution_count": 317,
     "metadata": {},
     "output_type": "execute_result"
    }
   ],
   "source": [
    "df1_miss.columns"
   ]
  },
  {
   "cell_type": "code",
   "execution_count": 318,
   "metadata": {},
   "outputs": [
    {
     "data": {
      "text/plain": [
       "(254,)"
      ]
     },
     "execution_count": 318,
     "metadata": {},
     "output_type": "execute_result"
    }
   ],
   "source": [
    "df['Mapped Agent 13M Persistency'][df['Mapped Agent 13M Persistency'] == 0.0].shape\n",
    "# 533 values have 0 values"
   ]
  },
  {
   "cell_type": "code",
   "execution_count": 319,
   "metadata": {
    "scrolled": true
   },
   "outputs": [],
   "source": [
    "df['Mapped Agent 13M Persistency'] =df['Mapped Agent 13M Persistency'].apply(lambda x: x * 100 if (x < 1.0) else x )"
   ]
  },
  {
   "cell_type": "code",
   "execution_count": 320,
   "metadata": {},
   "outputs": [
    {
     "data": {
      "text/plain": [
       "254"
      ]
     },
     "execution_count": 320,
     "metadata": {},
     "output_type": "execute_result"
    }
   ],
   "source": [
    "(df['Mapped Agent 13M Persistency'] < 1).sum()  # equal to 0"
   ]
  },
  {
   "cell_type": "code",
   "execution_count": 321,
   "metadata": {},
   "outputs": [
    {
     "data": {
      "text/plain": [
       "(7,)"
      ]
     },
     "execution_count": 321,
     "metadata": {},
     "output_type": "execute_result"
    }
   ],
   "source": [
    "df1_miss.columns.shape  # 28 columns have missing values"
   ]
  },
  {
   "cell_type": "code",
   "execution_count": 322,
   "metadata": {},
   "outputs": [
    {
     "data": {
      "text/plain": [
       "Variable Detail\n",
       "Mapped Agent 13M Persistency                            38.616667\n",
       "Applicant's Policy Annualized Premium                    0.000000\n",
       "Mapped Agent Vintage                                     0.000000\n",
       "Application Life Assured BMI                            38.246667\n",
       "Total Risk Exposure of HDFC Life w.r.t. Life Assured     0.106667\n",
       "Application  Life Assured Age                            0.000000\n",
       "Application  Life Assured Income                         5.103333\n",
       "dtype: float64"
      ]
     },
     "execution_count": 322,
     "metadata": {},
     "output_type": "execute_result"
    }
   ],
   "source": [
    "df1_miss.isna().sum()/df_train.shape[0] * 100"
   ]
  },
  {
   "cell_type": "code",
   "execution_count": 323,
   "metadata": {
    "scrolled": false
   },
   "outputs": [
    {
     "data": {
      "text/html": [
       "<div>\n",
       "<style scoped>\n",
       "    .dataframe tbody tr th:only-of-type {\n",
       "        vertical-align: middle;\n",
       "    }\n",
       "\n",
       "    .dataframe tbody tr th {\n",
       "        vertical-align: top;\n",
       "    }\n",
       "\n",
       "    .dataframe thead th {\n",
       "        text-align: right;\n",
       "    }\n",
       "</style>\n",
       "<table border=\"1\" class=\"dataframe\">\n",
       "  <thead>\n",
       "    <tr style=\"text-align: right;\">\n",
       "      <th>Variable Detail</th>\n",
       "      <th>Mapped Agent 13M Persistency</th>\n",
       "      <th>Applicant's Policy Annualized Premium</th>\n",
       "      <th>Mapped Agent Vintage</th>\n",
       "      <th>Application Life Assured BMI</th>\n",
       "      <th>Total Risk Exposure of HDFC Life w.r.t. Life Assured</th>\n",
       "      <th>Application  Life Assured Age</th>\n",
       "      <th>Application  Life Assured Income</th>\n",
       "    </tr>\n",
       "  </thead>\n",
       "  <tbody>\n",
       "    <tr>\n",
       "      <th>count</th>\n",
       "      <td>18415.000000</td>\n",
       "      <td>3.000000e+04</td>\n",
       "      <td>30000.000000</td>\n",
       "      <td>18526.000000</td>\n",
       "      <td>2.996800e+04</td>\n",
       "      <td>30000.000000</td>\n",
       "      <td>2.846900e+04</td>\n",
       "    </tr>\n",
       "    <tr>\n",
       "      <th>mean</th>\n",
       "      <td>0.809488</td>\n",
       "      <td>5.356715e+04</td>\n",
       "      <td>28.293300</td>\n",
       "      <td>24.243408</td>\n",
       "      <td>1.725513e+06</td>\n",
       "      <td>38.331133</td>\n",
       "      <td>8.347613e+05</td>\n",
       "    </tr>\n",
       "    <tr>\n",
       "      <th>std</th>\n",
       "      <td>0.179400</td>\n",
       "      <td>8.396050e+04</td>\n",
       "      <td>26.932954</td>\n",
       "      <td>8.128877</td>\n",
       "      <td>9.596186e+06</td>\n",
       "      <td>10.889636</td>\n",
       "      <td>4.369550e+06</td>\n",
       "    </tr>\n",
       "    <tr>\n",
       "      <th>min</th>\n",
       "      <td>0.000000</td>\n",
       "      <td>9.120000e+02</td>\n",
       "      <td>0.000000</td>\n",
       "      <td>0.781250</td>\n",
       "      <td>0.000000e+00</td>\n",
       "      <td>0.000000</td>\n",
       "      <td>0.000000e+00</td>\n",
       "    </tr>\n",
       "    <tr>\n",
       "      <th>25%</th>\n",
       "      <td>0.810100</td>\n",
       "      <td>2.400000e+04</td>\n",
       "      <td>10.000000</td>\n",
       "      <td>22.313280</td>\n",
       "      <td>2.000000e+05</td>\n",
       "      <td>31.000000</td>\n",
       "      <td>3.000000e+05</td>\n",
       "    </tr>\n",
       "    <tr>\n",
       "      <th>50%</th>\n",
       "      <td>0.830700</td>\n",
       "      <td>3.349300e+04</td>\n",
       "      <td>23.000000</td>\n",
       "      <td>23.875110</td>\n",
       "      <td>3.750000e+05</td>\n",
       "      <td>37.000000</td>\n",
       "      <td>5.000000e+05</td>\n",
       "    </tr>\n",
       "    <tr>\n",
       "      <th>75%</th>\n",
       "      <td>0.909900</td>\n",
       "      <td>5.000000e+04</td>\n",
       "      <td>34.000000</td>\n",
       "      <td>25.593740</td>\n",
       "      <td>9.999900e+05</td>\n",
       "      <td>46.000000</td>\n",
       "      <td>7.000000e+05</td>\n",
       "    </tr>\n",
       "    <tr>\n",
       "      <th>max</th>\n",
       "      <td>1.000000</td>\n",
       "      <td>5.000000e+06</td>\n",
       "      <td>203.000000</td>\n",
       "      <td>743.801650</td>\n",
       "      <td>1.000000e+09</td>\n",
       "      <td>66.000000</td>\n",
       "      <td>6.134701e+08</td>\n",
       "    </tr>\n",
       "  </tbody>\n",
       "</table>\n",
       "</div>"
      ],
      "text/plain": [
       "Variable Detail  Mapped Agent 13M Persistency  \\\n",
       "count                            18415.000000   \n",
       "mean                                 0.809488   \n",
       "std                                  0.179400   \n",
       "min                                  0.000000   \n",
       "25%                                  0.810100   \n",
       "50%                                  0.830700   \n",
       "75%                                  0.909900   \n",
       "max                                  1.000000   \n",
       "\n",
       "Variable Detail  Applicant's Policy Annualized Premium  Mapped Agent Vintage  \\\n",
       "count                                     3.000000e+04          30000.000000   \n",
       "mean                                      5.356715e+04             28.293300   \n",
       "std                                       8.396050e+04             26.932954   \n",
       "min                                       9.120000e+02              0.000000   \n",
       "25%                                       2.400000e+04             10.000000   \n",
       "50%                                       3.349300e+04             23.000000   \n",
       "75%                                       5.000000e+04             34.000000   \n",
       "max                                       5.000000e+06            203.000000   \n",
       "\n",
       "Variable Detail  Application Life Assured BMI  \\\n",
       "count                            18526.000000   \n",
       "mean                                24.243408   \n",
       "std                                  8.128877   \n",
       "min                                  0.781250   \n",
       "25%                                 22.313280   \n",
       "50%                                 23.875110   \n",
       "75%                                 25.593740   \n",
       "max                                743.801650   \n",
       "\n",
       "Variable Detail  Total Risk Exposure of HDFC Life w.r.t. Life Assured  \\\n",
       "count                                                 2.996800e+04      \n",
       "mean                                                  1.725513e+06      \n",
       "std                                                   9.596186e+06      \n",
       "min                                                   0.000000e+00      \n",
       "25%                                                   2.000000e+05      \n",
       "50%                                                   3.750000e+05      \n",
       "75%                                                   9.999900e+05      \n",
       "max                                                   1.000000e+09      \n",
       "\n",
       "Variable Detail  Application  Life Assured Age  \\\n",
       "count                             30000.000000   \n",
       "mean                                 38.331133   \n",
       "std                                  10.889636   \n",
       "min                                   0.000000   \n",
       "25%                                  31.000000   \n",
       "50%                                  37.000000   \n",
       "75%                                  46.000000   \n",
       "max                                  66.000000   \n",
       "\n",
       "Variable Detail  Application  Life Assured Income  \n",
       "count                                2.846900e+04  \n",
       "mean                                 8.347613e+05  \n",
       "std                                  4.369550e+06  \n",
       "min                                  0.000000e+00  \n",
       "25%                                  3.000000e+05  \n",
       "50%                                  5.000000e+05  \n",
       "75%                                  7.000000e+05  \n",
       "max                                  6.134701e+08  "
      ]
     },
     "execution_count": 323,
     "metadata": {},
     "output_type": "execute_result"
    }
   ],
   "source": [
    "df1_miss.describe()"
   ]
  },
  {
   "cell_type": "code",
   "execution_count": 324,
   "metadata": {},
   "outputs": [],
   "source": [
    "stdToMeanRatio = df1_miss.std()/df1_miss.mean()"
   ]
  },
  {
   "cell_type": "code",
   "execution_count": 325,
   "metadata": {},
   "outputs": [
    {
     "data": {
      "text/plain": [
       "Variable Detail\n",
       "Mapped Agent 13M Persistency                            0.221621\n",
       "Applicant's Policy Annualized Premium                   1.567388\n",
       "Mapped Agent Vintage                                    0.951920\n",
       "Application Life Assured BMI                            0.335303\n",
       "Total Risk Exposure of HDFC Life w.r.t. Life Assured    5.561354\n",
       "Application  Life Assured Age                           0.284094\n",
       "Application  Life Assured Income                        5.234490\n",
       "dtype: float64"
      ]
     },
     "execution_count": 325,
     "metadata": {},
     "output_type": "execute_result"
    }
   ],
   "source": [
    "stdToMeanRatio"
   ]
  },
  {
   "cell_type": "markdown",
   "metadata": {},
   "source": [
    "**We can see attributes like 'Applicant's Policy Annualized Premium', 'Mapped Agent Vintage', 'Total Risk Exposure of HDFC Life w.r.t. Life Assured', 'Application  Life Assured Income' have high std w.r.t mean so we can't impute mean values for these.**"
   ]
  },
  {
   "cell_type": "code",
   "execution_count": 326,
   "metadata": {},
   "outputs": [],
   "source": [
    "stdToMedianRatio = df1_miss.std()/df1_miss.median()"
   ]
  },
  {
   "cell_type": "code",
   "execution_count": 327,
   "metadata": {},
   "outputs": [
    {
     "data": {
      "text/plain": [
       "Variable Detail\n",
       "Mapped Agent 13M Persistency                             0.215962\n",
       "Applicant's Policy Annualized Premium                    2.506807\n",
       "Mapped Agent Vintage                                     1.170998\n",
       "Application Life Assured BMI                             0.340475\n",
       "Total Risk Exposure of HDFC Life w.r.t. Life Assured    25.589831\n",
       "Application  Life Assured Age                            0.294314\n",
       "Application  Life Assured Income                         8.739100\n",
       "dtype: float64"
      ]
     },
     "execution_count": 327,
     "metadata": {},
     "output_type": "execute_result"
    }
   ],
   "source": [
    "stdToMedianRatio"
   ]
  },
  {
   "cell_type": "markdown",
   "metadata": {},
   "source": [
    "**We can see attributes like 'Applicant's Policy Annualized Premium', 'Mapped Agent Vintage', 'Total Risk Exposure of HDFC Life w.r.t. Life Assured', 'Application  Life Assured Income' have high std w.r.t median so we can't impute median values for these.**"
   ]
  },
  {
   "cell_type": "code",
   "execution_count": 328,
   "metadata": {
    "scrolled": true
   },
   "outputs": [
    {
     "data": {
      "text/plain": [
       "<matplotlib.axes._subplots.AxesSubplot at 0x2a7cb37ca00>"
      ]
     },
     "execution_count": 328,
     "metadata": {},
     "output_type": "execute_result"
    },
    {
     "data": {
      "image/png": "[encoded data removed]",
      "text/plain": [
       "<Figure size 432x288 with 1 Axes>"
      ]
     },
     "metadata": {
      "needs_background": "light"
     },
     "output_type": "display_data"
    }
   ],
   "source": [
    "sns.boxplot(data= df1_miss ,palette='rainbow',orient='h')"
   ]
  },
  {
   "cell_type": "code",
   "execution_count": 329,
   "metadata": {},
   "outputs": [
    {
     "data": {
      "text/plain": [
       "(30000, 36)"
      ]
     },
     "execution_count": 329,
     "metadata": {},
     "output_type": "execute_result"
    }
   ],
   "source": [
    "df.shape"
   ]
  },
  {
   "cell_type": "code",
   "execution_count": 330,
   "metadata": {
    "scrolled": true
   },
   "outputs": [
    {
     "data": {
      "text/plain": [
       "(array([  359,  2015,  3018,  4156,  4400,  4808,  5391,  5435,  6628,\n",
       "         8240, 11753, 12737, 12906, 18095, 18330, 18528, 20737, 20870,\n",
       "        22059, 22297, 23046, 24600, 24689, 24793, 25973, 27316, 28465,\n",
       "        28469, 28637, 28809, 29104, 29778], dtype=int64),\n",
       " array([2, 2, 2, 2, 2, 2, 2, 2, 2, 2, 2, 2, 2, 2, 2, 2, 2, 2, 2, 2, 2, 2,\n",
       "        2, 2, 2, 2, 2, 2, 2, 2, 2, 2], dtype=int64))"
      ]
     },
     "execution_count": 330,
     "metadata": {},
     "output_type": "execute_result"
    }
   ],
   "source": [
    "# remove rows of 'Applicant's Policy Annualized Premium', 'Mapped Agent Vintage', \n",
    "#'Total Risk Exposure of HDFC Life w.r.t. Life Assured', 'Application  Life Assured Age' as missing % is very less\n",
    "np.where(df[['Applicant\\'s Policy Annualized Premium', 'Mapped Agent Vintage',\n",
    "         'Total Risk Exposure of HDFC Life w.r.t. Life Assured', \n",
    "         'Application  Life Assured Age']].isna())"
   ]
  },
  {
   "cell_type": "code",
   "execution_count": 332,
   "metadata": {},
   "outputs": [],
   "source": [
    "df.drop([ 359,  2015,  3018,  4156,  4400,  4808,  5391,  5435,  6628,\n",
    "         8240, 11753, 12737, 12906, 18095, 18330, 18528, 20737, 20870,\n",
    "        22059, 22297, 23046, 24600, 24689, 24793, 25973, 27316, 28465,\n",
    "        28469, 28637, 28809, 29104, 29778],inplace =True, axis =0)"
   ]
  },
  {
   "cell_type": "code",
   "execution_count": 333,
   "metadata": {},
   "outputs": [
    {
     "data": {
      "text/plain": [
       "(29961, 36)"
      ]
     },
     "execution_count": 333,
     "metadata": {},
     "output_type": "execute_result"
    }
   ],
   "source": [
    "df.shape"
   ]
  },
  {
   "cell_type": "code",
   "execution_count": 334,
   "metadata": {},
   "outputs": [],
   "source": [
    "df1_miss.drop([ 359,  2015,  3018,  4156,  4400,  4808,  5391,  5435,  6628,\n",
    "         8240, 11753, 12737, 12906, 18095, 18330, 18528, 20737, 20870,\n",
    "        22059, 22297, 23046, 24600, 24689, 24793, 25973, 27316, 28465,\n",
    "        28469, 28637, 28809, 29104, 29778],inplace =True, axis =0)"
   ]
  },
  {
   "cell_type": "code",
   "execution_count": 335,
   "metadata": {},
   "outputs": [],
   "source": [
    "df1.drop([ 359,  2015,  3018,  4156,  4400,  4808,  5391,  5435,  6628,\n",
    "         8240, 11753, 12737, 12906, 18095, 18330, 18528, 20737, 20870,\n",
    "        22059, 22297, 23046, 24600, 24689, 24793, 25973, 27316, 28465,\n",
    "        28469, 28637, 28809, 29104, 29778],inplace =True, axis =0)"
   ]
  },
  {
   "cell_type": "code",
   "execution_count": 336,
   "metadata": {
    "scrolled": true
   },
   "outputs": [
    {
     "data": {
      "text/plain": [
       "(29968, 7)"
      ]
     },
     "execution_count": 336,
     "metadata": {},
     "output_type": "execute_result"
    }
   ],
   "source": [
    "df1_miss.shape"
   ]
  },
  {
   "cell_type": "code",
   "execution_count": 337,
   "metadata": {},
   "outputs": [
    {
     "data": {
      "text/plain": [
       "(29968, 11)"
      ]
     },
     "execution_count": 337,
     "metadata": {},
     "output_type": "execute_result"
    }
   ],
   "source": [
    "df1.shape"
   ]
  },
  {
   "cell_type": "code",
   "execution_count": 338,
   "metadata": {},
   "outputs": [
    {
     "data": {
      "text/plain": [
       "Variable Detail\n",
       "Mapped Agent 13M Persistency                            38.573333\n",
       "Applicant's Policy Annualized Premium                    0.000000\n",
       "Mapped Agent Vintage                                     0.000000\n",
       "Application Life Assured BMI                            38.140000\n",
       "Total Risk Exposure of HDFC Life w.r.t. Life Assured     0.000000\n",
       "Application  Life Assured Age                            0.000000\n",
       "Application  Life Assured Income                         4.996667\n",
       "dtype: float64"
      ]
     },
     "execution_count": 338,
     "metadata": {},
     "output_type": "execute_result"
    }
   ],
   "source": [
    "df1_miss.isna().sum()/df_train.shape[0] * 100"
   ]
  },
  {
   "cell_type": "code",
   "execution_count": 339,
   "metadata": {},
   "outputs": [],
   "source": [
    "df1_miss.drop(['Applicant\\'s Policy Annualized Premium', 'Mapped Agent Vintage',\n",
    "         'Total Risk Exposure of HDFC Life w.r.t. Life Assured', \n",
    "         'Application  Life Assured Age'],inplace = True,axis = 1)"
   ]
  },
  {
   "cell_type": "code",
   "execution_count": 340,
   "metadata": {},
   "outputs": [
    {
     "data": {
      "text/plain": [
       "Variable Detail\n",
       "Mapped Agent 13M Persistency        38.573333\n",
       "Application Life Assured BMI        38.140000\n",
       "Application  Life Assured Income     4.996667\n",
       "dtype: float64"
      ]
     },
     "execution_count": 340,
     "metadata": {},
     "output_type": "execute_result"
    }
   ],
   "source": [
    "df1_miss.isna().sum()/df_train.shape[0] * 100"
   ]
  },
  {
   "cell_type": "code",
   "execution_count": 341,
   "metadata": {},
   "outputs": [],
   "source": [
    "# imputing - Mapped Agent 13M Persistency"
   ]
  },
  {
   "cell_type": "code",
   "execution_count": 342,
   "metadata": {},
   "outputs": [],
   "source": [
    "# imputing - Application Life Assured BMI"
   ]
  },
  {
   "cell_type": "code",
   "execution_count": 343,
   "metadata": {},
   "outputs": [],
   "source": [
    "# imputing - Application  Life Assured Income"
   ]
  },
  {
   "cell_type": "code",
   "execution_count": null,
   "metadata": {},
   "outputs": [],
   "source": []
  },
  {
   "cell_type": "code",
   "execution_count": null,
   "metadata": {},
   "outputs": [],
   "source": []
  },
  {
   "cell_type": "code",
   "execution_count": null,
   "metadata": {},
   "outputs": [],
   "source": []
  },
  {
   "cell_type": "code",
   "execution_count": null,
   "metadata": {},
   "outputs": [],
   "source": []
  },
  {
   "cell_type": "markdown",
   "metadata": {},
   "source": [
    "## Categorical Missing Values Handling"
   ]
  },
  {
   "cell_type": "code",
   "execution_count": 344,
   "metadata": {},
   "outputs": [],
   "source": [
    "# Categorical Columns in df\n",
    "df_cat = df[['Mapped Agent Branch ', 'Application Life Assured Alcohol Declaration',\n",
    "       'Auto Debit of Premium Opted Flag(Yes/No)',\n",
    "       'Application  Sourcing Channel', 'Application  Life Assured City',\n",
    "       'Applicant\\'s  Policy Contract Branch',\n",
    "       'Application  Life Assured Education',\n",
    "        'Application  Life Assured City Tier',\n",
    "       'Application  Life Assured Gender',\n",
    "       'Application  Life Assured Industry',\n",
    "       'Application  Life Assured Marital Status',\n",
    "       'Application  Life Assured Nationality',\n",
    "       'Application  Life Assured Occupation',\n",
    "       'Applicant\\'s Policy PAR/NON PAR/ULIP Tag',\n",
    "       'Application Specific Sourcing Partner', 'First Premium Payment Type',\n",
    "       'Applicant\\'s Policy Product Category',\n",
    "       'Applicant\\'s Policy Premium Payment Frequency',\n",
    "       'Applicant\\'s Policy Product Name', 'Application Login Date',\n",
    "       'Application Life Assured Residential Status',\n",
    "       'Application Life Assured Smoker Declaration',\n",
    "       'Application Life Assured State', 'Application Sourcing Sub Channel',\n",
    "       'HDFC Life Operational Zone']]"
   ]
  },
  {
   "cell_type": "code",
   "execution_count": 345,
   "metadata": {},
   "outputs": [
    {
     "data": {
      "text/plain": [
       "(29961, 25)"
      ]
     },
     "execution_count": 345,
     "metadata": {},
     "output_type": "execute_result"
    }
   ],
   "source": [
    "df_cat.shape"
   ]
  },
  {
   "cell_type": "code",
   "execution_count": 346,
   "metadata": {},
   "outputs": [
    {
     "data": {
      "text/plain": [
       "Variable Detail\n",
       "Mapped Agent Branch                                 0\n",
       "Application Life Assured Alcohol Declaration    11440\n",
       "Auto Debit of Premium Opted Flag(Yes/No)            0\n",
       "Application  Sourcing Channel                       0\n",
       "Application  Life Assured City                    665\n",
       "Applicant's  Policy Contract Branch                 0\n",
       "Application  Life Assured Education                 0\n",
       "Application  Life Assured City Tier               669\n",
       "Application  Life Assured Gender                    0\n",
       "Application  Life Assured Industry               1482\n",
       "Application  Life Assured Marital Status            0\n",
       "Application  Life Assured Nationality               0\n",
       "Application  Life Assured Occupation                0\n",
       "Applicant's Policy PAR/NON PAR/ULIP Tag             0\n",
       "Application Specific Sourcing Partner            8492\n",
       "First Premium Payment Type                        479\n",
       "Applicant's Policy Product Category                 0\n",
       "Applicant's Policy Premium Payment Frequency        0\n",
       "Applicant's Policy Product Name                     0\n",
       "Application Login Date                              0\n",
       "Application Life Assured Residential Status         0\n",
       "Application Life Assured Smoker Declaration     11440\n",
       "Application Life Assured State                    665\n",
       "Application Sourcing Sub Channel                    0\n",
       "HDFC Life Operational Zone                       8115\n",
       "dtype: int64"
      ]
     },
     "execution_count": 346,
     "metadata": {},
     "output_type": "execute_result"
    }
   ],
   "source": [
    "df_cat.isna().sum()"
   ]
  },
  {
   "cell_type": "code",
   "execution_count": 347,
   "metadata": {},
   "outputs": [],
   "source": [
    "df_cat_miss = df_cat[['Application Life Assured Alcohol Declaration',\n",
    "       'Application  Sourcing Channel', 'Application  Life Assured City',\n",
    "       'Applicant\\'s  Policy Contract Branch',\n",
    "       'Application  Life Assured City Tier',\n",
    "       'Application  Life Assured Industry',\n",
    "       'Application Specific Sourcing Partner', 'First Premium Payment Type',\n",
    "       'Application Life Assured Smoker Declaration',\n",
    "       'Application Life Assured State', 'Application Sourcing Sub Channel',\n",
    "       'HDFC Life Operational Zone']]"
   ]
  },
  {
   "cell_type": "code",
   "execution_count": 348,
   "metadata": {},
   "outputs": [
    {
     "data": {
      "text/html": [
       "<div>\n",
       "<style scoped>\n",
       "    .dataframe tbody tr th:only-of-type {\n",
       "        vertical-align: middle;\n",
       "    }\n",
       "\n",
       "    .dataframe tbody tr th {\n",
       "        vertical-align: top;\n",
       "    }\n",
       "\n",
       "    .dataframe thead th {\n",
       "        text-align: right;\n",
       "    }\n",
       "</style>\n",
       "<table border=\"1\" class=\"dataframe\">\n",
       "  <thead>\n",
       "    <tr style=\"text-align: right;\">\n",
       "      <th>Variable Detail</th>\n",
       "      <th>Application Life Assured Alcohol Declaration</th>\n",
       "      <th>Application  Sourcing Channel</th>\n",
       "      <th>Application  Life Assured City</th>\n",
       "      <th>Applicant's  Policy Contract Branch</th>\n",
       "      <th>Application  Life Assured City Tier</th>\n",
       "      <th>Application  Life Assured Industry</th>\n",
       "      <th>Application Specific Sourcing Partner</th>\n",
       "      <th>First Premium Payment Type</th>\n",
       "      <th>Application Life Assured Smoker Declaration</th>\n",
       "      <th>Application Life Assured State</th>\n",
       "      <th>Application Sourcing Sub Channel</th>\n",
       "      <th>HDFC Life Operational Zone</th>\n",
       "    </tr>\n",
       "  </thead>\n",
       "  <tbody>\n",
       "    <tr>\n",
       "      <th>0</th>\n",
       "      <td>N</td>\n",
       "      <td>HDFC BANK</td>\n",
       "      <td>mumbai</td>\n",
       "      <td>Mumbai - Vasai</td>\n",
       "      <td>Tier I</td>\n",
       "      <td>Consultant</td>\n",
       "      <td>HDFC BANK</td>\n",
       "      <td>Cheque</td>\n",
       "      <td>N</td>\n",
       "      <td>Maharashtra</td>\n",
       "      <td>HDFC BANK</td>\n",
       "      <td>West</td>\n",
       "    </tr>\n",
       "    <tr>\n",
       "      <th>1</th>\n",
       "      <td>NaN</td>\n",
       "      <td>Brokers &amp; Small CA</td>\n",
       "      <td>yadgir</td>\n",
       "      <td>Bellary - Parvathi Nagar</td>\n",
       "      <td>Tier III</td>\n",
       "      <td>Business</td>\n",
       "      <td>SMC Insurance Brokers Pvt. Ltd</td>\n",
       "      <td>Cheque</td>\n",
       "      <td>NaN</td>\n",
       "      <td>Karnataka</td>\n",
       "      <td>Brokers</td>\n",
       "      <td>South 2</td>\n",
       "    </tr>\n",
       "    <tr>\n",
       "      <th>2</th>\n",
       "      <td>NaN</td>\n",
       "      <td>Brokers &amp; Small CA</td>\n",
       "      <td>surat</td>\n",
       "      <td>Ahmedabad - Vastrapur</td>\n",
       "      <td>Tier II</td>\n",
       "      <td>Agriculture</td>\n",
       "      <td>Sridhar Insurance Broker Pvt L</td>\n",
       "      <td>Cheque</td>\n",
       "      <td>NaN</td>\n",
       "      <td>Gujarat</td>\n",
       "      <td>Brokers</td>\n",
       "      <td>West</td>\n",
       "    </tr>\n",
       "    <tr>\n",
       "      <th>3</th>\n",
       "      <td>N</td>\n",
       "      <td>HDFC BANK</td>\n",
       "      <td>pathankot</td>\n",
       "      <td>Pathankot - Dalhousie Road</td>\n",
       "      <td>Tier III</td>\n",
       "      <td>Metals</td>\n",
       "      <td>HDFC BANK</td>\n",
       "      <td>Journal Entry</td>\n",
       "      <td>N</td>\n",
       "      <td>Punjab</td>\n",
       "      <td>HDFC BANK</td>\n",
       "      <td>North 1</td>\n",
       "    </tr>\n",
       "    <tr>\n",
       "      <th>4</th>\n",
       "      <td>N</td>\n",
       "      <td>Ex-HDFC</td>\n",
       "      <td>pune</td>\n",
       "      <td>Pune - Nandadeep Fc Road</td>\n",
       "      <td>Tier I</td>\n",
       "      <td>Automobile</td>\n",
       "      <td>HDFC Sales Private Limited</td>\n",
       "      <td>Cheque</td>\n",
       "      <td>N</td>\n",
       "      <td>Maharashtra</td>\n",
       "      <td>HDFC Sales</td>\n",
       "      <td>West</td>\n",
       "    </tr>\n",
       "  </tbody>\n",
       "</table>\n",
       "</div>"
      ],
      "text/plain": [
       "Variable Detail Application Life Assured Alcohol Declaration  \\\n",
       "0                                                          N   \n",
       "1                                                        NaN   \n",
       "2                                                        NaN   \n",
       "3                                                          N   \n",
       "4                                                          N   \n",
       "\n",
       "Variable Detail Application  Sourcing Channel Application  Life Assured City  \\\n",
       "0                                   HDFC BANK                         mumbai   \n",
       "1                          Brokers & Small CA                         yadgir   \n",
       "2                          Brokers & Small CA                          surat   \n",
       "3                                   HDFC BANK                      pathankot   \n",
       "4                                     Ex-HDFC                           pune   \n",
       "\n",
       "Variable Detail Applicant's  Policy Contract Branch  \\\n",
       "0                                    Mumbai - Vasai   \n",
       "1                          Bellary - Parvathi Nagar   \n",
       "2                             Ahmedabad - Vastrapur   \n",
       "3                        Pathankot - Dalhousie Road   \n",
       "4                          Pune - Nandadeep Fc Road   \n",
       "\n",
       "Variable Detail Application  Life Assured City Tier  \\\n",
       "0                                            Tier I   \n",
       "1                                          Tier III   \n",
       "2                                           Tier II   \n",
       "3                                          Tier III   \n",
       "4                                            Tier I   \n",
       "\n",
       "Variable Detail Application  Life Assured Industry  \\\n",
       "0                                       Consultant   \n",
       "1                                         Business   \n",
       "2                                      Agriculture   \n",
       "3                                           Metals   \n",
       "4                                       Automobile   \n",
       "\n",
       "Variable Detail Application Specific Sourcing Partner  \\\n",
       "0                                           HDFC BANK   \n",
       "1                      SMC Insurance Brokers Pvt. Ltd   \n",
       "2                      Sridhar Insurance Broker Pvt L   \n",
       "3                                           HDFC BANK   \n",
       "4                          HDFC Sales Private Limited   \n",
       "\n",
       "Variable Detail First Premium Payment Type  \\\n",
       "0                                   Cheque   \n",
       "1                                   Cheque   \n",
       "2                                   Cheque   \n",
       "3                            Journal Entry   \n",
       "4                                   Cheque   \n",
       "\n",
       "Variable Detail Application Life Assured Smoker Declaration  \\\n",
       "0                                                         N   \n",
       "1                                                       NaN   \n",
       "2                                                       NaN   \n",
       "3                                                         N   \n",
       "4                                                         N   \n",
       "\n",
       "Variable Detail Application Life Assured State  \\\n",
       "0                                  Maharashtra   \n",
       "1                                    Karnataka   \n",
       "2                                      Gujarat   \n",
       "3                                       Punjab   \n",
       "4                                  Maharashtra   \n",
       "\n",
       "Variable Detail Application Sourcing Sub Channel HDFC Life Operational Zone  \n",
       "0                                      HDFC BANK                       West  \n",
       "1                                        Brokers                    South 2  \n",
       "2                                        Brokers                       West  \n",
       "3                                      HDFC BANK                    North 1  \n",
       "4                                     HDFC Sales                       West  "
      ]
     },
     "execution_count": 348,
     "metadata": {},
     "output_type": "execute_result"
    }
   ],
   "source": [
    "df_cat_miss.head()"
   ]
  },
  {
   "cell_type": "code",
   "execution_count": 349,
   "metadata": {
    "scrolled": true
   },
   "outputs": [
    {
     "data": {
      "text/plain": [
       "Variable Detail\n",
       "Application Life Assured Alcohol Declaration    11440\n",
       "Application  Sourcing Channel                       0\n",
       "Application  Life Assured City                    665\n",
       "Applicant's  Policy Contract Branch                 0\n",
       "Application  Life Assured City Tier               669\n",
       "Application  Life Assured Industry               1482\n",
       "Application Specific Sourcing Partner            8492\n",
       "First Premium Payment Type                        479\n",
       "Application Life Assured Smoker Declaration     11440\n",
       "Application Life Assured State                    665\n",
       "Application Sourcing Sub Channel                    0\n",
       "HDFC Life Operational Zone                       8115\n",
       "dtype: int64"
      ]
     },
     "execution_count": 349,
     "metadata": {},
     "output_type": "execute_result"
    }
   ],
   "source": [
    "df_cat_miss.isna().sum()"
   ]
  },
  {
   "cell_type": "code",
   "execution_count": 350,
   "metadata": {},
   "outputs": [
    {
     "data": {
      "text/plain": [
       "(29961, 36)"
      ]
     },
     "execution_count": 350,
     "metadata": {},
     "output_type": "execute_result"
    }
   ],
   "source": [
    "df.shape"
   ]
  },
  {
   "cell_type": "code",
   "execution_count": 351,
   "metadata": {},
   "outputs": [],
   "source": [
    "df = df.dropna(how = 'any',subset = ['Application  Sourcing Channel', 'Applicant\\'s  Policy Contract Branch',\n",
    "  'Application Sourcing Sub Channel'])"
   ]
  },
  {
   "cell_type": "code",
   "execution_count": 352,
   "metadata": {},
   "outputs": [
    {
     "data": {
      "text/plain": [
       "Variable Detail\n",
       "Mapped Agent 13M Persistency                             11571\n",
       "Mapped Agent Branch                                          0\n",
       "Application Life Assured Alcohol Declaration             11440\n",
       "Applicant's Policy Annualized Premium                        0\n",
       "Mapped Agent Vintage                                         0\n",
       "Auto Debit of Premium Opted Flag(Yes/No)                     0\n",
       "Application Life Assured BMI                             11440\n",
       "Total Risk Exposure of HDFC Life w.r.t. Life Assured         0\n",
       "Application  Sourcing Channel                                0\n",
       "Application  Life Assured City                             665\n",
       "Applicant's  Policy Contract Branch                          0\n",
       "Application  Life Assured City Tier                        669\n",
       "Application  Life Assured Age                                0\n",
       "Application  Life Assured Education                          0\n",
       "Application  Life Assured Gender                             0\n",
       "Application  Life Assured Income                          1499\n",
       "Application  Life Assured Industry                        1482\n",
       "Application  Life Assured Marital Status                     0\n",
       "Application  Life Assured Nationality                        0\n",
       "Application  Life Assured Occupation                         0\n",
       "Applicant's Policy PAR/NON PAR/ULIP Tag                      0\n",
       "Application Specific Sourcing Partner                     8492\n",
       "First Premium Payment Type                                 479\n",
       "Applicant's Policy Product Category                          0\n",
       "Applicant's Policy Premium Payment Frequency                 0\n",
       "Applicant's Policy Product Name                              0\n",
       "Application Login Date                                       0\n",
       "Applicant's Policy Price Sensitivity(1-'Yes', 0-'No')        0\n",
       "Application Life Assured Residential Status                  0\n",
       "Applicant's Policy Risk Cessation Term                       0\n",
       "Applicant's Policy Rider Opted Flag(1-'Yes', 0-'No')         0\n",
       "Application Life Assured Smoker Declaration              11440\n",
       "Application Life Assured State                             665\n",
       "Application Sourcing Sub Channel                             0\n",
       "Applicant's Policy Sum Assured                               0\n",
       "HDFC Life Operational Zone                                8115\n",
       "dtype: int64"
      ]
     },
     "execution_count": 352,
     "metadata": {},
     "output_type": "execute_result"
    }
   ],
   "source": [
    "df.isna().sum()"
   ]
  },
  {
   "cell_type": "code",
   "execution_count": 353,
   "metadata": {},
   "outputs": [],
   "source": [
    "df_cat = df_cat.dropna(how = 'any',subset = ['Application  Sourcing Channel', 'Applicant\\'s  Policy Contract Branch',\n",
    "  'Application Sourcing Sub Channel'])"
   ]
  },
  {
   "cell_type": "code",
   "execution_count": 354,
   "metadata": {},
   "outputs": [],
   "source": [
    "df_cat_miss = df_cat_miss.dropna(how = 'any',subset = ['Application  Sourcing Channel', 'Applicant\\'s  Policy Contract Branch',\n",
    "  'Application Sourcing Sub Channel'])"
   ]
  },
  {
   "cell_type": "code",
   "execution_count": 355,
   "metadata": {},
   "outputs": [],
   "source": [
    "df_cat_miss.drop(['Application  Sourcing Channel', 'Applicant\\'s  Policy Contract Branch',\n",
    "  'Application Sourcing Sub Channel'],axis =1, inplace = True)"
   ]
  },
  {
   "cell_type": "code",
   "execution_count": 356,
   "metadata": {
    "scrolled": true
   },
   "outputs": [
    {
     "data": {
      "text/plain": [
       "Variable Detail\n",
       "Application Life Assured Alcohol Declaration    11440\n",
       "Application  Life Assured City                    665\n",
       "Application  Life Assured City Tier               669\n",
       "Application  Life Assured Industry               1482\n",
       "Application Specific Sourcing Partner            8492\n",
       "First Premium Payment Type                        479\n",
       "Application Life Assured Smoker Declaration     11440\n",
       "Application Life Assured State                    665\n",
       "HDFC Life Operational Zone                       8115\n",
       "dtype: int64"
      ]
     },
     "execution_count": 356,
     "metadata": {},
     "output_type": "execute_result"
    }
   ],
   "source": [
    "df_cat_miss.isna().sum()"
   ]
  },
  {
   "cell_type": "code",
   "execution_count": 357,
   "metadata": {},
   "outputs": [
    {
     "data": {
      "text/plain": [
       "N    17953\n",
       "Y      568\n",
       "Name: Application Life Assured Alcohol Declaration, dtype: int64"
      ]
     },
     "execution_count": 357,
     "metadata": {},
     "output_type": "execute_result"
    }
   ],
   "source": [
    "df_cat_miss['Application Life Assured Alcohol Declaration'].value_counts()"
   ]
  },
  {
   "cell_type": "code",
   "execution_count": 358,
   "metadata": {},
   "outputs": [
    {
     "data": {
      "text/plain": [
       "mumbai       1264\n",
       "bangalore     961\n",
       "chennai       825\n",
       "pune          745\n",
       "kolkata       666\n",
       "Name: Application  Life Assured City, dtype: int64"
      ]
     },
     "execution_count": 358,
     "metadata": {},
     "output_type": "execute_result"
    }
   ],
   "source": [
    "df_cat_miss['Application  Life Assured City'].value_counts().head()"
   ]
  },
  {
   "cell_type": "code",
   "execution_count": 359,
   "metadata": {},
   "outputs": [
    {
     "data": {
      "text/plain": [
       "Tier III    14645\n",
       "Tier I       8039\n",
       "Tier II      6608\n",
       "Name: Application  Life Assured City Tier, dtype: int64"
      ]
     },
     "execution_count": 359,
     "metadata": {},
     "output_type": "execute_result"
    }
   ],
   "source": [
    "df_cat_miss['Application  Life Assured City Tier'].value_counts()"
   ]
  },
  {
   "cell_type": "code",
   "execution_count": 360,
   "metadata": {},
   "outputs": [
    {
     "data": {
      "text/plain": [
       "Business       2455\n",
       "Agriculture    2093\n",
       "Service        1585\n",
       "Education      1009\n",
       "Trading         916\n",
       "Name: Application  Life Assured Industry, dtype: int64"
      ]
     },
     "execution_count": 360,
     "metadata": {},
     "output_type": "execute_result"
    }
   ],
   "source": [
    "df_cat_miss['Application  Life Assured Industry'].value_counts().head()"
   ]
  },
  {
   "cell_type": "code",
   "execution_count": 361,
   "metadata": {},
   "outputs": [
    {
     "data": {
      "text/plain": [
       "HDFC BANK                     16863\n",
       "HDFC Sales Private Limited      821\n",
       "RBL Bank Ltd                    495\n",
       "DUMMY HDFC BANK UPSELL          432\n",
       "HDFC SECURITIES LIMITED         351\n",
       "Name: Application Specific Sourcing Partner, dtype: int64"
      ]
     },
     "execution_count": 361,
     "metadata": {},
     "output_type": "execute_result"
    }
   ],
   "source": [
    "df_cat_miss['Application Specific Sourcing Partner'].value_counts().head()"
   ]
  },
  {
   "cell_type": "code",
   "execution_count": 362,
   "metadata": {},
   "outputs": [
    {
     "data": {
      "text/plain": [
       "Cheque                                  8486\n",
       "DD                                      7758\n",
       "Online Credit/Debit Card/Teles Sales    4398\n",
       "Online Netbanking                       3981\n",
       "Online-Bill                             2390\n",
       "Journal Entry                           1207\n",
       "ECS,SI                                   796\n",
       "Credit Card Mandate                      423\n",
       "Cash                                      43\n",
       "Name: First Premium Payment Type, dtype: int64"
      ]
     },
     "execution_count": 362,
     "metadata": {},
     "output_type": "execute_result"
    }
   ],
   "source": [
    "df_cat_miss['First Premium Payment Type'].value_counts()"
   ]
  },
  {
   "cell_type": "code",
   "execution_count": 363,
   "metadata": {},
   "outputs": [
    {
     "data": {
      "text/plain": [
       "N    18200\n",
       "Y      321\n",
       "Name: Application Life Assured Smoker Declaration, dtype: int64"
      ]
     },
     "execution_count": 363,
     "metadata": {},
     "output_type": "execute_result"
    }
   ],
   "source": [
    "df_cat_miss['Application Life Assured Smoker Declaration'].value_counts()"
   ]
  },
  {
   "cell_type": "code",
   "execution_count": 364,
   "metadata": {},
   "outputs": [
    {
     "data": {
      "text/plain": [
       "Maharashtra                  4398\n",
       "Uttar Pradesh                3024\n",
       "Gujarat                      2272\n",
       "Punjab                       2155\n",
       "Tamil Nadu                   1975\n",
       "Delhi                        1918\n",
       "Haryana                      1683\n",
       "West Bengal                  1592\n",
       "Karnataka                    1465\n",
       "Rajasthan                    1150\n",
       "Telangana                    1074\n",
       "Madhya Pradesh                978\n",
       "Odisha                        849\n",
       "Andhra Pradesh                781\n",
       "Kerala                        737\n",
       "Bihar                         607\n",
       "Assam                         453\n",
       "Jharkhand                     435\n",
       "Chattisgarh                   322\n",
       "Himachal Pradesh              255\n",
       "Uttarakhand                   248\n",
       "Jammu & Kashmir               243\n",
       "Chandigarh                    133\n",
       "Goa                           129\n",
       "Manipur                        91\n",
       "Meghalaya                      65\n",
       "Pondicherry                    51\n",
       "Dadra & Nagar Haveli           45\n",
       "Sikkim                         42\n",
       "Daman & Diu                    36\n",
       "Tripura                        31\n",
       "Mizoram                        23\n",
       "Nagaland                       21\n",
       "Arunachal Pradesh              11\n",
       "Andaman & Nicobar Islands       4\n",
       "Name: Application Life Assured State, dtype: int64"
      ]
     },
     "execution_count": 364,
     "metadata": {},
     "output_type": "execute_result"
    }
   ],
   "source": [
    "df_cat_miss['Application Life Assured State'].value_counts()"
   ]
  },
  {
   "cell_type": "code",
   "execution_count": 365,
   "metadata": {
    "scrolled": true
   },
   "outputs": [
    {
     "data": {
      "text/plain": [
       "West       5605\n",
       "North 1    5050\n",
       "East       4408\n",
       "North 2    2664\n",
       "South 1    2462\n",
       "South 2    1657\n",
       "Name: HDFC Life Operational Zone, dtype: int64"
      ]
     },
     "execution_count": 365,
     "metadata": {},
     "output_type": "execute_result"
    }
   ],
   "source": [
    "df_cat_miss['HDFC Life Operational Zone'].value_counts()"
   ]
  },
  {
   "cell_type": "code",
   "execution_count": 366,
   "metadata": {},
   "outputs": [
    {
     "data": {
      "text/plain": [
       "Index(['Application Life Assured Alcohol Declaration',\n",
       "       'Application  Life Assured City', 'Application  Life Assured City Tier',\n",
       "       'Application  Life Assured Industry',\n",
       "       'Application Specific Sourcing Partner', 'First Premium Payment Type',\n",
       "       'Application Life Assured Smoker Declaration',\n",
       "       'Application Life Assured State', 'HDFC Life Operational Zone'],\n",
       "      dtype='object', name='Variable Detail')"
      ]
     },
     "execution_count": 366,
     "metadata": {},
     "output_type": "execute_result"
    }
   ],
   "source": [
    "df_cat_miss.columns"
   ]
  },
  {
   "cell_type": "code",
   "execution_count": 367,
   "metadata": {},
   "outputs": [],
   "source": [
    "## dropping all missing values rows"
   ]
  },
  {
   "cell_type": "code",
   "execution_count": 368,
   "metadata": {},
   "outputs": [],
   "source": [
    "df = df.dropna(how = 'any',subset = ['Application Life Assured Alcohol Declaration',\n",
    "       'Application  Life Assured City', 'Application  Life Assured City Tier',\n",
    "       'Application  Life Assured Industry',\n",
    "       'Application Specific Sourcing Partner', 'First Premium Payment Type',\n",
    "       'Application Life Assured Smoker Declaration',\n",
    "       'Application Life Assured State', 'HDFC Life Operational Zone'])"
   ]
  },
  {
   "cell_type": "code",
   "execution_count": 369,
   "metadata": {},
   "outputs": [],
   "source": [
    "df_cat = df_cat.dropna(how = 'any',subset = ['Application Life Assured Alcohol Declaration',\n",
    "       'Application  Life Assured City', 'Application  Life Assured City Tier',\n",
    "       'Application  Life Assured Industry',\n",
    "       'Application Specific Sourcing Partner', 'First Premium Payment Type',\n",
    "       'Application Life Assured Smoker Declaration',\n",
    "       'Application Life Assured State', 'HDFC Life Operational Zone'])"
   ]
  },
  {
   "cell_type": "code",
   "execution_count": 370,
   "metadata": {},
   "outputs": [
    {
     "data": {
      "text/plain": [
       "(8545, 36)"
      ]
     },
     "execution_count": 370,
     "metadata": {},
     "output_type": "execute_result"
    }
   ],
   "source": [
    "df.shape"
   ]
  },
  {
   "cell_type": "code",
   "execution_count": 371,
   "metadata": {},
   "outputs": [
    {
     "data": {
      "text/plain": [
       "(8545, 25)"
      ]
     },
     "execution_count": 371,
     "metadata": {},
     "output_type": "execute_result"
    }
   ],
   "source": [
    "df_cat.shape"
   ]
  },
  {
   "cell_type": "code",
   "execution_count": 372,
   "metadata": {},
   "outputs": [
    {
     "data": {
      "text/plain": [
       "Variable Detail\n",
       "Mapped Agent 13M Persistency                             4408\n",
       "Mapped Agent Branch                                         0\n",
       "Application Life Assured Alcohol Declaration                0\n",
       "Applicant's Policy Annualized Premium                       0\n",
       "Mapped Agent Vintage                                        0\n",
       "Auto Debit of Premium Opted Flag(Yes/No)                    0\n",
       "Application Life Assured BMI                                0\n",
       "Total Risk Exposure of HDFC Life w.r.t. Life Assured        0\n",
       "Application  Sourcing Channel                               0\n",
       "Application  Life Assured City                              0\n",
       "Applicant's  Policy Contract Branch                         0\n",
       "Application  Life Assured City Tier                         0\n",
       "Application  Life Assured Age                               0\n",
       "Application  Life Assured Education                         0\n",
       "Application  Life Assured Gender                            0\n",
       "Application  Life Assured Income                            0\n",
       "Application  Life Assured Industry                          0\n",
       "Application  Life Assured Marital Status                    0\n",
       "Application  Life Assured Nationality                       0\n",
       "Application  Life Assured Occupation                        0\n",
       "Applicant's Policy PAR/NON PAR/ULIP Tag                     0\n",
       "Application Specific Sourcing Partner                       0\n",
       "First Premium Payment Type                                  0\n",
       "Applicant's Policy Product Category                         0\n",
       "Applicant's Policy Premium Payment Frequency                0\n",
       "Applicant's Policy Product Name                             0\n",
       "Application Login Date                                      0\n",
       "Applicant's Policy Price Sensitivity(1-'Yes', 0-'No')       0\n",
       "Application Life Assured Residential Status                 0\n",
       "Applicant's Policy Risk Cessation Term                      0\n",
       "Applicant's Policy Rider Opted Flag(1-'Yes', 0-'No')        0\n",
       "Application Life Assured Smoker Declaration                 0\n",
       "Application Life Assured State                              0\n",
       "Application Sourcing Sub Channel                            0\n",
       "Applicant's Policy Sum Assured                              0\n",
       "HDFC Life Operational Zone                                  0\n",
       "dtype: int64"
      ]
     },
     "execution_count": 372,
     "metadata": {},
     "output_type": "execute_result"
    }
   ],
   "source": [
    "df.isna().sum()"
   ]
  },
  {
   "cell_type": "code",
   "execution_count": 373,
   "metadata": {},
   "outputs": [],
   "source": [
    "df = df.dropna(how = 'any',subset =['Application Life Assured BMI','Application  Life Assured Income'])"
   ]
  },
  {
   "cell_type": "code",
   "execution_count": 374,
   "metadata": {
    "scrolled": true
   },
   "outputs": [
    {
     "data": {
      "text/plain": [
       "Variable Detail\n",
       "Mapped Agent 13M Persistency                             4408\n",
       "Mapped Agent Branch                                         0\n",
       "Application Life Assured Alcohol Declaration                0\n",
       "Applicant's Policy Annualized Premium                       0\n",
       "Mapped Agent Vintage                                        0\n",
       "Auto Debit of Premium Opted Flag(Yes/No)                    0\n",
       "Application Life Assured BMI                                0\n",
       "Total Risk Exposure of HDFC Life w.r.t. Life Assured        0\n",
       "Application  Sourcing Channel                               0\n",
       "Application  Life Assured City                              0\n",
       "Applicant's  Policy Contract Branch                         0\n",
       "Application  Life Assured City Tier                         0\n",
       "Application  Life Assured Age                               0\n",
       "Application  Life Assured Education                         0\n",
       "Application  Life Assured Gender                            0\n",
       "Application  Life Assured Income                            0\n",
       "Application  Life Assured Industry                          0\n",
       "Application  Life Assured Marital Status                    0\n",
       "Application  Life Assured Nationality                       0\n",
       "Application  Life Assured Occupation                        0\n",
       "Applicant's Policy PAR/NON PAR/ULIP Tag                     0\n",
       "Application Specific Sourcing Partner                       0\n",
       "First Premium Payment Type                                  0\n",
       "Applicant's Policy Product Category                         0\n",
       "Applicant's Policy Premium Payment Frequency                0\n",
       "Applicant's Policy Product Name                             0\n",
       "Application Login Date                                      0\n",
       "Applicant's Policy Price Sensitivity(1-'Yes', 0-'No')       0\n",
       "Application Life Assured Residential Status                 0\n",
       "Applicant's Policy Risk Cessation Term                      0\n",
       "Applicant's Policy Rider Opted Flag(1-'Yes', 0-'No')        0\n",
       "Application Life Assured Smoker Declaration                 0\n",
       "Application Life Assured State                              0\n",
       "Application Sourcing Sub Channel                            0\n",
       "Applicant's Policy Sum Assured                              0\n",
       "HDFC Life Operational Zone                                  0\n",
       "dtype: int64"
      ]
     },
     "execution_count": 374,
     "metadata": {},
     "output_type": "execute_result"
    }
   ],
   "source": [
    "df.isna().sum()"
   ]
  },
  {
   "cell_type": "code",
   "execution_count": 375,
   "metadata": {},
   "outputs": [],
   "source": [
    "y = df['Mapped Agent 13M Persistency']"
   ]
  },
  {
   "cell_type": "code",
   "execution_count": 376,
   "metadata": {},
   "outputs": [
    {
     "data": {
      "text/plain": [
       "0.5069062855589513"
      ]
     },
     "execution_count": 376,
     "metadata": {},
     "output_type": "execute_result"
    }
   ],
   "source": [
    "y.std()/y.mean()"
   ]
  },
  {
   "cell_type": "code",
   "execution_count": 377,
   "metadata": {},
   "outputs": [
    {
     "data": {
      "text/plain": [
       "0.42334763022822064"
      ]
     },
     "execution_count": 377,
     "metadata": {},
     "output_type": "execute_result"
    }
   ],
   "source": [
    "y.std()/y.median()"
   ]
  },
  {
   "cell_type": "code",
   "execution_count": 378,
   "metadata": {},
   "outputs": [
    {
     "data": {
      "text/plain": [
       "75.32"
      ]
     },
     "execution_count": 378,
     "metadata": {},
     "output_type": "execute_result"
    }
   ],
   "source": [
    "x = df['Mapped Agent 13M Persistency'].median()\n",
    "x"
   ]
  },
  {
   "cell_type": "code",
   "execution_count": 379,
   "metadata": {},
   "outputs": [],
   "source": [
    "## replacing missing values of 'Mapped Agent 13M Persistency' with median\n",
    "df['Mapped Agent 13M Persistency'][df['Mapped Agent 13M Persistency'].isna()] = x"
   ]
  },
  {
   "cell_type": "code",
   "execution_count": 380,
   "metadata": {},
   "outputs": [
    {
     "data": {
      "text/plain": [
       "Variable Detail\n",
       "Mapped Agent 13M Persistency                             0\n",
       "Mapped Agent Branch                                      0\n",
       "Application Life Assured Alcohol Declaration             0\n",
       "Applicant's Policy Annualized Premium                    0\n",
       "Mapped Agent Vintage                                     0\n",
       "Auto Debit of Premium Opted Flag(Yes/No)                 0\n",
       "Application Life Assured BMI                             0\n",
       "Total Risk Exposure of HDFC Life w.r.t. Life Assured     0\n",
       "Application  Sourcing Channel                            0\n",
       "Application  Life Assured City                           0\n",
       "Applicant's  Policy Contract Branch                      0\n",
       "Application  Life Assured City Tier                      0\n",
       "Application  Life Assured Age                            0\n",
       "Application  Life Assured Education                      0\n",
       "Application  Life Assured Gender                         0\n",
       "Application  Life Assured Income                         0\n",
       "Application  Life Assured Industry                       0\n",
       "Application  Life Assured Marital Status                 0\n",
       "Application  Life Assured Nationality                    0\n",
       "Application  Life Assured Occupation                     0\n",
       "Applicant's Policy PAR/NON PAR/ULIP Tag                  0\n",
       "Application Specific Sourcing Partner                    0\n",
       "First Premium Payment Type                               0\n",
       "Applicant's Policy Product Category                      0\n",
       "Applicant's Policy Premium Payment Frequency             0\n",
       "Applicant's Policy Product Name                          0\n",
       "Application Login Date                                   0\n",
       "Applicant's Policy Price Sensitivity(1-'Yes', 0-'No')    0\n",
       "Application Life Assured Residential Status              0\n",
       "Applicant's Policy Risk Cessation Term                   0\n",
       "Applicant's Policy Rider Opted Flag(1-'Yes', 0-'No')     0\n",
       "Application Life Assured Smoker Declaration              0\n",
       "Application Life Assured State                           0\n",
       "Application Sourcing Sub Channel                         0\n",
       "Applicant's Policy Sum Assured                           0\n",
       "HDFC Life Operational Zone                               0\n",
       "dtype: int64"
      ]
     },
     "execution_count": 380,
     "metadata": {},
     "output_type": "execute_result"
    }
   ],
   "source": [
    "df.isna().sum()"
   ]
  },
  {
   "cell_type": "code",
   "execution_count": 381,
   "metadata": {},
   "outputs": [],
   "source": [
    "df['smoker_drinker'] = df['Application Life Assured Alcohol Declaration'] + df['Application Life Assured Smoker Declaration']"
   ]
  },
  {
   "cell_type": "code",
   "execution_count": 382,
   "metadata": {},
   "outputs": [
    {
     "data": {
      "text/plain": [
       "NN    8459\n",
       "YN      38\n",
       "YY      25\n",
       "NY      23\n",
       "Name: smoker_drinker, dtype: int64"
      ]
     },
     "execution_count": 382,
     "metadata": {},
     "output_type": "execute_result"
    }
   ],
   "source": [
    "df['smoker_drinker'].value_counts()"
   ]
  },
  {
   "cell_type": "code",
   "execution_count": 383,
   "metadata": {},
   "outputs": [],
   "source": [
    "df['Perf+vintage'] = df['Mapped Agent 13M Persistency'] * df ['Mapped Agent Vintage']"
   ]
  },
  {
   "cell_type": "code",
   "execution_count": 384,
   "metadata": {},
   "outputs": [],
   "source": [
    "df.to_csv('ootdata.csv', index=False)"
   ]
  },
  {
   "cell_type": "code",
   "execution_count": null,
   "metadata": {},
   "outputs": [],
   "source": []
  },
  {
   "cell_type": "code",
   "execution_count": null,
   "metadata": {},
   "outputs": [],
   "source": []
  }
 ],
 "metadata": {
  "kernelspec": {
   "display_name": "Python 3",
   "language": "python",
   "name": "python3"
  },
  "language_info": {
   "codemirror_mode": {
    "name": "ipython",
    "version": 3
   },
   "file_extension": ".py",
   "mimetype": "text/x-python",
   "name": "python",
   "nbconvert_exporter": "python",
   "pygments_lexer": "ipython3",
   "version": "3.8.3"
  }
 },
 "nbformat": 4,
 "nbformat_minor": 2
}
