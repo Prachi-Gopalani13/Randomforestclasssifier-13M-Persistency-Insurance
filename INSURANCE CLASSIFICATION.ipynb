{
 "cells": [
  {
   "cell_type": "markdown",
   "metadata": {},
   "source": [
    "## Reading Library"
   ]
  },
  {
   "cell_type": "code",
   "execution_count": 3,
   "metadata": {},
   "outputs": [],
   "source": [
    "import numpy as np                        ## Main Library\n",
    "import pandas as pd                       ## Main Library\n",
    "import matplotlib.pyplot as plt           ## Plotting Graphs\n",
    "%matplotlib inline\n",
    "from patsy import dmatrices                \n",
    "import sklearn                            ## Used for Building model\n",
    "import seaborn as sns                     ## Statistical plotting\n",
    "import statsmodels.api as sm              ##Statistical Features\n",
    "from scipy import stats\n",
    "import warnings                           ## Remove warnings\n",
    "warnings.filterwarnings(\"ignore\")\n",
    "from scipy.special import factorial"
   ]
  },
  {
   "cell_type": "code",
   "execution_count": 4,
   "metadata": {},
   "outputs": [
    {
     "data": {
      "text/html": [
       "<div>\n",
       "<style scoped>\n",
       "    .dataframe tbody tr th:only-of-type {\n",
       "        vertical-align: middle;\n",
       "    }\n",
       "\n",
       "    .dataframe tbody tr th {\n",
       "        vertical-align: top;\n",
       "    }\n",
       "\n",
       "    .dataframe thead th {\n",
       "        text-align: right;\n",
       "    }\n",
       "</style>\n",
       "<table border=\"1\" class=\"dataframe\">\n",
       "  <thead>\n",
       "    <tr style=\"text-align: right;\">\n",
       "      <th></th>\n",
       "      <th>Mapped Agent 13M Persistency</th>\n",
       "      <th>Applicant's Policy Annualized Premium</th>\n",
       "      <th>Mapped Agent Vintage</th>\n",
       "      <th>Auto Debit of Premium Opted Flag(Yes/No)</th>\n",
       "      <th>Application Life Assured BMI</th>\n",
       "      <th>Total Risk Exposure of HDFC Life w.r.t. Life Assured</th>\n",
       "      <th>Application  Sourcing Channel</th>\n",
       "      <th>Application  Life Assured City</th>\n",
       "      <th>Application  Life Assured City Tier</th>\n",
       "      <th>Application  Life Assured Age</th>\n",
       "      <th>...</th>\n",
       "      <th>Applicant's Policy Sum Assured</th>\n",
       "      <th>HDFC Life Operational Zone</th>\n",
       "      <th>Application Login year</th>\n",
       "      <th>Application Login month</th>\n",
       "      <th>Application Login day</th>\n",
       "      <th>Mapped Agent city</th>\n",
       "      <th>Applicant's Policy Contract city</th>\n",
       "      <th>Target</th>\n",
       "      <th>smoker_drinker</th>\n",
       "      <th>Perf+vintage</th>\n",
       "    </tr>\n",
       "  </thead>\n",
       "  <tbody>\n",
       "    <tr>\n",
       "      <th>0</th>\n",
       "      <td>93.47</td>\n",
       "      <td>7157.0</td>\n",
       "      <td>33.0</td>\n",
       "      <td>Y</td>\n",
       "      <td>1.0</td>\n",
       "      <td>10000000.0</td>\n",
       "      <td>HDFC BANK</td>\n",
       "      <td>bangalore</td>\n",
       "      <td>Tier I</td>\n",
       "      <td>(6.999, 33.0]</td>\n",
       "      <td>...</td>\n",
       "      <td>10000000</td>\n",
       "      <td>North 1</td>\n",
       "      <td>18</td>\n",
       "      <td>7</td>\n",
       "      <td>7</td>\n",
       "      <td>Delhi</td>\n",
       "      <td>Delhi</td>\n",
       "      <td>1</td>\n",
       "      <td>NN</td>\n",
       "      <td>3084.51</td>\n",
       "    </tr>\n",
       "    <tr>\n",
       "      <th>1</th>\n",
       "      <td>81.59</td>\n",
       "      <td>25000.0</td>\n",
       "      <td>42.0</td>\n",
       "      <td>N</td>\n",
       "      <td>3.0</td>\n",
       "      <td>145501.0</td>\n",
       "      <td>HDFC BANK</td>\n",
       "      <td>others</td>\n",
       "      <td>Tier III</td>\n",
       "      <td>(41.0, 50.0]</td>\n",
       "      <td>...</td>\n",
       "      <td>145501</td>\n",
       "      <td>West</td>\n",
       "      <td>18</td>\n",
       "      <td>3</td>\n",
       "      <td>31</td>\n",
       "      <td>Ahmedabad</td>\n",
       "      <td>Ahmedabad</td>\n",
       "      <td>1</td>\n",
       "      <td>NN</td>\n",
       "      <td>3426.78</td>\n",
       "    </tr>\n",
       "    <tr>\n",
       "      <th>2</th>\n",
       "      <td>87.58</td>\n",
       "      <td>35000.0</td>\n",
       "      <td>35.0</td>\n",
       "      <td>Y</td>\n",
       "      <td>2.0</td>\n",
       "      <td>800000.0</td>\n",
       "      <td>Ex-HDFC</td>\n",
       "      <td>jaipur</td>\n",
       "      <td>Tier II</td>\n",
       "      <td>(50.0, 66.0]</td>\n",
       "      <td>...</td>\n",
       "      <td>1600000</td>\n",
       "      <td>North 2</td>\n",
       "      <td>18</td>\n",
       "      <td>6</td>\n",
       "      <td>9</td>\n",
       "      <td>Jaipur</td>\n",
       "      <td>Jaipur</td>\n",
       "      <td>1</td>\n",
       "      <td>NN</td>\n",
       "      <td>3065.30</td>\n",
       "    </tr>\n",
       "    <tr>\n",
       "      <th>3</th>\n",
       "      <td>80.18</td>\n",
       "      <td>100000.0</td>\n",
       "      <td>12.0</td>\n",
       "      <td>Y</td>\n",
       "      <td>2.0</td>\n",
       "      <td>1000000.0</td>\n",
       "      <td>HDFC BANK</td>\n",
       "      <td>jaipur</td>\n",
       "      <td>Tier II</td>\n",
       "      <td>(6.999, 33.0]</td>\n",
       "      <td>...</td>\n",
       "      <td>2000000</td>\n",
       "      <td>North 2</td>\n",
       "      <td>18</td>\n",
       "      <td>2</td>\n",
       "      <td>21</td>\n",
       "      <td>Jaipur</td>\n",
       "      <td>Mumbai</td>\n",
       "      <td>1</td>\n",
       "      <td>NN</td>\n",
       "      <td>962.16</td>\n",
       "    </tr>\n",
       "    <tr>\n",
       "      <th>4</th>\n",
       "      <td>97.19</td>\n",
       "      <td>15000.0</td>\n",
       "      <td>45.0</td>\n",
       "      <td>Y</td>\n",
       "      <td>2.0</td>\n",
       "      <td>300000.0</td>\n",
       "      <td>HDFC BANK</td>\n",
       "      <td>others</td>\n",
       "      <td>Tier III</td>\n",
       "      <td>(33.0, 41.0]</td>\n",
       "      <td>...</td>\n",
       "      <td>165000</td>\n",
       "      <td>West</td>\n",
       "      <td>18</td>\n",
       "      <td>6</td>\n",
       "      <td>6</td>\n",
       "      <td>others</td>\n",
       "      <td>others</td>\n",
       "      <td>1</td>\n",
       "      <td>NN</td>\n",
       "      <td>4373.55</td>\n",
       "    </tr>\n",
       "  </tbody>\n",
       "</table>\n",
       "<p>5 rows × 38 columns</p>\n",
       "</div>"
      ],
      "text/plain": [
       "   Mapped Agent 13M Persistency  Applicant's Policy Annualized Premium  \\\n",
       "0                         93.47                                 7157.0   \n",
       "1                         81.59                                25000.0   \n",
       "2                         87.58                                35000.0   \n",
       "3                         80.18                               100000.0   \n",
       "4                         97.19                                15000.0   \n",
       "\n",
       "   Mapped Agent Vintage Auto Debit of Premium Opted Flag(Yes/No)  \\\n",
       "0                  33.0                                        Y   \n",
       "1                  42.0                                        N   \n",
       "2                  35.0                                        Y   \n",
       "3                  12.0                                        Y   \n",
       "4                  45.0                                        Y   \n",
       "\n",
       "   Application Life Assured BMI  \\\n",
       "0                           1.0   \n",
       "1                           3.0   \n",
       "2                           2.0   \n",
       "3                           2.0   \n",
       "4                           2.0   \n",
       "\n",
       "   Total Risk Exposure of HDFC Life w.r.t. Life Assured  \\\n",
       "0                                         10000000.0      \n",
       "1                                           145501.0      \n",
       "2                                           800000.0      \n",
       "3                                          1000000.0      \n",
       "4                                           300000.0      \n",
       "\n",
       "  Application  Sourcing Channel Application  Life Assured City  \\\n",
       "0                     HDFC BANK                      bangalore   \n",
       "1                     HDFC BANK                         others   \n",
       "2                       Ex-HDFC                         jaipur   \n",
       "3                     HDFC BANK                         jaipur   \n",
       "4                     HDFC BANK                         others   \n",
       "\n",
       "  Application  Life Assured City Tier Application  Life Assured Age  ...  \\\n",
       "0                              Tier I                 (6.999, 33.0]  ...   \n",
       "1                            Tier III                  (41.0, 50.0]  ...   \n",
       "2                             Tier II                  (50.0, 66.0]  ...   \n",
       "3                             Tier II                 (6.999, 33.0]  ...   \n",
       "4                            Tier III                  (33.0, 41.0]  ...   \n",
       "\n",
       "  Applicant's Policy Sum Assured HDFC Life Operational Zone  \\\n",
       "0                       10000000                    North 1   \n",
       "1                         145501                       West   \n",
       "2                        1600000                    North 2   \n",
       "3                        2000000                    North 2   \n",
       "4                         165000                       West   \n",
       "\n",
       "   Application Login year Application Login month Application Login day  \\\n",
       "0                      18                       7                     7   \n",
       "1                      18                       3                    31   \n",
       "2                      18                       6                     9   \n",
       "3                      18                       2                    21   \n",
       "4                      18                       6                     6   \n",
       "\n",
       "  Mapped Agent city Applicant's Policy Contract city Target smoker_drinker  \\\n",
       "0             Delhi                            Delhi      1             NN   \n",
       "1         Ahmedabad                        Ahmedabad      1             NN   \n",
       "2            Jaipur                           Jaipur      1             NN   \n",
       "3            Jaipur                           Mumbai      1             NN   \n",
       "4            others                           others      1             NN   \n",
       "\n",
       "  Perf+vintage  \n",
       "0      3084.51  \n",
       "1      3426.78  \n",
       "2      3065.30  \n",
       "3       962.16  \n",
       "4      4373.55  \n",
       "\n",
       "[5 rows x 38 columns]"
      ]
     },
     "execution_count": 4,
     "metadata": {},
     "output_type": "execute_result"
    }
   ],
   "source": [
    "## Importing Data\n",
    "df=pd.read_csv(\"DataFinal.csv\")\n",
    "df.head()"
   ]
  },
  {
   "cell_type": "code",
   "execution_count": 5,
   "metadata": {},
   "outputs": [
    {
     "name": "stdout",
     "output_type": "stream",
     "text": [
      "['Mapped Agent 13M Persistency' \"Applicant's Policy Annualized Premium\"\n",
      " 'Mapped Agent Vintage' 'Auto Debit of Premium Opted Flag(Yes/No)'\n",
      " 'Application Life Assured BMI'\n",
      " 'Total Risk Exposure of HDFC Life w.r.t. Life Assured'\n",
      " 'Application  Sourcing Channel' 'Application  Life Assured City'\n",
      " 'Application  Life Assured City Tier' 'Application  Life Assured Age'\n",
      " 'Application  Life Assured Education' 'Application  Life Assured Gender'\n",
      " 'Application  Life Assured Income' 'Application  Life Assured Industry'\n",
      " 'Application  Life Assured Marital Status'\n",
      " 'Application  Life Assured Occupation'\n",
      " \"Applicant's Policy PAR/NON PAR/ULIP Tag\"\n",
      " 'Application Specific Sourcing Partner' 'First Premium Payment Type'\n",
      " \"Applicant's Policy Product Category\"\n",
      " \"Applicant's Policy Premium Payment Frequency\"\n",
      " \"Applicant's Policy Product Name\"\n",
      " \"Applicant's Policy Price Sensitivity(1-'Yes', 0-'No')\"\n",
      " 'Application Life Assured Residential Status'\n",
      " \"Applicant's Policy Risk Cessation Term\"\n",
      " \"Applicant's Policy Rider Opted Flag(1-'Yes', 0-'No')\"\n",
      " 'Application Life Assured State' 'Application Sourcing Sub Channel'\n",
      " \"Applicant's Policy Sum Assured\" 'HDFC Life Operational Zone'\n",
      " 'Application Login year' 'Application Login month'\n",
      " 'Application Login day' 'Mapped Agent city'\n",
      " \"Applicant's Policy Contract city\" 'Target' 'smoker_drinker'\n",
      " 'Perf+vintage']\n"
     ]
    }
   ],
   "source": [
    "## Display all column names\n",
    "names = df.columns.values \n",
    "print(names)"
   ]
  },
  {
   "cell_type": "code",
   "execution_count": 6,
   "metadata": {},
   "outputs": [
    {
     "name": "stdout",
     "output_type": "stream",
     "text": [
      "<class 'pandas.core.frame.DataFrame'>\n",
      "RangeIndex: 25320 entries, 0 to 25319\n",
      "Data columns (total 38 columns):\n",
      " #   Column                                                 Non-Null Count  Dtype  \n",
      "---  ------                                                 --------------  -----  \n",
      " 0   Mapped Agent 13M Persistency                           25320 non-null  float64\n",
      " 1   Applicant's Policy Annualized Premium                  25320 non-null  float64\n",
      " 2   Mapped Agent Vintage                                   25320 non-null  float64\n",
      " 3   Auto Debit of Premium Opted Flag(Yes/No)               25320 non-null  object \n",
      " 4   Application Life Assured BMI                           25320 non-null  float64\n",
      " 5   Total Risk Exposure of HDFC Life w.r.t. Life Assured   25320 non-null  float64\n",
      " 6   Application  Sourcing Channel                          25320 non-null  object \n",
      " 7   Application  Life Assured City                         25320 non-null  object \n",
      " 8   Application  Life Assured City Tier                    25320 non-null  object \n",
      " 9   Application  Life Assured Age                          25320 non-null  object \n",
      " 10  Application  Life Assured Education                    25320 non-null  object \n",
      " 11  Application  Life Assured Gender                       25320 non-null  object \n",
      " 12  Application  Life Assured Income                       25320 non-null  float64\n",
      " 13  Application  Life Assured Industry                     25320 non-null  object \n",
      " 14  Application  Life Assured Marital Status               25320 non-null  object \n",
      " 15  Application  Life Assured Occupation                   25320 non-null  object \n",
      " 16  Applicant's Policy PAR/NON PAR/ULIP Tag                25320 non-null  object \n",
      " 17  Application Specific Sourcing Partner                  25320 non-null  object \n",
      " 18  First Premium Payment Type                             25320 non-null  object \n",
      " 19  Applicant's Policy Product Category                    25320 non-null  object \n",
      " 20  Applicant's Policy Premium Payment Frequency           25320 non-null  object \n",
      " 21  Applicant's Policy Product Name                        25320 non-null  object \n",
      " 22  Applicant's Policy Price Sensitivity(1-'Yes', 0-'No')  25320 non-null  int64  \n",
      " 23  Application Life Assured Residential Status            25320 non-null  object \n",
      " 24  Applicant's Policy Risk Cessation Term                 25320 non-null  int64  \n",
      " 25  Applicant's Policy Rider Opted Flag(1-'Yes', 0-'No')   25320 non-null  int64  \n",
      " 26  Application Life Assured State                         25320 non-null  object \n",
      " 27  Application Sourcing Sub Channel                       25320 non-null  object \n",
      " 28  Applicant's Policy Sum Assured                         25320 non-null  int64  \n",
      " 29  HDFC Life Operational Zone                             25320 non-null  object \n",
      " 30  Application Login year                                 25320 non-null  int64  \n",
      " 31  Application Login month                                25320 non-null  int64  \n",
      " 32  Application Login day                                  25320 non-null  int64  \n",
      " 33  Mapped Agent city                                      25320 non-null  object \n",
      " 34  Applicant's Policy Contract city                       25320 non-null  object \n",
      " 35  Target                                                 25320 non-null  int64  \n",
      " 36  smoker_drinker                                         25320 non-null  object \n",
      " 37  Perf+vintage                                           25320 non-null  float64\n",
      "dtypes: float64(7), int64(8), object(23)\n",
      "memory usage: 7.3+ MB\n"
     ]
    }
   ],
   "source": [
    "## Data Information\n",
    "df.info()"
   ]
  },
  {
   "cell_type": "code",
   "execution_count": 7,
   "metadata": {},
   "outputs": [
    {
     "data": {
      "text/plain": [
       "Mapped Agent 13M Persistency                             1.439343e+01\n",
       "Applicant's Policy Annualized Premium                    7.173271e+04\n",
       "Mapped Agent Vintage                                     1.803208e+01\n",
       "Application Life Assured BMI                             1.631083e+00\n",
       "Total Risk Exposure of HDFC Life w.r.t. Life Assured     4.910357e+06\n",
       "Application  Life Assured Income                         1.486164e+06\n",
       "Applicant's Policy Price Sensitivity(1-'Yes', 0-'No')    3.064271e-01\n",
       "Applicant's Policy Risk Cessation Term                   7.217959e+00\n",
       "Applicant's Policy Rider Opted Flag(1-'Yes', 0-'No')     4.996883e-01\n",
       "Applicant's Policy Sum Assured                           2.685334e+06\n",
       "Application Login year                                   2.972338e-01\n",
       "Application Login month                                  3.717016e+00\n",
       "Application Login day                                    9.387921e+00\n",
       "Target                                                   4.152279e-01\n",
       "Perf+vintage                                             1.500578e+03\n",
       "dtype: float64"
      ]
     },
     "execution_count": 7,
     "metadata": {},
     "output_type": "execute_result"
    }
   ],
   "source": [
    "## Standard Deviation of all attributes\n",
    "df.std()"
   ]
  },
  {
   "cell_type": "markdown",
   "metadata": {},
   "source": [
    "## Label Encoding"
   ]
  },
  {
   "cell_type": "code",
   "execution_count": 8,
   "metadata": {},
   "outputs": [],
   "source": [
    "# Import label encoder \n",
    "from sklearn import preprocessing \n",
    "  \n",
    "# label_encoder object knows how to understand word labels. \n",
    "label_encoder = preprocessing.LabelEncoder() "
   ]
  },
  {
   "cell_type": "code",
   "execution_count": 9,
   "metadata": {},
   "outputs": [
    {
     "data": {
      "text/plain": [
       "array([1, 0])"
      ]
     },
     "execution_count": 9,
     "metadata": {},
     "output_type": "execute_result"
    }
   ],
   "source": [
    "df['Auto Debit of Premium Opted Flag(Yes/No)']= label_encoder.fit_transform(df['Auto Debit of Premium Opted Flag(Yes/No)']) \n",
    "df['Auto Debit of Premium Opted Flag(Yes/No)'].unique() "
   ]
  },
  {
   "cell_type": "code",
   "execution_count": 10,
   "metadata": {},
   "outputs": [
    {
     "data": {
      "text/plain": [
       "array([2, 1, 0, 3, 4, 5, 6])"
      ]
     },
     "execution_count": 10,
     "metadata": {},
     "output_type": "execute_result"
    }
   ],
   "source": [
    "df['Application  Sourcing Channel']= label_encoder.fit_transform(df['Application  Sourcing Channel']) \n",
    "df['Application  Sourcing Channel'].unique() \n"
   ]
  },
  {
   "cell_type": "code",
   "execution_count": 11,
   "metadata": {},
   "outputs": [
    {
     "data": {
      "text/plain": [
       "array([ 1, 10,  6, 11,  2,  9, 12,  4,  7,  0,  8,  5,  3, 13])"
      ]
     },
     "execution_count": 11,
     "metadata": {},
     "output_type": "execute_result"
    }
   ],
   "source": [
    "df['Application  Life Assured City']= label_encoder.fit_transform(df['Application  Life Assured City']) \n",
    "df['Application  Life Assured City'].unique() "
   ]
  },
  {
   "cell_type": "code",
   "execution_count": 12,
   "metadata": {},
   "outputs": [
    {
     "data": {
      "text/plain": [
       "array([0, 2, 1])"
      ]
     },
     "execution_count": 12,
     "metadata": {},
     "output_type": "execute_result"
    }
   ],
   "source": [
    "df['Application  Life Assured City Tier']= label_encoder.fit_transform(df['Application  Life Assured City Tier']) \n",
    "df['Application  Life Assured City Tier'].unique() "
   ]
  },
  {
   "cell_type": "code",
   "execution_count": 13,
   "metadata": {},
   "outputs": [
    {
     "data": {
      "text/plain": [
       "array([ 4,  1,  0, 11,  6,  2,  3, 12,  7,  8,  5,  9, 10])"
      ]
     },
     "execution_count": 13,
     "metadata": {},
     "output_type": "execute_result"
    }
   ],
   "source": [
    "df['Application  Life Assured Education']= label_encoder.fit_transform(df['Application  Life Assured Education']) \n",
    "df['Application  Life Assured Education'].unique() "
   ]
  },
  {
   "cell_type": "code",
   "execution_count": 14,
   "metadata": {},
   "outputs": [
    {
     "data": {
      "text/plain": [
       "array([0, 1])"
      ]
     },
     "execution_count": 14,
     "metadata": {},
     "output_type": "execute_result"
    }
   ],
   "source": [
    "df['Application  Life Assured Gender']= label_encoder.fit_transform(df['Application  Life Assured Gender']) \n",
    "df['Application  Life Assured Gender'].unique()"
   ]
  },
  {
   "cell_type": "code",
   "execution_count": 15,
   "metadata": {},
   "outputs": [
    {
     "data": {
      "text/plain": [
       "array([ 9, 10,  7,  8,  3,  2,  6,  1,  0,  4,  5])"
      ]
     },
     "execution_count": 15,
     "metadata": {},
     "output_type": "execute_result"
    }
   ],
   "source": [
    "df['Application  Life Assured Industry']= label_encoder.fit_transform(df['Application  Life Assured Industry']) \n",
    "df['Application  Life Assured Industry'].unique()"
   ]
  },
  {
   "cell_type": "code",
   "execution_count": 16,
   "metadata": {},
   "outputs": [
    {
     "data": {
      "text/plain": [
       "array([2, 1, 3, 0])"
      ]
     },
     "execution_count": 16,
     "metadata": {},
     "output_type": "execute_result"
    }
   ],
   "source": [
    "df['Application  Life Assured Marital Status']= label_encoder.fit_transform(df['Application  Life Assured Marital Status']) \n",
    "df['Application  Life Assured Marital Status'].unique() "
   ]
  },
  {
   "cell_type": "code",
   "execution_count": 17,
   "metadata": {},
   "outputs": [
    {
     "data": {
      "text/plain": [
       "array([3, 4, 0, 2, 5, 6, 1])"
      ]
     },
     "execution_count": 17,
     "metadata": {},
     "output_type": "execute_result"
    }
   ],
   "source": [
    "df['Application  Life Assured Occupation']= label_encoder.fit_transform(df['Application  Life Assured Occupation']) \n",
    "df['Application  Life Assured Occupation'].unique() "
   ]
  },
  {
   "cell_type": "code",
   "execution_count": 18,
   "metadata": {},
   "outputs": [
    {
     "data": {
      "text/plain": [
       "array([0, 1, 2])"
      ]
     },
     "execution_count": 18,
     "metadata": {},
     "output_type": "execute_result"
    }
   ],
   "source": [
    "df[\"Applicant's Policy PAR/NON PAR/ULIP Tag\"]= label_encoder.fit_transform(df[\"Applicant's Policy PAR/NON PAR/ULIP Tag\"]) \n",
    "df[\"Applicant's Policy PAR/NON PAR/ULIP Tag\"].unique() "
   ]
  },
  {
   "cell_type": "code",
   "execution_count": 19,
   "metadata": {},
   "outputs": [
    {
     "data": {
      "text/plain": [
       "array([ 44,  46,  70,  80,  29,  95,  78,  73,  39,   9,  57,  45,  49,\n",
       "        31,  85, 111, 122,  14,  90, 115,  12,   7,  10,  18,  24,  91,\n",
       "        66,  51,  19, 109,   8, 102, 114,  77,  83,  22,  88, 108,  96,\n",
       "        67,  41,  84,   3,  30, 107,  52,  20,  21, 116,  42,  47, 120,\n",
       "        58,   0,  64, 118, 112,  94,  28, 110,  75,  36,  62,  74, 113,\n",
       "       125, 121,  48,  65, 106, 103,  60,   6,  93,  71,  55, 119,  59,\n",
       "       117,   4,  15,  27,  50,  11,   5, 124,  82,  54,  79,  16,  43,\n",
       "        26,  53, 105,  86,  33,  97, 101, 104, 123,  72,  37,  25,  63,\n",
       "        87,  92,  99,  56,  23,  61,  40,  35,  69,  34,   1,  89,  76,\n",
       "        68,   2, 100,  32,  81,  98,  17,  38,  13])"
      ]
     },
     "execution_count": 19,
     "metadata": {},
     "output_type": "execute_result"
    }
   ],
   "source": [
    "df['Application Specific Sourcing Partner']= label_encoder.fit_transform(df['Application Specific Sourcing Partner']) \n",
    "df['Application Specific Sourcing Partner'].unique() "
   ]
  },
  {
   "cell_type": "code",
   "execution_count": 20,
   "metadata": {},
   "outputs": [
    {
     "data": {
      "text/plain": [
       "array([4, 6, 1, 3, 7, 5, 8, 2, 0])"
      ]
     },
     "execution_count": 20,
     "metadata": {},
     "output_type": "execute_result"
    }
   ],
   "source": [
    "df['First Premium Payment Type']= label_encoder.fit_transform(df['First Premium Payment Type']) \n",
    "df['First Premium Payment Type'].unique() "
   ]
  },
  {
   "cell_type": "code",
   "execution_count": 21,
   "metadata": {},
   "outputs": [
    {
     "data": {
      "text/plain": [
       "array([2, 3, 1, 0])"
      ]
     },
     "execution_count": 21,
     "metadata": {},
     "output_type": "execute_result"
    }
   ],
   "source": [
    "df[\"Applicant's Policy Product Category\"]= label_encoder.fit_transform(df[\"Applicant's Policy Product Category\"]) \n",
    "df[\"Applicant's Policy Product Category\"].unique() "
   ]
  },
  {
   "cell_type": "code",
   "execution_count": 22,
   "metadata": {},
   "outputs": [
    {
     "data": {
      "text/plain": [
       "array([0, 2, 1, 3])"
      ]
     },
     "execution_count": 22,
     "metadata": {},
     "output_type": "execute_result"
    }
   ],
   "source": [
    "df[\"Applicant's Policy Premium Payment Frequency\"]= label_encoder.fit_transform(df[\"Applicant's Policy Premium Payment Frequency\"]) \n",
    "df[\"Applicant's Policy Premium Payment Frequency\"].unique() "
   ]
  },
  {
   "cell_type": "code",
   "execution_count": 23,
   "metadata": {},
   "outputs": [
    {
     "data": {
      "text/plain": [
       "array([ 2,  7, 14,  4, 16,  1, 15, 17, 13,  6,  8, 10,  3,  9, 18,  5,  0,\n",
       "       12, 11])"
      ]
     },
     "execution_count": 23,
     "metadata": {},
     "output_type": "execute_result"
    }
   ],
   "source": [
    "df[\"Applicant's Policy Product Name\"]= label_encoder.fit_transform(df[\"Applicant's Policy Product Name\"]) \n",
    "df[\"Applicant's Policy Product Name\"].unique()"
   ]
  },
  {
   "cell_type": "code",
   "execution_count": 24,
   "metadata": {},
   "outputs": [
    {
     "data": {
      "text/plain": [
       "array([1, 0])"
      ]
     },
     "execution_count": 24,
     "metadata": {},
     "output_type": "execute_result"
    }
   ],
   "source": [
    "df['Application Life Assured Residential Status']= label_encoder.fit_transform(df['Application Life Assured Residential Status']) \n",
    "df['Application Life Assured Residential Status'].unique()"
   ]
  },
  {
   "cell_type": "code",
   "execution_count": 25,
   "metadata": {},
   "outputs": [
    {
     "data": {
      "text/plain": [
       "array([ 3,  1,  8,  6,  5,  9,  4,  7, 10, 12,  0,  2, 11])"
      ]
     },
     "execution_count": 25,
     "metadata": {},
     "output_type": "execute_result"
    }
   ],
   "source": [
    "df['Application Life Assured State']= label_encoder.fit_transform(df['Application Life Assured State']) \n",
    "df['Application Life Assured State'].unique() "
   ]
  },
  {
   "cell_type": "code",
   "execution_count": 26,
   "metadata": {},
   "outputs": [
    {
     "data": {
      "text/plain": [
       "array([1, 3, 0, 2, 7, 6, 4, 5])"
      ]
     },
     "execution_count": 26,
     "metadata": {},
     "output_type": "execute_result"
    }
   ],
   "source": [
    "df['Application Sourcing Sub Channel']= label_encoder.fit_transform(df['Application Sourcing Sub Channel']) \n",
    "df['Application Sourcing Sub Channel'].unique() "
   ]
  },
  {
   "cell_type": "code",
   "execution_count": 27,
   "metadata": {},
   "outputs": [
    {
     "data": {
      "text/plain": [
       "array([1, 5, 2, 3, 4, 0])"
      ]
     },
     "execution_count": 27,
     "metadata": {},
     "output_type": "execute_result"
    }
   ],
   "source": [
    "df['HDFC Life Operational Zone']= label_encoder.fit_transform(df['HDFC Life Operational Zone']) \n",
    "df['HDFC Life Operational Zone'].unique() "
   ]
  },
  {
   "cell_type": "code",
   "execution_count": 28,
   "metadata": {},
   "outputs": [
    {
     "data": {
      "text/plain": [
       "array([ 4,  0,  6, 10,  9,  3,  2,  7,  5,  8,  1])"
      ]
     },
     "execution_count": 28,
     "metadata": {},
     "output_type": "execute_result"
    }
   ],
   "source": [
    "df['Mapped Agent city']= label_encoder.fit_transform(df['Mapped Agent city']) \n",
    "df['Mapped Agent city'].unique() "
   ]
  },
  {
   "cell_type": "code",
   "execution_count": 29,
   "metadata": {},
   "outputs": [
    {
     "data": {
      "text/plain": [
       "array([ 4,  0,  8, 10, 13, 11,  3,  2,  5,  9,  6,  7,  1, 12])"
      ]
     },
     "execution_count": 29,
     "metadata": {},
     "output_type": "execute_result"
    }
   ],
   "source": [
    "df[\"Applicant's Policy Contract city\"]= label_encoder.fit_transform(df[\"Applicant's Policy Contract city\"]) \n",
    "df[\"Applicant's Policy Contract city\"].unique() "
   ]
  },
  {
   "cell_type": "code",
   "execution_count": 30,
   "metadata": {},
   "outputs": [
    {
     "data": {
      "text/plain": [
       "array([3, 1, 2, 0])"
      ]
     },
     "execution_count": 30,
     "metadata": {},
     "output_type": "execute_result"
    }
   ],
   "source": [
    "df[\"Application  Life Assured Age\"]= label_encoder.fit_transform(df[\"Application  Life Assured Age\"]) \n",
    "df[\"Application  Life Assured Age\"].unique()"
   ]
  },
  {
   "cell_type": "code",
   "execution_count": 31,
   "metadata": {},
   "outputs": [
    {
     "data": {
      "text/plain": [
       "array([0, 3, 2, 1])"
      ]
     },
     "execution_count": 31,
     "metadata": {},
     "output_type": "execute_result"
    }
   ],
   "source": [
    "df[\"smoker_drinker\"]= label_encoder.fit_transform(df[\"smoker_drinker\"]) \n",
    "df[\"smoker_drinker\"].unique()"
   ]
  },
  {
   "cell_type": "code",
   "execution_count": null,
   "metadata": {},
   "outputs": [],
   "source": []
  },
  {
   "cell_type": "markdown",
   "metadata": {},
   "source": [
    "## Model"
   ]
  },
  {
   "cell_type": "markdown",
   "metadata": {},
   "source": [
    "### Logistic Regression"
   ]
  },
  {
   "cell_type": "code",
   "execution_count": null,
   "metadata": {},
   "outputs": [],
   "source": []
  },
  {
   "cell_type": "code",
   "execution_count": null,
   "metadata": {},
   "outputs": [],
   "source": []
  },
  {
   "cell_type": "code",
   "execution_count": 32,
   "metadata": {},
   "outputs": [
    {
     "data": {
      "text/plain": [
       "Mapped Agent 13M Persistency                             float64\n",
       "Applicant's Policy Annualized Premium                    float64\n",
       "Mapped Agent Vintage                                     float64\n",
       "Auto Debit of Premium Opted Flag(Yes/No)                   int32\n",
       "Application Life Assured BMI                             float64\n",
       "Total Risk Exposure of HDFC Life w.r.t. Life Assured     float64\n",
       "Application  Sourcing Channel                              int32\n",
       "Application  Life Assured City                             int32\n",
       "Application  Life Assured City Tier                        int32\n",
       "Application  Life Assured Age                              int32\n",
       "Application  Life Assured Education                        int32\n",
       "Application  Life Assured Gender                           int32\n",
       "Application  Life Assured Income                         float64\n",
       "Application  Life Assured Industry                         int32\n",
       "Application  Life Assured Marital Status                   int32\n",
       "Application  Life Assured Occupation                       int32\n",
       "Applicant's Policy PAR/NON PAR/ULIP Tag                    int32\n",
       "Application Specific Sourcing Partner                      int32\n",
       "First Premium Payment Type                                 int32\n",
       "Applicant's Policy Product Category                        int32\n",
       "Applicant's Policy Premium Payment Frequency               int32\n",
       "Applicant's Policy Product Name                            int32\n",
       "Applicant's Policy Price Sensitivity(1-'Yes', 0-'No')      int64\n",
       "Application Life Assured Residential Status                int32\n",
       "Applicant's Policy Risk Cessation Term                     int64\n",
       "Applicant's Policy Rider Opted Flag(1-'Yes', 0-'No')       int64\n",
       "Application Life Assured State                             int32\n",
       "Application Sourcing Sub Channel                           int32\n",
       "Applicant's Policy Sum Assured                             int64\n",
       "HDFC Life Operational Zone                                 int32\n",
       "Application Login year                                     int64\n",
       "Application Login month                                    int64\n",
       "Application Login day                                      int64\n",
       "Mapped Agent city                                          int32\n",
       "Applicant's Policy Contract city                           int32\n",
       "Target                                                     int64\n",
       "smoker_drinker                                             int32\n",
       "Perf+vintage                                             float64\n",
       "dtype: object"
      ]
     },
     "execution_count": 32,
     "metadata": {},
     "output_type": "execute_result"
    }
   ],
   "source": [
    "df.dtypes"
   ]
  },
  {
   "cell_type": "code",
   "execution_count": 33,
   "metadata": {},
   "outputs": [],
   "source": [
    "#from sklearn.preprocessing import StandardScaler\n",
    "#scaler.fit(df.drop('Target',axis=1))\n",
    "#scaled_features = scaler.transform(df.drop('Target',axis=1))\n",
    "\n",
    "#df = pd.DataFrame(scaled_features,columns=df.columns[:-1])\n",
    "#df.head()"
   ]
  },
  {
   "cell_type": "code",
   "execution_count": 34,
   "metadata": {},
   "outputs": [],
   "source": [
    "df.drop(columns=['Application  Life Assured Marital Status', 'Application Login year',\n",
    "                 'Application Login month','Application Login day',\n",
    "                 'Mapped Agent city', 'Application  Life Assured City', \n",
    "            'Application Life Assured State','Application  Life Assured Education',\n",
    "                'Application Life Assured Residential Status'], inplace=True)"
   ]
  },
  {
   "cell_type": "code",
   "execution_count": 35,
   "metadata": {},
   "outputs": [
    {
     "data": {
      "text/html": [
       "<div>\n",
       "<style scoped>\n",
       "    .dataframe tbody tr th:only-of-type {\n",
       "        vertical-align: middle;\n",
       "    }\n",
       "\n",
       "    .dataframe tbody tr th {\n",
       "        vertical-align: top;\n",
       "    }\n",
       "\n",
       "    .dataframe thead th {\n",
       "        text-align: right;\n",
       "    }\n",
       "</style>\n",
       "<table border=\"1\" class=\"dataframe\">\n",
       "  <thead>\n",
       "    <tr style=\"text-align: right;\">\n",
       "      <th></th>\n",
       "      <th>Mapped Agent 13M Persistency</th>\n",
       "      <th>Applicant's Policy Annualized Premium</th>\n",
       "      <th>Mapped Agent Vintage</th>\n",
       "      <th>Auto Debit of Premium Opted Flag(Yes/No)</th>\n",
       "      <th>Application Life Assured BMI</th>\n",
       "      <th>Total Risk Exposure of HDFC Life w.r.t. Life Assured</th>\n",
       "      <th>Application  Sourcing Channel</th>\n",
       "      <th>Application  Life Assured City Tier</th>\n",
       "      <th>Application  Life Assured Age</th>\n",
       "      <th>Application  Life Assured Gender</th>\n",
       "      <th>...</th>\n",
       "      <th>Applicant's Policy Price Sensitivity(1-'Yes', 0-'No')</th>\n",
       "      <th>Applicant's Policy Risk Cessation Term</th>\n",
       "      <th>Applicant's Policy Rider Opted Flag(1-'Yes', 0-'No')</th>\n",
       "      <th>Application Sourcing Sub Channel</th>\n",
       "      <th>Applicant's Policy Sum Assured</th>\n",
       "      <th>HDFC Life Operational Zone</th>\n",
       "      <th>Applicant's Policy Contract city</th>\n",
       "      <th>Target</th>\n",
       "      <th>smoker_drinker</th>\n",
       "      <th>Perf+vintage</th>\n",
       "    </tr>\n",
       "  </thead>\n",
       "  <tbody>\n",
       "    <tr>\n",
       "      <th>0</th>\n",
       "      <td>93.47</td>\n",
       "      <td>7157.0</td>\n",
       "      <td>33.0</td>\n",
       "      <td>1</td>\n",
       "      <td>1.0</td>\n",
       "      <td>10000000.0</td>\n",
       "      <td>2</td>\n",
       "      <td>0</td>\n",
       "      <td>3</td>\n",
       "      <td>0</td>\n",
       "      <td>...</td>\n",
       "      <td>1</td>\n",
       "      <td>40</td>\n",
       "      <td>1</td>\n",
       "      <td>1</td>\n",
       "      <td>10000000</td>\n",
       "      <td>1</td>\n",
       "      <td>4</td>\n",
       "      <td>1</td>\n",
       "      <td>0</td>\n",
       "      <td>3084.51</td>\n",
       "    </tr>\n",
       "    <tr>\n",
       "      <th>1</th>\n",
       "      <td>81.59</td>\n",
       "      <td>25000.0</td>\n",
       "      <td>42.0</td>\n",
       "      <td>0</td>\n",
       "      <td>3.0</td>\n",
       "      <td>145501.0</td>\n",
       "      <td>2</td>\n",
       "      <td>2</td>\n",
       "      <td>1</td>\n",
       "      <td>1</td>\n",
       "      <td>...</td>\n",
       "      <td>0</td>\n",
       "      <td>16</td>\n",
       "      <td>0</td>\n",
       "      <td>1</td>\n",
       "      <td>145501</td>\n",
       "      <td>5</td>\n",
       "      <td>0</td>\n",
       "      <td>1</td>\n",
       "      <td>0</td>\n",
       "      <td>3426.78</td>\n",
       "    </tr>\n",
       "    <tr>\n",
       "      <th>2</th>\n",
       "      <td>87.58</td>\n",
       "      <td>35000.0</td>\n",
       "      <td>35.0</td>\n",
       "      <td>1</td>\n",
       "      <td>2.0</td>\n",
       "      <td>800000.0</td>\n",
       "      <td>1</td>\n",
       "      <td>1</td>\n",
       "      <td>2</td>\n",
       "      <td>1</td>\n",
       "      <td>...</td>\n",
       "      <td>0</td>\n",
       "      <td>15</td>\n",
       "      <td>1</td>\n",
       "      <td>3</td>\n",
       "      <td>1600000</td>\n",
       "      <td>2</td>\n",
       "      <td>8</td>\n",
       "      <td>1</td>\n",
       "      <td>0</td>\n",
       "      <td>3065.30</td>\n",
       "    </tr>\n",
       "    <tr>\n",
       "      <th>3</th>\n",
       "      <td>80.18</td>\n",
       "      <td>100000.0</td>\n",
       "      <td>12.0</td>\n",
       "      <td>1</td>\n",
       "      <td>2.0</td>\n",
       "      <td>1000000.0</td>\n",
       "      <td>2</td>\n",
       "      <td>1</td>\n",
       "      <td>3</td>\n",
       "      <td>1</td>\n",
       "      <td>...</td>\n",
       "      <td>0</td>\n",
       "      <td>10</td>\n",
       "      <td>1</td>\n",
       "      <td>1</td>\n",
       "      <td>2000000</td>\n",
       "      <td>2</td>\n",
       "      <td>10</td>\n",
       "      <td>1</td>\n",
       "      <td>0</td>\n",
       "      <td>962.16</td>\n",
       "    </tr>\n",
       "    <tr>\n",
       "      <th>4</th>\n",
       "      <td>97.19</td>\n",
       "      <td>15000.0</td>\n",
       "      <td>45.0</td>\n",
       "      <td>1</td>\n",
       "      <td>2.0</td>\n",
       "      <td>300000.0</td>\n",
       "      <td>2</td>\n",
       "      <td>2</td>\n",
       "      <td>0</td>\n",
       "      <td>1</td>\n",
       "      <td>...</td>\n",
       "      <td>0</td>\n",
       "      <td>20</td>\n",
       "      <td>1</td>\n",
       "      <td>1</td>\n",
       "      <td>165000</td>\n",
       "      <td>5</td>\n",
       "      <td>13</td>\n",
       "      <td>1</td>\n",
       "      <td>0</td>\n",
       "      <td>4373.55</td>\n",
       "    </tr>\n",
       "    <tr>\n",
       "      <th>...</th>\n",
       "      <td>...</td>\n",
       "      <td>...</td>\n",
       "      <td>...</td>\n",
       "      <td>...</td>\n",
       "      <td>...</td>\n",
       "      <td>...</td>\n",
       "      <td>...</td>\n",
       "      <td>...</td>\n",
       "      <td>...</td>\n",
       "      <td>...</td>\n",
       "      <td>...</td>\n",
       "      <td>...</td>\n",
       "      <td>...</td>\n",
       "      <td>...</td>\n",
       "      <td>...</td>\n",
       "      <td>...</td>\n",
       "      <td>...</td>\n",
       "      <td>...</td>\n",
       "      <td>...</td>\n",
       "      <td>...</td>\n",
       "      <td>...</td>\n",
       "    </tr>\n",
       "    <tr>\n",
       "      <th>25315</th>\n",
       "      <td>80.18</td>\n",
       "      <td>65000.0</td>\n",
       "      <td>1.0</td>\n",
       "      <td>0</td>\n",
       "      <td>2.0</td>\n",
       "      <td>2840000.0</td>\n",
       "      <td>1</td>\n",
       "      <td>2</td>\n",
       "      <td>3</td>\n",
       "      <td>1</td>\n",
       "      <td>...</td>\n",
       "      <td>0</td>\n",
       "      <td>20</td>\n",
       "      <td>1</td>\n",
       "      <td>3</td>\n",
       "      <td>5200000</td>\n",
       "      <td>1</td>\n",
       "      <td>13</td>\n",
       "      <td>0</td>\n",
       "      <td>0</td>\n",
       "      <td>80.18</td>\n",
       "    </tr>\n",
       "    <tr>\n",
       "      <th>25316</th>\n",
       "      <td>80.18</td>\n",
       "      <td>60000.0</td>\n",
       "      <td>6.0</td>\n",
       "      <td>0</td>\n",
       "      <td>2.0</td>\n",
       "      <td>2200000.0</td>\n",
       "      <td>1</td>\n",
       "      <td>1</td>\n",
       "      <td>3</td>\n",
       "      <td>1</td>\n",
       "      <td>...</td>\n",
       "      <td>0</td>\n",
       "      <td>25</td>\n",
       "      <td>1</td>\n",
       "      <td>3</td>\n",
       "      <td>4400000</td>\n",
       "      <td>0</td>\n",
       "      <td>7</td>\n",
       "      <td>0</td>\n",
       "      <td>0</td>\n",
       "      <td>481.08</td>\n",
       "    </tr>\n",
       "    <tr>\n",
       "      <th>25317</th>\n",
       "      <td>80.18</td>\n",
       "      <td>50000.0</td>\n",
       "      <td>9.0</td>\n",
       "      <td>0</td>\n",
       "      <td>2.0</td>\n",
       "      <td>350000.0</td>\n",
       "      <td>2</td>\n",
       "      <td>1</td>\n",
       "      <td>2</td>\n",
       "      <td>0</td>\n",
       "      <td>...</td>\n",
       "      <td>0</td>\n",
       "      <td>10</td>\n",
       "      <td>0</td>\n",
       "      <td>2</td>\n",
       "      <td>350000</td>\n",
       "      <td>1</td>\n",
       "      <td>13</td>\n",
       "      <td>0</td>\n",
       "      <td>0</td>\n",
       "      <td>721.62</td>\n",
       "    </tr>\n",
       "    <tr>\n",
       "      <th>25318</th>\n",
       "      <td>80.18</td>\n",
       "      <td>25000.0</td>\n",
       "      <td>11.0</td>\n",
       "      <td>0</td>\n",
       "      <td>2.0</td>\n",
       "      <td>625000.0</td>\n",
       "      <td>1</td>\n",
       "      <td>2</td>\n",
       "      <td>3</td>\n",
       "      <td>1</td>\n",
       "      <td>...</td>\n",
       "      <td>0</td>\n",
       "      <td>10</td>\n",
       "      <td>1</td>\n",
       "      <td>3</td>\n",
       "      <td>1250000</td>\n",
       "      <td>2</td>\n",
       "      <td>13</td>\n",
       "      <td>0</td>\n",
       "      <td>0</td>\n",
       "      <td>881.98</td>\n",
       "    </tr>\n",
       "    <tr>\n",
       "      <th>25319</th>\n",
       "      <td>62.58</td>\n",
       "      <td>57416.0</td>\n",
       "      <td>68.0</td>\n",
       "      <td>0</td>\n",
       "      <td>1.0</td>\n",
       "      <td>363991.0</td>\n",
       "      <td>2</td>\n",
       "      <td>1</td>\n",
       "      <td>3</td>\n",
       "      <td>1</td>\n",
       "      <td>...</td>\n",
       "      <td>0</td>\n",
       "      <td>17</td>\n",
       "      <td>0</td>\n",
       "      <td>1</td>\n",
       "      <td>363991</td>\n",
       "      <td>3</td>\n",
       "      <td>13</td>\n",
       "      <td>1</td>\n",
       "      <td>0</td>\n",
       "      <td>4255.44</td>\n",
       "    </tr>\n",
       "  </tbody>\n",
       "</table>\n",
       "<p>25320 rows × 29 columns</p>\n",
       "</div>"
      ],
      "text/plain": [
       "       Mapped Agent 13M Persistency  Applicant's Policy Annualized Premium  \\\n",
       "0                             93.47                                 7157.0   \n",
       "1                             81.59                                25000.0   \n",
       "2                             87.58                                35000.0   \n",
       "3                             80.18                               100000.0   \n",
       "4                             97.19                                15000.0   \n",
       "...                             ...                                    ...   \n",
       "25315                         80.18                                65000.0   \n",
       "25316                         80.18                                60000.0   \n",
       "25317                         80.18                                50000.0   \n",
       "25318                         80.18                                25000.0   \n",
       "25319                         62.58                                57416.0   \n",
       "\n",
       "       Mapped Agent Vintage  Auto Debit of Premium Opted Flag(Yes/No)  \\\n",
       "0                      33.0                                         1   \n",
       "1                      42.0                                         0   \n",
       "2                      35.0                                         1   \n",
       "3                      12.0                                         1   \n",
       "4                      45.0                                         1   \n",
       "...                     ...                                       ...   \n",
       "25315                   1.0                                         0   \n",
       "25316                   6.0                                         0   \n",
       "25317                   9.0                                         0   \n",
       "25318                  11.0                                         0   \n",
       "25319                  68.0                                         0   \n",
       "\n",
       "       Application Life Assured BMI  \\\n",
       "0                               1.0   \n",
       "1                               3.0   \n",
       "2                               2.0   \n",
       "3                               2.0   \n",
       "4                               2.0   \n",
       "...                             ...   \n",
       "25315                           2.0   \n",
       "25316                           2.0   \n",
       "25317                           2.0   \n",
       "25318                           2.0   \n",
       "25319                           1.0   \n",
       "\n",
       "       Total Risk Exposure of HDFC Life w.r.t. Life Assured  \\\n",
       "0                                             10000000.0      \n",
       "1                                               145501.0      \n",
       "2                                               800000.0      \n",
       "3                                              1000000.0      \n",
       "4                                               300000.0      \n",
       "...                                                  ...      \n",
       "25315                                          2840000.0      \n",
       "25316                                          2200000.0      \n",
       "25317                                           350000.0      \n",
       "25318                                           625000.0      \n",
       "25319                                           363991.0      \n",
       "\n",
       "       Application  Sourcing Channel  Application  Life Assured City Tier  \\\n",
       "0                                  2                                    0   \n",
       "1                                  2                                    2   \n",
       "2                                  1                                    1   \n",
       "3                                  2                                    1   \n",
       "4                                  2                                    2   \n",
       "...                              ...                                  ...   \n",
       "25315                              1                                    2   \n",
       "25316                              1                                    1   \n",
       "25317                              2                                    1   \n",
       "25318                              1                                    2   \n",
       "25319                              2                                    1   \n",
       "\n",
       "       Application  Life Assured Age  Application  Life Assured Gender  ...  \\\n",
       "0                                  3                                 0  ...   \n",
       "1                                  1                                 1  ...   \n",
       "2                                  2                                 1  ...   \n",
       "3                                  3                                 1  ...   \n",
       "4                                  0                                 1  ...   \n",
       "...                              ...                               ...  ...   \n",
       "25315                              3                                 1  ...   \n",
       "25316                              3                                 1  ...   \n",
       "25317                              2                                 0  ...   \n",
       "25318                              3                                 1  ...   \n",
       "25319                              3                                 1  ...   \n",
       "\n",
       "       Applicant's Policy Price Sensitivity(1-'Yes', 0-'No')  \\\n",
       "0                                                      1       \n",
       "1                                                      0       \n",
       "2                                                      0       \n",
       "3                                                      0       \n",
       "4                                                      0       \n",
       "...                                                  ...       \n",
       "25315                                                  0       \n",
       "25316                                                  0       \n",
       "25317                                                  0       \n",
       "25318                                                  0       \n",
       "25319                                                  0       \n",
       "\n",
       "       Applicant's Policy Risk Cessation Term  \\\n",
       "0                                          40   \n",
       "1                                          16   \n",
       "2                                          15   \n",
       "3                                          10   \n",
       "4                                          20   \n",
       "...                                       ...   \n",
       "25315                                      20   \n",
       "25316                                      25   \n",
       "25317                                      10   \n",
       "25318                                      10   \n",
       "25319                                      17   \n",
       "\n",
       "       Applicant's Policy Rider Opted Flag(1-'Yes', 0-'No')  \\\n",
       "0                                                      1      \n",
       "1                                                      0      \n",
       "2                                                      1      \n",
       "3                                                      1      \n",
       "4                                                      1      \n",
       "...                                                  ...      \n",
       "25315                                                  1      \n",
       "25316                                                  1      \n",
       "25317                                                  0      \n",
       "25318                                                  1      \n",
       "25319                                                  0      \n",
       "\n",
       "       Application Sourcing Sub Channel  Applicant's Policy Sum Assured  \\\n",
       "0                                     1                        10000000   \n",
       "1                                     1                          145501   \n",
       "2                                     3                         1600000   \n",
       "3                                     1                         2000000   \n",
       "4                                     1                          165000   \n",
       "...                                 ...                             ...   \n",
       "25315                                 3                         5200000   \n",
       "25316                                 3                         4400000   \n",
       "25317                                 2                          350000   \n",
       "25318                                 3                         1250000   \n",
       "25319                                 1                          363991   \n",
       "\n",
       "       HDFC Life Operational Zone  Applicant's Policy Contract city  Target  \\\n",
       "0                               1                                 4       1   \n",
       "1                               5                                 0       1   \n",
       "2                               2                                 8       1   \n",
       "3                               2                                10       1   \n",
       "4                               5                                13       1   \n",
       "...                           ...                               ...     ...   \n",
       "25315                           1                                13       0   \n",
       "25316                           0                                 7       0   \n",
       "25317                           1                                13       0   \n",
       "25318                           2                                13       0   \n",
       "25319                           3                                13       1   \n",
       "\n",
       "       smoker_drinker  Perf+vintage  \n",
       "0                   0       3084.51  \n",
       "1                   0       3426.78  \n",
       "2                   0       3065.30  \n",
       "3                   0        962.16  \n",
       "4                   0       4373.55  \n",
       "...               ...           ...  \n",
       "25315               0         80.18  \n",
       "25316               0        481.08  \n",
       "25317               0        721.62  \n",
       "25318               0        881.98  \n",
       "25319               0       4255.44  \n",
       "\n",
       "[25320 rows x 29 columns]"
      ]
     },
     "execution_count": 35,
     "metadata": {},
     "output_type": "execute_result"
    }
   ],
   "source": [
    "df"
   ]
  },
  {
   "cell_type": "code",
   "execution_count": 36,
   "metadata": {},
   "outputs": [],
   "source": [
    "## we split the data into training and testing sets\n",
    "## Importing library of train & test data from sklearn\n",
    "from sklearn.model_selection import train_test_split"
   ]
  },
  {
   "cell_type": "code",
   "execution_count": 37,
   "metadata": {},
   "outputs": [
    {
     "data": {
      "text/html": [
       "<div>\n",
       "<style scoped>\n",
       "    .dataframe tbody tr th:only-of-type {\n",
       "        vertical-align: middle;\n",
       "    }\n",
       "\n",
       "    .dataframe tbody tr th {\n",
       "        vertical-align: top;\n",
       "    }\n",
       "\n",
       "    .dataframe thead th {\n",
       "        text-align: right;\n",
       "    }\n",
       "</style>\n",
       "<table border=\"1\" class=\"dataframe\">\n",
       "  <thead>\n",
       "    <tr style=\"text-align: right;\">\n",
       "      <th></th>\n",
       "      <th>Mapped Agent 13M Persistency</th>\n",
       "      <th>Applicant's Policy Annualized Premium</th>\n",
       "      <th>Mapped Agent Vintage</th>\n",
       "      <th>Auto Debit of Premium Opted Flag(Yes/No)</th>\n",
       "      <th>Application Life Assured BMI</th>\n",
       "      <th>Total Risk Exposure of HDFC Life w.r.t. Life Assured</th>\n",
       "      <th>Application  Sourcing Channel</th>\n",
       "      <th>Application  Life Assured City Tier</th>\n",
       "      <th>Application  Life Assured Age</th>\n",
       "      <th>Application  Life Assured Gender</th>\n",
       "      <th>...</th>\n",
       "      <th>Applicant's Policy Product Name</th>\n",
       "      <th>Applicant's Policy Price Sensitivity(1-'Yes', 0-'No')</th>\n",
       "      <th>Applicant's Policy Risk Cessation Term</th>\n",
       "      <th>Applicant's Policy Rider Opted Flag(1-'Yes', 0-'No')</th>\n",
       "      <th>Application Sourcing Sub Channel</th>\n",
       "      <th>Applicant's Policy Sum Assured</th>\n",
       "      <th>HDFC Life Operational Zone</th>\n",
       "      <th>Applicant's Policy Contract city</th>\n",
       "      <th>smoker_drinker</th>\n",
       "      <th>Perf+vintage</th>\n",
       "    </tr>\n",
       "  </thead>\n",
       "  <tbody>\n",
       "    <tr>\n",
       "      <th>0</th>\n",
       "      <td>93.47</td>\n",
       "      <td>7157.0</td>\n",
       "      <td>33.0</td>\n",
       "      <td>1</td>\n",
       "      <td>1.0</td>\n",
       "      <td>10000000.0</td>\n",
       "      <td>2</td>\n",
       "      <td>0</td>\n",
       "      <td>3</td>\n",
       "      <td>0</td>\n",
       "      <td>...</td>\n",
       "      <td>2</td>\n",
       "      <td>1</td>\n",
       "      <td>40</td>\n",
       "      <td>1</td>\n",
       "      <td>1</td>\n",
       "      <td>10000000</td>\n",
       "      <td>1</td>\n",
       "      <td>4</td>\n",
       "      <td>0</td>\n",
       "      <td>3084.51</td>\n",
       "    </tr>\n",
       "    <tr>\n",
       "      <th>1</th>\n",
       "      <td>81.59</td>\n",
       "      <td>25000.0</td>\n",
       "      <td>42.0</td>\n",
       "      <td>0</td>\n",
       "      <td>3.0</td>\n",
       "      <td>145501.0</td>\n",
       "      <td>2</td>\n",
       "      <td>2</td>\n",
       "      <td>1</td>\n",
       "      <td>1</td>\n",
       "      <td>...</td>\n",
       "      <td>7</td>\n",
       "      <td>0</td>\n",
       "      <td>16</td>\n",
       "      <td>0</td>\n",
       "      <td>1</td>\n",
       "      <td>145501</td>\n",
       "      <td>5</td>\n",
       "      <td>0</td>\n",
       "      <td>0</td>\n",
       "      <td>3426.78</td>\n",
       "    </tr>\n",
       "    <tr>\n",
       "      <th>2</th>\n",
       "      <td>87.58</td>\n",
       "      <td>35000.0</td>\n",
       "      <td>35.0</td>\n",
       "      <td>1</td>\n",
       "      <td>2.0</td>\n",
       "      <td>800000.0</td>\n",
       "      <td>1</td>\n",
       "      <td>1</td>\n",
       "      <td>2</td>\n",
       "      <td>1</td>\n",
       "      <td>...</td>\n",
       "      <td>14</td>\n",
       "      <td>0</td>\n",
       "      <td>15</td>\n",
       "      <td>1</td>\n",
       "      <td>3</td>\n",
       "      <td>1600000</td>\n",
       "      <td>2</td>\n",
       "      <td>8</td>\n",
       "      <td>0</td>\n",
       "      <td>3065.30</td>\n",
       "    </tr>\n",
       "    <tr>\n",
       "      <th>3</th>\n",
       "      <td>80.18</td>\n",
       "      <td>100000.0</td>\n",
       "      <td>12.0</td>\n",
       "      <td>1</td>\n",
       "      <td>2.0</td>\n",
       "      <td>1000000.0</td>\n",
       "      <td>2</td>\n",
       "      <td>1</td>\n",
       "      <td>3</td>\n",
       "      <td>1</td>\n",
       "      <td>...</td>\n",
       "      <td>4</td>\n",
       "      <td>0</td>\n",
       "      <td>10</td>\n",
       "      <td>1</td>\n",
       "      <td>1</td>\n",
       "      <td>2000000</td>\n",
       "      <td>2</td>\n",
       "      <td>10</td>\n",
       "      <td>0</td>\n",
       "      <td>962.16</td>\n",
       "    </tr>\n",
       "    <tr>\n",
       "      <th>4</th>\n",
       "      <td>97.19</td>\n",
       "      <td>15000.0</td>\n",
       "      <td>45.0</td>\n",
       "      <td>1</td>\n",
       "      <td>2.0</td>\n",
       "      <td>300000.0</td>\n",
       "      <td>2</td>\n",
       "      <td>2</td>\n",
       "      <td>0</td>\n",
       "      <td>1</td>\n",
       "      <td>...</td>\n",
       "      <td>16</td>\n",
       "      <td>0</td>\n",
       "      <td>20</td>\n",
       "      <td>1</td>\n",
       "      <td>1</td>\n",
       "      <td>165000</td>\n",
       "      <td>5</td>\n",
       "      <td>13</td>\n",
       "      <td>0</td>\n",
       "      <td>4373.55</td>\n",
       "    </tr>\n",
       "    <tr>\n",
       "      <th>...</th>\n",
       "      <td>...</td>\n",
       "      <td>...</td>\n",
       "      <td>...</td>\n",
       "      <td>...</td>\n",
       "      <td>...</td>\n",
       "      <td>...</td>\n",
       "      <td>...</td>\n",
       "      <td>...</td>\n",
       "      <td>...</td>\n",
       "      <td>...</td>\n",
       "      <td>...</td>\n",
       "      <td>...</td>\n",
       "      <td>...</td>\n",
       "      <td>...</td>\n",
       "      <td>...</td>\n",
       "      <td>...</td>\n",
       "      <td>...</td>\n",
       "      <td>...</td>\n",
       "      <td>...</td>\n",
       "      <td>...</td>\n",
       "      <td>...</td>\n",
       "    </tr>\n",
       "    <tr>\n",
       "      <th>25315</th>\n",
       "      <td>80.18</td>\n",
       "      <td>65000.0</td>\n",
       "      <td>1.0</td>\n",
       "      <td>0</td>\n",
       "      <td>2.0</td>\n",
       "      <td>2840000.0</td>\n",
       "      <td>1</td>\n",
       "      <td>2</td>\n",
       "      <td>3</td>\n",
       "      <td>1</td>\n",
       "      <td>...</td>\n",
       "      <td>4</td>\n",
       "      <td>0</td>\n",
       "      <td>20</td>\n",
       "      <td>1</td>\n",
       "      <td>3</td>\n",
       "      <td>5200000</td>\n",
       "      <td>1</td>\n",
       "      <td>13</td>\n",
       "      <td>0</td>\n",
       "      <td>80.18</td>\n",
       "    </tr>\n",
       "    <tr>\n",
       "      <th>25316</th>\n",
       "      <td>80.18</td>\n",
       "      <td>60000.0</td>\n",
       "      <td>6.0</td>\n",
       "      <td>0</td>\n",
       "      <td>2.0</td>\n",
       "      <td>2200000.0</td>\n",
       "      <td>1</td>\n",
       "      <td>1</td>\n",
       "      <td>3</td>\n",
       "      <td>1</td>\n",
       "      <td>...</td>\n",
       "      <td>4</td>\n",
       "      <td>0</td>\n",
       "      <td>25</td>\n",
       "      <td>1</td>\n",
       "      <td>3</td>\n",
       "      <td>4400000</td>\n",
       "      <td>0</td>\n",
       "      <td>7</td>\n",
       "      <td>0</td>\n",
       "      <td>481.08</td>\n",
       "    </tr>\n",
       "    <tr>\n",
       "      <th>25317</th>\n",
       "      <td>80.18</td>\n",
       "      <td>50000.0</td>\n",
       "      <td>9.0</td>\n",
       "      <td>0</td>\n",
       "      <td>2.0</td>\n",
       "      <td>350000.0</td>\n",
       "      <td>2</td>\n",
       "      <td>1</td>\n",
       "      <td>2</td>\n",
       "      <td>0</td>\n",
       "      <td>...</td>\n",
       "      <td>14</td>\n",
       "      <td>0</td>\n",
       "      <td>10</td>\n",
       "      <td>0</td>\n",
       "      <td>2</td>\n",
       "      <td>350000</td>\n",
       "      <td>1</td>\n",
       "      <td>13</td>\n",
       "      <td>0</td>\n",
       "      <td>721.62</td>\n",
       "    </tr>\n",
       "    <tr>\n",
       "      <th>25318</th>\n",
       "      <td>80.18</td>\n",
       "      <td>25000.0</td>\n",
       "      <td>11.0</td>\n",
       "      <td>0</td>\n",
       "      <td>2.0</td>\n",
       "      <td>625000.0</td>\n",
       "      <td>1</td>\n",
       "      <td>2</td>\n",
       "      <td>3</td>\n",
       "      <td>1</td>\n",
       "      <td>...</td>\n",
       "      <td>14</td>\n",
       "      <td>0</td>\n",
       "      <td>10</td>\n",
       "      <td>1</td>\n",
       "      <td>3</td>\n",
       "      <td>1250000</td>\n",
       "      <td>2</td>\n",
       "      <td>13</td>\n",
       "      <td>0</td>\n",
       "      <td>881.98</td>\n",
       "    </tr>\n",
       "    <tr>\n",
       "      <th>25319</th>\n",
       "      <td>62.58</td>\n",
       "      <td>57416.0</td>\n",
       "      <td>68.0</td>\n",
       "      <td>0</td>\n",
       "      <td>1.0</td>\n",
       "      <td>363991.0</td>\n",
       "      <td>2</td>\n",
       "      <td>1</td>\n",
       "      <td>3</td>\n",
       "      <td>1</td>\n",
       "      <td>...</td>\n",
       "      <td>11</td>\n",
       "      <td>0</td>\n",
       "      <td>17</td>\n",
       "      <td>0</td>\n",
       "      <td>1</td>\n",
       "      <td>363991</td>\n",
       "      <td>3</td>\n",
       "      <td>13</td>\n",
       "      <td>0</td>\n",
       "      <td>4255.44</td>\n",
       "    </tr>\n",
       "  </tbody>\n",
       "</table>\n",
       "<p>25320 rows × 28 columns</p>\n",
       "</div>"
      ],
      "text/plain": [
       "       Mapped Agent 13M Persistency  Applicant's Policy Annualized Premium  \\\n",
       "0                             93.47                                 7157.0   \n",
       "1                             81.59                                25000.0   \n",
       "2                             87.58                                35000.0   \n",
       "3                             80.18                               100000.0   \n",
       "4                             97.19                                15000.0   \n",
       "...                             ...                                    ...   \n",
       "25315                         80.18                                65000.0   \n",
       "25316                         80.18                                60000.0   \n",
       "25317                         80.18                                50000.0   \n",
       "25318                         80.18                                25000.0   \n",
       "25319                         62.58                                57416.0   \n",
       "\n",
       "       Mapped Agent Vintage  Auto Debit of Premium Opted Flag(Yes/No)  \\\n",
       "0                      33.0                                         1   \n",
       "1                      42.0                                         0   \n",
       "2                      35.0                                         1   \n",
       "3                      12.0                                         1   \n",
       "4                      45.0                                         1   \n",
       "...                     ...                                       ...   \n",
       "25315                   1.0                                         0   \n",
       "25316                   6.0                                         0   \n",
       "25317                   9.0                                         0   \n",
       "25318                  11.0                                         0   \n",
       "25319                  68.0                                         0   \n",
       "\n",
       "       Application Life Assured BMI  \\\n",
       "0                               1.0   \n",
       "1                               3.0   \n",
       "2                               2.0   \n",
       "3                               2.0   \n",
       "4                               2.0   \n",
       "...                             ...   \n",
       "25315                           2.0   \n",
       "25316                           2.0   \n",
       "25317                           2.0   \n",
       "25318                           2.0   \n",
       "25319                           1.0   \n",
       "\n",
       "       Total Risk Exposure of HDFC Life w.r.t. Life Assured  \\\n",
       "0                                             10000000.0      \n",
       "1                                               145501.0      \n",
       "2                                               800000.0      \n",
       "3                                              1000000.0      \n",
       "4                                               300000.0      \n",
       "...                                                  ...      \n",
       "25315                                          2840000.0      \n",
       "25316                                          2200000.0      \n",
       "25317                                           350000.0      \n",
       "25318                                           625000.0      \n",
       "25319                                           363991.0      \n",
       "\n",
       "       Application  Sourcing Channel  Application  Life Assured City Tier  \\\n",
       "0                                  2                                    0   \n",
       "1                                  2                                    2   \n",
       "2                                  1                                    1   \n",
       "3                                  2                                    1   \n",
       "4                                  2                                    2   \n",
       "...                              ...                                  ...   \n",
       "25315                              1                                    2   \n",
       "25316                              1                                    1   \n",
       "25317                              2                                    1   \n",
       "25318                              1                                    2   \n",
       "25319                              2                                    1   \n",
       "\n",
       "       Application  Life Assured Age  Application  Life Assured Gender  ...  \\\n",
       "0                                  3                                 0  ...   \n",
       "1                                  1                                 1  ...   \n",
       "2                                  2                                 1  ...   \n",
       "3                                  3                                 1  ...   \n",
       "4                                  0                                 1  ...   \n",
       "...                              ...                               ...  ...   \n",
       "25315                              3                                 1  ...   \n",
       "25316                              3                                 1  ...   \n",
       "25317                              2                                 0  ...   \n",
       "25318                              3                                 1  ...   \n",
       "25319                              3                                 1  ...   \n",
       "\n",
       "       Applicant's Policy Product Name  \\\n",
       "0                                    2   \n",
       "1                                    7   \n",
       "2                                   14   \n",
       "3                                    4   \n",
       "4                                   16   \n",
       "...                                ...   \n",
       "25315                                4   \n",
       "25316                                4   \n",
       "25317                               14   \n",
       "25318                               14   \n",
       "25319                               11   \n",
       "\n",
       "       Applicant's Policy Price Sensitivity(1-'Yes', 0-'No')  \\\n",
       "0                                                      1       \n",
       "1                                                      0       \n",
       "2                                                      0       \n",
       "3                                                      0       \n",
       "4                                                      0       \n",
       "...                                                  ...       \n",
       "25315                                                  0       \n",
       "25316                                                  0       \n",
       "25317                                                  0       \n",
       "25318                                                  0       \n",
       "25319                                                  0       \n",
       "\n",
       "       Applicant's Policy Risk Cessation Term  \\\n",
       "0                                          40   \n",
       "1                                          16   \n",
       "2                                          15   \n",
       "3                                          10   \n",
       "4                                          20   \n",
       "...                                       ...   \n",
       "25315                                      20   \n",
       "25316                                      25   \n",
       "25317                                      10   \n",
       "25318                                      10   \n",
       "25319                                      17   \n",
       "\n",
       "       Applicant's Policy Rider Opted Flag(1-'Yes', 0-'No')  \\\n",
       "0                                                      1      \n",
       "1                                                      0      \n",
       "2                                                      1      \n",
       "3                                                      1      \n",
       "4                                                      1      \n",
       "...                                                  ...      \n",
       "25315                                                  1      \n",
       "25316                                                  1      \n",
       "25317                                                  0      \n",
       "25318                                                  1      \n",
       "25319                                                  0      \n",
       "\n",
       "       Application Sourcing Sub Channel  Applicant's Policy Sum Assured  \\\n",
       "0                                     1                        10000000   \n",
       "1                                     1                          145501   \n",
       "2                                     3                         1600000   \n",
       "3                                     1                         2000000   \n",
       "4                                     1                          165000   \n",
       "...                                 ...                             ...   \n",
       "25315                                 3                         5200000   \n",
       "25316                                 3                         4400000   \n",
       "25317                                 2                          350000   \n",
       "25318                                 3                         1250000   \n",
       "25319                                 1                          363991   \n",
       "\n",
       "       HDFC Life Operational Zone  Applicant's Policy Contract city  \\\n",
       "0                               1                                 4   \n",
       "1                               5                                 0   \n",
       "2                               2                                 8   \n",
       "3                               2                                10   \n",
       "4                               5                                13   \n",
       "...                           ...                               ...   \n",
       "25315                           1                                13   \n",
       "25316                           0                                 7   \n",
       "25317                           1                                13   \n",
       "25318                           2                                13   \n",
       "25319                           3                                13   \n",
       "\n",
       "       smoker_drinker  Perf+vintage  \n",
       "0                   0       3084.51  \n",
       "1                   0       3426.78  \n",
       "2                   0       3065.30  \n",
       "3                   0        962.16  \n",
       "4                   0       4373.55  \n",
       "...               ...           ...  \n",
       "25315               0         80.18  \n",
       "25316               0        481.08  \n",
       "25317               0        721.62  \n",
       "25318               0        881.98  \n",
       "25319               0       4255.44  \n",
       "\n",
       "[25320 rows x 28 columns]"
      ]
     },
     "execution_count": 37,
     "metadata": {},
     "output_type": "execute_result"
    }
   ],
   "source": [
    "## Features for training and testing purpose(Indepedndent variable)\n",
    "x = df.loc[:, df.columns != 'Target']\n",
    "x"
   ]
  },
  {
   "cell_type": "code",
   "execution_count": 38,
   "metadata": {},
   "outputs": [
    {
     "data": {
      "text/plain": [
       "0    1\n",
       "1    1\n",
       "2    1\n",
       "3    1\n",
       "4    1\n",
       "Name: Target, dtype: int64"
      ]
     },
     "execution_count": 38,
     "metadata": {},
     "output_type": "execute_result"
    }
   ],
   "source": [
    "y=df['Target']\n",
    "y.head()"
   ]
  },
  {
   "cell_type": "code",
   "execution_count": 39,
   "metadata": {},
   "outputs": [
    {
     "name": "stdout",
     "output_type": "stream",
     "text": [
      "                            OLS Regression Results                            \n",
      "==============================================================================\n",
      "Dep. Variable:                 Target   R-squared:                       0.312\n",
      "Model:                            OLS   Adj. R-squared:                  0.311\n",
      "Method:                 Least Squares   F-statistic:                     409.0\n",
      "Date:                Thu, 03 Dec 2020   Prob (F-statistic):               0.00\n",
      "Time:                        22:36:35   Log-Likelihood:                -8944.3\n",
      "No. Observations:               25320   AIC:                         1.795e+04\n",
      "Df Residuals:                   25291   BIC:                         1.818e+04\n",
      "Df Model:                          28                                         \n",
      "Covariance Type:            nonrobust                                         \n",
      "=========================================================================================================================\n",
      "                                                            coef    std err          t      P>|t|      [0.025      0.975]\n",
      "-------------------------------------------------------------------------------------------------------------------------\n",
      "const                                                     0.5643      0.043     13.122      0.000       0.480       0.649\n",
      "Mapped Agent 13M Persistency                              0.0005      0.000      1.490      0.136      -0.000       0.001\n",
      "Applicant's Policy Annualized Premium                 -3.348e-08   4.25e-08     -0.788      0.431   -1.17e-07    4.98e-08\n",
      "Mapped Agent Vintage                                      0.0002      0.001      0.241      0.810      -0.001       0.002\n",
      "Auto Debit of Premium Opted Flag(Yes/No)                  0.4515      0.005     99.985      0.000       0.443       0.460\n",
      "Application Life Assured BMI                              0.0001      0.001      0.089      0.929      -0.002       0.003\n",
      "Total Risk Exposure of HDFC Life w.r.t. Life Assured   3.573e-10   5.83e-10      0.613      0.540   -7.86e-10     1.5e-09\n",
      "Application  Sourcing Channel                             0.0041      0.003      1.601      0.109      -0.001       0.009\n",
      "Application  Life Assured City Tier                      -0.0080      0.003     -2.627      0.009      -0.014      -0.002\n",
      "Application  Life Assured Age                            -0.0071      0.002     -3.628      0.000      -0.011      -0.003\n",
      "Application  Life Assured Gender                         -0.0183      0.005     -3.480      0.001      -0.029      -0.008\n",
      "Application  Life Assured Income                       6.313e-09   1.72e-09      3.680      0.000    2.95e-09    9.68e-09\n",
      "Application  Life Assured Industry                        0.0020      0.001      2.998      0.003       0.001       0.003\n",
      "Application  Life Assured Occupation                     -0.0025      0.002     -1.074      0.283      -0.007       0.002\n",
      "Applicant's Policy PAR/NON PAR/ULIP Tag                  -0.0126      0.011     -1.173      0.241      -0.034       0.008\n",
      "Application Specific Sourcing Partner                    -0.0004      0.000     -2.713      0.007      -0.001      -0.000\n",
      "First Premium Payment Type                                0.0017      0.001      1.465      0.143      -0.001       0.004\n",
      "Applicant's Policy Product Category                      -0.0306      0.006     -4.922      0.000      -0.043      -0.018\n",
      "Applicant's Policy Premium Payment Frequency              0.0442      0.005      9.637      0.000       0.035       0.053\n",
      "Applicant's Policy Product Name                          -0.0007      0.000     -1.732      0.083      -0.002    9.54e-05\n",
      "Applicant's Policy Price Sensitivity(1-'Yes', 0-'No')    -0.0252      0.021     -1.190      0.234      -0.067       0.016\n",
      "Applicant's Policy Risk Cessation Term                    0.0017      0.001      3.299      0.001       0.001       0.003\n",
      "Applicant's Policy Rider Opted Flag(1-'Yes', 0-'No')     -0.0310      0.005     -6.590      0.000      -0.040      -0.022\n",
      "Application Sourcing Sub Channel                         -0.0113      0.002     -7.326      0.000      -0.014      -0.008\n",
      "Applicant's Policy Sum Assured                         2.806e-09   1.68e-09      1.675      0.094   -4.78e-10    6.09e-09\n",
      "HDFC Life Operational Zone                                0.0061      0.001      5.020      0.000       0.004       0.009\n",
      "Applicant's Policy Contract city                         -0.0018      0.001     -3.129      0.002      -0.003      -0.001\n",
      "smoker_drinker                                            0.0197      0.008      2.369      0.018       0.003       0.036\n",
      "Perf+vintage                                            2.55e-06    9.5e-06      0.268      0.788   -1.61e-05    2.12e-05\n",
      "==============================================================================\n",
      "Omnibus:                      783.371   Durbin-Watson:                   1.994\n",
      "Prob(Omnibus):                  0.000   Jarque-Bera (JB):              858.204\n",
      "Skew:                          -0.451   Prob(JB):                    4.40e-187\n",
      "Kurtosis:                       2.989   Cond. No.                     1.22e+08\n",
      "==============================================================================\n",
      "\n",
      "Warnings:\n",
      "[1] Standard Errors assume that the covariance matrix of the errors is correctly specified.\n",
      "[2] The condition number is large, 1.22e+08. This might indicate that there are\n",
      "strong multicollinearity or other numerical problems.\n"
     ]
    }
   ],
   "source": [
    "## Satistical Analysis\n",
    "X2 = sm.add_constant(x)\n",
    "est = sm.OLS(y, X2)\n",
    "est = sm.OLS(y, X2.astype(float)).fit()\n",
    "print(est.summary())"
   ]
  },
  {
   "cell_type": "code",
   "execution_count": 40,
   "metadata": {},
   "outputs": [
    {
     "data": {
      "text/html": [
       "<div>\n",
       "<style scoped>\n",
       "    .dataframe tbody tr th:only-of-type {\n",
       "        vertical-align: middle;\n",
       "    }\n",
       "\n",
       "    .dataframe tbody tr th {\n",
       "        vertical-align: top;\n",
       "    }\n",
       "\n",
       "    .dataframe thead th {\n",
       "        text-align: right;\n",
       "    }\n",
       "</style>\n",
       "<table border=\"1\" class=\"dataframe\">\n",
       "  <thead>\n",
       "    <tr style=\"text-align: right;\">\n",
       "      <th></th>\n",
       "      <th>Mapped Agent 13M Persistency</th>\n",
       "      <th>Applicant's Policy Annualized Premium</th>\n",
       "      <th>Mapped Agent Vintage</th>\n",
       "      <th>Auto Debit of Premium Opted Flag(Yes/No)</th>\n",
       "      <th>Application Life Assured BMI</th>\n",
       "      <th>Total Risk Exposure of HDFC Life w.r.t. Life Assured</th>\n",
       "      <th>Application  Sourcing Channel</th>\n",
       "      <th>Application  Life Assured City Tier</th>\n",
       "      <th>Application  Life Assured Age</th>\n",
       "      <th>Application  Life Assured Gender</th>\n",
       "      <th>...</th>\n",
       "      <th>Applicant's Policy Price Sensitivity(1-'Yes', 0-'No')</th>\n",
       "      <th>Applicant's Policy Risk Cessation Term</th>\n",
       "      <th>Applicant's Policy Rider Opted Flag(1-'Yes', 0-'No')</th>\n",
       "      <th>Application Sourcing Sub Channel</th>\n",
       "      <th>Applicant's Policy Sum Assured</th>\n",
       "      <th>HDFC Life Operational Zone</th>\n",
       "      <th>Applicant's Policy Contract city</th>\n",
       "      <th>Target</th>\n",
       "      <th>smoker_drinker</th>\n",
       "      <th>Perf+vintage</th>\n",
       "    </tr>\n",
       "  </thead>\n",
       "  <tbody>\n",
       "    <tr>\n",
       "      <th>Mapped Agent 13M Persistency</th>\n",
       "      <td>1.000000</td>\n",
       "      <td>0.062682</td>\n",
       "      <td>-0.072860</td>\n",
       "      <td>0.047792</td>\n",
       "      <td>0.011831</td>\n",
       "      <td>0.027077</td>\n",
       "      <td>0.057366</td>\n",
       "      <td>-0.043713</td>\n",
       "      <td>0.013076</td>\n",
       "      <td>-0.024481</td>\n",
       "      <td>...</td>\n",
       "      <td>0.012340</td>\n",
       "      <td>-0.010099</td>\n",
       "      <td>-0.027292</td>\n",
       "      <td>0.017714</td>\n",
       "      <td>0.035358</td>\n",
       "      <td>0.028889</td>\n",
       "      <td>-0.009278</td>\n",
       "      <td>0.054259</td>\n",
       "      <td>-0.000301</td>\n",
       "      <td>0.261651</td>\n",
       "    </tr>\n",
       "    <tr>\n",
       "      <th>Applicant's Policy Annualized Premium</th>\n",
       "      <td>0.062682</td>\n",
       "      <td>1.000000</td>\n",
       "      <td>0.074067</td>\n",
       "      <td>0.051198</td>\n",
       "      <td>0.009783</td>\n",
       "      <td>0.203898</td>\n",
       "      <td>-0.046005</td>\n",
       "      <td>-0.185035</td>\n",
       "      <td>-0.032739</td>\n",
       "      <td>-0.106255</td>\n",
       "      <td>...</td>\n",
       "      <td>-0.196787</td>\n",
       "      <td>-0.160750</td>\n",
       "      <td>-0.163850</td>\n",
       "      <td>-0.129713</td>\n",
       "      <td>0.229791</td>\n",
       "      <td>0.059993</td>\n",
       "      <td>-0.079064</td>\n",
       "      <td>0.058102</td>\n",
       "      <td>-0.036397</td>\n",
       "      <td>0.095216</td>\n",
       "    </tr>\n",
       "    <tr>\n",
       "      <th>Mapped Agent Vintage</th>\n",
       "      <td>-0.072860</td>\n",
       "      <td>0.074067</td>\n",
       "      <td>1.000000</td>\n",
       "      <td>0.039876</td>\n",
       "      <td>-0.004827</td>\n",
       "      <td>0.007782</td>\n",
       "      <td>-0.119093</td>\n",
       "      <td>-0.000863</td>\n",
       "      <td>-0.010723</td>\n",
       "      <td>-0.030703</td>\n",
       "      <td>...</td>\n",
       "      <td>-0.037928</td>\n",
       "      <td>-0.032065</td>\n",
       "      <td>-0.038416</td>\n",
       "      <td>-0.130464</td>\n",
       "      <td>-0.018303</td>\n",
       "      <td>0.062624</td>\n",
       "      <td>0.050258</td>\n",
       "      <td>0.047135</td>\n",
       "      <td>-0.014578</td>\n",
       "      <td>0.931476</td>\n",
       "    </tr>\n",
       "    <tr>\n",
       "      <th>Auto Debit of Premium Opted Flag(Yes/No)</th>\n",
       "      <td>0.047792</td>\n",
       "      <td>0.051198</td>\n",
       "      <td>0.039876</td>\n",
       "      <td>1.000000</td>\n",
       "      <td>-0.000340</td>\n",
       "      <td>0.005819</td>\n",
       "      <td>-0.005724</td>\n",
       "      <td>-0.048969</td>\n",
       "      <td>-0.013755</td>\n",
       "      <td>-0.072811</td>\n",
       "      <td>...</td>\n",
       "      <td>-0.002956</td>\n",
       "      <td>-0.009920</td>\n",
       "      <td>-0.043982</td>\n",
       "      <td>-0.068511</td>\n",
       "      <td>0.019097</td>\n",
       "      <td>0.006561</td>\n",
       "      <td>0.044435</td>\n",
       "      <td>0.545721</td>\n",
       "      <td>-0.045732</td>\n",
       "      <td>0.054250</td>\n",
       "    </tr>\n",
       "    <tr>\n",
       "      <th>Application Life Assured BMI</th>\n",
       "      <td>0.011831</td>\n",
       "      <td>0.009783</td>\n",
       "      <td>-0.004827</td>\n",
       "      <td>-0.000340</td>\n",
       "      <td>1.000000</td>\n",
       "      <td>0.024443</td>\n",
       "      <td>0.011912</td>\n",
       "      <td>-0.029927</td>\n",
       "      <td>-0.009994</td>\n",
       "      <td>0.025196</td>\n",
       "      <td>...</td>\n",
       "      <td>0.029005</td>\n",
       "      <td>0.038882</td>\n",
       "      <td>-0.021458</td>\n",
       "      <td>0.025751</td>\n",
       "      <td>0.032445</td>\n",
       "      <td>0.035603</td>\n",
       "      <td>-0.021323</td>\n",
       "      <td>0.003069</td>\n",
       "      <td>0.019894</td>\n",
       "      <td>0.000626</td>\n",
       "    </tr>\n",
       "    <tr>\n",
       "      <th>Total Risk Exposure of HDFC Life w.r.t. Life Assured</th>\n",
       "      <td>0.027077</td>\n",
       "      <td>0.203898</td>\n",
       "      <td>0.007782</td>\n",
       "      <td>0.005819</td>\n",
       "      <td>0.024443</td>\n",
       "      <td>1.000000</td>\n",
       "      <td>0.022608</td>\n",
       "      <td>-0.117557</td>\n",
       "      <td>-0.040377</td>\n",
       "      <td>0.040687</td>\n",
       "      <td>...</td>\n",
       "      <td>0.467116</td>\n",
       "      <td>0.406111</td>\n",
       "      <td>0.032277</td>\n",
       "      <td>0.105105</td>\n",
       "      <td>0.618561</td>\n",
       "      <td>0.095490</td>\n",
       "      <td>-0.054421</td>\n",
       "      <td>0.034091</td>\n",
       "      <td>0.121183</td>\n",
       "      <td>0.018326</td>\n",
       "    </tr>\n",
       "    <tr>\n",
       "      <th>Application  Sourcing Channel</th>\n",
       "      <td>0.057366</td>\n",
       "      <td>-0.046005</td>\n",
       "      <td>-0.119093</td>\n",
       "      <td>-0.005724</td>\n",
       "      <td>0.011912</td>\n",
       "      <td>0.022608</td>\n",
       "      <td>1.000000</td>\n",
       "      <td>-0.005047</td>\n",
       "      <td>0.047907</td>\n",
       "      <td>-0.002967</td>\n",
       "      <td>...</td>\n",
       "      <td>0.132833</td>\n",
       "      <td>0.128582</td>\n",
       "      <td>-0.048032</td>\n",
       "      <td>0.406829</td>\n",
       "      <td>0.001991</td>\n",
       "      <td>0.026171</td>\n",
       "      <td>0.082321</td>\n",
       "      <td>-0.016493</td>\n",
       "      <td>0.036750</td>\n",
       "      <td>-0.098494</td>\n",
       "    </tr>\n",
       "    <tr>\n",
       "      <th>Application  Life Assured City Tier</th>\n",
       "      <td>-0.043713</td>\n",
       "      <td>-0.185035</td>\n",
       "      <td>-0.000863</td>\n",
       "      <td>-0.048969</td>\n",
       "      <td>-0.029927</td>\n",
       "      <td>-0.117557</td>\n",
       "      <td>-0.005047</td>\n",
       "      <td>1.000000</td>\n",
       "      <td>0.005923</td>\n",
       "      <td>0.111682</td>\n",
       "      <td>...</td>\n",
       "      <td>-0.078697</td>\n",
       "      <td>-0.071645</td>\n",
       "      <td>0.064414</td>\n",
       "      <td>-0.069972</td>\n",
       "      <td>-0.153543</td>\n",
       "      <td>-0.162685</td>\n",
       "      <td>0.428705</td>\n",
       "      <td>-0.068534</td>\n",
       "      <td>-0.026944</td>\n",
       "      <td>-0.020812</td>\n",
       "    </tr>\n",
       "    <tr>\n",
       "      <th>Application  Life Assured Age</th>\n",
       "      <td>0.013076</td>\n",
       "      <td>-0.032739</td>\n",
       "      <td>-0.010723</td>\n",
       "      <td>-0.013755</td>\n",
       "      <td>-0.009994</td>\n",
       "      <td>-0.040377</td>\n",
       "      <td>0.047907</td>\n",
       "      <td>0.005923</td>\n",
       "      <td>1.000000</td>\n",
       "      <td>-0.011606</td>\n",
       "      <td>...</td>\n",
       "      <td>-0.009637</td>\n",
       "      <td>0.011877</td>\n",
       "      <td>-0.034889</td>\n",
       "      <td>0.013915</td>\n",
       "      <td>-0.056641</td>\n",
       "      <td>-0.020743</td>\n",
       "      <td>-0.025894</td>\n",
       "      <td>-0.025997</td>\n",
       "      <td>-0.003903</td>\n",
       "      <td>-0.005817</td>\n",
       "    </tr>\n",
       "    <tr>\n",
       "      <th>Application  Life Assured Gender</th>\n",
       "      <td>-0.024481</td>\n",
       "      <td>-0.106255</td>\n",
       "      <td>-0.030703</td>\n",
       "      <td>-0.072811</td>\n",
       "      <td>0.025196</td>\n",
       "      <td>0.040687</td>\n",
       "      <td>-0.002967</td>\n",
       "      <td>0.111682</td>\n",
       "      <td>-0.011606</td>\n",
       "      <td>1.000000</td>\n",
       "      <td>...</td>\n",
       "      <td>0.083739</td>\n",
       "      <td>0.072006</td>\n",
       "      <td>0.063287</td>\n",
       "      <td>0.037238</td>\n",
       "      <td>0.057534</td>\n",
       "      <td>0.010043</td>\n",
       "      <td>0.046426</td>\n",
       "      <td>-0.059488</td>\n",
       "      <td>0.061533</td>\n",
       "      <td>-0.038813</td>\n",
       "    </tr>\n",
       "    <tr>\n",
       "      <th>Application  Life Assured Income</th>\n",
       "      <td>0.039652</td>\n",
       "      <td>0.447667</td>\n",
       "      <td>0.036212</td>\n",
       "      <td>0.033245</td>\n",
       "      <td>0.018489</td>\n",
       "      <td>0.338006</td>\n",
       "      <td>-0.017609</td>\n",
       "      <td>-0.162232</td>\n",
       "      <td>-0.045420</td>\n",
       "      <td>0.016628</td>\n",
       "      <td>...</td>\n",
       "      <td>0.059961</td>\n",
       "      <td>0.029890</td>\n",
       "      <td>-0.083039</td>\n",
       "      <td>-0.029041</td>\n",
       "      <td>0.262525</td>\n",
       "      <td>0.066684</td>\n",
       "      <td>-0.082221</td>\n",
       "      <td>0.055608</td>\n",
       "      <td>0.038879</td>\n",
       "      <td>0.050158</td>\n",
       "    </tr>\n",
       "    <tr>\n",
       "      <th>Application  Life Assured Industry</th>\n",
       "      <td>0.037646</td>\n",
       "      <td>0.069941</td>\n",
       "      <td>0.011447</td>\n",
       "      <td>0.025176</td>\n",
       "      <td>0.024126</td>\n",
       "      <td>0.067400</td>\n",
       "      <td>0.044301</td>\n",
       "      <td>-0.170829</td>\n",
       "      <td>0.012475</td>\n",
       "      <td>-0.001831</td>\n",
       "      <td>...</td>\n",
       "      <td>0.095441</td>\n",
       "      <td>0.087330</td>\n",
       "      <td>-0.003598</td>\n",
       "      <td>0.068629</td>\n",
       "      <td>0.114559</td>\n",
       "      <td>0.114381</td>\n",
       "      <td>-0.112298</td>\n",
       "      <td>0.044421</td>\n",
       "      <td>0.038148</td>\n",
       "      <td>0.024246</td>\n",
       "    </tr>\n",
       "    <tr>\n",
       "      <th>Application  Life Assured Occupation</th>\n",
       "      <td>0.008446</td>\n",
       "      <td>0.086224</td>\n",
       "      <td>0.020636</td>\n",
       "      <td>0.021738</td>\n",
       "      <td>0.021658</td>\n",
       "      <td>0.048079</td>\n",
       "      <td>-0.017326</td>\n",
       "      <td>-0.145871</td>\n",
       "      <td>-0.035358</td>\n",
       "      <td>-0.016985</td>\n",
       "      <td>...</td>\n",
       "      <td>0.014371</td>\n",
       "      <td>0.026976</td>\n",
       "      <td>0.010484</td>\n",
       "      <td>0.001402</td>\n",
       "      <td>0.048904</td>\n",
       "      <td>0.053534</td>\n",
       "      <td>-0.067727</td>\n",
       "      <td>0.018661</td>\n",
       "      <td>-0.001273</td>\n",
       "      <td>0.023892</td>\n",
       "    </tr>\n",
       "    <tr>\n",
       "      <th>Applicant's Policy PAR/NON PAR/ULIP Tag</th>\n",
       "      <td>0.020060</td>\n",
       "      <td>0.144091</td>\n",
       "      <td>0.040251</td>\n",
       "      <td>0.031633</td>\n",
       "      <td>-0.043846</td>\n",
       "      <td>-0.348180</td>\n",
       "      <td>-0.101715</td>\n",
       "      <td>0.062920</td>\n",
       "      <td>-0.002914</td>\n",
       "      <td>-0.059913</td>\n",
       "      <td>...</td>\n",
       "      <td>-0.774552</td>\n",
       "      <td>-0.722569</td>\n",
       "      <td>0.043917</td>\n",
       "      <td>-0.280882</td>\n",
       "      <td>-0.481401</td>\n",
       "      <td>-0.071355</td>\n",
       "      <td>0.073060</td>\n",
       "      <td>0.025555</td>\n",
       "      <td>-0.129444</td>\n",
       "      <td>0.045677</td>\n",
       "    </tr>\n",
       "    <tr>\n",
       "      <th>Application Specific Sourcing Partner</th>\n",
       "      <td>-0.012678</td>\n",
       "      <td>-0.039199</td>\n",
       "      <td>-0.065116</td>\n",
       "      <td>-0.044533</td>\n",
       "      <td>0.017832</td>\n",
       "      <td>0.061995</td>\n",
       "      <td>0.217918</td>\n",
       "      <td>-0.064446</td>\n",
       "      <td>-0.000798</td>\n",
       "      <td>0.014453</td>\n",
       "      <td>...</td>\n",
       "      <td>0.128633</td>\n",
       "      <td>0.196921</td>\n",
       "      <td>-0.002048</td>\n",
       "      <td>0.231294</td>\n",
       "      <td>0.081990</td>\n",
       "      <td>0.095318</td>\n",
       "      <td>-0.057535</td>\n",
       "      <td>-0.051015</td>\n",
       "      <td>0.039382</td>\n",
       "      <td>-0.068053</td>\n",
       "    </tr>\n",
       "    <tr>\n",
       "      <th>First Premium Payment Type</th>\n",
       "      <td>0.015805</td>\n",
       "      <td>-0.065828</td>\n",
       "      <td>-0.005280</td>\n",
       "      <td>-0.099422</td>\n",
       "      <td>-0.013568</td>\n",
       "      <td>-0.004839</td>\n",
       "      <td>0.107090</td>\n",
       "      <td>0.090797</td>\n",
       "      <td>0.047641</td>\n",
       "      <td>0.046357</td>\n",
       "      <td>...</td>\n",
       "      <td>0.028595</td>\n",
       "      <td>0.034859</td>\n",
       "      <td>0.033764</td>\n",
       "      <td>-0.097441</td>\n",
       "      <td>-0.038482</td>\n",
       "      <td>-0.070241</td>\n",
       "      <td>-0.015716</td>\n",
       "      <td>-0.045257</td>\n",
       "      <td>0.080220</td>\n",
       "      <td>-0.002424</td>\n",
       "    </tr>\n",
       "    <tr>\n",
       "      <th>Applicant's Policy Product Category</th>\n",
       "      <td>-0.052127</td>\n",
       "      <td>-0.034568</td>\n",
       "      <td>-0.032677</td>\n",
       "      <td>-0.055855</td>\n",
       "      <td>0.037661</td>\n",
       "      <td>0.092454</td>\n",
       "      <td>0.016522</td>\n",
       "      <td>-0.026850</td>\n",
       "      <td>0.012691</td>\n",
       "      <td>0.008698</td>\n",
       "      <td>...</td>\n",
       "      <td>0.244358</td>\n",
       "      <td>0.373937</td>\n",
       "      <td>-0.191450</td>\n",
       "      <td>0.170539</td>\n",
       "      <td>0.072585</td>\n",
       "      <td>0.000171</td>\n",
       "      <td>-0.077160</td>\n",
       "      <td>-0.066304</td>\n",
       "      <td>0.042366</td>\n",
       "      <td>-0.048368</td>\n",
       "    </tr>\n",
       "    <tr>\n",
       "      <th>Applicant's Policy Premium Payment Frequency</th>\n",
       "      <td>0.023088</td>\n",
       "      <td>0.005446</td>\n",
       "      <td>0.015519</td>\n",
       "      <td>0.027004</td>\n",
       "      <td>0.013695</td>\n",
       "      <td>0.031763</td>\n",
       "      <td>-0.098239</td>\n",
       "      <td>-0.068801</td>\n",
       "      <td>0.003680</td>\n",
       "      <td>0.019636</td>\n",
       "      <td>...</td>\n",
       "      <td>0.057306</td>\n",
       "      <td>0.076889</td>\n",
       "      <td>0.004168</td>\n",
       "      <td>0.181652</td>\n",
       "      <td>0.116500</td>\n",
       "      <td>0.113171</td>\n",
       "      <td>-0.052730</td>\n",
       "      <td>0.066873</td>\n",
       "      <td>0.013268</td>\n",
       "      <td>0.026328</td>\n",
       "    </tr>\n",
       "    <tr>\n",
       "      <th>Applicant's Policy Product Name</th>\n",
       "      <td>-0.013428</td>\n",
       "      <td>-0.001287</td>\n",
       "      <td>-0.009976</td>\n",
       "      <td>-0.034407</td>\n",
       "      <td>-0.004383</td>\n",
       "      <td>-0.007354</td>\n",
       "      <td>-0.021064</td>\n",
       "      <td>0.103682</td>\n",
       "      <td>-0.040727</td>\n",
       "      <td>0.042661</td>\n",
       "      <td>...</td>\n",
       "      <td>-0.060361</td>\n",
       "      <td>-0.030843</td>\n",
       "      <td>0.072047</td>\n",
       "      <td>0.002956</td>\n",
       "      <td>0.049730</td>\n",
       "      <td>0.011938</td>\n",
       "      <td>0.117258</td>\n",
       "      <td>-0.023837</td>\n",
       "      <td>0.000928</td>\n",
       "      <td>-0.014525</td>\n",
       "    </tr>\n",
       "    <tr>\n",
       "      <th>Applicant's Policy Price Sensitivity(1-'Yes', 0-'No')</th>\n",
       "      <td>0.012340</td>\n",
       "      <td>-0.196787</td>\n",
       "      <td>-0.037928</td>\n",
       "      <td>-0.002956</td>\n",
       "      <td>0.029005</td>\n",
       "      <td>0.467116</td>\n",
       "      <td>0.132833</td>\n",
       "      <td>-0.078697</td>\n",
       "      <td>-0.009637</td>\n",
       "      <td>0.083739</td>\n",
       "      <td>...</td>\n",
       "      <td>1.000000</td>\n",
       "      <td>0.771688</td>\n",
       "      <td>0.099922</td>\n",
       "      <td>0.280035</td>\n",
       "      <td>0.715378</td>\n",
       "      <td>0.118093</td>\n",
       "      <td>-0.048162</td>\n",
       "      <td>0.016191</td>\n",
       "      <td>0.159748</td>\n",
       "      <td>-0.033744</td>\n",
       "    </tr>\n",
       "    <tr>\n",
       "      <th>Applicant's Policy Risk Cessation Term</th>\n",
       "      <td>-0.010099</td>\n",
       "      <td>-0.160750</td>\n",
       "      <td>-0.032065</td>\n",
       "      <td>-0.009920</td>\n",
       "      <td>0.038882</td>\n",
       "      <td>0.406111</td>\n",
       "      <td>0.128582</td>\n",
       "      <td>-0.071645</td>\n",
       "      <td>0.011877</td>\n",
       "      <td>0.072006</td>\n",
       "      <td>...</td>\n",
       "      <td>0.771688</td>\n",
       "      <td>1.000000</td>\n",
       "      <td>0.068198</td>\n",
       "      <td>0.294026</td>\n",
       "      <td>0.628419</td>\n",
       "      <td>0.114184</td>\n",
       "      <td>-0.055870</td>\n",
       "      <td>0.011483</td>\n",
       "      <td>0.155884</td>\n",
       "      <td>-0.035436</td>\n",
       "    </tr>\n",
       "    <tr>\n",
       "      <th>Applicant's Policy Rider Opted Flag(1-'Yes', 0-'No')</th>\n",
       "      <td>-0.027292</td>\n",
       "      <td>-0.163850</td>\n",
       "      <td>-0.038416</td>\n",
       "      <td>-0.043982</td>\n",
       "      <td>-0.021458</td>\n",
       "      <td>0.032277</td>\n",
       "      <td>-0.048032</td>\n",
       "      <td>0.064414</td>\n",
       "      <td>-0.034889</td>\n",
       "      <td>0.063287</td>\n",
       "      <td>...</td>\n",
       "      <td>0.099922</td>\n",
       "      <td>0.068198</td>\n",
       "      <td>1.000000</td>\n",
       "      <td>-0.015353</td>\n",
       "      <td>0.168571</td>\n",
       "      <td>-0.030774</td>\n",
       "      <td>0.027097</td>\n",
       "      <td>-0.051770</td>\n",
       "      <td>0.023921</td>\n",
       "      <td>-0.047636</td>\n",
       "    </tr>\n",
       "    <tr>\n",
       "      <th>Application Sourcing Sub Channel</th>\n",
       "      <td>0.017714</td>\n",
       "      <td>-0.129713</td>\n",
       "      <td>-0.130464</td>\n",
       "      <td>-0.068511</td>\n",
       "      <td>0.025751</td>\n",
       "      <td>0.105105</td>\n",
       "      <td>0.406829</td>\n",
       "      <td>-0.069972</td>\n",
       "      <td>0.013915</td>\n",
       "      <td>0.037238</td>\n",
       "      <td>...</td>\n",
       "      <td>0.280035</td>\n",
       "      <td>0.294026</td>\n",
       "      <td>-0.015353</td>\n",
       "      <td>1.000000</td>\n",
       "      <td>0.218524</td>\n",
       "      <td>0.186583</td>\n",
       "      <td>-0.019308</td>\n",
       "      <td>-0.064305</td>\n",
       "      <td>0.038331</td>\n",
       "      <td>-0.118744</td>\n",
       "    </tr>\n",
       "    <tr>\n",
       "      <th>Applicant's Policy Sum Assured</th>\n",
       "      <td>0.035358</td>\n",
       "      <td>0.229791</td>\n",
       "      <td>-0.018303</td>\n",
       "      <td>0.019097</td>\n",
       "      <td>0.032445</td>\n",
       "      <td>0.618561</td>\n",
       "      <td>0.001991</td>\n",
       "      <td>-0.153543</td>\n",
       "      <td>-0.056641</td>\n",
       "      <td>0.057534</td>\n",
       "      <td>...</td>\n",
       "      <td>0.715378</td>\n",
       "      <td>0.628419</td>\n",
       "      <td>0.168571</td>\n",
       "      <td>0.218524</td>\n",
       "      <td>1.000000</td>\n",
       "      <td>0.172159</td>\n",
       "      <td>-0.072711</td>\n",
       "      <td>0.047298</td>\n",
       "      <td>0.142827</td>\n",
       "      <td>-0.006115</td>\n",
       "    </tr>\n",
       "    <tr>\n",
       "      <th>HDFC Life Operational Zone</th>\n",
       "      <td>0.028889</td>\n",
       "      <td>0.059993</td>\n",
       "      <td>0.062624</td>\n",
       "      <td>0.006561</td>\n",
       "      <td>0.035603</td>\n",
       "      <td>0.095490</td>\n",
       "      <td>0.026171</td>\n",
       "      <td>-0.162685</td>\n",
       "      <td>-0.020743</td>\n",
       "      <td>0.010043</td>\n",
       "      <td>...</td>\n",
       "      <td>0.118093</td>\n",
       "      <td>0.114184</td>\n",
       "      <td>-0.030774</td>\n",
       "      <td>0.186583</td>\n",
       "      <td>0.172159</td>\n",
       "      <td>1.000000</td>\n",
       "      <td>-0.011543</td>\n",
       "      <td>0.041770</td>\n",
       "      <td>0.028762</td>\n",
       "      <td>0.073470</td>\n",
       "    </tr>\n",
       "    <tr>\n",
       "      <th>Applicant's Policy Contract city</th>\n",
       "      <td>-0.009278</td>\n",
       "      <td>-0.079064</td>\n",
       "      <td>0.050258</td>\n",
       "      <td>0.044435</td>\n",
       "      <td>-0.021323</td>\n",
       "      <td>-0.054421</td>\n",
       "      <td>0.082321</td>\n",
       "      <td>0.428705</td>\n",
       "      <td>-0.025894</td>\n",
       "      <td>0.046426</td>\n",
       "      <td>...</td>\n",
       "      <td>-0.048162</td>\n",
       "      <td>-0.055870</td>\n",
       "      <td>0.027097</td>\n",
       "      <td>-0.019308</td>\n",
       "      <td>-0.072711</td>\n",
       "      <td>-0.011543</td>\n",
       "      <td>1.000000</td>\n",
       "      <td>-0.007128</td>\n",
       "      <td>-0.050935</td>\n",
       "      <td>0.038041</td>\n",
       "    </tr>\n",
       "    <tr>\n",
       "      <th>Target</th>\n",
       "      <td>0.054259</td>\n",
       "      <td>0.058102</td>\n",
       "      <td>0.047135</td>\n",
       "      <td>0.545721</td>\n",
       "      <td>0.003069</td>\n",
       "      <td>0.034091</td>\n",
       "      <td>-0.016493</td>\n",
       "      <td>-0.068534</td>\n",
       "      <td>-0.025997</td>\n",
       "      <td>-0.059488</td>\n",
       "      <td>...</td>\n",
       "      <td>0.016191</td>\n",
       "      <td>0.011483</td>\n",
       "      <td>-0.051770</td>\n",
       "      <td>-0.064305</td>\n",
       "      <td>0.047298</td>\n",
       "      <td>0.041770</td>\n",
       "      <td>-0.007128</td>\n",
       "      <td>1.000000</td>\n",
       "      <td>-0.005615</td>\n",
       "      <td>0.063999</td>\n",
       "    </tr>\n",
       "    <tr>\n",
       "      <th>smoker_drinker</th>\n",
       "      <td>-0.000301</td>\n",
       "      <td>-0.036397</td>\n",
       "      <td>-0.014578</td>\n",
       "      <td>-0.045732</td>\n",
       "      <td>0.019894</td>\n",
       "      <td>0.121183</td>\n",
       "      <td>0.036750</td>\n",
       "      <td>-0.026944</td>\n",
       "      <td>-0.003903</td>\n",
       "      <td>0.061533</td>\n",
       "      <td>...</td>\n",
       "      <td>0.159748</td>\n",
       "      <td>0.155884</td>\n",
       "      <td>0.023921</td>\n",
       "      <td>0.038331</td>\n",
       "      <td>0.142827</td>\n",
       "      <td>0.028762</td>\n",
       "      <td>-0.050935</td>\n",
       "      <td>-0.005615</td>\n",
       "      <td>1.000000</td>\n",
       "      <td>-0.014144</td>\n",
       "    </tr>\n",
       "    <tr>\n",
       "      <th>Perf+vintage</th>\n",
       "      <td>0.261651</td>\n",
       "      <td>0.095216</td>\n",
       "      <td>0.931476</td>\n",
       "      <td>0.054250</td>\n",
       "      <td>0.000626</td>\n",
       "      <td>0.018326</td>\n",
       "      <td>-0.098494</td>\n",
       "      <td>-0.020812</td>\n",
       "      <td>-0.005817</td>\n",
       "      <td>-0.038813</td>\n",
       "      <td>...</td>\n",
       "      <td>-0.033744</td>\n",
       "      <td>-0.035436</td>\n",
       "      <td>-0.047636</td>\n",
       "      <td>-0.118744</td>\n",
       "      <td>-0.006115</td>\n",
       "      <td>0.073470</td>\n",
       "      <td>0.038041</td>\n",
       "      <td>0.063999</td>\n",
       "      <td>-0.014144</td>\n",
       "      <td>1.000000</td>\n",
       "    </tr>\n",
       "  </tbody>\n",
       "</table>\n",
       "<p>29 rows × 29 columns</p>\n",
       "</div>"
      ],
      "text/plain": [
       "                                                    Mapped Agent 13M Persistency  \\\n",
       "Mapped Agent 13M Persistency                                            1.000000   \n",
       "Applicant's Policy Annualized Premium                                   0.062682   \n",
       "Mapped Agent Vintage                                                   -0.072860   \n",
       "Auto Debit of Premium Opted Flag(Yes/No)                                0.047792   \n",
       "Application Life Assured BMI                                            0.011831   \n",
       "Total Risk Exposure of HDFC Life w.r.t. Life As...                      0.027077   \n",
       "Application  Sourcing Channel                                           0.057366   \n",
       "Application  Life Assured City Tier                                    -0.043713   \n",
       "Application  Life Assured Age                                           0.013076   \n",
       "Application  Life Assured Gender                                       -0.024481   \n",
       "Application  Life Assured Income                                        0.039652   \n",
       "Application  Life Assured Industry                                      0.037646   \n",
       "Application  Life Assured Occupation                                    0.008446   \n",
       "Applicant's Policy PAR/NON PAR/ULIP Tag                                 0.020060   \n",
       "Application Specific Sourcing Partner                                  -0.012678   \n",
       "First Premium Payment Type                                              0.015805   \n",
       "Applicant's Policy Product Category                                    -0.052127   \n",
       "Applicant's Policy Premium Payment Frequency                            0.023088   \n",
       "Applicant's Policy Product Name                                        -0.013428   \n",
       "Applicant's Policy Price Sensitivity(1-'Yes', 0...                      0.012340   \n",
       "Applicant's Policy Risk Cessation Term                                 -0.010099   \n",
       "Applicant's Policy Rider Opted Flag(1-'Yes', 0-...                     -0.027292   \n",
       "Application Sourcing Sub Channel                                        0.017714   \n",
       "Applicant's Policy Sum Assured                                          0.035358   \n",
       "HDFC Life Operational Zone                                              0.028889   \n",
       "Applicant's Policy Contract city                                       -0.009278   \n",
       "Target                                                                  0.054259   \n",
       "smoker_drinker                                                         -0.000301   \n",
       "Perf+vintage                                                            0.261651   \n",
       "\n",
       "                                                    Applicant's Policy Annualized Premium  \\\n",
       "Mapped Agent 13M Persistency                                                     0.062682   \n",
       "Applicant's Policy Annualized Premium                                            1.000000   \n",
       "Mapped Agent Vintage                                                             0.074067   \n",
       "Auto Debit of Premium Opted Flag(Yes/No)                                         0.051198   \n",
       "Application Life Assured BMI                                                     0.009783   \n",
       "Total Risk Exposure of HDFC Life w.r.t. Life As...                               0.203898   \n",
       "Application  Sourcing Channel                                                   -0.046005   \n",
       "Application  Life Assured City Tier                                             -0.185035   \n",
       "Application  Life Assured Age                                                   -0.032739   \n",
       "Application  Life Assured Gender                                                -0.106255   \n",
       "Application  Life Assured Income                                                 0.447667   \n",
       "Application  Life Assured Industry                                               0.069941   \n",
       "Application  Life Assured Occupation                                             0.086224   \n",
       "Applicant's Policy PAR/NON PAR/ULIP Tag                                          0.144091   \n",
       "Application Specific Sourcing Partner                                           -0.039199   \n",
       "First Premium Payment Type                                                      -0.065828   \n",
       "Applicant's Policy Product Category                                             -0.034568   \n",
       "Applicant's Policy Premium Payment Frequency                                     0.005446   \n",
       "Applicant's Policy Product Name                                                 -0.001287   \n",
       "Applicant's Policy Price Sensitivity(1-'Yes', 0...                              -0.196787   \n",
       "Applicant's Policy Risk Cessation Term                                          -0.160750   \n",
       "Applicant's Policy Rider Opted Flag(1-'Yes', 0-...                              -0.163850   \n",
       "Application Sourcing Sub Channel                                                -0.129713   \n",
       "Applicant's Policy Sum Assured                                                   0.229791   \n",
       "HDFC Life Operational Zone                                                       0.059993   \n",
       "Applicant's Policy Contract city                                                -0.079064   \n",
       "Target                                                                           0.058102   \n",
       "smoker_drinker                                                                  -0.036397   \n",
       "Perf+vintage                                                                     0.095216   \n",
       "\n",
       "                                                    Mapped Agent Vintage  \\\n",
       "Mapped Agent 13M Persistency                                   -0.072860   \n",
       "Applicant's Policy Annualized Premium                           0.074067   \n",
       "Mapped Agent Vintage                                            1.000000   \n",
       "Auto Debit of Premium Opted Flag(Yes/No)                        0.039876   \n",
       "Application Life Assured BMI                                   -0.004827   \n",
       "Total Risk Exposure of HDFC Life w.r.t. Life As...              0.007782   \n",
       "Application  Sourcing Channel                                  -0.119093   \n",
       "Application  Life Assured City Tier                            -0.000863   \n",
       "Application  Life Assured Age                                  -0.010723   \n",
       "Application  Life Assured Gender                               -0.030703   \n",
       "Application  Life Assured Income                                0.036212   \n",
       "Application  Life Assured Industry                              0.011447   \n",
       "Application  Life Assured Occupation                            0.020636   \n",
       "Applicant's Policy PAR/NON PAR/ULIP Tag                         0.040251   \n",
       "Application Specific Sourcing Partner                          -0.065116   \n",
       "First Premium Payment Type                                     -0.005280   \n",
       "Applicant's Policy Product Category                            -0.032677   \n",
       "Applicant's Policy Premium Payment Frequency                    0.015519   \n",
       "Applicant's Policy Product Name                                -0.009976   \n",
       "Applicant's Policy Price Sensitivity(1-'Yes', 0...             -0.037928   \n",
       "Applicant's Policy Risk Cessation Term                         -0.032065   \n",
       "Applicant's Policy Rider Opted Flag(1-'Yes', 0-...             -0.038416   \n",
       "Application Sourcing Sub Channel                               -0.130464   \n",
       "Applicant's Policy Sum Assured                                 -0.018303   \n",
       "HDFC Life Operational Zone                                      0.062624   \n",
       "Applicant's Policy Contract city                                0.050258   \n",
       "Target                                                          0.047135   \n",
       "smoker_drinker                                                 -0.014578   \n",
       "Perf+vintage                                                    0.931476   \n",
       "\n",
       "                                                    Auto Debit of Premium Opted Flag(Yes/No)  \\\n",
       "Mapped Agent 13M Persistency                                                        0.047792   \n",
       "Applicant's Policy Annualized Premium                                               0.051198   \n",
       "Mapped Agent Vintage                                                                0.039876   \n",
       "Auto Debit of Premium Opted Flag(Yes/No)                                            1.000000   \n",
       "Application Life Assured BMI                                                       -0.000340   \n",
       "Total Risk Exposure of HDFC Life w.r.t. Life As...                                  0.005819   \n",
       "Application  Sourcing Channel                                                      -0.005724   \n",
       "Application  Life Assured City Tier                                                -0.048969   \n",
       "Application  Life Assured Age                                                      -0.013755   \n",
       "Application  Life Assured Gender                                                   -0.072811   \n",
       "Application  Life Assured Income                                                    0.033245   \n",
       "Application  Life Assured Industry                                                  0.025176   \n",
       "Application  Life Assured Occupation                                                0.021738   \n",
       "Applicant's Policy PAR/NON PAR/ULIP Tag                                             0.031633   \n",
       "Application Specific Sourcing Partner                                              -0.044533   \n",
       "First Premium Payment Type                                                         -0.099422   \n",
       "Applicant's Policy Product Category                                                -0.055855   \n",
       "Applicant's Policy Premium Payment Frequency                                        0.027004   \n",
       "Applicant's Policy Product Name                                                    -0.034407   \n",
       "Applicant's Policy Price Sensitivity(1-'Yes', 0...                                 -0.002956   \n",
       "Applicant's Policy Risk Cessation Term                                             -0.009920   \n",
       "Applicant's Policy Rider Opted Flag(1-'Yes', 0-...                                 -0.043982   \n",
       "Application Sourcing Sub Channel                                                   -0.068511   \n",
       "Applicant's Policy Sum Assured                                                      0.019097   \n",
       "HDFC Life Operational Zone                                                          0.006561   \n",
       "Applicant's Policy Contract city                                                    0.044435   \n",
       "Target                                                                              0.545721   \n",
       "smoker_drinker                                                                     -0.045732   \n",
       "Perf+vintage                                                                        0.054250   \n",
       "\n",
       "                                                    Application Life Assured BMI  \\\n",
       "Mapped Agent 13M Persistency                                            0.011831   \n",
       "Applicant's Policy Annualized Premium                                   0.009783   \n",
       "Mapped Agent Vintage                                                   -0.004827   \n",
       "Auto Debit of Premium Opted Flag(Yes/No)                               -0.000340   \n",
       "Application Life Assured BMI                                            1.000000   \n",
       "Total Risk Exposure of HDFC Life w.r.t. Life As...                      0.024443   \n",
       "Application  Sourcing Channel                                           0.011912   \n",
       "Application  Life Assured City Tier                                    -0.029927   \n",
       "Application  Life Assured Age                                          -0.009994   \n",
       "Application  Life Assured Gender                                        0.025196   \n",
       "Application  Life Assured Income                                        0.018489   \n",
       "Application  Life Assured Industry                                      0.024126   \n",
       "Application  Life Assured Occupation                                    0.021658   \n",
       "Applicant's Policy PAR/NON PAR/ULIP Tag                                -0.043846   \n",
       "Application Specific Sourcing Partner                                   0.017832   \n",
       "First Premium Payment Type                                             -0.013568   \n",
       "Applicant's Policy Product Category                                     0.037661   \n",
       "Applicant's Policy Premium Payment Frequency                            0.013695   \n",
       "Applicant's Policy Product Name                                        -0.004383   \n",
       "Applicant's Policy Price Sensitivity(1-'Yes', 0...                      0.029005   \n",
       "Applicant's Policy Risk Cessation Term                                  0.038882   \n",
       "Applicant's Policy Rider Opted Flag(1-'Yes', 0-...                     -0.021458   \n",
       "Application Sourcing Sub Channel                                        0.025751   \n",
       "Applicant's Policy Sum Assured                                          0.032445   \n",
       "HDFC Life Operational Zone                                              0.035603   \n",
       "Applicant's Policy Contract city                                       -0.021323   \n",
       "Target                                                                  0.003069   \n",
       "smoker_drinker                                                          0.019894   \n",
       "Perf+vintage                                                            0.000626   \n",
       "\n",
       "                                                    Total Risk Exposure of HDFC Life w.r.t. Life Assured  \\\n",
       "Mapped Agent 13M Persistency                                                                 0.027077      \n",
       "Applicant's Policy Annualized Premium                                                        0.203898      \n",
       "Mapped Agent Vintage                                                                         0.007782      \n",
       "Auto Debit of Premium Opted Flag(Yes/No)                                                     0.005819      \n",
       "Application Life Assured BMI                                                                 0.024443      \n",
       "Total Risk Exposure of HDFC Life w.r.t. Life As...                                           1.000000      \n",
       "Application  Sourcing Channel                                                                0.022608      \n",
       "Application  Life Assured City Tier                                                         -0.117557      \n",
       "Application  Life Assured Age                                                               -0.040377      \n",
       "Application  Life Assured Gender                                                             0.040687      \n",
       "Application  Life Assured Income                                                             0.338006      \n",
       "Application  Life Assured Industry                                                           0.067400      \n",
       "Application  Life Assured Occupation                                                         0.048079      \n",
       "Applicant's Policy PAR/NON PAR/ULIP Tag                                                     -0.348180      \n",
       "Application Specific Sourcing Partner                                                        0.061995      \n",
       "First Premium Payment Type                                                                  -0.004839      \n",
       "Applicant's Policy Product Category                                                          0.092454      \n",
       "Applicant's Policy Premium Payment Frequency                                                 0.031763      \n",
       "Applicant's Policy Product Name                                                             -0.007354      \n",
       "Applicant's Policy Price Sensitivity(1-'Yes', 0...                                           0.467116      \n",
       "Applicant's Policy Risk Cessation Term                                                       0.406111      \n",
       "Applicant's Policy Rider Opted Flag(1-'Yes', 0-...                                           0.032277      \n",
       "Application Sourcing Sub Channel                                                             0.105105      \n",
       "Applicant's Policy Sum Assured                                                               0.618561      \n",
       "HDFC Life Operational Zone                                                                   0.095490      \n",
       "Applicant's Policy Contract city                                                            -0.054421      \n",
       "Target                                                                                       0.034091      \n",
       "smoker_drinker                                                                               0.121183      \n",
       "Perf+vintage                                                                                 0.018326      \n",
       "\n",
       "                                                    Application  Sourcing Channel  \\\n",
       "Mapped Agent 13M Persistency                                             0.057366   \n",
       "Applicant's Policy Annualized Premium                                   -0.046005   \n",
       "Mapped Agent Vintage                                                    -0.119093   \n",
       "Auto Debit of Premium Opted Flag(Yes/No)                                -0.005724   \n",
       "Application Life Assured BMI                                             0.011912   \n",
       "Total Risk Exposure of HDFC Life w.r.t. Life As...                       0.022608   \n",
       "Application  Sourcing Channel                                            1.000000   \n",
       "Application  Life Assured City Tier                                     -0.005047   \n",
       "Application  Life Assured Age                                            0.047907   \n",
       "Application  Life Assured Gender                                        -0.002967   \n",
       "Application  Life Assured Income                                        -0.017609   \n",
       "Application  Life Assured Industry                                       0.044301   \n",
       "Application  Life Assured Occupation                                    -0.017326   \n",
       "Applicant's Policy PAR/NON PAR/ULIP Tag                                 -0.101715   \n",
       "Application Specific Sourcing Partner                                    0.217918   \n",
       "First Premium Payment Type                                               0.107090   \n",
       "Applicant's Policy Product Category                                      0.016522   \n",
       "Applicant's Policy Premium Payment Frequency                            -0.098239   \n",
       "Applicant's Policy Product Name                                         -0.021064   \n",
       "Applicant's Policy Price Sensitivity(1-'Yes', 0...                       0.132833   \n",
       "Applicant's Policy Risk Cessation Term                                   0.128582   \n",
       "Applicant's Policy Rider Opted Flag(1-'Yes', 0-...                      -0.048032   \n",
       "Application Sourcing Sub Channel                                         0.406829   \n",
       "Applicant's Policy Sum Assured                                           0.001991   \n",
       "HDFC Life Operational Zone                                               0.026171   \n",
       "Applicant's Policy Contract city                                         0.082321   \n",
       "Target                                                                  -0.016493   \n",
       "smoker_drinker                                                           0.036750   \n",
       "Perf+vintage                                                            -0.098494   \n",
       "\n",
       "                                                    Application  Life Assured City Tier  \\\n",
       "Mapped Agent 13M Persistency                                                  -0.043713   \n",
       "Applicant's Policy Annualized Premium                                         -0.185035   \n",
       "Mapped Agent Vintage                                                          -0.000863   \n",
       "Auto Debit of Premium Opted Flag(Yes/No)                                      -0.048969   \n",
       "Application Life Assured BMI                                                  -0.029927   \n",
       "Total Risk Exposure of HDFC Life w.r.t. Life As...                            -0.117557   \n",
       "Application  Sourcing Channel                                                 -0.005047   \n",
       "Application  Life Assured City Tier                                            1.000000   \n",
       "Application  Life Assured Age                                                  0.005923   \n",
       "Application  Life Assured Gender                                               0.111682   \n",
       "Application  Life Assured Income                                              -0.162232   \n",
       "Application  Life Assured Industry                                            -0.170829   \n",
       "Application  Life Assured Occupation                                          -0.145871   \n",
       "Applicant's Policy PAR/NON PAR/ULIP Tag                                        0.062920   \n",
       "Application Specific Sourcing Partner                                         -0.064446   \n",
       "First Premium Payment Type                                                     0.090797   \n",
       "Applicant's Policy Product Category                                           -0.026850   \n",
       "Applicant's Policy Premium Payment Frequency                                  -0.068801   \n",
       "Applicant's Policy Product Name                                                0.103682   \n",
       "Applicant's Policy Price Sensitivity(1-'Yes', 0...                            -0.078697   \n",
       "Applicant's Policy Risk Cessation Term                                        -0.071645   \n",
       "Applicant's Policy Rider Opted Flag(1-'Yes', 0-...                             0.064414   \n",
       "Application Sourcing Sub Channel                                              -0.069972   \n",
       "Applicant's Policy Sum Assured                                                -0.153543   \n",
       "HDFC Life Operational Zone                                                    -0.162685   \n",
       "Applicant's Policy Contract city                                               0.428705   \n",
       "Target                                                                        -0.068534   \n",
       "smoker_drinker                                                                -0.026944   \n",
       "Perf+vintage                                                                  -0.020812   \n",
       "\n",
       "                                                    Application  Life Assured Age  \\\n",
       "Mapped Agent 13M Persistency                                             0.013076   \n",
       "Applicant's Policy Annualized Premium                                   -0.032739   \n",
       "Mapped Agent Vintage                                                    -0.010723   \n",
       "Auto Debit of Premium Opted Flag(Yes/No)                                -0.013755   \n",
       "Application Life Assured BMI                                            -0.009994   \n",
       "Total Risk Exposure of HDFC Life w.r.t. Life As...                      -0.040377   \n",
       "Application  Sourcing Channel                                            0.047907   \n",
       "Application  Life Assured City Tier                                      0.005923   \n",
       "Application  Life Assured Age                                            1.000000   \n",
       "Application  Life Assured Gender                                        -0.011606   \n",
       "Application  Life Assured Income                                        -0.045420   \n",
       "Application  Life Assured Industry                                       0.012475   \n",
       "Application  Life Assured Occupation                                    -0.035358   \n",
       "Applicant's Policy PAR/NON PAR/ULIP Tag                                 -0.002914   \n",
       "Application Specific Sourcing Partner                                   -0.000798   \n",
       "First Premium Payment Type                                               0.047641   \n",
       "Applicant's Policy Product Category                                      0.012691   \n",
       "Applicant's Policy Premium Payment Frequency                             0.003680   \n",
       "Applicant's Policy Product Name                                         -0.040727   \n",
       "Applicant's Policy Price Sensitivity(1-'Yes', 0...                      -0.009637   \n",
       "Applicant's Policy Risk Cessation Term                                   0.011877   \n",
       "Applicant's Policy Rider Opted Flag(1-'Yes', 0-...                      -0.034889   \n",
       "Application Sourcing Sub Channel                                         0.013915   \n",
       "Applicant's Policy Sum Assured                                          -0.056641   \n",
       "HDFC Life Operational Zone                                              -0.020743   \n",
       "Applicant's Policy Contract city                                        -0.025894   \n",
       "Target                                                                  -0.025997   \n",
       "smoker_drinker                                                          -0.003903   \n",
       "Perf+vintage                                                            -0.005817   \n",
       "\n",
       "                                                    Application  Life Assured Gender  \\\n",
       "Mapped Agent 13M Persistency                                               -0.024481   \n",
       "Applicant's Policy Annualized Premium                                      -0.106255   \n",
       "Mapped Agent Vintage                                                       -0.030703   \n",
       "Auto Debit of Premium Opted Flag(Yes/No)                                   -0.072811   \n",
       "Application Life Assured BMI                                                0.025196   \n",
       "Total Risk Exposure of HDFC Life w.r.t. Life As...                          0.040687   \n",
       "Application  Sourcing Channel                                              -0.002967   \n",
       "Application  Life Assured City Tier                                         0.111682   \n",
       "Application  Life Assured Age                                              -0.011606   \n",
       "Application  Life Assured Gender                                            1.000000   \n",
       "Application  Life Assured Income                                            0.016628   \n",
       "Application  Life Assured Industry                                         -0.001831   \n",
       "Application  Life Assured Occupation                                       -0.016985   \n",
       "Applicant's Policy PAR/NON PAR/ULIP Tag                                    -0.059913   \n",
       "Application Specific Sourcing Partner                                       0.014453   \n",
       "First Premium Payment Type                                                  0.046357   \n",
       "Applicant's Policy Product Category                                         0.008698   \n",
       "Applicant's Policy Premium Payment Frequency                                0.019636   \n",
       "Applicant's Policy Product Name                                             0.042661   \n",
       "Applicant's Policy Price Sensitivity(1-'Yes', 0...                          0.083739   \n",
       "Applicant's Policy Risk Cessation Term                                      0.072006   \n",
       "Applicant's Policy Rider Opted Flag(1-'Yes', 0-...                          0.063287   \n",
       "Application Sourcing Sub Channel                                            0.037238   \n",
       "Applicant's Policy Sum Assured                                              0.057534   \n",
       "HDFC Life Operational Zone                                                  0.010043   \n",
       "Applicant's Policy Contract city                                            0.046426   \n",
       "Target                                                                     -0.059488   \n",
       "smoker_drinker                                                              0.061533   \n",
       "Perf+vintage                                                               -0.038813   \n",
       "\n",
       "                                                    ...  \\\n",
       "Mapped Agent 13M Persistency                        ...   \n",
       "Applicant's Policy Annualized Premium               ...   \n",
       "Mapped Agent Vintage                                ...   \n",
       "Auto Debit of Premium Opted Flag(Yes/No)            ...   \n",
       "Application Life Assured BMI                        ...   \n",
       "Total Risk Exposure of HDFC Life w.r.t. Life As...  ...   \n",
       "Application  Sourcing Channel                       ...   \n",
       "Application  Life Assured City Tier                 ...   \n",
       "Application  Life Assured Age                       ...   \n",
       "Application  Life Assured Gender                    ...   \n",
       "Application  Life Assured Income                    ...   \n",
       "Application  Life Assured Industry                  ...   \n",
       "Application  Life Assured Occupation                ...   \n",
       "Applicant's Policy PAR/NON PAR/ULIP Tag             ...   \n",
       "Application Specific Sourcing Partner               ...   \n",
       "First Premium Payment Type                          ...   \n",
       "Applicant's Policy Product Category                 ...   \n",
       "Applicant's Policy Premium Payment Frequency        ...   \n",
       "Applicant's Policy Product Name                     ...   \n",
       "Applicant's Policy Price Sensitivity(1-'Yes', 0...  ...   \n",
       "Applicant's Policy Risk Cessation Term              ...   \n",
       "Applicant's Policy Rider Opted Flag(1-'Yes', 0-...  ...   \n",
       "Application Sourcing Sub Channel                    ...   \n",
       "Applicant's Policy Sum Assured                      ...   \n",
       "HDFC Life Operational Zone                          ...   \n",
       "Applicant's Policy Contract city                    ...   \n",
       "Target                                              ...   \n",
       "smoker_drinker                                      ...   \n",
       "Perf+vintage                                        ...   \n",
       "\n",
       "                                                    Applicant's Policy Price Sensitivity(1-'Yes', 0-'No')  \\\n",
       "Mapped Agent 13M Persistency                                                                 0.012340       \n",
       "Applicant's Policy Annualized Premium                                                       -0.196787       \n",
       "Mapped Agent Vintage                                                                        -0.037928       \n",
       "Auto Debit of Premium Opted Flag(Yes/No)                                                    -0.002956       \n",
       "Application Life Assured BMI                                                                 0.029005       \n",
       "Total Risk Exposure of HDFC Life w.r.t. Life As...                                           0.467116       \n",
       "Application  Sourcing Channel                                                                0.132833       \n",
       "Application  Life Assured City Tier                                                         -0.078697       \n",
       "Application  Life Assured Age                                                               -0.009637       \n",
       "Application  Life Assured Gender                                                             0.083739       \n",
       "Application  Life Assured Income                                                             0.059961       \n",
       "Application  Life Assured Industry                                                           0.095441       \n",
       "Application  Life Assured Occupation                                                         0.014371       \n",
       "Applicant's Policy PAR/NON PAR/ULIP Tag                                                     -0.774552       \n",
       "Application Specific Sourcing Partner                                                        0.128633       \n",
       "First Premium Payment Type                                                                   0.028595       \n",
       "Applicant's Policy Product Category                                                          0.244358       \n",
       "Applicant's Policy Premium Payment Frequency                                                 0.057306       \n",
       "Applicant's Policy Product Name                                                             -0.060361       \n",
       "Applicant's Policy Price Sensitivity(1-'Yes', 0...                                           1.000000       \n",
       "Applicant's Policy Risk Cessation Term                                                       0.771688       \n",
       "Applicant's Policy Rider Opted Flag(1-'Yes', 0-...                                           0.099922       \n",
       "Application Sourcing Sub Channel                                                             0.280035       \n",
       "Applicant's Policy Sum Assured                                                               0.715378       \n",
       "HDFC Life Operational Zone                                                                   0.118093       \n",
       "Applicant's Policy Contract city                                                            -0.048162       \n",
       "Target                                                                                       0.016191       \n",
       "smoker_drinker                                                                               0.159748       \n",
       "Perf+vintage                                                                                -0.033744       \n",
       "\n",
       "                                                    Applicant's Policy Risk Cessation Term  \\\n",
       "Mapped Agent 13M Persistency                                                     -0.010099   \n",
       "Applicant's Policy Annualized Premium                                            -0.160750   \n",
       "Mapped Agent Vintage                                                             -0.032065   \n",
       "Auto Debit of Premium Opted Flag(Yes/No)                                         -0.009920   \n",
       "Application Life Assured BMI                                                      0.038882   \n",
       "Total Risk Exposure of HDFC Life w.r.t. Life As...                                0.406111   \n",
       "Application  Sourcing Channel                                                     0.128582   \n",
       "Application  Life Assured City Tier                                              -0.071645   \n",
       "Application  Life Assured Age                                                     0.011877   \n",
       "Application  Life Assured Gender                                                  0.072006   \n",
       "Application  Life Assured Income                                                  0.029890   \n",
       "Application  Life Assured Industry                                                0.087330   \n",
       "Application  Life Assured Occupation                                              0.026976   \n",
       "Applicant's Policy PAR/NON PAR/ULIP Tag                                          -0.722569   \n",
       "Application Specific Sourcing Partner                                             0.196921   \n",
       "First Premium Payment Type                                                        0.034859   \n",
       "Applicant's Policy Product Category                                               0.373937   \n",
       "Applicant's Policy Premium Payment Frequency                                      0.076889   \n",
       "Applicant's Policy Product Name                                                  -0.030843   \n",
       "Applicant's Policy Price Sensitivity(1-'Yes', 0...                                0.771688   \n",
       "Applicant's Policy Risk Cessation Term                                            1.000000   \n",
       "Applicant's Policy Rider Opted Flag(1-'Yes', 0-...                                0.068198   \n",
       "Application Sourcing Sub Channel                                                  0.294026   \n",
       "Applicant's Policy Sum Assured                                                    0.628419   \n",
       "HDFC Life Operational Zone                                                        0.114184   \n",
       "Applicant's Policy Contract city                                                 -0.055870   \n",
       "Target                                                                            0.011483   \n",
       "smoker_drinker                                                                    0.155884   \n",
       "Perf+vintage                                                                     -0.035436   \n",
       "\n",
       "                                                    Applicant's Policy Rider Opted Flag(1-'Yes', 0-'No')  \\\n",
       "Mapped Agent 13M Persistency                                                                -0.027292      \n",
       "Applicant's Policy Annualized Premium                                                       -0.163850      \n",
       "Mapped Agent Vintage                                                                        -0.038416      \n",
       "Auto Debit of Premium Opted Flag(Yes/No)                                                    -0.043982      \n",
       "Application Life Assured BMI                                                                -0.021458      \n",
       "Total Risk Exposure of HDFC Life w.r.t. Life As...                                           0.032277      \n",
       "Application  Sourcing Channel                                                               -0.048032      \n",
       "Application  Life Assured City Tier                                                          0.064414      \n",
       "Application  Life Assured Age                                                               -0.034889      \n",
       "Application  Life Assured Gender                                                             0.063287      \n",
       "Application  Life Assured Income                                                            -0.083039      \n",
       "Application  Life Assured Industry                                                          -0.003598      \n",
       "Application  Life Assured Occupation                                                         0.010484      \n",
       "Applicant's Policy PAR/NON PAR/ULIP Tag                                                      0.043917      \n",
       "Application Specific Sourcing Partner                                                       -0.002048      \n",
       "First Premium Payment Type                                                                   0.033764      \n",
       "Applicant's Policy Product Category                                                         -0.191450      \n",
       "Applicant's Policy Premium Payment Frequency                                                 0.004168      \n",
       "Applicant's Policy Product Name                                                              0.072047      \n",
       "Applicant's Policy Price Sensitivity(1-'Yes', 0...                                           0.099922      \n",
       "Applicant's Policy Risk Cessation Term                                                       0.068198      \n",
       "Applicant's Policy Rider Opted Flag(1-'Yes', 0-...                                           1.000000      \n",
       "Application Sourcing Sub Channel                                                            -0.015353      \n",
       "Applicant's Policy Sum Assured                                                               0.168571      \n",
       "HDFC Life Operational Zone                                                                  -0.030774      \n",
       "Applicant's Policy Contract city                                                             0.027097      \n",
       "Target                                                                                      -0.051770      \n",
       "smoker_drinker                                                                               0.023921      \n",
       "Perf+vintage                                                                                -0.047636      \n",
       "\n",
       "                                                    Application Sourcing Sub Channel  \\\n",
       "Mapped Agent 13M Persistency                                                0.017714   \n",
       "Applicant's Policy Annualized Premium                                      -0.129713   \n",
       "Mapped Agent Vintage                                                       -0.130464   \n",
       "Auto Debit of Premium Opted Flag(Yes/No)                                   -0.068511   \n",
       "Application Life Assured BMI                                                0.025751   \n",
       "Total Risk Exposure of HDFC Life w.r.t. Life As...                          0.105105   \n",
       "Application  Sourcing Channel                                               0.406829   \n",
       "Application  Life Assured City Tier                                        -0.069972   \n",
       "Application  Life Assured Age                                               0.013915   \n",
       "Application  Life Assured Gender                                            0.037238   \n",
       "Application  Life Assured Income                                           -0.029041   \n",
       "Application  Life Assured Industry                                          0.068629   \n",
       "Application  Life Assured Occupation                                        0.001402   \n",
       "Applicant's Policy PAR/NON PAR/ULIP Tag                                    -0.280882   \n",
       "Application Specific Sourcing Partner                                       0.231294   \n",
       "First Premium Payment Type                                                 -0.097441   \n",
       "Applicant's Policy Product Category                                         0.170539   \n",
       "Applicant's Policy Premium Payment Frequency                                0.181652   \n",
       "Applicant's Policy Product Name                                             0.002956   \n",
       "Applicant's Policy Price Sensitivity(1-'Yes', 0...                          0.280035   \n",
       "Applicant's Policy Risk Cessation Term                                      0.294026   \n",
       "Applicant's Policy Rider Opted Flag(1-'Yes', 0-...                         -0.015353   \n",
       "Application Sourcing Sub Channel                                            1.000000   \n",
       "Applicant's Policy Sum Assured                                              0.218524   \n",
       "HDFC Life Operational Zone                                                  0.186583   \n",
       "Applicant's Policy Contract city                                           -0.019308   \n",
       "Target                                                                     -0.064305   \n",
       "smoker_drinker                                                              0.038331   \n",
       "Perf+vintage                                                               -0.118744   \n",
       "\n",
       "                                                    Applicant's Policy Sum Assured  \\\n",
       "Mapped Agent 13M Persistency                                              0.035358   \n",
       "Applicant's Policy Annualized Premium                                     0.229791   \n",
       "Mapped Agent Vintage                                                     -0.018303   \n",
       "Auto Debit of Premium Opted Flag(Yes/No)                                  0.019097   \n",
       "Application Life Assured BMI                                              0.032445   \n",
       "Total Risk Exposure of HDFC Life w.r.t. Life As...                        0.618561   \n",
       "Application  Sourcing Channel                                             0.001991   \n",
       "Application  Life Assured City Tier                                      -0.153543   \n",
       "Application  Life Assured Age                                            -0.056641   \n",
       "Application  Life Assured Gender                                          0.057534   \n",
       "Application  Life Assured Income                                          0.262525   \n",
       "Application  Life Assured Industry                                        0.114559   \n",
       "Application  Life Assured Occupation                                      0.048904   \n",
       "Applicant's Policy PAR/NON PAR/ULIP Tag                                  -0.481401   \n",
       "Application Specific Sourcing Partner                                     0.081990   \n",
       "First Premium Payment Type                                               -0.038482   \n",
       "Applicant's Policy Product Category                                       0.072585   \n",
       "Applicant's Policy Premium Payment Frequency                              0.116500   \n",
       "Applicant's Policy Product Name                                           0.049730   \n",
       "Applicant's Policy Price Sensitivity(1-'Yes', 0...                        0.715378   \n",
       "Applicant's Policy Risk Cessation Term                                    0.628419   \n",
       "Applicant's Policy Rider Opted Flag(1-'Yes', 0-...                        0.168571   \n",
       "Application Sourcing Sub Channel                                          0.218524   \n",
       "Applicant's Policy Sum Assured                                            1.000000   \n",
       "HDFC Life Operational Zone                                                0.172159   \n",
       "Applicant's Policy Contract city                                         -0.072711   \n",
       "Target                                                                    0.047298   \n",
       "smoker_drinker                                                            0.142827   \n",
       "Perf+vintage                                                             -0.006115   \n",
       "\n",
       "                                                    HDFC Life Operational Zone  \\\n",
       "Mapped Agent 13M Persistency                                          0.028889   \n",
       "Applicant's Policy Annualized Premium                                 0.059993   \n",
       "Mapped Agent Vintage                                                  0.062624   \n",
       "Auto Debit of Premium Opted Flag(Yes/No)                              0.006561   \n",
       "Application Life Assured BMI                                          0.035603   \n",
       "Total Risk Exposure of HDFC Life w.r.t. Life As...                    0.095490   \n",
       "Application  Sourcing Channel                                         0.026171   \n",
       "Application  Life Assured City Tier                                  -0.162685   \n",
       "Application  Life Assured Age                                        -0.020743   \n",
       "Application  Life Assured Gender                                      0.010043   \n",
       "Application  Life Assured Income                                      0.066684   \n",
       "Application  Life Assured Industry                                    0.114381   \n",
       "Application  Life Assured Occupation                                  0.053534   \n",
       "Applicant's Policy PAR/NON PAR/ULIP Tag                              -0.071355   \n",
       "Application Specific Sourcing Partner                                 0.095318   \n",
       "First Premium Payment Type                                           -0.070241   \n",
       "Applicant's Policy Product Category                                   0.000171   \n",
       "Applicant's Policy Premium Payment Frequency                          0.113171   \n",
       "Applicant's Policy Product Name                                       0.011938   \n",
       "Applicant's Policy Price Sensitivity(1-'Yes', 0...                    0.118093   \n",
       "Applicant's Policy Risk Cessation Term                                0.114184   \n",
       "Applicant's Policy Rider Opted Flag(1-'Yes', 0-...                   -0.030774   \n",
       "Application Sourcing Sub Channel                                      0.186583   \n",
       "Applicant's Policy Sum Assured                                        0.172159   \n",
       "HDFC Life Operational Zone                                            1.000000   \n",
       "Applicant's Policy Contract city                                     -0.011543   \n",
       "Target                                                                0.041770   \n",
       "smoker_drinker                                                        0.028762   \n",
       "Perf+vintage                                                          0.073470   \n",
       "\n",
       "                                                    Applicant's Policy Contract city  \\\n",
       "Mapped Agent 13M Persistency                                               -0.009278   \n",
       "Applicant's Policy Annualized Premium                                      -0.079064   \n",
       "Mapped Agent Vintage                                                        0.050258   \n",
       "Auto Debit of Premium Opted Flag(Yes/No)                                    0.044435   \n",
       "Application Life Assured BMI                                               -0.021323   \n",
       "Total Risk Exposure of HDFC Life w.r.t. Life As...                         -0.054421   \n",
       "Application  Sourcing Channel                                               0.082321   \n",
       "Application  Life Assured City Tier                                         0.428705   \n",
       "Application  Life Assured Age                                              -0.025894   \n",
       "Application  Life Assured Gender                                            0.046426   \n",
       "Application  Life Assured Income                                           -0.082221   \n",
       "Application  Life Assured Industry                                         -0.112298   \n",
       "Application  Life Assured Occupation                                       -0.067727   \n",
       "Applicant's Policy PAR/NON PAR/ULIP Tag                                     0.073060   \n",
       "Application Specific Sourcing Partner                                      -0.057535   \n",
       "First Premium Payment Type                                                 -0.015716   \n",
       "Applicant's Policy Product Category                                        -0.077160   \n",
       "Applicant's Policy Premium Payment Frequency                               -0.052730   \n",
       "Applicant's Policy Product Name                                             0.117258   \n",
       "Applicant's Policy Price Sensitivity(1-'Yes', 0...                         -0.048162   \n",
       "Applicant's Policy Risk Cessation Term                                     -0.055870   \n",
       "Applicant's Policy Rider Opted Flag(1-'Yes', 0-...                          0.027097   \n",
       "Application Sourcing Sub Channel                                           -0.019308   \n",
       "Applicant's Policy Sum Assured                                             -0.072711   \n",
       "HDFC Life Operational Zone                                                 -0.011543   \n",
       "Applicant's Policy Contract city                                            1.000000   \n",
       "Target                                                                     -0.007128   \n",
       "smoker_drinker                                                             -0.050935   \n",
       "Perf+vintage                                                                0.038041   \n",
       "\n",
       "                                                      Target  smoker_drinker  \\\n",
       "Mapped Agent 13M Persistency                        0.054259       -0.000301   \n",
       "Applicant's Policy Annualized Premium               0.058102       -0.036397   \n",
       "Mapped Agent Vintage                                0.047135       -0.014578   \n",
       "Auto Debit of Premium Opted Flag(Yes/No)            0.545721       -0.045732   \n",
       "Application Life Assured BMI                        0.003069        0.019894   \n",
       "Total Risk Exposure of HDFC Life w.r.t. Life As...  0.034091        0.121183   \n",
       "Application  Sourcing Channel                      -0.016493        0.036750   \n",
       "Application  Life Assured City Tier                -0.068534       -0.026944   \n",
       "Application  Life Assured Age                      -0.025997       -0.003903   \n",
       "Application  Life Assured Gender                   -0.059488        0.061533   \n",
       "Application  Life Assured Income                    0.055608        0.038879   \n",
       "Application  Life Assured Industry                  0.044421        0.038148   \n",
       "Application  Life Assured Occupation                0.018661       -0.001273   \n",
       "Applicant's Policy PAR/NON PAR/ULIP Tag             0.025555       -0.129444   \n",
       "Application Specific Sourcing Partner              -0.051015        0.039382   \n",
       "First Premium Payment Type                         -0.045257        0.080220   \n",
       "Applicant's Policy Product Category                -0.066304        0.042366   \n",
       "Applicant's Policy Premium Payment Frequency        0.066873        0.013268   \n",
       "Applicant's Policy Product Name                    -0.023837        0.000928   \n",
       "Applicant's Policy Price Sensitivity(1-'Yes', 0...  0.016191        0.159748   \n",
       "Applicant's Policy Risk Cessation Term              0.011483        0.155884   \n",
       "Applicant's Policy Rider Opted Flag(1-'Yes', 0-... -0.051770        0.023921   \n",
       "Application Sourcing Sub Channel                   -0.064305        0.038331   \n",
       "Applicant's Policy Sum Assured                      0.047298        0.142827   \n",
       "HDFC Life Operational Zone                          0.041770        0.028762   \n",
       "Applicant's Policy Contract city                   -0.007128       -0.050935   \n",
       "Target                                              1.000000       -0.005615   \n",
       "smoker_drinker                                     -0.005615        1.000000   \n",
       "Perf+vintage                                        0.063999       -0.014144   \n",
       "\n",
       "                                                    Perf+vintage  \n",
       "Mapped Agent 13M Persistency                            0.261651  \n",
       "Applicant's Policy Annualized Premium                   0.095216  \n",
       "Mapped Agent Vintage                                    0.931476  \n",
       "Auto Debit of Premium Opted Flag(Yes/No)                0.054250  \n",
       "Application Life Assured BMI                            0.000626  \n",
       "Total Risk Exposure of HDFC Life w.r.t. Life As...      0.018326  \n",
       "Application  Sourcing Channel                          -0.098494  \n",
       "Application  Life Assured City Tier                    -0.020812  \n",
       "Application  Life Assured Age                          -0.005817  \n",
       "Application  Life Assured Gender                       -0.038813  \n",
       "Application  Life Assured Income                        0.050158  \n",
       "Application  Life Assured Industry                      0.024246  \n",
       "Application  Life Assured Occupation                    0.023892  \n",
       "Applicant's Policy PAR/NON PAR/ULIP Tag                 0.045677  \n",
       "Application Specific Sourcing Partner                  -0.068053  \n",
       "First Premium Payment Type                             -0.002424  \n",
       "Applicant's Policy Product Category                    -0.048368  \n",
       "Applicant's Policy Premium Payment Frequency            0.026328  \n",
       "Applicant's Policy Product Name                        -0.014525  \n",
       "Applicant's Policy Price Sensitivity(1-'Yes', 0...     -0.033744  \n",
       "Applicant's Policy Risk Cessation Term                 -0.035436  \n",
       "Applicant's Policy Rider Opted Flag(1-'Yes', 0-...     -0.047636  \n",
       "Application Sourcing Sub Channel                       -0.118744  \n",
       "Applicant's Policy Sum Assured                         -0.006115  \n",
       "HDFC Life Operational Zone                              0.073470  \n",
       "Applicant's Policy Contract city                        0.038041  \n",
       "Target                                                  0.063999  \n",
       "smoker_drinker                                         -0.014144  \n",
       "Perf+vintage                                            1.000000  \n",
       "\n",
       "[29 rows x 29 columns]"
      ]
     },
     "execution_count": 40,
     "metadata": {},
     "output_type": "execute_result"
    }
   ],
   "source": [
    "Plot = df.corr()\n",
    "Plot"
   ]
  },
  {
   "cell_type": "code",
   "execution_count": 41,
   "metadata": {},
   "outputs": [
    {
     "data": {
      "image/png": "[encoded data removed]",
      "text/plain": [
       "<Figure size 1080x1080 with 2 Axes>"
      ]
     },
     "metadata": {
      "needs_background": "light"
     },
     "output_type": "display_data"
    }
   ],
   "source": [
    "# Plot the heatmap for features with moore than 4\n",
    "plt.figure( figsize = (15,15))\n",
    "sns.heatmap(Plot, cmap=\"Accent\");\n",
    "plt.title( \"Figure - Heatmap depicting correlation between features\");"
   ]
  },
  {
   "cell_type": "markdown",
   "metadata": {},
   "source": [
    "## Random Forest"
   ]
  },
  {
   "cell_type": "code",
   "execution_count": 57,
   "metadata": {},
   "outputs": [
    {
     "data": {
      "text/plain": [
       "Index(['Mapped Agent 13M Persistency', 'Applicant's Policy Annualized Premium',\n",
       "       'Mapped Agent Vintage', 'Auto Debit of Premium Opted Flag(Yes/No)',\n",
       "       'Application Life Assured BMI',\n",
       "       'Total Risk Exposure of HDFC Life w.r.t. Life Assured',\n",
       "       'Application  Sourcing Channel', 'Application  Life Assured City Tier',\n",
       "       'Application  Life Assured Age', 'Application  Life Assured Gender',\n",
       "       'Application  Life Assured Income',\n",
       "       'Application  Life Assured Industry',\n",
       "       'Application  Life Assured Occupation',\n",
       "       'Applicant's Policy PAR/NON PAR/ULIP Tag',\n",
       "       'Application Specific Sourcing Partner', 'First Premium Payment Type',\n",
       "       'Applicant's Policy Product Category',\n",
       "       'Applicant's Policy Premium Payment Frequency',\n",
       "       'Applicant's Policy Product Name',\n",
       "       'Applicant's Policy Price Sensitivity(1-'Yes', 0-'No')',\n",
       "       'Applicant's Policy Risk Cessation Term',\n",
       "       'Applicant's Policy Rider Opted Flag(1-'Yes', 0-'No')',\n",
       "       'Application Sourcing Sub Channel', 'Applicant's Policy Sum Assured',\n",
       "       'HDFC Life Operational Zone', 'smoker_drinker', 'Perf+vintage'],\n",
       "      dtype='object')"
      ]
     },
     "execution_count": 57,
     "metadata": {},
     "output_type": "execute_result"
    }
   ],
   "source": [
    "## Features for training and testing purpose(Indepedndent variable)\n",
    "x = df.loc[:, df.columns != 'Target']\n",
    "x.columns"
   ]
  },
  {
   "cell_type": "code",
   "execution_count": 43,
   "metadata": {},
   "outputs": [
    {
     "data": {
      "text/plain": [
       "0        1\n",
       "1        1\n",
       "2        1\n",
       "3        1\n",
       "4        1\n",
       "        ..\n",
       "25315    0\n",
       "25316    0\n",
       "25317    0\n",
       "25318    0\n",
       "25319    1\n",
       "Name: Target, Length: 25320, dtype: int64"
      ]
     },
     "execution_count": 43,
     "metadata": {},
     "output_type": "execute_result"
    }
   ],
   "source": [
    "y=df['Target']\n",
    "y"
   ]
  },
  {
   "cell_type": "code",
   "execution_count": 44,
   "metadata": {},
   "outputs": [
    {
     "name": "stdout",
     "output_type": "stream",
     "text": [
      " 1) Mapped Agent 13M Persistency   0.273912\n",
      " 2) Applicant's Policy Annualized Premium 0.073184\n",
      " 3) Mapped Agent Vintage           0.064263\n",
      " 4) Auto Debit of Premium Opted Flag(Yes/No) 0.059023\n",
      " 5) Application Life Assured BMI   0.058885\n",
      " 6) Total Risk Exposure of HDFC Life w.r.t. Life Assured 0.051690\n",
      " 7) Application  Sourcing Channel  0.040130\n",
      " 8) Application  Life Assured City Tier 0.033894\n",
      " 9) Application  Life Assured Age  0.032083\n",
      "10) Application  Life Assured Gender 0.031879\n",
      "11) Application  Life Assured Income 0.029568\n",
      "12) Application  Life Assured Industry 0.027852\n",
      "13) Application  Life Assured Occupation 0.027613\n",
      "14) Applicant's Policy PAR/NON PAR/ULIP Tag 0.024555\n",
      "15) Application Specific Sourcing Partner 0.019414\n",
      "16) First Premium Payment Type     0.019329\n",
      "17) Applicant's Policy Product Category 0.018877\n",
      "18) Applicant's Policy Premium Payment Frequency 0.018817\n",
      "19) Applicant's Policy Product Name 0.018328\n",
      "20) Applicant's Policy Price Sensitivity(1-'Yes', 0-'No') 0.014655\n",
      "21) Applicant's Policy Risk Cessation Term 0.011617\n",
      "22) Applicant's Policy Rider Opted Flag(1-'Yes', 0-'No') 0.011324\n",
      "23) Application Sourcing Sub Channel 0.010694\n",
      "24) Applicant's Policy Sum Assured 0.010688\n",
      "25) HDFC Life Operational Zone     0.007328\n",
      "26) Applicant's Policy Contract city 0.005612\n",
      "27) smoker_drinker                 0.003017\n",
      "28) Perf+vintage                   0.001769\n"
     ]
    }
   ],
   "source": [
    "from sklearn.ensemble import RandomForestClassifier\n",
    "features_label = x.columns\n",
    "forest = RandomForestClassifier (n_estimators = 100, random_state=0, n_jobs = -1)\n",
    "forest.fit(x,y)\n",
    "importances = forest.feature_importances_\n",
    "indices = np. argsort(importances)[::-1]\n",
    "for i in range(x.shape[1]):\n",
    "    print (\"%2d) %-*s %f\" % (i + 1, 30, features_label[i],importances[indices[i]]))"
   ]
  },
  {
   "cell_type": "code",
   "execution_count": 45,
   "metadata": {},
   "outputs": [
    {
     "data": {
      "image/png": "[encoded data removed]",
      "text/plain": [
       "<Figure size 432x288 with 1 Axes>"
      ]
     },
     "metadata": {
      "needs_background": "light"
     },
     "output_type": "display_data"
    },
    {
     "data": {
      "image/png": "[encoded data removed]",
      "text/plain": [
       "<Figure size 1080x360 with 1 Axes>"
      ]
     },
     "metadata": {
      "needs_background": "light"
     },
     "output_type": "display_data"
    }
   ],
   "source": [
    "plt.title('Feature Importances')\n",
    "plt.figure( figsize = (15,5))\n",
    "plt.bar(range(x.shape[1]),importances[indices], color=\"green\", align=\"center\")\n",
    "plt.xticks(range(x.shape[1]),features_label, rotation=90)\n",
    "#plt.xlim([-1, x.shape[1]])\n",
    "plt.show()"
   ]
  },
  {
   "cell_type": "code",
   "execution_count": 46,
   "metadata": {},
   "outputs": [],
   "source": [
    "df.drop(columns=[\"Applicant's Policy Contract city\"], inplace=True)"
   ]
  },
  {
   "cell_type": "code",
   "execution_count": 47,
   "metadata": {},
   "outputs": [],
   "source": [
    "from sklearn.preprocessing import PowerTransformer\n",
    "y = y.values.reshape(-1,1)\n",
    "# power transform the raw data\n",
    "power = PowerTransformer(method='yeo-johnson', standardize=True)\n",
    "y = power.fit_transform(y)"
   ]
  },
  {
   "cell_type": "code",
   "execution_count": 48,
   "metadata": {},
   "outputs": [],
   "source": [
    "## Importing library for training and testing\n",
    "from sklearn.model_selection import train_test_split\n",
    "## Importing logistic regression library\n",
    "from sklearn.linear_model import LogisticRegression\n",
    "from sklearn.metrics import accuracy_score \n",
    "from sklearn.metrics import confusion_matrix\n",
    "from sklearn import metrics\n",
    "\n",
    "from sklearn.metrics import classification_report,confusion_matrix"
   ]
  },
  {
   "cell_type": "code",
   "execution_count": 49,
   "metadata": {},
   "outputs": [],
   "source": [
    "## Taking 70:30 Ratio of Training and testing\n",
    "X_train, X_test, y_train, y_test = train_test_split(x,df['Target'],test_size=0.30)"
   ]
  },
  {
   "cell_type": "code",
   "execution_count": 50,
   "metadata": {},
   "outputs": [
    {
     "data": {
      "text/plain": [
       "RandomForestClassifier()"
      ]
     },
     "execution_count": 50,
     "metadata": {},
     "output_type": "execute_result"
    }
   ],
   "source": [
    "from sklearn.ensemble import RandomForestClassifier\n",
    "rfc = RandomForestClassifier(n_estimators=100)\n",
    "rfc.fit(X_train, y_train)"
   ]
  },
  {
   "cell_type": "code",
   "execution_count": 51,
   "metadata": {},
   "outputs": [],
   "source": [
    "rfc_pred = rfc.predict(X_test)"
   ]
  },
  {
   "cell_type": "code",
   "execution_count": 52,
   "metadata": {},
   "outputs": [],
   "source": [
    "conf_mat_test_nb = confusion_matrix(y_test.tolist(),rfc_pred)"
   ]
  },
  {
   "cell_type": "code",
   "execution_count": 53,
   "metadata": {},
   "outputs": [
    {
     "name": "stdout",
     "output_type": "stream",
     "text": [
      "[[ 881  762]\n",
      " [ 632 5321]]\n"
     ]
    },
    {
     "data": {
      "image/png": "[encoded data removed]",
      "text/plain": [
       "<Figure size 432x288 with 2 Axes>"
      ]
     },
     "metadata": {
      "needs_background": "light"
     },
     "output_type": "display_data"
    },
    {
     "name": "stdout",
     "output_type": "stream",
     "text": [
      "Accuracy: 0.8164823591363876\n"
     ]
    }
   ],
   "source": [
    "print(confusion_matrix(y_test,rfc_pred))\n",
    "sns.heatmap(conf_mat_test_nb,annot = True,fmt=\"d\") \n",
    "plt.xlabel('Predicted classes')\n",
    "plt.ylabel('Actual classes')\n",
    "plt.show()\n",
    "\n",
    "print(\"Accuracy:\",metrics.accuracy_score(y_test, rfc_pred))"
   ]
  },
  {
   "cell_type": "code",
   "execution_count": 54,
   "metadata": {},
   "outputs": [
    {
     "name": "stdout",
     "output_type": "stream",
     "text": [
      "              precision    recall  f1-score   support\n",
      "\n",
      "           0       0.58      0.54      0.56      1643\n",
      "           1       0.87      0.89      0.88      5953\n",
      "\n",
      "    accuracy                           0.82      7596\n",
      "   macro avg       0.73      0.72      0.72      7596\n",
      "weighted avg       0.81      0.82      0.81      7596\n",
      "\n"
     ]
    }
   ],
   "source": [
    "print(classification_report(y_test,rfc_pred))"
   ]
  },
  {
   "cell_type": "code",
   "execution_count": 409,
   "metadata": {},
   "outputs": [],
   "source": [
    "# Create the parameter grid based on the results of random search \n",
    "from sklearn.model_selection import GridSearchCV\n",
    "param_grid = {\n",
    "    'max_depth': [4,8,10],\n",
    "    'min_samples_leaf': range(100, 400, 200),\n",
    "    'min_samples_split': range(200, 500, 200),\n",
    "    'n_estimators': [100,200, 300], \n",
    "    'max_features': [5, 10]\n",
    "}\n",
    "# Create a based model\n",
    "rf = RandomForestClassifier()\n",
    "# Instantiate the grid search model\n",
    "grid_search = GridSearchCV(estimator = rf, param_grid = param_grid, \n",
    "                          cv = 3, n_jobs = -1,verbose = 1)"
   ]
  },
  {
   "cell_type": "code",
   "execution_count": 410,
   "metadata": {},
   "outputs": [
    {
     "name": "stdout",
     "output_type": "stream",
     "text": [
      "Fitting 3 folds for each of 72 candidates, totalling 216 fits\n"
     ]
    },
    {
     "name": "stderr",
     "output_type": "stream",
     "text": [
      "[Parallel(n_jobs=-1)]: Using backend LokyBackend with 8 concurrent workers.\n",
      "[Parallel(n_jobs=-1)]: Done  34 tasks      | elapsed:   14.9s\n",
      "[Parallel(n_jobs=-1)]: Done 184 tasks      | elapsed:  2.1min\n",
      "[Parallel(n_jobs=-1)]: Done 216 out of 216 | elapsed:  2.7min finished\n"
     ]
    },
    {
     "data": {
      "text/plain": [
       "GridSearchCV(cv=3, estimator=RandomForestClassifier(), n_jobs=-1,\n",
       "             param_grid={'max_depth': [4, 8, 10], 'max_features': [5, 10],\n",
       "                         'min_samples_leaf': range(100, 400, 200),\n",
       "                         'min_samples_split': range(200, 500, 200),\n",
       "                         'n_estimators': [100, 200, 300]},\n",
       "             verbose=1)"
      ]
     },
     "execution_count": 410,
     "metadata": {},
     "output_type": "execute_result"
    }
   ],
   "source": [
    "# Fit the grid search to the data\n",
    "grid_search.fit(X_train, y_train)"
   ]
  },
  {
   "cell_type": "code",
   "execution_count": 411,
   "metadata": {},
   "outputs": [
    {
     "name": "stdout",
     "output_type": "stream",
     "text": [
      "We can get accuracy 0.8172534416610246 using {'max_depth': 10, 'max_features': 10, 'min_samples_leaf': 100, 'min_samples_split': 200, 'n_estimators': 300}\n"
     ]
    }
   ],
   "source": [
    "# printing the optimal accuracy score and hyperparameters\n",
    "print('We can get accuracy',grid_search.best_score_,'using',grid_search.best_params_)"
   ]
  },
  {
   "cell_type": "markdown",
   "metadata": {},
   "source": [
    "## TESTING"
   ]
  },
  {
   "cell_type": "code",
   "execution_count": 163,
   "metadata": {},
   "outputs": [
    {
     "data": {
      "text/plain": [
       "Index(['Mapped Agent 13M Persistency', 'Applicant's Policy Annualized Premium',\n",
       "       'Mapped Agent Vintage', 'Auto Debit of Premium Opted Flag(Yes/No)',\n",
       "       'Application Life Assured BMI',\n",
       "       'Total Risk Exposure of HDFC Life w.r.t. Life Assured',\n",
       "       'Application  Sourcing Channel', 'Application  Life Assured City Tier',\n",
       "       'Application  Life Assured Age', 'Application  Life Assured Gender',\n",
       "       'Application  Life Assured Income',\n",
       "       'Application  Life Assured Industry',\n",
       "       'Application  Life Assured Occupation',\n",
       "       'Applicant's Policy PAR/NON PAR/ULIP Tag',\n",
       "       'Application Specific Sourcing Partner', 'First Premium Payment Type',\n",
       "       'Applicant's Policy Product Category',\n",
       "       'Applicant's Policy Premium Payment Frequency',\n",
       "       'Applicant's Policy Product Name',\n",
       "       'Applicant's Policy Price Sensitivity(1-'Yes', 0-'No')',\n",
       "       'Applicant's Policy Risk Cessation Term',\n",
       "       'Applicant's Policy Rider Opted Flag(1-'Yes', 0-'No')',\n",
       "       'Application Life Assured State', 'Application Sourcing Sub Channel',\n",
       "       'Applicant's Policy Sum Assured', 'HDFC Life Operational Zone',\n",
       "       'smoker_drinker', 'Perf+vintage'],\n",
       "      dtype='object')"
      ]
     },
     "execution_count": 163,
     "metadata": {},
     "output_type": "execute_result"
    }
   ],
   "source": [
    "#Read testing data\n",
    "df_test = pd.read_csv(\"testdata.csv\")\n",
    "df_test.columns"
   ]
  },
  {
   "cell_type": "code",
   "execution_count": 164,
   "metadata": {},
   "outputs": [
    {
     "data": {
      "text/plain": [
       "array([0, 1])"
      ]
     },
     "execution_count": 164,
     "metadata": {},
     "output_type": "execute_result"
    }
   ],
   "source": [
    "df_test['Auto Debit of Premium Opted Flag(Yes/No)']= label_encoder.fit_transform(df_test['Auto Debit of Premium Opted Flag(Yes/No)']) \n",
    "df_test['Auto Debit of Premium Opted Flag(Yes/No)'].unique()"
   ]
  },
  {
   "cell_type": "code",
   "execution_count": 165,
   "metadata": {},
   "outputs": [
    {
     "data": {
      "text/plain": [
       "array([2, 1, 0, 5, 3, 4, 6])"
      ]
     },
     "execution_count": 165,
     "metadata": {},
     "output_type": "execute_result"
    }
   ],
   "source": [
    "df_test['Application  Sourcing Channel']= label_encoder.fit_transform(df_test['Application  Sourcing Channel']) \n",
    "df_test['Application  Sourcing Channel'].unique() \n"
   ]
  },
  {
   "cell_type": "code",
   "execution_count": 166,
   "metadata": {},
   "outputs": [
    {
     "data": {
      "text/plain": [
       "array([2, 0, 1])"
      ]
     },
     "execution_count": 166,
     "metadata": {},
     "output_type": "execute_result"
    }
   ],
   "source": [
    "df_test['Application  Life Assured City Tier']= label_encoder.fit_transform(df_test['Application  Life Assured City Tier']) \n",
    "df_test['Application  Life Assured City Tier'].unique()"
   ]
  },
  {
   "cell_type": "code",
   "execution_count": 167,
   "metadata": {},
   "outputs": [
    {
     "data": {
      "text/plain": [
       "array([0, 1])"
      ]
     },
     "execution_count": 167,
     "metadata": {},
     "output_type": "execute_result"
    }
   ],
   "source": [
    "df_test['Application  Life Assured Gender']= label_encoder.fit_transform(df_test['Application  Life Assured Gender']) \n",
    "df_test['Application  Life Assured Gender'].unique()"
   ]
  },
  {
   "cell_type": "code",
   "execution_count": 168,
   "metadata": {},
   "outputs": [
    {
     "data": {
      "text/plain": [
       "array([  0, 174, 139,  31,  72,  53,  98, 230, 229,   4, 104, 169, 153,\n",
       "        74,  48, 147, 128,   2, 250,  75, 134,  57, 227,  38, 164, 252,\n",
       "       196,  41, 245, 120,  99, 163, 261, 146, 220, 216, 260,  77,  22,\n",
       "        59, 145,  35, 223, 103,  17,  83,  80,  13,  96,  28, 121, 201,\n",
       "       117,  85, 114, 179, 200, 222, 262, 259, 214, 150, 199,  20, 257,\n",
       "        88, 267, 232, 255, 156, 142, 236,  21, 107,   6,  73,  37, 218,\n",
       "        27, 159, 208,  95,  76, 129, 112, 135,  93, 172,  68, 211,  90,\n",
       "       217,  92, 162, 154,  40,  86,  94, 157, 122, 136,  11, 140, 210,\n",
       "       231, 137, 198, 189, 106, 195,  44, 239,  56, 209,  55, 158,  25,\n",
       "       240,  52,  97, 213,  64, 165,  14, 241,  33, 188, 242,  24,  26,\n",
       "       265, 187,  84,  82,  67, 148, 264,  78, 202,  43,  39, 247,  45,\n",
       "        23, 190,  61, 141,  81, 205, 266, 101, 244, 180, 116, 102, 149,\n",
       "       181, 152, 253, 251, 192, 269, 256,  50, 110, 155,  71,  70,   7,\n",
       "       167,   9, 175,  29, 130,  36,  47, 170,  12,  66, 113, 144,  69,\n",
       "        58,  15, 105,  65, 212, 219, 235,  46, 193, 221, 224, 203, 263,\n",
       "       271, 228,  51, 226, 111, 118, 166, 173, 270, 125, 109,   8, 160,\n",
       "       119, 243, 178, 234,  60, 185, 131, 194, 258,  87, 249,  16, 215,\n",
       "       132, 268,  63,  42, 127, 248,   5, 206, 225, 161, 207, 176, 100,\n",
       "       151, 138,   1, 182,  49,  54, 143,  19, 177, 124,  79, 184, 246,\n",
       "       204, 186,  34, 108, 126,  18, 237, 197, 254,  32, 133, 183, 168,\n",
       "        10,  89,  62,   3, 115, 123,  30, 191, 233, 171, 238,  91])"
      ]
     },
     "execution_count": 168,
     "metadata": {},
     "output_type": "execute_result"
    }
   ],
   "source": [
    "df_test['Application  Life Assured Industry']= label_encoder.fit_transform(df_test['Application  Life Assured Industry']) \n",
    "df_test['Application  Life Assured Industry'].unique()"
   ]
  },
  {
   "cell_type": "code",
   "execution_count": 169,
   "metadata": {},
   "outputs": [
    {
     "data": {
      "text/plain": [
       "array([3, 2, 0, 1, 4])"
      ]
     },
     "execution_count": 169,
     "metadata": {},
     "output_type": "execute_result"
    }
   ],
   "source": [
    "df_test['Application  Life Assured Occupation']= label_encoder.fit_transform(df_test['Application  Life Assured Occupation']) \n",
    "df_test['Application  Life Assured Occupation'].unique()"
   ]
  },
  {
   "cell_type": "code",
   "execution_count": 170,
   "metadata": {},
   "outputs": [
    {
     "data": {
      "text/plain": [
       "array([2, 1, 0])"
      ]
     },
     "execution_count": 170,
     "metadata": {},
     "output_type": "execute_result"
    }
   ],
   "source": [
    "df_test[\"Applicant's Policy PAR/NON PAR/ULIP Tag\"]= label_encoder.fit_transform(df_test[\"Applicant's Policy PAR/NON PAR/ULIP Tag\"]) \n",
    "df_test[\"Applicant's Policy PAR/NON PAR/ULIP Tag\"].unique() "
   ]
  },
  {
   "cell_type": "code",
   "execution_count": 171,
   "metadata": {},
   "outputs": [
    {
     "data": {
      "text/plain": [
       "array([31, 33, 61, 72, 38, 36, 32, 53, 22, 35, 52, 12, 25, 71, 20,  5, 34,\n",
       "        7, 75, 74, 42, 46, 13, 50, 47, 51, 16, 37, 10, 60, 67, 17, 28, 27,\n",
       "       14, 68, 49, 58,  8, 24, 55, 45, 63, 54, 56,  4, 23, 39, 62, 19, 76,\n",
       "       41, 70,  6, 26, 15,  2, 57, 69, 11, 65, 48, 21, 59,  3, 29, 66, 18,\n",
       "       30,  0, 43, 40, 73,  1, 64, 44,  9])"
      ]
     },
     "execution_count": 171,
     "metadata": {},
     "output_type": "execute_result"
    }
   ],
   "source": [
    "df_test['Application Specific Sourcing Partner']= label_encoder.fit_transform(df_test['Application Specific Sourcing Partner']) \n",
    "df_test['Application Specific Sourcing Partner'].unique() "
   ]
  },
  {
   "cell_type": "code",
   "execution_count": 172,
   "metadata": {},
   "outputs": [
    {
     "data": {
      "text/plain": [
       "array([3, 1, 6, 4, 7, 8, 2, 5, 0])"
      ]
     },
     "execution_count": 172,
     "metadata": {},
     "output_type": "execute_result"
    }
   ],
   "source": [
    "df_test['First Premium Payment Type']= label_encoder.fit_transform(df_test['First Premium Payment Type']) \n",
    "df_test['First Premium Payment Type'].unique() "
   ]
  },
  {
   "cell_type": "code",
   "execution_count": 173,
   "metadata": {},
   "outputs": [
    {
     "data": {
      "text/plain": [
       "array([1, 3, 2, 0])"
      ]
     },
     "execution_count": 173,
     "metadata": {},
     "output_type": "execute_result"
    }
   ],
   "source": [
    "df_test[\"Applicant's Policy Product Category\"]= label_encoder.fit_transform(df_test[\"Applicant's Policy Product Category\"]) \n",
    "df_test[\"Applicant's Policy Product Category\"].unique() "
   ]
  },
  {
   "cell_type": "code",
   "execution_count": 174,
   "metadata": {},
   "outputs": [
    {
     "data": {
      "text/plain": [
       "array([0, 1, 2, 3])"
      ]
     },
     "execution_count": 174,
     "metadata": {},
     "output_type": "execute_result"
    }
   ],
   "source": [
    "df_test[\"Applicant's Policy Premium Payment Frequency\"]= label_encoder.fit_transform(df_test[\"Applicant's Policy Premium Payment Frequency\"]) \n",
    "df_test[\"Applicant's Policy Premium Payment Frequency\"].unique() "
   ]
  },
  {
   "cell_type": "code",
   "execution_count": 175,
   "metadata": {},
   "outputs": [
    {
     "data": {
      "text/plain": [
       "array([ 4, 14,  1, 17, 15,  8, 16,  2, 18, 13,  3,  7,  9,  6,  0,  5, 11,\n",
       "       10, 12])"
      ]
     },
     "execution_count": 175,
     "metadata": {},
     "output_type": "execute_result"
    }
   ],
   "source": [
    "df_test[\"Applicant's Policy Product Name\"]= label_encoder.fit_transform(df_test[\"Applicant's Policy Product Name\"]) \n",
    "df_test[\"Applicant's Policy Product Name\"].unique()"
   ]
  },
  {
   "cell_type": "code",
   "execution_count": 176,
   "metadata": {},
   "outputs": [
    {
     "data": {
      "text/plain": [
       "array([11, 18, 16, 26,  8, 28, 25,  2, 31, 10,  0,  3, 15, 17,  5, 19, 32,\n",
       "       33, 13, 14, 29,  6, 23, 12,  7,  9, 27, 22,  4, 21, 24, 20,  1, 30])"
      ]
     },
     "execution_count": 176,
     "metadata": {},
     "output_type": "execute_result"
    }
   ],
   "source": [
    "df_test['Application Life Assured State']= label_encoder.fit_transform(df_test['Application Life Assured State']) \n",
    "df_test['Application Life Assured State'].unique() "
   ]
  },
  {
   "cell_type": "code",
   "execution_count": 177,
   "metadata": {},
   "outputs": [
    {
     "data": {
      "text/plain": [
       "array([ 8, 10,  3, 26, 11, 20, 22, 12, 15, 25,  9,  1, 18,  5, 14, 16, 19,\n",
       "        4, 21,  2, 13,  6, 24,  0, 17,  7, 23])"
      ]
     },
     "execution_count": 177,
     "metadata": {},
     "output_type": "execute_result"
    }
   ],
   "source": [
    "df_test['Application Sourcing Sub Channel']= label_encoder.fit_transform(df_test['Application Sourcing Sub Channel']) \n",
    "df_test['Application Sourcing Sub Channel'].unique() "
   ]
  },
  {
   "cell_type": "code",
   "execution_count": 178,
   "metadata": {},
   "outputs": [
    {
     "data": {
      "text/plain": [
       "array([1, 5, 4, 2, 3, 0])"
      ]
     },
     "execution_count": 178,
     "metadata": {},
     "output_type": "execute_result"
    }
   ],
   "source": [
    "df_test['HDFC Life Operational Zone']= label_encoder.fit_transform(df_test['HDFC Life Operational Zone']) \n",
    "df_test['HDFC Life Operational Zone'].unique() "
   ]
  },
  {
   "cell_type": "code",
   "execution_count": 179,
   "metadata": {},
   "outputs": [
    {
     "data": {
      "text/plain": [
       "array([32, 20, 49, 31, 45, 26, 42, 56, 41, 46, 38, 30, 19, 44, 50, 25, 24,\n",
       "       34, 35, 47, 40, 21, 39, 28, 43, 51, 53, 27, 23, 57, 37, 22, 54, 29,\n",
       "       55, 59, 36, 48, 33, 52, 58, 61, 18, 17, 60, 16,  1, 15,  5, 62,  4,\n",
       "        2,  9,  8, 14, 11,  3,  0,  6,  7, 12, 13, 10], dtype=int64)"
      ]
     },
     "execution_count": 179,
     "metadata": {},
     "output_type": "execute_result"
    }
   ],
   "source": [
    "df_test[\"Application  Life Assured Age\"]= label_encoder.fit_transform(df_test[\"Application  Life Assured Age\"]) \n",
    "df_test[\"Application  Life Assured Age\"].unique()"
   ]
  },
  {
   "cell_type": "code",
   "execution_count": 180,
   "metadata": {},
   "outputs": [
    {
     "data": {
      "text/plain": [
       "array([0, 3, 2, 1])"
      ]
     },
     "execution_count": 180,
     "metadata": {},
     "output_type": "execute_result"
    }
   ],
   "source": [
    "df_test[\"smoker_drinker\"]= label_encoder.fit_transform(df_test[\"smoker_drinker\"]) \n",
    "df_test[\"smoker_drinker\"].unique()"
   ]
  },
  {
   "cell_type": "code",
   "execution_count": 181,
   "metadata": {},
   "outputs": [
    {
     "data": {
      "text/html": [
       "<div>\n",
       "<style scoped>\n",
       "    .dataframe tbody tr th:only-of-type {\n",
       "        vertical-align: middle;\n",
       "    }\n",
       "\n",
       "    .dataframe tbody tr th {\n",
       "        vertical-align: top;\n",
       "    }\n",
       "\n",
       "    .dataframe thead th {\n",
       "        text-align: right;\n",
       "    }\n",
       "</style>\n",
       "<table border=\"1\" class=\"dataframe\">\n",
       "  <thead>\n",
       "    <tr style=\"text-align: right;\">\n",
       "      <th></th>\n",
       "      <th>Mapped Agent 13M Persistency</th>\n",
       "      <th>Applicant's Policy Annualized Premium</th>\n",
       "      <th>Mapped Agent Vintage</th>\n",
       "      <th>Auto Debit of Premium Opted Flag(Yes/No)</th>\n",
       "      <th>Application Life Assured BMI</th>\n",
       "      <th>Total Risk Exposure of HDFC Life w.r.t. Life Assured</th>\n",
       "      <th>Application  Sourcing Channel</th>\n",
       "      <th>Application  Life Assured City Tier</th>\n",
       "      <th>Application  Life Assured Age</th>\n",
       "      <th>Application  Life Assured Gender</th>\n",
       "      <th>...</th>\n",
       "      <th>Applicant's Policy Product Name</th>\n",
       "      <th>Applicant's Policy Price Sensitivity(1-'Yes', 0-'No')</th>\n",
       "      <th>Applicant's Policy Risk Cessation Term</th>\n",
       "      <th>Applicant's Policy Rider Opted Flag(1-'Yes', 0-'No')</th>\n",
       "      <th>Application Life Assured State</th>\n",
       "      <th>Application Sourcing Sub Channel</th>\n",
       "      <th>Applicant's Policy Sum Assured</th>\n",
       "      <th>HDFC Life Operational Zone</th>\n",
       "      <th>smoker_drinker</th>\n",
       "      <th>Perf+vintage</th>\n",
       "    </tr>\n",
       "  </thead>\n",
       "  <tbody>\n",
       "    <tr>\n",
       "      <th>0</th>\n",
       "      <td>80.32</td>\n",
       "      <td>99999</td>\n",
       "      <td>11</td>\n",
       "      <td>0</td>\n",
       "      <td>21.79931</td>\n",
       "      <td>999990</td>\n",
       "      <td>2</td>\n",
       "      <td>2</td>\n",
       "      <td>32</td>\n",
       "      <td>0</td>\n",
       "      <td>...</td>\n",
       "      <td>4</td>\n",
       "      <td>0</td>\n",
       "      <td>10</td>\n",
       "      <td>1</td>\n",
       "      <td>11</td>\n",
       "      <td>8</td>\n",
       "      <td>1999980</td>\n",
       "      <td>1</td>\n",
       "      <td>0</td>\n",
       "      <td>883.52</td>\n",
       "    </tr>\n",
       "    <tr>\n",
       "      <th>1</th>\n",
       "      <td>80.32</td>\n",
       "      <td>60000</td>\n",
       "      <td>22</td>\n",
       "      <td>1</td>\n",
       "      <td>21.30395</td>\n",
       "      <td>600000</td>\n",
       "      <td>2</td>\n",
       "      <td>0</td>\n",
       "      <td>20</td>\n",
       "      <td>1</td>\n",
       "      <td>...</td>\n",
       "      <td>4</td>\n",
       "      <td>0</td>\n",
       "      <td>10</td>\n",
       "      <td>1</td>\n",
       "      <td>18</td>\n",
       "      <td>8</td>\n",
       "      <td>1200000</td>\n",
       "      <td>5</td>\n",
       "      <td>0</td>\n",
       "      <td>1767.04</td>\n",
       "    </tr>\n",
       "    <tr>\n",
       "      <th>2</th>\n",
       "      <td>80.32</td>\n",
       "      <td>50000</td>\n",
       "      <td>6</td>\n",
       "      <td>0</td>\n",
       "      <td>21.09619</td>\n",
       "      <td>950000</td>\n",
       "      <td>1</td>\n",
       "      <td>2</td>\n",
       "      <td>49</td>\n",
       "      <td>0</td>\n",
       "      <td>...</td>\n",
       "      <td>14</td>\n",
       "      <td>0</td>\n",
       "      <td>15</td>\n",
       "      <td>1</td>\n",
       "      <td>16</td>\n",
       "      <td>10</td>\n",
       "      <td>1900000</td>\n",
       "      <td>4</td>\n",
       "      <td>0</td>\n",
       "      <td>481.92</td>\n",
       "    </tr>\n",
       "    <tr>\n",
       "      <th>3</th>\n",
       "      <td>80.32</td>\n",
       "      <td>25000</td>\n",
       "      <td>3</td>\n",
       "      <td>1</td>\n",
       "      <td>22.77319</td>\n",
       "      <td>250000</td>\n",
       "      <td>2</td>\n",
       "      <td>2</td>\n",
       "      <td>31</td>\n",
       "      <td>0</td>\n",
       "      <td>...</td>\n",
       "      <td>4</td>\n",
       "      <td>0</td>\n",
       "      <td>10</td>\n",
       "      <td>1</td>\n",
       "      <td>26</td>\n",
       "      <td>8</td>\n",
       "      <td>500000</td>\n",
       "      <td>2</td>\n",
       "      <td>0</td>\n",
       "      <td>240.96</td>\n",
       "    </tr>\n",
       "    <tr>\n",
       "      <th>4</th>\n",
       "      <td>0.00</td>\n",
       "      <td>95693</td>\n",
       "      <td>28</td>\n",
       "      <td>1</td>\n",
       "      <td>23.33547</td>\n",
       "      <td>686457</td>\n",
       "      <td>0</td>\n",
       "      <td>2</td>\n",
       "      <td>45</td>\n",
       "      <td>1</td>\n",
       "      <td>...</td>\n",
       "      <td>1</td>\n",
       "      <td>0</td>\n",
       "      <td>15</td>\n",
       "      <td>1</td>\n",
       "      <td>18</td>\n",
       "      <td>3</td>\n",
       "      <td>686458</td>\n",
       "      <td>5</td>\n",
       "      <td>0</td>\n",
       "      <td>0.00</td>\n",
       "    </tr>\n",
       "    <tr>\n",
       "      <th>...</th>\n",
       "      <td>...</td>\n",
       "      <td>...</td>\n",
       "      <td>...</td>\n",
       "      <td>...</td>\n",
       "      <td>...</td>\n",
       "      <td>...</td>\n",
       "      <td>...</td>\n",
       "      <td>...</td>\n",
       "      <td>...</td>\n",
       "      <td>...</td>\n",
       "      <td>...</td>\n",
       "      <td>...</td>\n",
       "      <td>...</td>\n",
       "      <td>...</td>\n",
       "      <td>...</td>\n",
       "      <td>...</td>\n",
       "      <td>...</td>\n",
       "      <td>...</td>\n",
       "      <td>...</td>\n",
       "      <td>...</td>\n",
       "      <td>...</td>\n",
       "    </tr>\n",
       "    <tr>\n",
       "      <th>7510</th>\n",
       "      <td>80.32</td>\n",
       "      <td>50000</td>\n",
       "      <td>33</td>\n",
       "      <td>0</td>\n",
       "      <td>24.09297</td>\n",
       "      <td>500000</td>\n",
       "      <td>2</td>\n",
       "      <td>1</td>\n",
       "      <td>36</td>\n",
       "      <td>1</td>\n",
       "      <td>...</td>\n",
       "      <td>14</td>\n",
       "      <td>0</td>\n",
       "      <td>10</td>\n",
       "      <td>0</td>\n",
       "      <td>13</td>\n",
       "      <td>8</td>\n",
       "      <td>500000</td>\n",
       "      <td>1</td>\n",
       "      <td>0</td>\n",
       "      <td>2650.56</td>\n",
       "    </tr>\n",
       "    <tr>\n",
       "      <th>7511</th>\n",
       "      <td>80.32</td>\n",
       "      <td>25000</td>\n",
       "      <td>8</td>\n",
       "      <td>1</td>\n",
       "      <td>26.21882</td>\n",
       "      <td>250000</td>\n",
       "      <td>2</td>\n",
       "      <td>1</td>\n",
       "      <td>29</td>\n",
       "      <td>1</td>\n",
       "      <td>...</td>\n",
       "      <td>15</td>\n",
       "      <td>0</td>\n",
       "      <td>10</td>\n",
       "      <td>1</td>\n",
       "      <td>25</td>\n",
       "      <td>9</td>\n",
       "      <td>500000</td>\n",
       "      <td>1</td>\n",
       "      <td>0</td>\n",
       "      <td>642.56</td>\n",
       "    </tr>\n",
       "    <tr>\n",
       "      <th>7512</th>\n",
       "      <td>80.32</td>\n",
       "      <td>25260</td>\n",
       "      <td>19</td>\n",
       "      <td>1</td>\n",
       "      <td>23.52941</td>\n",
       "      <td>10000000</td>\n",
       "      <td>0</td>\n",
       "      <td>1</td>\n",
       "      <td>36</td>\n",
       "      <td>1</td>\n",
       "      <td>...</td>\n",
       "      <td>2</td>\n",
       "      <td>1</td>\n",
       "      <td>35</td>\n",
       "      <td>1</td>\n",
       "      <td>17</td>\n",
       "      <td>3</td>\n",
       "      <td>20000000</td>\n",
       "      <td>0</td>\n",
       "      <td>0</td>\n",
       "      <td>1526.08</td>\n",
       "    </tr>\n",
       "    <tr>\n",
       "      <th>7513</th>\n",
       "      <td>90.98</td>\n",
       "      <td>50000</td>\n",
       "      <td>59</td>\n",
       "      <td>1</td>\n",
       "      <td>24.80159</td>\n",
       "      <td>500000</td>\n",
       "      <td>1</td>\n",
       "      <td>2</td>\n",
       "      <td>38</td>\n",
       "      <td>1</td>\n",
       "      <td>...</td>\n",
       "      <td>4</td>\n",
       "      <td>0</td>\n",
       "      <td>10</td>\n",
       "      <td>0</td>\n",
       "      <td>10</td>\n",
       "      <td>11</td>\n",
       "      <td>500000</td>\n",
       "      <td>5</td>\n",
       "      <td>0</td>\n",
       "      <td>5367.82</td>\n",
       "    </tr>\n",
       "    <tr>\n",
       "      <th>7514</th>\n",
       "      <td>80.32</td>\n",
       "      <td>25000</td>\n",
       "      <td>14</td>\n",
       "      <td>1</td>\n",
       "      <td>26.57313</td>\n",
       "      <td>175000</td>\n",
       "      <td>2</td>\n",
       "      <td>0</td>\n",
       "      <td>44</td>\n",
       "      <td>1</td>\n",
       "      <td>...</td>\n",
       "      <td>15</td>\n",
       "      <td>0</td>\n",
       "      <td>10</td>\n",
       "      <td>0</td>\n",
       "      <td>15</td>\n",
       "      <td>8</td>\n",
       "      <td>175000</td>\n",
       "      <td>4</td>\n",
       "      <td>0</td>\n",
       "      <td>1124.48</td>\n",
       "    </tr>\n",
       "  </tbody>\n",
       "</table>\n",
       "<p>7515 rows × 28 columns</p>\n",
       "</div>"
      ],
      "text/plain": [
       "      Mapped Agent 13M Persistency  Applicant's Policy Annualized Premium  \\\n",
       "0                            80.32                                  99999   \n",
       "1                            80.32                                  60000   \n",
       "2                            80.32                                  50000   \n",
       "3                            80.32                                  25000   \n",
       "4                             0.00                                  95693   \n",
       "...                            ...                                    ...   \n",
       "7510                         80.32                                  50000   \n",
       "7511                         80.32                                  25000   \n",
       "7512                         80.32                                  25260   \n",
       "7513                         90.98                                  50000   \n",
       "7514                         80.32                                  25000   \n",
       "\n",
       "      Mapped Agent Vintage  Auto Debit of Premium Opted Flag(Yes/No)  \\\n",
       "0                       11                                         0   \n",
       "1                       22                                         1   \n",
       "2                        6                                         0   \n",
       "3                        3                                         1   \n",
       "4                       28                                         1   \n",
       "...                    ...                                       ...   \n",
       "7510                    33                                         0   \n",
       "7511                     8                                         1   \n",
       "7512                    19                                         1   \n",
       "7513                    59                                         1   \n",
       "7514                    14                                         1   \n",
       "\n",
       "      Application Life Assured BMI  \\\n",
       "0                         21.79931   \n",
       "1                         21.30395   \n",
       "2                         21.09619   \n",
       "3                         22.77319   \n",
       "4                         23.33547   \n",
       "...                            ...   \n",
       "7510                      24.09297   \n",
       "7511                      26.21882   \n",
       "7512                      23.52941   \n",
       "7513                      24.80159   \n",
       "7514                      26.57313   \n",
       "\n",
       "      Total Risk Exposure of HDFC Life w.r.t. Life Assured  \\\n",
       "0                                                999990      \n",
       "1                                                600000      \n",
       "2                                                950000      \n",
       "3                                                250000      \n",
       "4                                                686457      \n",
       "...                                                 ...      \n",
       "7510                                             500000      \n",
       "7511                                             250000      \n",
       "7512                                           10000000      \n",
       "7513                                             500000      \n",
       "7514                                             175000      \n",
       "\n",
       "      Application  Sourcing Channel  Application  Life Assured City Tier  \\\n",
       "0                                 2                                    2   \n",
       "1                                 2                                    0   \n",
       "2                                 1                                    2   \n",
       "3                                 2                                    2   \n",
       "4                                 0                                    2   \n",
       "...                             ...                                  ...   \n",
       "7510                              2                                    1   \n",
       "7511                              2                                    1   \n",
       "7512                              0                                    1   \n",
       "7513                              1                                    2   \n",
       "7514                              2                                    0   \n",
       "\n",
       "      Application  Life Assured Age  Application  Life Assured Gender  ...  \\\n",
       "0                                32                                 0  ...   \n",
       "1                                20                                 1  ...   \n",
       "2                                49                                 0  ...   \n",
       "3                                31                                 0  ...   \n",
       "4                                45                                 1  ...   \n",
       "...                             ...                               ...  ...   \n",
       "7510                             36                                 1  ...   \n",
       "7511                             29                                 1  ...   \n",
       "7512                             36                                 1  ...   \n",
       "7513                             38                                 1  ...   \n",
       "7514                             44                                 1  ...   \n",
       "\n",
       "      Applicant's Policy Product Name  \\\n",
       "0                                   4   \n",
       "1                                   4   \n",
       "2                                  14   \n",
       "3                                   4   \n",
       "4                                   1   \n",
       "...                               ...   \n",
       "7510                               14   \n",
       "7511                               15   \n",
       "7512                                2   \n",
       "7513                                4   \n",
       "7514                               15   \n",
       "\n",
       "      Applicant's Policy Price Sensitivity(1-'Yes', 0-'No')  \\\n",
       "0                                                     0       \n",
       "1                                                     0       \n",
       "2                                                     0       \n",
       "3                                                     0       \n",
       "4                                                     0       \n",
       "...                                                 ...       \n",
       "7510                                                  0       \n",
       "7511                                                  0       \n",
       "7512                                                  1       \n",
       "7513                                                  0       \n",
       "7514                                                  0       \n",
       "\n",
       "      Applicant's Policy Risk Cessation Term  \\\n",
       "0                                         10   \n",
       "1                                         10   \n",
       "2                                         15   \n",
       "3                                         10   \n",
       "4                                         15   \n",
       "...                                      ...   \n",
       "7510                                      10   \n",
       "7511                                      10   \n",
       "7512                                      35   \n",
       "7513                                      10   \n",
       "7514                                      10   \n",
       "\n",
       "      Applicant's Policy Rider Opted Flag(1-'Yes', 0-'No')  \\\n",
       "0                                                     1      \n",
       "1                                                     1      \n",
       "2                                                     1      \n",
       "3                                                     1      \n",
       "4                                                     1      \n",
       "...                                                 ...      \n",
       "7510                                                  0      \n",
       "7511                                                  1      \n",
       "7512                                                  1      \n",
       "7513                                                  0      \n",
       "7514                                                  0      \n",
       "\n",
       "      Application Life Assured State  Application Sourcing Sub Channel  \\\n",
       "0                                 11                                 8   \n",
       "1                                 18                                 8   \n",
       "2                                 16                                10   \n",
       "3                                 26                                 8   \n",
       "4                                 18                                 3   \n",
       "...                              ...                               ...   \n",
       "7510                              13                                 8   \n",
       "7511                              25                                 9   \n",
       "7512                              17                                 3   \n",
       "7513                              10                                11   \n",
       "7514                              15                                 8   \n",
       "\n",
       "      Applicant's Policy Sum Assured  HDFC Life Operational Zone  \\\n",
       "0                            1999980                           1   \n",
       "1                            1200000                           5   \n",
       "2                            1900000                           4   \n",
       "3                             500000                           2   \n",
       "4                             686458                           5   \n",
       "...                              ...                         ...   \n",
       "7510                          500000                           1   \n",
       "7511                          500000                           1   \n",
       "7512                        20000000                           0   \n",
       "7513                          500000                           5   \n",
       "7514                          175000                           4   \n",
       "\n",
       "      smoker_drinker  Perf+vintage  \n",
       "0                  0        883.52  \n",
       "1                  0       1767.04  \n",
       "2                  0        481.92  \n",
       "3                  0        240.96  \n",
       "4                  0          0.00  \n",
       "...              ...           ...  \n",
       "7510               0       2650.56  \n",
       "7511               0        642.56  \n",
       "7512               0       1526.08  \n",
       "7513               0       5367.82  \n",
       "7514               0       1124.48  \n",
       "\n",
       "[7515 rows x 28 columns]"
      ]
     },
     "execution_count": 181,
     "metadata": {},
     "output_type": "execute_result"
    }
   ],
   "source": [
    "df_test"
   ]
  },
  {
   "cell_type": "code",
   "execution_count": 182,
   "metadata": {},
   "outputs": [],
   "source": [
    "results = rfc.predict(df_test)"
   ]
  },
  {
   "cell_type": "code",
   "execution_count": 183,
   "metadata": {},
   "outputs": [
    {
     "data": {
      "text/plain": [
       "array([1, 1, 0, ..., 1, 1, 1], dtype=int64)"
      ]
     },
     "execution_count": 183,
     "metadata": {},
     "output_type": "execute_result"
    }
   ],
   "source": [
    "results"
   ]
  },
  {
   "cell_type": "code",
   "execution_count": 184,
   "metadata": {},
   "outputs": [],
   "source": [
    "result = pd.DataFrame(data=results)\n",
    "result.columns = ['TestTarget']"
   ]
  },
  {
   "cell_type": "code",
   "execution_count": 185,
   "metadata": {},
   "outputs": [
    {
     "data": {
      "text/html": [
       "<div>\n",
       "<style scoped>\n",
       "    .dataframe tbody tr th:only-of-type {\n",
       "        vertical-align: middle;\n",
       "    }\n",
       "\n",
       "    .dataframe tbody tr th {\n",
       "        vertical-align: top;\n",
       "    }\n",
       "\n",
       "    .dataframe thead th {\n",
       "        text-align: right;\n",
       "    }\n",
       "</style>\n",
       "<table border=\"1\" class=\"dataframe\">\n",
       "  <thead>\n",
       "    <tr style=\"text-align: right;\">\n",
       "      <th></th>\n",
       "      <th>TestTarget</th>\n",
       "    </tr>\n",
       "  </thead>\n",
       "  <tbody>\n",
       "    <tr>\n",
       "      <th>0</th>\n",
       "      <td>1</td>\n",
       "    </tr>\n",
       "    <tr>\n",
       "      <th>1</th>\n",
       "      <td>1</td>\n",
       "    </tr>\n",
       "    <tr>\n",
       "      <th>2</th>\n",
       "      <td>0</td>\n",
       "    </tr>\n",
       "    <tr>\n",
       "      <th>3</th>\n",
       "      <td>1</td>\n",
       "    </tr>\n",
       "    <tr>\n",
       "      <th>4</th>\n",
       "      <td>1</td>\n",
       "    </tr>\n",
       "  </tbody>\n",
       "</table>\n",
       "</div>"
      ],
      "text/plain": [
       "   TestTarget\n",
       "0           1\n",
       "1           1\n",
       "2           0\n",
       "3           1\n",
       "4           1"
      ]
     },
     "execution_count": 185,
     "metadata": {},
     "output_type": "execute_result"
    }
   ],
   "source": [
    "result.head()"
   ]
  },
  {
   "cell_type": "code",
   "execution_count": 186,
   "metadata": {},
   "outputs": [],
   "source": [
    "result.to_excel(\"TestTargetPrediction.xlsx\")"
   ]
  },
  {
   "cell_type": "code",
   "execution_count": null,
   "metadata": {},
   "outputs": [],
   "source": []
  },
  {
   "cell_type": "markdown",
   "metadata": {},
   "source": [
    "## OOT DATA"
   ]
  },
  {
   "cell_type": "code",
   "execution_count": 260,
   "metadata": {},
   "outputs": [
    {
     "data": {
      "text/plain": [
       "Index(['Mapped Agent 13M Persistency',\n",
       "       'Application Life Assured Alcohol Declaration',\n",
       "       'Applicant's Policy Annualized Premium', 'Mapped Agent Vintage',\n",
       "       'Auto Debit of Premium Opted Flag(Yes/No)',\n",
       "       'Application Life Assured BMI',\n",
       "       'Total Risk Exposure of HDFC Life w.r.t. Life Assured',\n",
       "       'Application  Sourcing Channel', 'Application  Life Assured City',\n",
       "       'Applicant's  Policy Contract Branch',\n",
       "       'Application  Life Assured City Tier', 'Application  Life Assured Age',\n",
       "       'Application  Life Assured Education',\n",
       "       'Application  Life Assured Gender', 'Application  Life Assured Income',\n",
       "       'Application  Life Assured Industry',\n",
       "       'Application  Life Assured Marital Status',\n",
       "       'Application  Life Assured Nationality',\n",
       "       'Application  Life Assured Occupation',\n",
       "       'Applicant's Policy PAR/NON PAR/ULIP Tag',\n",
       "       'Application Specific Sourcing Partner', 'First Premium Payment Type',\n",
       "       'Applicant's Policy Product Category',\n",
       "       'Applicant's Policy Premium Payment Frequency',\n",
       "       'Applicant's Policy Product Name',\n",
       "       'Applicant's Policy Price Sensitivity(1-'Yes', 0-'No')',\n",
       "       'Application Life Assured Residential Status',\n",
       "       'Applicant's Policy Risk Cessation Term',\n",
       "       'Applicant's Policy Rider Opted Flag(1-'Yes', 0-'No')',\n",
       "       'Application Life Assured Smoker Declaration',\n",
       "       'Application Life Assured State', 'Application Sourcing Sub Channel',\n",
       "       'Applicant's Policy Sum Assured', 'HDFC Life Operational Zone',\n",
       "       'smoker_drinker', 'Perf+vintage'],\n",
       "      dtype='object')"
      ]
     },
     "execution_count": 260,
     "metadata": {},
     "output_type": "execute_result"
    }
   ],
   "source": [
    "#Read testing data\n",
    "df_oot = pd.read_csv(\"ootdata.csv\")\n",
    "df_oot.columns"
   ]
  },
  {
   "cell_type": "code",
   "execution_count": 261,
   "metadata": {},
   "outputs": [],
   "source": [
    "df_oot.drop(columns=[ 'Application Life Assured Alcohol Declaration',\"Applicant's  Policy Contract Branch\",\n",
    "       'Application  Life Assured Education','Application  Life Assured Marital Status','Application  Life Assured City',\n",
    "       'Application  Life Assured Nationality','Application Life Assured Residential Status',\n",
    "      'Application Life Assured Smoker Declaration',], inplace=True) "
   ]
  },
  {
   "cell_type": "code",
   "execution_count": 262,
   "metadata": {},
   "outputs": [
    {
     "data": {
      "text/plain": [
       "array([1, 0])"
      ]
     },
     "execution_count": 262,
     "metadata": {},
     "output_type": "execute_result"
    }
   ],
   "source": [
    "df_oot['Auto Debit of Premium Opted Flag(Yes/No)']= label_encoder.fit_transform(df_oot['Auto Debit of Premium Opted Flag(Yes/No)']) \n",
    "df_oot['Auto Debit of Premium Opted Flag(Yes/No)'].unique()"
   ]
  },
  {
   "cell_type": "code",
   "execution_count": 263,
   "metadata": {},
   "outputs": [
    {
     "data": {
      "text/plain": [
       "array([0, 1])"
      ]
     },
     "execution_count": 263,
     "metadata": {},
     "output_type": "execute_result"
    }
   ],
   "source": [
    "df_oot[\"Applicant's Policy Rider Opted Flag(1-'Yes', 0-'No')\"]= label_encoder.fit_transform(df_oot[\"Applicant's Policy Rider Opted Flag(1-'Yes', 0-'No')\"]) \n",
    "df_oot[\"Applicant's Policy Rider Opted Flag(1-'Yes', 0-'No')\"].unique()"
   ]
  },
  {
   "cell_type": "code",
   "execution_count": 264,
   "metadata": {},
   "outputs": [
    {
     "data": {
      "text/plain": [
       "array([2, 1, 0, 5, 4, 3, 6])"
      ]
     },
     "execution_count": 264,
     "metadata": {},
     "output_type": "execute_result"
    }
   ],
   "source": [
    "df_oot['Application  Sourcing Channel']= label_encoder.fit_transform(df_oot['Application  Sourcing Channel']) \n",
    "df_oot['Application  Sourcing Channel'].unique() "
   ]
  },
  {
   "cell_type": "code",
   "execution_count": 265,
   "metadata": {},
   "outputs": [
    {
     "data": {
      "text/plain": [
       "array([0, 2, 1])"
      ]
     },
     "execution_count": 265,
     "metadata": {},
     "output_type": "execute_result"
    }
   ],
   "source": [
    "df_oot['Application  Life Assured City Tier']= label_encoder.fit_transform(df_oot['Application  Life Assured City Tier']) \n",
    "df_oot['Application  Life Assured City Tier'].unique()"
   ]
  },
  {
   "cell_type": "code",
   "execution_count": 266,
   "metadata": {},
   "outputs": [
    {
     "data": {
      "text/plain": [
       "array([1, 0])"
      ]
     },
     "execution_count": 266,
     "metadata": {},
     "output_type": "execute_result"
    }
   ],
   "source": [
    "df_oot['Application  Life Assured Gender']= label_encoder.fit_transform(df_oot['Application  Life Assured Gender']) \n",
    "df_oot['Application  Life Assured Gender'].unique()"
   ]
  },
  {
   "cell_type": "code",
   "execution_count": 267,
   "metadata": {},
   "outputs": [
    {
     "data": {
      "text/plain": [
       "array([ 56, 167,  18,   0, 220, 206,   4, 155, 234, 104,  33, 133, 121,\n",
       "       226,  90,  69,  22, 203, 221, 202, 154, 135,  49, 262, 240, 264,\n",
       "       115,  80, 130, 227, 188,  26,  75, 182,  50, 213, 245, 263,  32,\n",
       "       105, 251,  35,  28,  48,  74, 113, 175, 210, 136,  84, 122, 161,\n",
       "        19,  54, 219,  72, 244, 254,   7,  93, 231, 143, 112,  25, 111,\n",
       "        46,  85, 252, 237,   9,  65,  99, 184,  31, 158, 256, 212, 144,\n",
       "       258, 164, 186, 268, 171,  92, 253, 145, 126, 102, 265, 177, 141,\n",
       "        55, 106,  95,  66, 123,  86, 260, 107, 242,  60,   2,  51, 149,\n",
       "        77,  27, 132,  14, 199, 109, 190, 246, 209, 140, 192,  76, 259,\n",
       "       150,   1, 101, 218, 228,  67,  52, 110, 166,  15, 205,  94,  38,\n",
       "         3,  98, 195,  21, 198, 131, 250,  40,  96,  39, 217,  17, 178,\n",
       "       197, 127,  61,  43, 241, 108, 114, 156, 152, 215,  97,  73,  42,\n",
       "        70, 266, 243,  58, 183, 125,  44, 211, 117,  88, 232, 257,   5,\n",
       "        12, 274, 277, 180, 137,  23, 236, 100, 146,  87, 169, 139, 162,\n",
       "        29,  16, 207, 151, 159, 176, 222, 273,  57,  24, 168, 160, 216,\n",
       "       173,  10, 189,  37,  53,  83, 148, 201, 249, 103, 116, 128, 247,\n",
       "        89, 165, 223,  36, 138,  78,  64, 174, 235, 172,  82, 142, 119,\n",
       "       200, 170, 147, 224, 225, 275, 163,  47, 153, 269,  81,  34, 239,\n",
       "       124, 181,  68, 185, 267,  13, 193, 271, 194,  79, 255, 208, 276,\n",
       "       129,  20, 157, 261, 118, 187, 191,   6,  45, 120,   8, 248,  91,\n",
       "       233,  59, 179, 229,  41,  62, 272,  71,  30,  11, 230, 270,  63,\n",
       "       204, 134, 214, 238, 196])"
      ]
     },
     "execution_count": 267,
     "metadata": {},
     "output_type": "execute_result"
    }
   ],
   "source": [
    "df_oot['Application  Life Assured Industry']= label_encoder.fit_transform(df_oot['Application  Life Assured Industry']) \n",
    "df_oot['Application  Life Assured Industry'].unique()"
   ]
  },
  {
   "cell_type": "code",
   "execution_count": 268,
   "metadata": {},
   "outputs": [
    {
     "data": {
      "text/plain": [
       "array([2, 3, 0, 1, 4])"
      ]
     },
     "execution_count": 268,
     "metadata": {},
     "output_type": "execute_result"
    }
   ],
   "source": [
    "df_oot['Application  Life Assured Occupation']= label_encoder.fit_transform(df_oot['Application  Life Assured Occupation']) \n",
    "df_oot['Application  Life Assured Occupation'].unique()"
   ]
  },
  {
   "cell_type": "code",
   "execution_count": 269,
   "metadata": {},
   "outputs": [
    {
     "data": {
      "text/plain": [
       "array([2, 1, 0])"
      ]
     },
     "execution_count": 269,
     "metadata": {},
     "output_type": "execute_result"
    }
   ],
   "source": [
    "df_oot[\"Applicant's Policy PAR/NON PAR/ULIP Tag\"]= label_encoder.fit_transform(df_oot[\"Applicant's Policy PAR/NON PAR/ULIP Tag\"]) \n",
    "df_oot[\"Applicant's Policy PAR/NON PAR/ULIP Tag\"].unique() "
   ]
  },
  {
   "cell_type": "code",
   "execution_count": 270,
   "metadata": {},
   "outputs": [
    {
     "data": {
      "text/plain": [
       "array([31, 33, 21, 32, 52, 68, 34, 22, 11, 54, 57, 43,  8, 49, 65, 10, 15,\n",
       "       28, 59, 71, 35,  4, 37, 23,  1, 27, 70, 12, 13, 58, 47, 67, 16, 39,\n",
       "       24, 50,  5, 63, 48,  3, 25, 62, 18, 17, 20,  0, 56, 14, 29, 53, 55,\n",
       "        6, 19, 69, 42,  9, 38, 36,  7, 45, 40, 51, 26,  2, 44, 30, 61, 66,\n",
       "       64, 60, 41, 46])"
      ]
     },
     "execution_count": 270,
     "metadata": {},
     "output_type": "execute_result"
    }
   ],
   "source": [
    "df_oot['Application Specific Sourcing Partner']= label_encoder.fit_transform(df_oot['Application Specific Sourcing Partner']) \n",
    "df_oot['Application Specific Sourcing Partner'].unique() "
   ]
  },
  {
   "cell_type": "code",
   "execution_count": 271,
   "metadata": {},
   "outputs": [
    {
     "data": {
      "text/plain": [
       "array([1, 5, 8, 3, 4, 0, 6, 7, 2])"
      ]
     },
     "execution_count": 271,
     "metadata": {},
     "output_type": "execute_result"
    }
   ],
   "source": [
    "df_oot['First Premium Payment Type']= label_encoder.fit_transform(df_oot['First Premium Payment Type']) \n",
    "df_oot['First Premium Payment Type'].unique() "
   ]
  },
  {
   "cell_type": "code",
   "execution_count": 272,
   "metadata": {},
   "outputs": [
    {
     "data": {
      "text/plain": [
       "array([1, 0, 3, 2])"
      ]
     },
     "execution_count": 272,
     "metadata": {},
     "output_type": "execute_result"
    }
   ],
   "source": [
    "df_oot[\"Applicant's Policy Product Category\"]= label_encoder.fit_transform(df_oot[\"Applicant's Policy Product Category\"]) \n",
    "df_oot[\"Applicant's Policy Product Category\"].unique() "
   ]
  },
  {
   "cell_type": "code",
   "execution_count": 273,
   "metadata": {},
   "outputs": [
    {
     "data": {
      "text/plain": [
       "array([0, 1, 2, 3])"
      ]
     },
     "execution_count": 273,
     "metadata": {},
     "output_type": "execute_result"
    }
   ],
   "source": [
    "df_oot[\"Applicant's Policy Premium Payment Frequency\"]= label_encoder.fit_transform(df_oot[\"Applicant's Policy Premium Payment Frequency\"]) \n",
    "df_oot[\"Applicant's Policy Premium Payment Frequency\"].unique() "
   ]
  },
  {
   "cell_type": "code",
   "execution_count": 274,
   "metadata": {},
   "outputs": [
    {
     "data": {
      "text/plain": [
       "array([ 3, 13, 15, 14,  6,  8,  1, 16,  5, 12, 17,  4,  0, 18,  2, 10,  9,\n",
       "       11,  7])"
      ]
     },
     "execution_count": 274,
     "metadata": {},
     "output_type": "execute_result"
    }
   ],
   "source": [
    "df_oot[\"Applicant's Policy Product Name\"]= label_encoder.fit_transform(df_oot[\"Applicant's Policy Product Name\"]) \n",
    "df_oot[\"Applicant's Policy Product Name\"].unique()"
   ]
  },
  {
   "cell_type": "code",
   "execution_count": 275,
   "metadata": {},
   "outputs": [
    {
     "data": {
      "text/plain": [
       "array([18, 24, 27, 28, 16, 11, 32, 12,  5, 14, 13, 15, 30, 21, 10,  3, 25,\n",
       "       22,  8,  0, 19, 17, 31, 23,  7,  2,  4,  6,  9, 29, 26, 20,  1])"
      ]
     },
     "execution_count": 275,
     "metadata": {},
     "output_type": "execute_result"
    }
   ],
   "source": [
    "df_oot['Application Life Assured State']= label_encoder.fit_transform(df_oot['Application Life Assured State']) \n",
    "df_oot['Application Life Assured State'].unique() "
   ]
  },
  {
   "cell_type": "code",
   "execution_count": 276,
   "metadata": {},
   "outputs": [
    {
     "data": {
      "text/plain": [
       "array([ 7,  9,  8, 10,  3, 23, 20, 17, 18, 19, 12, 11,  1, 14, 15, 22,  5,\n",
       "       13, 16,  2,  4,  6,  0, 24, 21])"
      ]
     },
     "execution_count": 276,
     "metadata": {},
     "output_type": "execute_result"
    }
   ],
   "source": [
    "df_oot['Application Sourcing Sub Channel']= label_encoder.fit_transform(df_oot['Application Sourcing Sub Channel']) \n",
    "df_oot['Application Sourcing Sub Channel'].unique() "
   ]
  },
  {
   "cell_type": "code",
   "execution_count": 277,
   "metadata": {},
   "outputs": [
    {
     "data": {
      "text/plain": [
       "array([5, 1, 3, 4, 0, 2])"
      ]
     },
     "execution_count": 277,
     "metadata": {},
     "output_type": "execute_result"
    }
   ],
   "source": [
    "df_oot['HDFC Life Operational Zone']= label_encoder.fit_transform(df_oot['HDFC Life Operational Zone']) \n",
    "df_oot['HDFC Life Operational Zone'].unique() "
   ]
  },
  {
   "cell_type": "code",
   "execution_count": 278,
   "metadata": {},
   "outputs": [
    {
     "data": {
      "text/plain": [
       "array([34, 36, 42, 47, 31, 27, 46, 39, 55, 52, 38, 44, 54, 24, 59, 41, 33,\n",
       "       51, 60, 50, 29, 35, 26, 30, 28, 62, 58, 48,  3, 56, 40, 61, 45, 53,\n",
       "       43, 25, 57,  5, 23,  0, 65,  7, 49, 37, 22, 21, 32, 63, 19, 20, 18,\n",
       "       64,  4,  8, 17,  1,  2, 13, 15, 11, 10, 14,  9,  6, 12, 16],\n",
       "      dtype=int64)"
      ]
     },
     "execution_count": 278,
     "metadata": {},
     "output_type": "execute_result"
    }
   ],
   "source": [
    "df_oot[\"Application  Life Assured Age\"]= label_encoder.fit_transform(df_oot[\"Application  Life Assured Age\"]) \n",
    "df_oot[\"Application  Life Assured Age\"].unique()"
   ]
  },
  {
   "cell_type": "code",
   "execution_count": 279,
   "metadata": {},
   "outputs": [
    {
     "data": {
      "text/plain": [
       "array([0, 3, 1, 2])"
      ]
     },
     "execution_count": 279,
     "metadata": {},
     "output_type": "execute_result"
    }
   ],
   "source": [
    "df_oot[\"smoker_drinker\"]= label_encoder.fit_transform(df_oot[\"smoker_drinker\"]) \n",
    "df_oot[\"smoker_drinker\"].unique()"
   ]
  },
  {
   "cell_type": "code",
   "execution_count": 280,
   "metadata": {},
   "outputs": [],
   "source": [
    "results_oot = rfc.predict(df_oot)"
   ]
  },
  {
   "cell_type": "code",
   "execution_count": 281,
   "metadata": {},
   "outputs": [],
   "source": [
    "result_oot = pd.DataFrame(data=results_oot)\n",
    "result_oot.columns = ['OOTarget']"
   ]
  },
  {
   "cell_type": "code",
   "execution_count": 282,
   "metadata": {},
   "outputs": [
    {
     "data": {
      "text/html": [
       "<div>\n",
       "<style scoped>\n",
       "    .dataframe tbody tr th:only-of-type {\n",
       "        vertical-align: middle;\n",
       "    }\n",
       "\n",
       "    .dataframe tbody tr th {\n",
       "        vertical-align: top;\n",
       "    }\n",
       "\n",
       "    .dataframe thead th {\n",
       "        text-align: right;\n",
       "    }\n",
       "</style>\n",
       "<table border=\"1\" class=\"dataframe\">\n",
       "  <thead>\n",
       "    <tr style=\"text-align: right;\">\n",
       "      <th></th>\n",
       "      <th>OOTarget</th>\n",
       "    </tr>\n",
       "  </thead>\n",
       "  <tbody>\n",
       "    <tr>\n",
       "      <th>0</th>\n",
       "      <td>1</td>\n",
       "    </tr>\n",
       "    <tr>\n",
       "      <th>1</th>\n",
       "      <td>1</td>\n",
       "    </tr>\n",
       "    <tr>\n",
       "      <th>2</th>\n",
       "      <td>1</td>\n",
       "    </tr>\n",
       "    <tr>\n",
       "      <th>3</th>\n",
       "      <td>1</td>\n",
       "    </tr>\n",
       "    <tr>\n",
       "      <th>4</th>\n",
       "      <td>1</td>\n",
       "    </tr>\n",
       "  </tbody>\n",
       "</table>\n",
       "</div>"
      ],
      "text/plain": [
       "   OOTarget\n",
       "0         1\n",
       "1         1\n",
       "2         1\n",
       "3         1\n",
       "4         1"
      ]
     },
     "execution_count": 282,
     "metadata": {},
     "output_type": "execute_result"
    }
   ],
   "source": [
    "result_oot.head()"
   ]
  },
  {
   "cell_type": "code",
   "execution_count": 283,
   "metadata": {},
   "outputs": [],
   "source": [
    "result_oot.to_excel(\"OOTTargetPrediction.xlsx\")"
   ]
  },
  {
   "cell_type": "code",
   "execution_count": null,
   "metadata": {},
   "outputs": [],
   "source": []
  }
 ],
 "metadata": {
  "kernelspec": {
   "display_name": "Python 3",
   "language": "python",
   "name": "python3"
  },
  "language_info": {
   "codemirror_mode": {
    "name": "ipython",
    "version": 3
   },
   "file_extension": ".py",
   "mimetype": "text/x-python",
   "name": "python",
   "nbconvert_exporter": "python",
   "pygments_lexer": "ipython3",
   "version": "3.8.3"
  }
 },
 "nbformat": 4,
 "nbformat_minor": 4
}
