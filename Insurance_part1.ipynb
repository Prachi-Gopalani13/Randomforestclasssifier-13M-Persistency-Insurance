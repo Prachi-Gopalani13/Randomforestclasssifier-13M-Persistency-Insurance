{
 "cells": [
  {
   "cell_type": "code",
   "execution_count": 1,
   "metadata": {},
   "outputs": [],
   "source": [
    "# Importing the required libraries\n",
    "import pandas as pd\n",
    "import numpy as np\n",
    "import matplotlib.pyplot as plt\n",
    "import seaborn as sns\n",
    "%matplotlib inline"
   ]
  },
  {
   "cell_type": "code",
   "execution_count": 2,
   "metadata": {},
   "outputs": [],
   "source": [
    "import warnings\n",
    "warnings.filterwarnings(\"ignore\")"
   ]
  },
  {
   "cell_type": "code",
   "execution_count": 3,
   "metadata": {},
   "outputs": [
    {
     "data": {
      "text/html": [
       "<div>\n",
       "<style scoped>\n",
       "    .dataframe tbody tr th:only-of-type {\n",
       "        vertical-align: middle;\n",
       "    }\n",
       "\n",
       "    .dataframe tbody tr th {\n",
       "        vertical-align: top;\n",
       "    }\n",
       "\n",
       "    .dataframe thead th {\n",
       "        text-align: right;\n",
       "    }\n",
       "</style>\n",
       "<table border=\"1\" class=\"dataframe\">\n",
       "  <thead>\n",
       "    <tr style=\"text-align: right;\">\n",
       "      <th></th>\n",
       "      <th>VAR1</th>\n",
       "      <th>VAR2</th>\n",
       "      <th>VAR3</th>\n",
       "      <th>VAR4</th>\n",
       "      <th>VAR5</th>\n",
       "      <th>VAR6</th>\n",
       "      <th>VAR7</th>\n",
       "      <th>VAR8</th>\n",
       "      <th>VAR9</th>\n",
       "      <th>VAR10</th>\n",
       "      <th>...</th>\n",
       "      <th>VAR29</th>\n",
       "      <th>VAR30</th>\n",
       "      <th>VAR31</th>\n",
       "      <th>VAR32</th>\n",
       "      <th>VAR33</th>\n",
       "      <th>VAR34</th>\n",
       "      <th>VAR35</th>\n",
       "      <th>VAR36</th>\n",
       "      <th>VAR37</th>\n",
       "      <th>VAR38</th>\n",
       "    </tr>\n",
       "  </thead>\n",
       "  <tbody>\n",
       "    <tr>\n",
       "      <th>0</th>\n",
       "      <td>19981651</td>\n",
       "      <td>0.8773</td>\n",
       "      <td>Ghaziabad - Rajnagar</td>\n",
       "      <td>NaN</td>\n",
       "      <td>622010.0</td>\n",
       "      <td>77.0</td>\n",
       "      <td>Y</td>\n",
       "      <td>NaN</td>\n",
       "      <td>0.0</td>\n",
       "      <td>HDFC BANK</td>\n",
       "      <td>...</td>\n",
       "      <td>0</td>\n",
       "      <td>Resident Indian</td>\n",
       "      <td>14</td>\n",
       "      <td>1</td>\n",
       "      <td>NaN</td>\n",
       "      <td>Uttar Pradesh</td>\n",
       "      <td>HDFC BANK</td>\n",
       "      <td>7901018</td>\n",
       "      <td>North 2</td>\n",
       "      <td>1</td>\n",
       "    </tr>\n",
       "    <tr>\n",
       "      <th>1</th>\n",
       "      <td>20524842</td>\n",
       "      <td>93.47</td>\n",
       "      <td>Delhi - Asaf Ali Road</td>\n",
       "      <td>N</td>\n",
       "      <td>7157.0</td>\n",
       "      <td>33.0</td>\n",
       "      <td>Y</td>\n",
       "      <td>16.22784</td>\n",
       "      <td>10000000.0</td>\n",
       "      <td>HDFC BANK</td>\n",
       "      <td>...</td>\n",
       "      <td>1</td>\n",
       "      <td>Resident Indian</td>\n",
       "      <td>40</td>\n",
       "      <td>1</td>\n",
       "      <td>N</td>\n",
       "      <td>Karnataka</td>\n",
       "      <td>HDFC BANK</td>\n",
       "      <td>10000000</td>\n",
       "      <td>North 1</td>\n",
       "      <td>1</td>\n",
       "    </tr>\n",
       "    <tr>\n",
       "      <th>2</th>\n",
       "      <td>20360827</td>\n",
       "      <td>86.61</td>\n",
       "      <td>Mumbai - Corporate</td>\n",
       "      <td>Y</td>\n",
       "      <td>27426.0</td>\n",
       "      <td>99.0</td>\n",
       "      <td>N</td>\n",
       "      <td>20.83070</td>\n",
       "      <td>18000000.0</td>\n",
       "      <td>EDM</td>\n",
       "      <td>...</td>\n",
       "      <td>1</td>\n",
       "      <td>Resident Indian</td>\n",
       "      <td>30</td>\n",
       "      <td>1</td>\n",
       "      <td>N</td>\n",
       "      <td>Maharashtra</td>\n",
       "      <td>EDM</td>\n",
       "      <td>30000000</td>\n",
       "      <td>NaN</td>\n",
       "      <td>1</td>\n",
       "    </tr>\n",
       "    <tr>\n",
       "      <th>3</th>\n",
       "      <td>21025282</td>\n",
       "      <td>NaN</td>\n",
       "      <td>Mumbai - Borivali</td>\n",
       "      <td>NaN</td>\n",
       "      <td>33493.0</td>\n",
       "      <td>3.0</td>\n",
       "      <td>Y</td>\n",
       "      <td>NaN</td>\n",
       "      <td>350000.0</td>\n",
       "      <td>Other Banks &amp; CA</td>\n",
       "      <td>...</td>\n",
       "      <td>0</td>\n",
       "      <td>Resident Indian</td>\n",
       "      <td>12</td>\n",
       "      <td>0</td>\n",
       "      <td>NaN</td>\n",
       "      <td>Maharashtra</td>\n",
       "      <td>Ratnakar Bank</td>\n",
       "      <td>212857</td>\n",
       "      <td>West</td>\n",
       "      <td>1</td>\n",
       "    </tr>\n",
       "    <tr>\n",
       "      <th>4</th>\n",
       "      <td>19982717</td>\n",
       "      <td>0.8307</td>\n",
       "      <td>Mumbai - Corporate</td>\n",
       "      <td>NaN</td>\n",
       "      <td>12335.0</td>\n",
       "      <td>32.0</td>\n",
       "      <td>N</td>\n",
       "      <td>NaN</td>\n",
       "      <td>58326.0</td>\n",
       "      <td>HDFC BANK</td>\n",
       "      <td>...</td>\n",
       "      <td>0</td>\n",
       "      <td>Resident Indian</td>\n",
       "      <td>10</td>\n",
       "      <td>1</td>\n",
       "      <td>NaN</td>\n",
       "      <td>Maharashtra</td>\n",
       "      <td>HDFC BANK</td>\n",
       "      <td>116653</td>\n",
       "      <td>NaN</td>\n",
       "      <td>1</td>\n",
       "    </tr>\n",
       "  </tbody>\n",
       "</table>\n",
       "<p>5 rows × 38 columns</p>\n",
       "</div>"
      ],
      "text/plain": [
       "       VAR1    VAR2                   VAR3 VAR4      VAR5  VAR6 VAR7  \\\n",
       "0  19981651  0.8773   Ghaziabad - Rajnagar  NaN  622010.0  77.0    Y   \n",
       "1  20524842   93.47  Delhi - Asaf Ali Road    N    7157.0  33.0    Y   \n",
       "2  20360827   86.61     Mumbai - Corporate    Y   27426.0  99.0    N   \n",
       "3  21025282     NaN      Mumbai - Borivali  NaN   33493.0   3.0    Y   \n",
       "4  19982717  0.8307     Mumbai - Corporate  NaN   12335.0  32.0    N   \n",
       "\n",
       "       VAR8        VAR9             VAR10  ... VAR29            VAR30 VAR31  \\\n",
       "0       NaN         0.0         HDFC BANK  ...     0  Resident Indian    14   \n",
       "1  16.22784  10000000.0         HDFC BANK  ...     1  Resident Indian    40   \n",
       "2  20.83070  18000000.0               EDM  ...     1  Resident Indian    30   \n",
       "3       NaN    350000.0  Other Banks & CA  ...     0  Resident Indian    12   \n",
       "4       NaN     58326.0         HDFC BANK  ...     0  Resident Indian    10   \n",
       "\n",
       "   VAR32 VAR33          VAR34          VAR35     VAR36    VAR37 VAR38  \n",
       "0      1   NaN  Uttar Pradesh      HDFC BANK   7901018  North 2     1  \n",
       "1      1     N      Karnataka      HDFC BANK  10000000  North 1     1  \n",
       "2      1     N    Maharashtra            EDM  30000000      NaN     1  \n",
       "3      0   NaN    Maharashtra  Ratnakar Bank    212857     West     1  \n",
       "4      1   NaN    Maharashtra      HDFC BANK    116653      NaN     1  \n",
       "\n",
       "[5 rows x 38 columns]"
      ]
     },
     "execution_count": 3,
     "metadata": {},
     "output_type": "execute_result"
    }
   ],
   "source": [
    "df_train = pd.read_csv('Assignment_OOT_Data.csv')\n",
    "df_train.head()"
   ]
  },
  {
   "cell_type": "code",
   "execution_count": 4,
   "metadata": {},
   "outputs": [
    {
     "data": {
      "text/html": [
       "<div>\n",
       "<style scoped>\n",
       "    .dataframe tbody tr th:only-of-type {\n",
       "        vertical-align: middle;\n",
       "    }\n",
       "\n",
       "    .dataframe tbody tr th {\n",
       "        vertical-align: top;\n",
       "    }\n",
       "\n",
       "    .dataframe thead th {\n",
       "        text-align: right;\n",
       "    }\n",
       "</style>\n",
       "<table border=\"1\" class=\"dataframe\">\n",
       "  <thead>\n",
       "    <tr style=\"text-align: right;\">\n",
       "      <th></th>\n",
       "      <th>Variable Flag</th>\n",
       "      <th>Variable Detail</th>\n",
       "    </tr>\n",
       "  </thead>\n",
       "  <tbody>\n",
       "    <tr>\n",
       "      <th>0</th>\n",
       "      <td>VAR1</td>\n",
       "      <td>Masked Policy Identifier</td>\n",
       "    </tr>\n",
       "    <tr>\n",
       "      <th>1</th>\n",
       "      <td>VAR2</td>\n",
       "      <td>Mapped Agent 13M Persistency</td>\n",
       "    </tr>\n",
       "    <tr>\n",
       "      <th>2</th>\n",
       "      <td>VAR3</td>\n",
       "      <td>Mapped Agent Branch</td>\n",
       "    </tr>\n",
       "    <tr>\n",
       "      <th>3</th>\n",
       "      <td>VAR4</td>\n",
       "      <td>Application Life Assured Alcohol Declaration</td>\n",
       "    </tr>\n",
       "    <tr>\n",
       "      <th>4</th>\n",
       "      <td>VAR5</td>\n",
       "      <td>Applicant's Policy Annualized Premium</td>\n",
       "    </tr>\n",
       "  </tbody>\n",
       "</table>\n",
       "</div>"
      ],
      "text/plain": [
       "  Variable Flag                               Variable Detail\n",
       "0          VAR1                      Masked Policy Identifier\n",
       "1          VAR2                  Mapped Agent 13M Persistency\n",
       "2          VAR3                          Mapped Agent Branch \n",
       "3          VAR4  Application Life Assured Alcohol Declaration\n",
       "4          VAR5         Applicant's Policy Annualized Premium"
      ]
     },
     "execution_count": 4,
     "metadata": {},
     "output_type": "execute_result"
    }
   ],
   "source": [
    "dic = pd.read_excel('Assignment - Data_Dictionary.xlsx')\n",
    "dic.head()"
   ]
  },
  {
   "cell_type": "code",
   "execution_count": 5,
   "metadata": {},
   "outputs": [
    {
     "data": {
      "text/plain": [
       "Index(['VAR1', 'VAR2', 'VAR3', 'VAR4', 'VAR5', 'VAR6', 'VAR7', 'VAR8', 'VAR9',\n",
       "       'VAR10', 'VAR11', 'VAR12', 'VAR13', 'VAR14', 'VAR15', 'VAR16', 'VAR17',\n",
       "       'VAR18', 'VAR19', 'VAR20', 'VAR21', 'VAR22', 'VAR23', 'VAR24', 'VAR25',\n",
       "       'VAR26', 'VAR27', 'VAR28', 'VAR29', 'VAR30', 'VAR31', 'VAR32', 'VAR33',\n",
       "       'VAR34', 'VAR35', 'VAR36', 'VAR37', 'VAR38'],\n",
       "      dtype='object')"
      ]
     },
     "execution_count": 5,
     "metadata": {},
     "output_type": "execute_result"
    }
   ],
   "source": [
    "df_train.columns"
   ]
  },
  {
   "cell_type": "code",
   "execution_count": 6,
   "metadata": {},
   "outputs": [],
   "source": [
    "df_train.columns = dic['Variable Detail']"
   ]
  },
  {
   "cell_type": "code",
   "execution_count": 7,
   "metadata": {},
   "outputs": [],
   "source": [
    "df = df_train.copy()"
   ]
  },
  {
   "cell_type": "code",
   "execution_count": 8,
   "metadata": {
    "scrolled": true
   },
   "outputs": [
    {
     "name": "stdout",
     "output_type": "stream",
     "text": [
      "<class 'pandas.core.frame.DataFrame'>\n",
      "RangeIndex: 100000 entries, 0 to 99999\n",
      "Data columns (total 38 columns):\n",
      "Masked Policy Identifier                                                  100000 non-null int64\n",
      "Mapped Agent 13M Persistency                                              45909 non-null object\n",
      "Mapped Agent Branch                                                       99998 non-null object\n",
      "Application Life Assured Alcohol Declaration                              65082 non-null object\n",
      "Applicant's Policy Annualized Premium                                     99998 non-null float64\n",
      "Mapped Agent Vintage                                                      99998 non-null float64\n",
      "Auto Debit of Premium Opted Flag(Yes/No)                                  100000 non-null object\n",
      "Application Life Assured BMI                                              65070 non-null float64\n",
      "Total Risk Exposure of HDFC Life w.r.t. Life Assured                      99971 non-null float64\n",
      "Application  Sourcing Channel                                             99855 non-null object\n",
      "Application  Life Assured City                                            96873 non-null object\n",
      "Applicant's  Policy Contract Branch                                       99557 non-null object\n",
      "Application  Life Assured City Tier                                       96873 non-null object\n",
      "Application  Life Assured Age                                             99998 non-null float64\n",
      "Application  Life Assured Education                                       99998 non-null object\n",
      "Application  Life Assured Gender                                          99998 non-null object\n",
      "Application  Life Assured Income                                          94121 non-null float64\n",
      "Application  Life Assured Industry                                        94126 non-null object\n",
      "Application  Life Assured Marital Status                                  99998 non-null object\n",
      "Application  Life Assured Nationality                                     99998 non-null object\n",
      "Application  Life Assured Occupation                                      99972 non-null object\n",
      "Applicant's Policy PAR/NON PAR/ULIP Tag                                   99998 non-null object\n",
      "Application Specific Sourcing Partner                                     67962 non-null object\n",
      "First Premium Payment Type                                                98145 non-null object\n",
      "Applicant's Policy Product Category                                       100000 non-null object\n",
      "Applicant's Policy Premium Payment Frequency                              99998 non-null object\n",
      "Applicant's Policy Product Name                                           100000 non-null object\n",
      "Application Login Date                                                    100000 non-null object\n",
      "Applicant's Policy Price Sensitivity(1-'Yes', 0-'No')                     100000 non-null int64\n",
      "Application Life Assured Residential Status                               99998 non-null object\n",
      "Applicant's Policy Risk Cessation Term                                    100000 non-null int64\n",
      "Applicant's Policy Rider Opted Flag(1-'Yes', 0-'No')                      100000 non-null int64\n",
      "Application Life Assured Smoker Declaration                               65082 non-null object\n",
      "Application Life Assured State                                            96875 non-null object\n",
      "Application Sourcing Sub Channel                                          99855 non-null object\n",
      "Applicant's Policy Sum Assured                                            100000 non-null int64\n",
      "HDFC Life Operational Zone                                                64728 non-null object\n",
      "Target - Paid Premium Within 90 Days of Due Date Flag(1-'Yes', 0-'No')    100000 non-null int64\n",
      "dtypes: float64(6), int64(6), object(26)\n",
      "memory usage: 29.0+ MB\n"
     ]
    }
   ],
   "source": [
    "df.info()"
   ]
  },
  {
   "cell_type": "code",
   "execution_count": 9,
   "metadata": {},
   "outputs": [],
   "source": [
    "df['Mapped Agent 13M Persistency'][df['Mapped Agent 13M Persistency'] == '-'] = ''"
   ]
  },
  {
   "cell_type": "code",
   "execution_count": 10,
   "metadata": {},
   "outputs": [],
   "source": [
    "df['Mapped Agent 13M Persistency'] = df['Mapped Agent 13M Persistency'].apply(pd.to_numeric)"
   ]
  },
  {
   "cell_type": "code",
   "execution_count": 11,
   "metadata": {},
   "outputs": [],
   "source": [
    "df = df.drop('Masked Policy Identifier',axis =1)"
   ]
  },
  {
   "cell_type": "code",
   "execution_count": 12,
   "metadata": {
    "scrolled": false
   },
   "outputs": [
    {
     "data": {
      "text/plain": [
       "<matplotlib.axes._subplots.AxesSubplot at 0x7fb5612bf2e8>"
      ]
     },
     "execution_count": 12,
     "metadata": {},
     "output_type": "execute_result"
    },
    {
     "data": {
      "image/png": "[encoded data removed]",
      "text/plain": [
       "<Figure size 1440x720 with 1 Axes>"
      ]
     },
     "metadata": {
      "needs_background": "light"
     },
     "output_type": "display_data"
    }
   ],
   "source": [
    "(df.isna().sum()/df.shape[0] * 100).plot(kind = 'bar',figsize=(20,10))"
   ]
  },
  {
   "cell_type": "code",
   "execution_count": 13,
   "metadata": {},
   "outputs": [
    {
     "data": {
      "text/plain": [
       "Variable Detail\n",
       "Mapped Agent 13M Persistency                            55.552\n",
       "Mapped Agent Branch                                      0.002\n",
       "Application Life Assured Alcohol Declaration            34.918\n",
       "Applicant's Policy Annualized Premium                    0.002\n",
       "Mapped Agent Vintage                                     0.002\n",
       "Application Life Assured BMI                            34.930\n",
       "Total Risk Exposure of HDFC Life w.r.t. Life Assured     0.029\n",
       "Application  Sourcing Channel                            0.145\n",
       "Application  Life Assured City                           3.127\n",
       "Applicant's  Policy Contract Branch                      0.443\n",
       "Application  Life Assured City Tier                      3.127\n",
       "Application  Life Assured Age                            0.002\n",
       "Application  Life Assured Education                      0.002\n",
       "Application  Life Assured Gender                         0.002\n",
       "Application  Life Assured Income                         5.879\n",
       "Application  Life Assured Industry                       5.874\n",
       "Application  Life Assured Marital Status                 0.002\n",
       "Application  Life Assured Nationality                    0.002\n",
       "Application  Life Assured Occupation                     0.028\n",
       "Applicant's Policy PAR/NON PAR/ULIP Tag                  0.002\n",
       "Application Specific Sourcing Partner                   32.038\n",
       "First Premium Payment Type                               1.855\n",
       "Applicant's Policy Premium Payment Frequency             0.002\n",
       "Application Life Assured Residential Status              0.002\n",
       "Application Life Assured Smoker Declaration             34.918\n",
       "Application Life Assured State                           3.125\n",
       "Application Sourcing Sub Channel                         0.145\n",
       "HDFC Life Operational Zone                              35.272\n",
       "dtype: float64"
      ]
     },
     "execution_count": 13,
     "metadata": {},
     "output_type": "execute_result"
    }
   ],
   "source": [
    "x = df.isna().sum()/df.shape[0] * 100\n",
    "x[x > 0.0]  # missing values"
   ]
  },
  {
   "cell_type": "code",
   "execution_count": 14,
   "metadata": {
    "scrolled": false
   },
   "outputs": [
    {
     "data": {
      "text/html": [
       "<div>\n",
       "<style scoped>\n",
       "    .dataframe tbody tr th:only-of-type {\n",
       "        vertical-align: middle;\n",
       "    }\n",
       "\n",
       "    .dataframe tbody tr th {\n",
       "        vertical-align: top;\n",
       "    }\n",
       "\n",
       "    .dataframe thead th {\n",
       "        text-align: right;\n",
       "    }\n",
       "</style>\n",
       "<table border=\"1\" class=\"dataframe\">\n",
       "  <thead>\n",
       "    <tr style=\"text-align: right;\">\n",
       "      <th>Variable Detail</th>\n",
       "      <th>Mapped Agent 13M Persistency</th>\n",
       "      <th>Applicant's Policy Annualized Premium</th>\n",
       "      <th>Mapped Agent Vintage</th>\n",
       "      <th>Application Life Assured BMI</th>\n",
       "      <th>Total Risk Exposure of HDFC Life w.r.t. Life Assured</th>\n",
       "      <th>Application  Life Assured Age</th>\n",
       "      <th>Application  Life Assured Income</th>\n",
       "      <th>Applicant's Policy Price Sensitivity(1-'Yes', 0-'No')</th>\n",
       "      <th>Applicant's Policy Risk Cessation Term</th>\n",
       "      <th>Applicant's Policy Rider Opted Flag(1-'Yes', 0-'No')</th>\n",
       "      <th>Applicant's Policy Sum Assured</th>\n",
       "      <th>Target - Paid Premium Within 90 Days of Due Date Flag(1-'Yes', 0-'No')</th>\n",
       "    </tr>\n",
       "  </thead>\n",
       "  <tbody>\n",
       "    <tr>\n",
       "      <th>count</th>\n",
       "      <td>44448.000000</td>\n",
       "      <td>9.999800e+04</td>\n",
       "      <td>99998.000000</td>\n",
       "      <td>65070.000000</td>\n",
       "      <td>9.997100e+04</td>\n",
       "      <td>99998.000000</td>\n",
       "      <td>9.412100e+04</td>\n",
       "      <td>100000.000000</td>\n",
       "      <td>100000.000000</td>\n",
       "      <td>100000.000000</td>\n",
       "      <td>1.000000e+05</td>\n",
       "      <td>100000.000000</td>\n",
       "    </tr>\n",
       "    <tr>\n",
       "      <th>mean</th>\n",
       "      <td>40.842592</td>\n",
       "      <td>5.923158e+04</td>\n",
       "      <td>29.900448</td>\n",
       "      <td>24.286576</td>\n",
       "      <td>2.217563e+06</td>\n",
       "      <td>37.836757</td>\n",
       "      <td>9.342781e+05</td>\n",
       "      <td>0.146700</td>\n",
       "      <td>15.591150</td>\n",
       "      <td>0.452000</td>\n",
       "      <td>2.370213e+06</td>\n",
       "      <td>0.766930</td>\n",
       "    </tr>\n",
       "    <tr>\n",
       "      <th>std</th>\n",
       "      <td>41.904669</td>\n",
       "      <td>1.373189e+05</td>\n",
       "      <td>29.911185</td>\n",
       "      <td>7.903450</td>\n",
       "      <td>7.956175e+06</td>\n",
       "      <td>10.935093</td>\n",
       "      <td>5.032388e+06</td>\n",
       "      <td>0.353808</td>\n",
       "      <td>9.165138</td>\n",
       "      <td>0.497693</td>\n",
       "      <td>6.653467e+06</td>\n",
       "      <td>0.422789</td>\n",
       "    </tr>\n",
       "    <tr>\n",
       "      <th>min</th>\n",
       "      <td>0.000000</td>\n",
       "      <td>9.200000e+02</td>\n",
       "      <td>0.000000</td>\n",
       "      <td>0.734620</td>\n",
       "      <td>0.000000e+00</td>\n",
       "      <td>-1.000000</td>\n",
       "      <td>0.000000e+00</td>\n",
       "      <td>0.000000</td>\n",
       "      <td>5.000000</td>\n",
       "      <td>0.000000</td>\n",
       "      <td>0.000000e+00</td>\n",
       "      <td>0.000000</td>\n",
       "    </tr>\n",
       "    <tr>\n",
       "      <th>25%</th>\n",
       "      <td>0.830700</td>\n",
       "      <td>2.390700e+04</td>\n",
       "      <td>8.000000</td>\n",
       "      <td>22.313280</td>\n",
       "      <td>2.303620e+05</td>\n",
       "      <td>30.000000</td>\n",
       "      <td>3.000000e+05</td>\n",
       "      <td>0.000000</td>\n",
       "      <td>10.000000</td>\n",
       "      <td>0.000000</td>\n",
       "      <td>2.430608e+05</td>\n",
       "      <td>1.000000</td>\n",
       "    </tr>\n",
       "    <tr>\n",
       "      <th>50%</th>\n",
       "      <td>8.280000</td>\n",
       "      <td>3.450000e+04</td>\n",
       "      <td>22.000000</td>\n",
       "      <td>23.888440</td>\n",
       "      <td>5.000000e+05</td>\n",
       "      <td>37.000000</td>\n",
       "      <td>5.000000e+05</td>\n",
       "      <td>0.000000</td>\n",
       "      <td>10.000000</td>\n",
       "      <td>0.000000</td>\n",
       "      <td>5.000000e+05</td>\n",
       "      <td>1.000000</td>\n",
       "    </tr>\n",
       "    <tr>\n",
       "      <th>75%</th>\n",
       "      <td>86.000000</td>\n",
       "      <td>5.852425e+04</td>\n",
       "      <td>38.000000</td>\n",
       "      <td>25.711660</td>\n",
       "      <td>1.200000e+06</td>\n",
       "      <td>45.000000</td>\n",
       "      <td>8.000000e+05</td>\n",
       "      <td>0.000000</td>\n",
       "      <td>16.000000</td>\n",
       "      <td>1.000000</td>\n",
       "      <td>1.399986e+06</td>\n",
       "      <td>1.000000</td>\n",
       "    </tr>\n",
       "    <tr>\n",
       "      <th>max</th>\n",
       "      <td>100.000000</td>\n",
       "      <td>2.000000e+07</td>\n",
       "      <td>223.000000</td>\n",
       "      <td>800.000000</td>\n",
       "      <td>7.000000e+08</td>\n",
       "      <td>69.000000</td>\n",
       "      <td>9.323434e+08</td>\n",
       "      <td>1.000000</td>\n",
       "      <td>72.000000</td>\n",
       "      <td>1.000000</td>\n",
       "      <td>7.000000e+08</td>\n",
       "      <td>1.000000</td>\n",
       "    </tr>\n",
       "  </tbody>\n",
       "</table>\n",
       "</div>"
      ],
      "text/plain": [
       "Variable Detail  Mapped Agent 13M Persistency  \\\n",
       "count                            44448.000000   \n",
       "mean                                40.842592   \n",
       "std                                 41.904669   \n",
       "min                                  0.000000   \n",
       "25%                                  0.830700   \n",
       "50%                                  8.280000   \n",
       "75%                                 86.000000   \n",
       "max                                100.000000   \n",
       "\n",
       "Variable Detail  Applicant's Policy Annualized Premium  Mapped Agent Vintage  \\\n",
       "count                                     9.999800e+04          99998.000000   \n",
       "mean                                      5.923158e+04             29.900448   \n",
       "std                                       1.373189e+05             29.911185   \n",
       "min                                       9.200000e+02              0.000000   \n",
       "25%                                       2.390700e+04              8.000000   \n",
       "50%                                       3.450000e+04             22.000000   \n",
       "75%                                       5.852425e+04             38.000000   \n",
       "max                                       2.000000e+07            223.000000   \n",
       "\n",
       "Variable Detail  Application Life Assured BMI  \\\n",
       "count                            65070.000000   \n",
       "mean                                24.286576   \n",
       "std                                  7.903450   \n",
       "min                                  0.734620   \n",
       "25%                                 22.313280   \n",
       "50%                                 23.888440   \n",
       "75%                                 25.711660   \n",
       "max                                800.000000   \n",
       "\n",
       "Variable Detail  Total Risk Exposure of HDFC Life w.r.t. Life Assured  \\\n",
       "count                                                 9.997100e+04      \n",
       "mean                                                  2.217563e+06      \n",
       "std                                                   7.956175e+06      \n",
       "min                                                   0.000000e+00      \n",
       "25%                                                   2.303620e+05      \n",
       "50%                                                   5.000000e+05      \n",
       "75%                                                   1.200000e+06      \n",
       "max                                                   7.000000e+08      \n",
       "\n",
       "Variable Detail  Application  Life Assured Age  \\\n",
       "count                             99998.000000   \n",
       "mean                                 37.836757   \n",
       "std                                  10.935093   \n",
       "min                                  -1.000000   \n",
       "25%                                  30.000000   \n",
       "50%                                  37.000000   \n",
       "75%                                  45.000000   \n",
       "max                                  69.000000   \n",
       "\n",
       "Variable Detail  Application  Life Assured Income  \\\n",
       "count                                9.412100e+04   \n",
       "mean                                 9.342781e+05   \n",
       "std                                  5.032388e+06   \n",
       "min                                  0.000000e+00   \n",
       "25%                                  3.000000e+05   \n",
       "50%                                  5.000000e+05   \n",
       "75%                                  8.000000e+05   \n",
       "max                                  9.323434e+08   \n",
       "\n",
       "Variable Detail  Applicant's Policy Price Sensitivity(1-'Yes', 0-'No')  \\\n",
       "count                                                100000.000000       \n",
       "mean                                                      0.146700       \n",
       "std                                                       0.353808       \n",
       "min                                                       0.000000       \n",
       "25%                                                       0.000000       \n",
       "50%                                                       0.000000       \n",
       "75%                                                       0.000000       \n",
       "max                                                       1.000000       \n",
       "\n",
       "Variable Detail  Applicant's Policy Risk Cessation Term  \\\n",
       "count                                     100000.000000   \n",
       "mean                                          15.591150   \n",
       "std                                            9.165138   \n",
       "min                                            5.000000   \n",
       "25%                                           10.000000   \n",
       "50%                                           10.000000   \n",
       "75%                                           16.000000   \n",
       "max                                           72.000000   \n",
       "\n",
       "Variable Detail  Applicant's Policy Rider Opted Flag(1-'Yes', 0-'No')  \\\n",
       "count                                                100000.000000      \n",
       "mean                                                      0.452000      \n",
       "std                                                       0.497693      \n",
       "min                                                       0.000000      \n",
       "25%                                                       0.000000      \n",
       "50%                                                       0.000000      \n",
       "75%                                                       1.000000      \n",
       "max                                                       1.000000      \n",
       "\n",
       "Variable Detail  Applicant's Policy Sum Assured  \\\n",
       "count                              1.000000e+05   \n",
       "mean                               2.370213e+06   \n",
       "std                                6.653467e+06   \n",
       "min                                0.000000e+00   \n",
       "25%                                2.430608e+05   \n",
       "50%                                5.000000e+05   \n",
       "75%                                1.399986e+06   \n",
       "max                                7.000000e+08   \n",
       "\n",
       "Variable Detail  Target - Paid Premium Within 90 Days of Due Date Flag(1-'Yes', 0-'No')  \n",
       "count                                                100000.000000                       \n",
       "mean                                                      0.766930                       \n",
       "std                                                       0.422789                       \n",
       "min                                                       0.000000                       \n",
       "25%                                                       1.000000                       \n",
       "50%                                                       1.000000                       \n",
       "75%                                                       1.000000                       \n",
       "max                                                       1.000000                       "
      ]
     },
     "execution_count": 14,
     "metadata": {},
     "output_type": "execute_result"
    }
   ],
   "source": [
    "df.describe()"
   ]
  },
  {
   "cell_type": "code",
   "execution_count": 15,
   "metadata": {},
   "outputs": [],
   "source": [
    "# Categorical Columns in df\n",
    "df_cat = df[['Mapped Agent Branch ', 'Application Life Assured Alcohol Declaration',\n",
    "       'Auto Debit of Premium Opted Flag(Yes/No)',\n",
    "       'Application  Sourcing Channel', 'Application  Life Assured City',\n",
    "       'Applicant\\'s  Policy Contract Branch',\n",
    "       'Application  Life Assured Education',\n",
    "        'Application  Life Assured City Tier',\n",
    "       'Application  Life Assured Gender',\n",
    "       'Application  Life Assured Industry',\n",
    "       'Application  Life Assured Marital Status',\n",
    "       'Application  Life Assured Nationality',\n",
    "       'Application  Life Assured Occupation',\n",
    "       'Applicant\\'s Policy PAR/NON PAR/ULIP Tag',\n",
    "       'Application Specific Sourcing Partner', 'First Premium Payment Type',\n",
    "       'Applicant\\'s Policy Product Category',\n",
    "       'Applicant\\'s Policy Premium Payment Frequency',\n",
    "       'Applicant\\'s Policy Product Name', 'Application Login Date',\n",
    "       'Application Life Assured Residential Status',\n",
    "       'Application Life Assured Smoker Declaration',\n",
    "       'Application Life Assured State', 'Application Sourcing Sub Channel',\n",
    "       'HDFC Life Operational Zone']]"
   ]
  },
  {
   "cell_type": "code",
   "execution_count": 16,
   "metadata": {},
   "outputs": [],
   "source": [
    "df1 = df.drop(df_cat.columns, axis =1 )"
   ]
  },
  {
   "cell_type": "code",
   "execution_count": 17,
   "metadata": {},
   "outputs": [
    {
     "data": {
      "text/html": [
       "<div>\n",
       "<style scoped>\n",
       "    .dataframe tbody tr th:only-of-type {\n",
       "        vertical-align: middle;\n",
       "    }\n",
       "\n",
       "    .dataframe tbody tr th {\n",
       "        vertical-align: top;\n",
       "    }\n",
       "\n",
       "    .dataframe thead th {\n",
       "        text-align: right;\n",
       "    }\n",
       "</style>\n",
       "<table border=\"1\" class=\"dataframe\">\n",
       "  <thead>\n",
       "    <tr style=\"text-align: right;\">\n",
       "      <th>Variable Detail</th>\n",
       "      <th>Mapped Agent 13M Persistency</th>\n",
       "      <th>Applicant's Policy Annualized Premium</th>\n",
       "      <th>Mapped Agent Vintage</th>\n",
       "      <th>Application Life Assured BMI</th>\n",
       "      <th>Total Risk Exposure of HDFC Life w.r.t. Life Assured</th>\n",
       "      <th>Application  Life Assured Age</th>\n",
       "      <th>Application  Life Assured Income</th>\n",
       "      <th>Applicant's Policy Price Sensitivity(1-'Yes', 0-'No')</th>\n",
       "      <th>Applicant's Policy Risk Cessation Term</th>\n",
       "      <th>Applicant's Policy Rider Opted Flag(1-'Yes', 0-'No')</th>\n",
       "      <th>Applicant's Policy Sum Assured</th>\n",
       "      <th>Target - Paid Premium Within 90 Days of Due Date Flag(1-'Yes', 0-'No')</th>\n",
       "    </tr>\n",
       "  </thead>\n",
       "  <tbody>\n",
       "    <tr>\n",
       "      <th>0</th>\n",
       "      <td>0.8773</td>\n",
       "      <td>622010.0</td>\n",
       "      <td>77.0</td>\n",
       "      <td>NaN</td>\n",
       "      <td>0.0</td>\n",
       "      <td>46.0</td>\n",
       "      <td>7200000.0</td>\n",
       "      <td>0</td>\n",
       "      <td>14</td>\n",
       "      <td>1</td>\n",
       "      <td>7901018</td>\n",
       "      <td>1</td>\n",
       "    </tr>\n",
       "    <tr>\n",
       "      <th>1</th>\n",
       "      <td>93.4700</td>\n",
       "      <td>7157.0</td>\n",
       "      <td>33.0</td>\n",
       "      <td>16.22784</td>\n",
       "      <td>10000000.0</td>\n",
       "      <td>24.0</td>\n",
       "      <td>495000.0</td>\n",
       "      <td>1</td>\n",
       "      <td>40</td>\n",
       "      <td>1</td>\n",
       "      <td>10000000</td>\n",
       "      <td>1</td>\n",
       "    </tr>\n",
       "    <tr>\n",
       "      <th>2</th>\n",
       "      <td>86.6100</td>\n",
       "      <td>27426.0</td>\n",
       "      <td>99.0</td>\n",
       "      <td>20.83070</td>\n",
       "      <td>18000000.0</td>\n",
       "      <td>33.0</td>\n",
       "      <td>2500000.0</td>\n",
       "      <td>1</td>\n",
       "      <td>30</td>\n",
       "      <td>1</td>\n",
       "      <td>30000000</td>\n",
       "      <td>1</td>\n",
       "    </tr>\n",
       "    <tr>\n",
       "      <th>3</th>\n",
       "      <td>NaN</td>\n",
       "      <td>33493.0</td>\n",
       "      <td>3.0</td>\n",
       "      <td>NaN</td>\n",
       "      <td>350000.0</td>\n",
       "      <td>28.0</td>\n",
       "      <td>450000.0</td>\n",
       "      <td>0</td>\n",
       "      <td>12</td>\n",
       "      <td>0</td>\n",
       "      <td>212857</td>\n",
       "      <td>1</td>\n",
       "    </tr>\n",
       "    <tr>\n",
       "      <th>4</th>\n",
       "      <td>0.8307</td>\n",
       "      <td>12335.0</td>\n",
       "      <td>32.0</td>\n",
       "      <td>NaN</td>\n",
       "      <td>58326.0</td>\n",
       "      <td>37.0</td>\n",
       "      <td>250000.0</td>\n",
       "      <td>0</td>\n",
       "      <td>10</td>\n",
       "      <td>1</td>\n",
       "      <td>116653</td>\n",
       "      <td>1</td>\n",
       "    </tr>\n",
       "  </tbody>\n",
       "</table>\n",
       "</div>"
      ],
      "text/plain": [
       "Variable Detail  Mapped Agent 13M Persistency  \\\n",
       "0                                      0.8773   \n",
       "1                                     93.4700   \n",
       "2                                     86.6100   \n",
       "3                                         NaN   \n",
       "4                                      0.8307   \n",
       "\n",
       "Variable Detail  Applicant's Policy Annualized Premium  Mapped Agent Vintage  \\\n",
       "0                                             622010.0                  77.0   \n",
       "1                                               7157.0                  33.0   \n",
       "2                                              27426.0                  99.0   \n",
       "3                                              33493.0                   3.0   \n",
       "4                                              12335.0                  32.0   \n",
       "\n",
       "Variable Detail  Application Life Assured BMI  \\\n",
       "0                                         NaN   \n",
       "1                                    16.22784   \n",
       "2                                    20.83070   \n",
       "3                                         NaN   \n",
       "4                                         NaN   \n",
       "\n",
       "Variable Detail  Total Risk Exposure of HDFC Life w.r.t. Life Assured  \\\n",
       "0                                                              0.0      \n",
       "1                                                       10000000.0      \n",
       "2                                                       18000000.0      \n",
       "3                                                         350000.0      \n",
       "4                                                          58326.0      \n",
       "\n",
       "Variable Detail  Application  Life Assured Age  \\\n",
       "0                                         46.0   \n",
       "1                                         24.0   \n",
       "2                                         33.0   \n",
       "3                                         28.0   \n",
       "4                                         37.0   \n",
       "\n",
       "Variable Detail  Application  Life Assured Income  \\\n",
       "0                                       7200000.0   \n",
       "1                                        495000.0   \n",
       "2                                       2500000.0   \n",
       "3                                        450000.0   \n",
       "4                                        250000.0   \n",
       "\n",
       "Variable Detail  Applicant's Policy Price Sensitivity(1-'Yes', 0-'No')  \\\n",
       "0                                                                0       \n",
       "1                                                                1       \n",
       "2                                                                1       \n",
       "3                                                                0       \n",
       "4                                                                0       \n",
       "\n",
       "Variable Detail  Applicant's Policy Risk Cessation Term  \\\n",
       "0                                                    14   \n",
       "1                                                    40   \n",
       "2                                                    30   \n",
       "3                                                    12   \n",
       "4                                                    10   \n",
       "\n",
       "Variable Detail  Applicant's Policy Rider Opted Flag(1-'Yes', 0-'No')  \\\n",
       "0                                                                1      \n",
       "1                                                                1      \n",
       "2                                                                1      \n",
       "3                                                                0      \n",
       "4                                                                1      \n",
       "\n",
       "Variable Detail  Applicant's Policy Sum Assured  \\\n",
       "0                                       7901018   \n",
       "1                                      10000000   \n",
       "2                                      30000000   \n",
       "3                                        212857   \n",
       "4                                        116653   \n",
       "\n",
       "Variable Detail  Target - Paid Premium Within 90 Days of Due Date Flag(1-'Yes', 0-'No')  \n",
       "0                                                                1                       \n",
       "1                                                                1                       \n",
       "2                                                                1                       \n",
       "3                                                                1                       \n",
       "4                                                                1                       "
      ]
     },
     "execution_count": 17,
     "metadata": {},
     "output_type": "execute_result"
    }
   ],
   "source": [
    "df1.head()"
   ]
  },
  {
   "cell_type": "code",
   "execution_count": 18,
   "metadata": {},
   "outputs": [
    {
     "name": "stdout",
     "output_type": "stream",
     "text": [
      "<class 'pandas.core.frame.DataFrame'>\n",
      "RangeIndex: 100000 entries, 0 to 99999\n",
      "Data columns (total 12 columns):\n",
      "Mapped Agent 13M Persistency                                              44448 non-null float64\n",
      "Applicant's Policy Annualized Premium                                     99998 non-null float64\n",
      "Mapped Agent Vintage                                                      99998 non-null float64\n",
      "Application Life Assured BMI                                              65070 non-null float64\n",
      "Total Risk Exposure of HDFC Life w.r.t. Life Assured                      99971 non-null float64\n",
      "Application  Life Assured Age                                             99998 non-null float64\n",
      "Application  Life Assured Income                                          94121 non-null float64\n",
      "Applicant's Policy Price Sensitivity(1-'Yes', 0-'No')                     100000 non-null int64\n",
      "Applicant's Policy Risk Cessation Term                                    100000 non-null int64\n",
      "Applicant's Policy Rider Opted Flag(1-'Yes', 0-'No')                      100000 non-null int64\n",
      "Applicant's Policy Sum Assured                                            100000 non-null int64\n",
      "Target - Paid Premium Within 90 Days of Due Date Flag(1-'Yes', 0-'No')    100000 non-null int64\n",
      "dtypes: float64(7), int64(5)\n",
      "memory usage: 9.2 MB\n"
     ]
    }
   ],
   "source": [
    "df1.info()"
   ]
  },
  {
   "cell_type": "code",
   "execution_count": 19,
   "metadata": {
    "scrolled": false
   },
   "outputs": [
    {
     "data": {
      "text/plain": [
       "Variable Detail\n",
       "Mapped Agent 13M Persistency                                              55552\n",
       "Applicant's Policy Annualized Premium                                         2\n",
       "Mapped Agent Vintage                                                          2\n",
       "Application Life Assured BMI                                              34930\n",
       "Total Risk Exposure of HDFC Life w.r.t. Life Assured                         29\n",
       "Application  Life Assured Age                                                 2\n",
       "Application  Life Assured Income                                           5879\n",
       "Applicant's Policy Price Sensitivity(1-'Yes', 0-'No')                         0\n",
       "Applicant's Policy Risk Cessation Term                                        0\n",
       "Applicant's Policy Rider Opted Flag(1-'Yes', 0-'No')                          0\n",
       "Applicant's Policy Sum Assured                                                0\n",
       "Target - Paid Premium Within 90 Days of Due Date Flag(1-'Yes', 0-'No')        0\n",
       "dtype: int64"
      ]
     },
     "execution_count": 19,
     "metadata": {},
     "output_type": "execute_result"
    }
   ],
   "source": [
    "df1.isna().sum()"
   ]
  },
  {
   "cell_type": "code",
   "execution_count": 20,
   "metadata": {},
   "outputs": [],
   "source": [
    "df1_miss = df1[['Mapped Agent 13M Persistency', 'Applicant\\'s Policy Annualized Premium',\n",
    "       'Mapped Agent Vintage', 'Application Life Assured BMI',\n",
    "       'Total Risk Exposure of HDFC Life w.r.t. Life Assured',\n",
    "       'Application  Life Assured Age', 'Application  Life Assured Income']]"
   ]
  },
  {
   "cell_type": "code",
   "execution_count": null,
   "metadata": {},
   "outputs": [],
   "source": []
  },
  {
   "cell_type": "markdown",
   "metadata": {},
   "source": [
    "## Numeric Missing Values handling "
   ]
  },
  {
   "cell_type": "code",
   "execution_count": 21,
   "metadata": {},
   "outputs": [
    {
     "data": {
      "text/plain": [
       "Index(['Mapped Agent 13M Persistency', 'Applicant's Policy Annualized Premium',\n",
       "       'Mapped Agent Vintage', 'Application Life Assured BMI',\n",
       "       'Total Risk Exposure of HDFC Life w.r.t. Life Assured',\n",
       "       'Application  Life Assured Age', 'Application  Life Assured Income'],\n",
       "      dtype='object', name='Variable Detail')"
      ]
     },
     "execution_count": 21,
     "metadata": {},
     "output_type": "execute_result"
    }
   ],
   "source": [
    "df1_miss.columns"
   ]
  },
  {
   "cell_type": "code",
   "execution_count": 22,
   "metadata": {},
   "outputs": [
    {
     "data": {
      "text/plain": [
       "(533,)"
      ]
     },
     "execution_count": 22,
     "metadata": {},
     "output_type": "execute_result"
    }
   ],
   "source": [
    "df['Mapped Agent 13M Persistency'][df['Mapped Agent 13M Persistency'] == 0.0].shape\n",
    "# 533 values have 0 values"
   ]
  },
  {
   "cell_type": "code",
   "execution_count": 23,
   "metadata": {
    "scrolled": true
   },
   "outputs": [],
   "source": [
    "df['Mapped Agent 13M Persistency'] =df['Mapped Agent 13M Persistency'].apply(lambda x: x * 100 if (x < 1.0) else x )"
   ]
  },
  {
   "cell_type": "code",
   "execution_count": 24,
   "metadata": {},
   "outputs": [
    {
     "data": {
      "text/plain": [
       "533"
      ]
     },
     "execution_count": 24,
     "metadata": {},
     "output_type": "execute_result"
    }
   ],
   "source": [
    "(df['Mapped Agent 13M Persistency'] < 1).sum()  # equal to 0"
   ]
  },
  {
   "cell_type": "code",
   "execution_count": 25,
   "metadata": {},
   "outputs": [
    {
     "data": {
      "text/plain": [
       "(7,)"
      ]
     },
     "execution_count": 25,
     "metadata": {},
     "output_type": "execute_result"
    }
   ],
   "source": [
    "df1_miss.columns.shape  # 28 columns have missing values"
   ]
  },
  {
   "cell_type": "code",
   "execution_count": 26,
   "metadata": {},
   "outputs": [
    {
     "data": {
      "text/plain": [
       "Variable Detail\n",
       "Mapped Agent 13M Persistency                            55.552\n",
       "Applicant's Policy Annualized Premium                    0.002\n",
       "Mapped Agent Vintage                                     0.002\n",
       "Application Life Assured BMI                            34.930\n",
       "Total Risk Exposure of HDFC Life w.r.t. Life Assured     0.029\n",
       "Application  Life Assured Age                            0.002\n",
       "Application  Life Assured Income                         5.879\n",
       "dtype: float64"
      ]
     },
     "execution_count": 26,
     "metadata": {},
     "output_type": "execute_result"
    }
   ],
   "source": [
    "df1_miss.isna().sum()/df_train.shape[0] * 100"
   ]
  },
  {
   "cell_type": "code",
   "execution_count": 27,
   "metadata": {
    "scrolled": false
   },
   "outputs": [
    {
     "data": {
      "text/html": [
       "<div>\n",
       "<style scoped>\n",
       "    .dataframe tbody tr th:only-of-type {\n",
       "        vertical-align: middle;\n",
       "    }\n",
       "\n",
       "    .dataframe tbody tr th {\n",
       "        vertical-align: top;\n",
       "    }\n",
       "\n",
       "    .dataframe thead th {\n",
       "        text-align: right;\n",
       "    }\n",
       "</style>\n",
       "<table border=\"1\" class=\"dataframe\">\n",
       "  <thead>\n",
       "    <tr style=\"text-align: right;\">\n",
       "      <th>Variable Detail</th>\n",
       "      <th>Mapped Agent 13M Persistency</th>\n",
       "      <th>Applicant's Policy Annualized Premium</th>\n",
       "      <th>Mapped Agent Vintage</th>\n",
       "      <th>Application Life Assured BMI</th>\n",
       "      <th>Total Risk Exposure of HDFC Life w.r.t. Life Assured</th>\n",
       "      <th>Application  Life Assured Age</th>\n",
       "      <th>Application  Life Assured Income</th>\n",
       "    </tr>\n",
       "  </thead>\n",
       "  <tbody>\n",
       "    <tr>\n",
       "      <th>count</th>\n",
       "      <td>44448.000000</td>\n",
       "      <td>9.999800e+04</td>\n",
       "      <td>99998.000000</td>\n",
       "      <td>65070.000000</td>\n",
       "      <td>9.997100e+04</td>\n",
       "      <td>99998.000000</td>\n",
       "      <td>9.412100e+04</td>\n",
       "    </tr>\n",
       "    <tr>\n",
       "      <th>mean</th>\n",
       "      <td>40.842592</td>\n",
       "      <td>5.923158e+04</td>\n",
       "      <td>29.900448</td>\n",
       "      <td>24.286576</td>\n",
       "      <td>2.217563e+06</td>\n",
       "      <td>37.836757</td>\n",
       "      <td>9.342781e+05</td>\n",
       "    </tr>\n",
       "    <tr>\n",
       "      <th>std</th>\n",
       "      <td>41.904669</td>\n",
       "      <td>1.373189e+05</td>\n",
       "      <td>29.911185</td>\n",
       "      <td>7.903450</td>\n",
       "      <td>7.956175e+06</td>\n",
       "      <td>10.935093</td>\n",
       "      <td>5.032388e+06</td>\n",
       "    </tr>\n",
       "    <tr>\n",
       "      <th>min</th>\n",
       "      <td>0.000000</td>\n",
       "      <td>9.200000e+02</td>\n",
       "      <td>0.000000</td>\n",
       "      <td>0.734620</td>\n",
       "      <td>0.000000e+00</td>\n",
       "      <td>-1.000000</td>\n",
       "      <td>0.000000e+00</td>\n",
       "    </tr>\n",
       "    <tr>\n",
       "      <th>25%</th>\n",
       "      <td>0.830700</td>\n",
       "      <td>2.390700e+04</td>\n",
       "      <td>8.000000</td>\n",
       "      <td>22.313280</td>\n",
       "      <td>2.303620e+05</td>\n",
       "      <td>30.000000</td>\n",
       "      <td>3.000000e+05</td>\n",
       "    </tr>\n",
       "    <tr>\n",
       "      <th>50%</th>\n",
       "      <td>8.280000</td>\n",
       "      <td>3.450000e+04</td>\n",
       "      <td>22.000000</td>\n",
       "      <td>23.888440</td>\n",
       "      <td>5.000000e+05</td>\n",
       "      <td>37.000000</td>\n",
       "      <td>5.000000e+05</td>\n",
       "    </tr>\n",
       "    <tr>\n",
       "      <th>75%</th>\n",
       "      <td>86.000000</td>\n",
       "      <td>5.852425e+04</td>\n",
       "      <td>38.000000</td>\n",
       "      <td>25.711660</td>\n",
       "      <td>1.200000e+06</td>\n",
       "      <td>45.000000</td>\n",
       "      <td>8.000000e+05</td>\n",
       "    </tr>\n",
       "    <tr>\n",
       "      <th>max</th>\n",
       "      <td>100.000000</td>\n",
       "      <td>2.000000e+07</td>\n",
       "      <td>223.000000</td>\n",
       "      <td>800.000000</td>\n",
       "      <td>7.000000e+08</td>\n",
       "      <td>69.000000</td>\n",
       "      <td>9.323434e+08</td>\n",
       "    </tr>\n",
       "  </tbody>\n",
       "</table>\n",
       "</div>"
      ],
      "text/plain": [
       "Variable Detail  Mapped Agent 13M Persistency  \\\n",
       "count                            44448.000000   \n",
       "mean                                40.842592   \n",
       "std                                 41.904669   \n",
       "min                                  0.000000   \n",
       "25%                                  0.830700   \n",
       "50%                                  8.280000   \n",
       "75%                                 86.000000   \n",
       "max                                100.000000   \n",
       "\n",
       "Variable Detail  Applicant's Policy Annualized Premium  Mapped Agent Vintage  \\\n",
       "count                                     9.999800e+04          99998.000000   \n",
       "mean                                      5.923158e+04             29.900448   \n",
       "std                                       1.373189e+05             29.911185   \n",
       "min                                       9.200000e+02              0.000000   \n",
       "25%                                       2.390700e+04              8.000000   \n",
       "50%                                       3.450000e+04             22.000000   \n",
       "75%                                       5.852425e+04             38.000000   \n",
       "max                                       2.000000e+07            223.000000   \n",
       "\n",
       "Variable Detail  Application Life Assured BMI  \\\n",
       "count                            65070.000000   \n",
       "mean                                24.286576   \n",
       "std                                  7.903450   \n",
       "min                                  0.734620   \n",
       "25%                                 22.313280   \n",
       "50%                                 23.888440   \n",
       "75%                                 25.711660   \n",
       "max                                800.000000   \n",
       "\n",
       "Variable Detail  Total Risk Exposure of HDFC Life w.r.t. Life Assured  \\\n",
       "count                                                 9.997100e+04      \n",
       "mean                                                  2.217563e+06      \n",
       "std                                                   7.956175e+06      \n",
       "min                                                   0.000000e+00      \n",
       "25%                                                   2.303620e+05      \n",
       "50%                                                   5.000000e+05      \n",
       "75%                                                   1.200000e+06      \n",
       "max                                                   7.000000e+08      \n",
       "\n",
       "Variable Detail  Application  Life Assured Age  \\\n",
       "count                             99998.000000   \n",
       "mean                                 37.836757   \n",
       "std                                  10.935093   \n",
       "min                                  -1.000000   \n",
       "25%                                  30.000000   \n",
       "50%                                  37.000000   \n",
       "75%                                  45.000000   \n",
       "max                                  69.000000   \n",
       "\n",
       "Variable Detail  Application  Life Assured Income  \n",
       "count                                9.412100e+04  \n",
       "mean                                 9.342781e+05  \n",
       "std                                  5.032388e+06  \n",
       "min                                  0.000000e+00  \n",
       "25%                                  3.000000e+05  \n",
       "50%                                  5.000000e+05  \n",
       "75%                                  8.000000e+05  \n",
       "max                                  9.323434e+08  "
      ]
     },
     "execution_count": 27,
     "metadata": {},
     "output_type": "execute_result"
    }
   ],
   "source": [
    "df1_miss.describe()"
   ]
  },
  {
   "cell_type": "code",
   "execution_count": 28,
   "metadata": {},
   "outputs": [],
   "source": [
    "stdToMeanRatio = df1_miss.std()/df1_miss.mean()"
   ]
  },
  {
   "cell_type": "code",
   "execution_count": 29,
   "metadata": {},
   "outputs": [
    {
     "data": {
      "text/plain": [
       "Variable Detail\n",
       "Mapped Agent 13M Persistency                            1.026004\n",
       "Applicant's Policy Annualized Premium                   2.318340\n",
       "Mapped Agent Vintage                                    1.000359\n",
       "Application Life Assured BMI                            0.325425\n",
       "Total Risk Exposure of HDFC Life w.r.t. Life Assured    3.587802\n",
       "Application  Life Assured Age                           0.289007\n",
       "Application  Life Assured Income                        5.386392\n",
       "dtype: float64"
      ]
     },
     "execution_count": 29,
     "metadata": {},
     "output_type": "execute_result"
    }
   ],
   "source": [
    "stdToMeanRatio"
   ]
  },
  {
   "cell_type": "markdown",
   "metadata": {},
   "source": [
    "**We can see attributes like 'Applicant's Policy Annualized Premium', 'Mapped Agent Vintage', 'Total Risk Exposure of HDFC Life w.r.t. Life Assured', 'Application  Life Assured Income' have high std w.r.t mean so we can't impute mean values for these.**"
   ]
  },
  {
   "cell_type": "code",
   "execution_count": 30,
   "metadata": {},
   "outputs": [],
   "source": [
    "stdToMedianRatio = df1_miss.std()/df1_miss.median()"
   ]
  },
  {
   "cell_type": "code",
   "execution_count": 31,
   "metadata": {},
   "outputs": [
    {
     "data": {
      "text/plain": [
       "Variable Detail\n",
       "Mapped Agent 13M Persistency                             5.060950\n",
       "Applicant's Policy Annualized Premium                    3.980259\n",
       "Mapped Agent Vintage                                     1.359599\n",
       "Application Life Assured BMI                             0.330848\n",
       "Total Risk Exposure of HDFC Life w.r.t. Life Assured    15.912351\n",
       "Application  Life Assured Age                            0.295543\n",
       "Application  Life Assured Income                        10.064776\n",
       "dtype: float64"
      ]
     },
     "execution_count": 31,
     "metadata": {},
     "output_type": "execute_result"
    }
   ],
   "source": [
    "stdToMedianRatio"
   ]
  },
  {
   "cell_type": "markdown",
   "metadata": {},
   "source": [
    "**We can see attributes like 'Applicant's Policy Annualized Premium', 'Mapped Agent Vintage', 'Total Risk Exposure of HDFC Life w.r.t. Life Assured', 'Application  Life Assured Income' have high std w.r.t median so we can't impute median values for these.**"
   ]
  },
  {
   "cell_type": "code",
   "execution_count": 32,
   "metadata": {
    "scrolled": true
   },
   "outputs": [
    {
     "data": {
      "text/plain": [
       "<matplotlib.axes._subplots.AxesSubplot at 0x7fb560fa4ef0>"
      ]
     },
     "execution_count": 32,
     "metadata": {},
     "output_type": "execute_result"
    },
    {
     "data": {
      "image/png": "[encoded data removed]",
      "text/plain": [
       "<Figure size 432x288 with 1 Axes>"
      ]
     },
     "metadata": {
      "needs_background": "light"
     },
     "output_type": "display_data"
    }
   ],
   "source": [
    "sns.boxplot(data= df1_miss ,palette='rainbow',orient='h')"
   ]
  },
  {
   "cell_type": "code",
   "execution_count": 33,
   "metadata": {},
   "outputs": [
    {
     "data": {
      "text/plain": [
       "(100000, 37)"
      ]
     },
     "execution_count": 33,
     "metadata": {},
     "output_type": "execute_result"
    }
   ],
   "source": [
    "df.shape"
   ]
  },
  {
   "cell_type": "code",
   "execution_count": 34,
   "metadata": {
    "scrolled": true
   },
   "outputs": [
    {
     "data": {
      "text/plain": [
       "(array([ 2964, 10231, 18814, 19043, 20184, 23614, 25967, 28163, 28400,\n",
       "        28479, 31438, 32765, 43923, 48815, 54437, 66175, 69913, 70419,\n",
       "        71168, 71168, 71168, 71168, 78994, 79558, 80757, 82162, 86639,\n",
       "        88525, 88525, 88525, 88525, 90949, 93989, 94142, 96308]),\n",
       " array([2, 2, 2, 2, 2, 2, 2, 2, 2, 2, 2, 2, 2, 2, 2, 2, 2, 2, 0, 1, 2, 3,\n",
       "        2, 2, 2, 2, 2, 0, 1, 2, 3, 2, 2, 2, 2]))"
      ]
     },
     "execution_count": 34,
     "metadata": {},
     "output_type": "execute_result"
    }
   ],
   "source": [
    "# remove rows of 'Applicant's Policy Annualized Premium', 'Mapped Agent Vintage', \n",
    "#'Total Risk Exposure of HDFC Life w.r.t. Life Assured', 'Application  Life Assured Age' as missing % is very less\n",
    "np.where(df[['Applicant\\'s Policy Annualized Premium', 'Mapped Agent Vintage',\n",
    "         'Total Risk Exposure of HDFC Life w.r.t. Life Assured', \n",
    "         'Application  Life Assured Age']].isna())"
   ]
  },
  {
   "cell_type": "code",
   "execution_count": 35,
   "metadata": {},
   "outputs": [],
   "source": [
    "df.drop([ 2964, 10231, 18814, 19043, 20184, 23614, 25967, 28163, 28400,\n",
    "        28479, 31438, 32765, 43923, 48815, 54437, 66175, 69913, 70419,\n",
    "        71168, 71168, 71168, 71168, 78994, 79558, 80757, 82162, 86639,\n",
    "        88525, 88525, 88525, 88525, 90949, 93989, 94142, 96308],inplace =True, axis =0)"
   ]
  },
  {
   "cell_type": "code",
   "execution_count": 36,
   "metadata": {},
   "outputs": [
    {
     "data": {
      "text/plain": [
       "(99971, 37)"
      ]
     },
     "execution_count": 36,
     "metadata": {},
     "output_type": "execute_result"
    }
   ],
   "source": [
    "df.shape"
   ]
  },
  {
   "cell_type": "code",
   "execution_count": 37,
   "metadata": {},
   "outputs": [],
   "source": [
    "df1_miss.drop([ 2964, 10231, 18814, 19043, 20184, 23614, 25967, 28163, 28400,\n",
    "        28479, 31438, 32765, 43923, 48815, 54437, 66175, 69913, 70419,\n",
    "        71168, 71168, 71168, 71168, 78994, 79558, 80757, 82162, 86639,\n",
    "        88525, 88525, 88525, 88525, 90949, 93989, 94142, 96308],inplace =True, axis =0)"
   ]
  },
  {
   "cell_type": "code",
   "execution_count": 38,
   "metadata": {},
   "outputs": [],
   "source": [
    "df1.drop([ 2964, 10231, 18814, 19043, 20184, 23614, 25967, 28163, 28400,\n",
    "        28479, 31438, 32765, 43923, 48815, 54437, 66175, 69913, 70419,\n",
    "        71168, 71168, 71168, 71168, 78994, 79558, 80757, 82162, 86639,\n",
    "        88525, 88525, 88525, 88525, 90949, 93989, 94142, 96308],inplace =True, axis =0)"
   ]
  },
  {
   "cell_type": "code",
   "execution_count": 39,
   "metadata": {
    "scrolled": true
   },
   "outputs": [
    {
     "data": {
      "text/plain": [
       "(99971, 7)"
      ]
     },
     "execution_count": 39,
     "metadata": {},
     "output_type": "execute_result"
    }
   ],
   "source": [
    "df1_miss.shape"
   ]
  },
  {
   "cell_type": "code",
   "execution_count": 40,
   "metadata": {},
   "outputs": [
    {
     "data": {
      "text/plain": [
       "(99971, 12)"
      ]
     },
     "execution_count": 40,
     "metadata": {},
     "output_type": "execute_result"
    }
   ],
   "source": [
    "df1.shape"
   ]
  },
  {
   "cell_type": "code",
   "execution_count": 41,
   "metadata": {},
   "outputs": [
    {
     "data": {
      "text/plain": [
       "Variable Detail\n",
       "Mapped Agent 13M Persistency                            55.537\n",
       "Applicant's Policy Annualized Premium                    0.000\n",
       "Mapped Agent Vintage                                     0.000\n",
       "Application Life Assured BMI                            34.901\n",
       "Total Risk Exposure of HDFC Life w.r.t. Life Assured     0.000\n",
       "Application  Life Assured Age                            0.000\n",
       "Application  Life Assured Income                         5.851\n",
       "dtype: float64"
      ]
     },
     "execution_count": 41,
     "metadata": {},
     "output_type": "execute_result"
    }
   ],
   "source": [
    "df1_miss.isna().sum()/df_train.shape[0] * 100"
   ]
  },
  {
   "cell_type": "code",
   "execution_count": 42,
   "metadata": {},
   "outputs": [],
   "source": [
    "df1_miss.drop(['Applicant\\'s Policy Annualized Premium', 'Mapped Agent Vintage',\n",
    "         'Total Risk Exposure of HDFC Life w.r.t. Life Assured', \n",
    "         'Application  Life Assured Age'],inplace = True,axis = 1)"
   ]
  },
  {
   "cell_type": "code",
   "execution_count": 43,
   "metadata": {},
   "outputs": [
    {
     "data": {
      "text/plain": [
       "Variable Detail\n",
       "Mapped Agent 13M Persistency        55.537\n",
       "Application Life Assured BMI        34.901\n",
       "Application  Life Assured Income     5.851\n",
       "dtype: float64"
      ]
     },
     "execution_count": 43,
     "metadata": {},
     "output_type": "execute_result"
    }
   ],
   "source": [
    "df1_miss.isna().sum()/df_train.shape[0] * 100"
   ]
  },
  {
   "cell_type": "code",
   "execution_count": 44,
   "metadata": {},
   "outputs": [],
   "source": [
    "# imputing - Mapped Agent 13M Persistency"
   ]
  },
  {
   "cell_type": "code",
   "execution_count": 45,
   "metadata": {},
   "outputs": [],
   "source": [
    "# imputing - Application Life Assured BMI"
   ]
  },
  {
   "cell_type": "code",
   "execution_count": 46,
   "metadata": {},
   "outputs": [],
   "source": [
    "# imputing - Application  Life Assured Income"
   ]
  },
  {
   "cell_type": "code",
   "execution_count": null,
   "metadata": {},
   "outputs": [],
   "source": []
  },
  {
   "cell_type": "code",
   "execution_count": null,
   "metadata": {},
   "outputs": [],
   "source": []
  },
  {
   "cell_type": "code",
   "execution_count": null,
   "metadata": {},
   "outputs": [],
   "source": []
  },
  {
   "cell_type": "code",
   "execution_count": null,
   "metadata": {},
   "outputs": [],
   "source": []
  },
  {
   "cell_type": "markdown",
   "metadata": {},
   "source": [
    "## Categorical Missing Values Handling"
   ]
  },
  {
   "cell_type": "code",
   "execution_count": 47,
   "metadata": {},
   "outputs": [],
   "source": [
    "# Categorical Columns in df\n",
    "df_cat = df[['Mapped Agent Branch ', 'Application Life Assured Alcohol Declaration',\n",
    "       'Auto Debit of Premium Opted Flag(Yes/No)',\n",
    "       'Application  Sourcing Channel', 'Application  Life Assured City',\n",
    "       'Applicant\\'s  Policy Contract Branch',\n",
    "       'Application  Life Assured Education',\n",
    "        'Application  Life Assured City Tier',\n",
    "       'Application  Life Assured Gender',\n",
    "       'Application  Life Assured Industry',\n",
    "       'Application  Life Assured Marital Status',\n",
    "       'Application  Life Assured Nationality',\n",
    "       'Application  Life Assured Occupation',\n",
    "       'Applicant\\'s Policy PAR/NON PAR/ULIP Tag',\n",
    "       'Application Specific Sourcing Partner', 'First Premium Payment Type',\n",
    "       'Applicant\\'s Policy Product Category',\n",
    "       'Applicant\\'s Policy Premium Payment Frequency',\n",
    "       'Applicant\\'s Policy Product Name', 'Application Login Date',\n",
    "       'Application Life Assured Residential Status',\n",
    "       'Application Life Assured Smoker Declaration',\n",
    "       'Application Life Assured State', 'Application Sourcing Sub Channel',\n",
    "       'HDFC Life Operational Zone']]"
   ]
  },
  {
   "cell_type": "code",
   "execution_count": 48,
   "metadata": {},
   "outputs": [
    {
     "data": {
      "text/plain": [
       "(99971, 25)"
      ]
     },
     "execution_count": 48,
     "metadata": {},
     "output_type": "execute_result"
    }
   ],
   "source": [
    "df_cat.shape"
   ]
  },
  {
   "cell_type": "code",
   "execution_count": 49,
   "metadata": {},
   "outputs": [
    {
     "data": {
      "text/plain": [
       "Variable Detail\n",
       "Mapped Agent Branch                                 0\n",
       "Application Life Assured Alcohol Declaration    34889\n",
       "Auto Debit of Premium Opted Flag(Yes/No)            0\n",
       "Application  Sourcing Channel                     143\n",
       "Application  Life Assured City                   3124\n",
       "Applicant's  Policy Contract Branch               441\n",
       "Application  Life Assured Education                 0\n",
       "Application  Life Assured City Tier              3124\n",
       "Application  Life Assured Gender                    0\n",
       "Application  Life Assured Industry               5845\n",
       "Application  Life Assured Marital Status            0\n",
       "Application  Life Assured Nationality               0\n",
       "Application  Life Assured Occupation                0\n",
       "Applicant's Policy PAR/NON PAR/ULIP Tag             0\n",
       "Application Specific Sourcing Partner           32025\n",
       "First Premium Payment Type                       1853\n",
       "Applicant's Policy Product Category                 0\n",
       "Applicant's Policy Premium Payment Frequency        0\n",
       "Applicant's Policy Product Name                     0\n",
       "Application Login Date                              0\n",
       "Application Life Assured Residential Status         0\n",
       "Application Life Assured Smoker Declaration     34889\n",
       "Application Life Assured State                   3122\n",
       "Application Sourcing Sub Channel                  143\n",
       "HDFC Life Operational Zone                      35259\n",
       "dtype: int64"
      ]
     },
     "execution_count": 49,
     "metadata": {},
     "output_type": "execute_result"
    }
   ],
   "source": [
    "df_cat.isna().sum()"
   ]
  },
  {
   "cell_type": "code",
   "execution_count": 50,
   "metadata": {},
   "outputs": [],
   "source": [
    "df_cat_miss = df_cat[['Application Life Assured Alcohol Declaration',\n",
    "       'Application  Sourcing Channel', 'Application  Life Assured City',\n",
    "       'Applicant\\'s  Policy Contract Branch',\n",
    "       'Application  Life Assured City Tier',\n",
    "       'Application  Life Assured Industry',\n",
    "       'Application Specific Sourcing Partner', 'First Premium Payment Type',\n",
    "       'Application Life Assured Smoker Declaration',\n",
    "       'Application Life Assured State', 'Application Sourcing Sub Channel',\n",
    "       'HDFC Life Operational Zone']]"
   ]
  },
  {
   "cell_type": "code",
   "execution_count": 51,
   "metadata": {},
   "outputs": [
    {
     "data": {
      "text/html": [
       "<div>\n",
       "<style scoped>\n",
       "    .dataframe tbody tr th:only-of-type {\n",
       "        vertical-align: middle;\n",
       "    }\n",
       "\n",
       "    .dataframe tbody tr th {\n",
       "        vertical-align: top;\n",
       "    }\n",
       "\n",
       "    .dataframe thead th {\n",
       "        text-align: right;\n",
       "    }\n",
       "</style>\n",
       "<table border=\"1\" class=\"dataframe\">\n",
       "  <thead>\n",
       "    <tr style=\"text-align: right;\">\n",
       "      <th>Variable Detail</th>\n",
       "      <th>Application Life Assured Alcohol Declaration</th>\n",
       "      <th>Application  Sourcing Channel</th>\n",
       "      <th>Application  Life Assured City</th>\n",
       "      <th>Applicant's  Policy Contract Branch</th>\n",
       "      <th>Application  Life Assured City Tier</th>\n",
       "      <th>Application  Life Assured Industry</th>\n",
       "      <th>Application Specific Sourcing Partner</th>\n",
       "      <th>First Premium Payment Type</th>\n",
       "      <th>Application Life Assured Smoker Declaration</th>\n",
       "      <th>Application Life Assured State</th>\n",
       "      <th>Application Sourcing Sub Channel</th>\n",
       "      <th>HDFC Life Operational Zone</th>\n",
       "    </tr>\n",
       "  </thead>\n",
       "  <tbody>\n",
       "    <tr>\n",
       "      <th>0</th>\n",
       "      <td>NaN</td>\n",
       "      <td>HDFC BANK</td>\n",
       "      <td>Ghaziabad</td>\n",
       "      <td>Ghaziabad - Rajnagar</td>\n",
       "      <td>Tier II</td>\n",
       "      <td>Legal And Justice</td>\n",
       "      <td>HDFC BANK</td>\n",
       "      <td>DD</td>\n",
       "      <td>NaN</td>\n",
       "      <td>Uttar Pradesh</td>\n",
       "      <td>HDFC BANK</td>\n",
       "      <td>North 2</td>\n",
       "    </tr>\n",
       "    <tr>\n",
       "      <th>1</th>\n",
       "      <td>N</td>\n",
       "      <td>HDFC BANK</td>\n",
       "      <td>bangalore</td>\n",
       "      <td>Delhi - Nehru Place</td>\n",
       "      <td>Tier I</td>\n",
       "      <td>Trading</td>\n",
       "      <td>HDFC BANK</td>\n",
       "      <td>ECS,SI</td>\n",
       "      <td>N</td>\n",
       "      <td>Karnataka</td>\n",
       "      <td>HDFC BANK</td>\n",
       "      <td>North 1</td>\n",
       "    </tr>\n",
       "    <tr>\n",
       "      <th>2</th>\n",
       "      <td>Y</td>\n",
       "      <td>EDM</td>\n",
       "      <td>mumbai</td>\n",
       "      <td>Mumbai - HUB</td>\n",
       "      <td>Tier I</td>\n",
       "      <td>Insurance</td>\n",
       "      <td>NaN</td>\n",
       "      <td>Online Credit/Debit Card/Teles Sales</td>\n",
       "      <td>N</td>\n",
       "      <td>Maharashtra</td>\n",
       "      <td>EDM</td>\n",
       "      <td>NaN</td>\n",
       "    </tr>\n",
       "    <tr>\n",
       "      <th>3</th>\n",
       "      <td>NaN</td>\n",
       "      <td>Other Banks &amp; CA</td>\n",
       "      <td>thane</td>\n",
       "      <td>Mumbai - Borivali</td>\n",
       "      <td>Tier I</td>\n",
       "      <td>Consultant</td>\n",
       "      <td>RBL Bank Ltd</td>\n",
       "      <td>Online Credit/Debit Card/Teles Sales</td>\n",
       "      <td>NaN</td>\n",
       "      <td>Maharashtra</td>\n",
       "      <td>Ratnakar Bank</td>\n",
       "      <td>West</td>\n",
       "    </tr>\n",
       "    <tr>\n",
       "      <th>4</th>\n",
       "      <td>NaN</td>\n",
       "      <td>HDFC BANK</td>\n",
       "      <td>Pandharpur</td>\n",
       "      <td>Mumbai - HUB</td>\n",
       "      <td>Tier III</td>\n",
       "      <td>Sales And Marketing</td>\n",
       "      <td>HDFC BANK</td>\n",
       "      <td>Online Credit/Debit Card/Teles Sales</td>\n",
       "      <td>NaN</td>\n",
       "      <td>Maharashtra</td>\n",
       "      <td>HDFC BANK</td>\n",
       "      <td>NaN</td>\n",
       "    </tr>\n",
       "  </tbody>\n",
       "</table>\n",
       "</div>"
      ],
      "text/plain": [
       "Variable Detail Application Life Assured Alcohol Declaration  \\\n",
       "0                                                        NaN   \n",
       "1                                                          N   \n",
       "2                                                          Y   \n",
       "3                                                        NaN   \n",
       "4                                                        NaN   \n",
       "\n",
       "Variable Detail Application  Sourcing Channel Application  Life Assured City  \\\n",
       "0                                   HDFC BANK                      Ghaziabad   \n",
       "1                                   HDFC BANK                      bangalore   \n",
       "2                                         EDM                         mumbai   \n",
       "3                            Other Banks & CA                          thane   \n",
       "4                                   HDFC BANK                     Pandharpur   \n",
       "\n",
       "Variable Detail Applicant's  Policy Contract Branch  \\\n",
       "0                              Ghaziabad - Rajnagar   \n",
       "1                               Delhi - Nehru Place   \n",
       "2                                      Mumbai - HUB   \n",
       "3                                 Mumbai - Borivali   \n",
       "4                                      Mumbai - HUB   \n",
       "\n",
       "Variable Detail Application  Life Assured City Tier  \\\n",
       "0                                           Tier II   \n",
       "1                                            Tier I   \n",
       "2                                            Tier I   \n",
       "3                                            Tier I   \n",
       "4                                          Tier III   \n",
       "\n",
       "Variable Detail Application  Life Assured Industry  \\\n",
       "0                                Legal And Justice   \n",
       "1                                          Trading   \n",
       "2                                        Insurance   \n",
       "3                                       Consultant   \n",
       "4                              Sales And Marketing   \n",
       "\n",
       "Variable Detail Application Specific Sourcing Partner  \\\n",
       "0                                           HDFC BANK   \n",
       "1                                           HDFC BANK   \n",
       "2                                                 NaN   \n",
       "3                                        RBL Bank Ltd   \n",
       "4                                           HDFC BANK   \n",
       "\n",
       "Variable Detail            First Premium Payment Type  \\\n",
       "0                                                  DD   \n",
       "1                                              ECS,SI   \n",
       "2                Online Credit/Debit Card/Teles Sales   \n",
       "3                Online Credit/Debit Card/Teles Sales   \n",
       "4                Online Credit/Debit Card/Teles Sales   \n",
       "\n",
       "Variable Detail Application Life Assured Smoker Declaration  \\\n",
       "0                                                       NaN   \n",
       "1                                                         N   \n",
       "2                                                         N   \n",
       "3                                                       NaN   \n",
       "4                                                       NaN   \n",
       "\n",
       "Variable Detail Application Life Assured State  \\\n",
       "0                                Uttar Pradesh   \n",
       "1                                    Karnataka   \n",
       "2                                  Maharashtra   \n",
       "3                                  Maharashtra   \n",
       "4                                  Maharashtra   \n",
       "\n",
       "Variable Detail Application Sourcing Sub Channel HDFC Life Operational Zone  \n",
       "0                                      HDFC BANK                    North 2  \n",
       "1                                      HDFC BANK                    North 1  \n",
       "2                                            EDM                        NaN  \n",
       "3                                  Ratnakar Bank                       West  \n",
       "4                                      HDFC BANK                        NaN  "
      ]
     },
     "execution_count": 51,
     "metadata": {},
     "output_type": "execute_result"
    }
   ],
   "source": [
    "df_cat_miss.head()"
   ]
  },
  {
   "cell_type": "code",
   "execution_count": 52,
   "metadata": {
    "scrolled": true
   },
   "outputs": [
    {
     "data": {
      "text/plain": [
       "Variable Detail\n",
       "Application Life Assured Alcohol Declaration    34889\n",
       "Application  Sourcing Channel                     143\n",
       "Application  Life Assured City                   3124\n",
       "Applicant's  Policy Contract Branch               441\n",
       "Application  Life Assured City Tier              3124\n",
       "Application  Life Assured Industry               5845\n",
       "Application Specific Sourcing Partner           32025\n",
       "First Premium Payment Type                       1853\n",
       "Application Life Assured Smoker Declaration     34889\n",
       "Application Life Assured State                   3122\n",
       "Application Sourcing Sub Channel                  143\n",
       "HDFC Life Operational Zone                      35259\n",
       "dtype: int64"
      ]
     },
     "execution_count": 52,
     "metadata": {},
     "output_type": "execute_result"
    }
   ],
   "source": [
    "df_cat_miss.isna().sum()"
   ]
  },
  {
   "cell_type": "code",
   "execution_count": 53,
   "metadata": {},
   "outputs": [
    {
     "data": {
      "text/plain": [
       "(99971, 37)"
      ]
     },
     "execution_count": 53,
     "metadata": {},
     "output_type": "execute_result"
    }
   ],
   "source": [
    "df.shape"
   ]
  },
  {
   "cell_type": "code",
   "execution_count": 54,
   "metadata": {},
   "outputs": [],
   "source": [
    "df = df.dropna(how = 'any',subset = ['Application  Sourcing Channel', 'Applicant\\'s  Policy Contract Branch',\n",
    "  'Application Sourcing Sub Channel'])"
   ]
  },
  {
   "cell_type": "code",
   "execution_count": 56,
   "metadata": {},
   "outputs": [
    {
     "data": {
      "text/plain": [
       "Variable Detail\n",
       "Mapped Agent 13M Persistency                                              55163\n",
       "Mapped Agent Branch                                                           0\n",
       "Application Life Assured Alcohol Declaration                              34514\n",
       "Applicant's Policy Annualized Premium                                         0\n",
       "Mapped Agent Vintage                                                          0\n",
       "Auto Debit of Premium Opted Flag(Yes/No)                                      0\n",
       "Application Life Assured BMI                                              34526\n",
       "Total Risk Exposure of HDFC Life w.r.t. Life Assured                          0\n",
       "Application  Sourcing Channel                                                 0\n",
       "Application  Life Assured City                                             3120\n",
       "Applicant's  Policy Contract Branch                                           0\n",
       "Application  Life Assured City Tier                                        3120\n",
       "Application  Life Assured Age                                                 0\n",
       "Application  Life Assured Education                                           0\n",
       "Application  Life Assured Gender                                              0\n",
       "Application  Life Assured Income                                           5841\n",
       "Application  Life Assured Industry                                         5835\n",
       "Application  Life Assured Marital Status                                      0\n",
       "Application  Life Assured Nationality                                         0\n",
       "Application  Life Assured Occupation                                          0\n",
       "Applicant's Policy PAR/NON PAR/ULIP Tag                                       0\n",
       "Application Specific Sourcing Partner                                     31502\n",
       "First Premium Payment Type                                                 1665\n",
       "Applicant's Policy Product Category                                           0\n",
       "Applicant's Policy Premium Payment Frequency                                  0\n",
       "Applicant's Policy Product Name                                               0\n",
       "Application Login Date                                                        0\n",
       "Applicant's Policy Price Sensitivity(1-'Yes', 0-'No')                         0\n",
       "Application Life Assured Residential Status                                   0\n",
       "Applicant's Policy Risk Cessation Term                                        0\n",
       "Applicant's Policy Rider Opted Flag(1-'Yes', 0-'No')                          0\n",
       "Application Life Assured Smoker Declaration                               34514\n",
       "Application Life Assured State                                             3118\n",
       "Application Sourcing Sub Channel                                              0\n",
       "Applicant's Policy Sum Assured                                                0\n",
       "HDFC Life Operational Zone                                                34742\n",
       "Target - Paid Premium Within 90 Days of Due Date Flag(1-'Yes', 0-'No')        0\n",
       "dtype: int64"
      ]
     },
     "execution_count": 56,
     "metadata": {},
     "output_type": "execute_result"
    }
   ],
   "source": [
    "df.isna().sum()"
   ]
  },
  {
   "cell_type": "code",
   "execution_count": 57,
   "metadata": {},
   "outputs": [],
   "source": [
    "df_cat = df_cat.dropna(how = 'any',subset = ['Application  Sourcing Channel', 'Applicant\\'s  Policy Contract Branch',\n",
    "  'Application Sourcing Sub Channel'])"
   ]
  },
  {
   "cell_type": "code",
   "execution_count": 58,
   "metadata": {},
   "outputs": [],
   "source": [
    "df_cat_miss = df_cat_miss.dropna(how = 'any',subset = ['Application  Sourcing Channel', 'Applicant\\'s  Policy Contract Branch',\n",
    "  'Application Sourcing Sub Channel'])"
   ]
  },
  {
   "cell_type": "code",
   "execution_count": 59,
   "metadata": {},
   "outputs": [],
   "source": [
    "df_cat_miss.drop(['Application  Sourcing Channel', 'Applicant\\'s  Policy Contract Branch',\n",
    "  'Application Sourcing Sub Channel'],axis =1, inplace = True)"
   ]
  },
  {
   "cell_type": "code",
   "execution_count": 60,
   "metadata": {
    "scrolled": true
   },
   "outputs": [
    {
     "data": {
      "text/plain": [
       "Variable Detail\n",
       "Application Life Assured Alcohol Declaration    34514\n",
       "Application  Life Assured City                   3120\n",
       "Application  Life Assured City Tier              3120\n",
       "Application  Life Assured Industry               5835\n",
       "Application Specific Sourcing Partner           31502\n",
       "First Premium Payment Type                       1665\n",
       "Application Life Assured Smoker Declaration     34514\n",
       "Application Life Assured State                   3118\n",
       "HDFC Life Operational Zone                      34742\n",
       "dtype: int64"
      ]
     },
     "execution_count": 60,
     "metadata": {},
     "output_type": "execute_result"
    }
   ],
   "source": [
    "df_cat_miss.isna().sum()"
   ]
  },
  {
   "cell_type": "code",
   "execution_count": 61,
   "metadata": {},
   "outputs": [
    {
     "data": {
      "text/plain": [
       "N    62531\n",
       "Y     2342\n",
       "Name: Application Life Assured Alcohol Declaration, dtype: int64"
      ]
     },
     "execution_count": 61,
     "metadata": {},
     "output_type": "execute_result"
    }
   ],
   "source": [
    "df_cat_miss['Application Life Assured Alcohol Declaration'].value_counts()"
   ]
  },
  {
   "cell_type": "code",
   "execution_count": 62,
   "metadata": {},
   "outputs": [
    {
     "data": {
      "text/plain": [
       "mumbai       2371\n",
       "pune         1683\n",
       "bangalore    1629\n",
       "Mumbai       1556\n",
       "Bangalore    1393\n",
       "Name: Application  Life Assured City, dtype: int64"
      ]
     },
     "execution_count": 62,
     "metadata": {},
     "output_type": "execute_result"
    }
   ],
   "source": [
    "df_cat_miss['Application  Life Assured City'].value_counts().head()"
   ]
  },
  {
   "cell_type": "code",
   "execution_count": 63,
   "metadata": {},
   "outputs": [
    {
     "data": {
      "text/plain": [
       "Tier III    49570\n",
       "Tier I      25306\n",
       "Tier II     21391\n",
       "Name: Application  Life Assured City Tier, dtype: int64"
      ]
     },
     "execution_count": 63,
     "metadata": {},
     "output_type": "execute_result"
    }
   ],
   "source": [
    "df_cat_miss['Application  Life Assured City Tier'].value_counts()"
   ]
  },
  {
   "cell_type": "code",
   "execution_count": 64,
   "metadata": {},
   "outputs": [
    {
     "data": {
      "text/plain": [
       "Business         7944\n",
       "Agriculture      6036\n",
       "Service          4843\n",
       "Education        3418\n",
       "Manufacturing    3071\n",
       "Name: Application  Life Assured Industry, dtype: int64"
      ]
     },
     "execution_count": 64,
     "metadata": {},
     "output_type": "execute_result"
    }
   ],
   "source": [
    "df_cat_miss['Application  Life Assured Industry'].value_counts().head()"
   ]
  },
  {
   "cell_type": "code",
   "execution_count": 65,
   "metadata": {},
   "outputs": [
    {
     "data": {
      "text/plain": [
       "HDFC BANK                     49722\n",
       "HDFC Sales Private Limited     3501\n",
       "RBL Bank Ltd                   1916\n",
       "HDFC SECURITIES LIMITED        1279\n",
       "DUMMY HDFC BANK UPSELL         1099\n",
       "Name: Application Specific Sourcing Partner, dtype: int64"
      ]
     },
     "execution_count": 65,
     "metadata": {},
     "output_type": "execute_result"
    }
   ],
   "source": [
    "df_cat_miss['Application Specific Sourcing Partner'].value_counts().head()"
   ]
  },
  {
   "cell_type": "code",
   "execution_count": 66,
   "metadata": {},
   "outputs": [
    {
     "data": {
      "text/plain": [
       "Cheque                                  22382\n",
       "Online Credit/Debit Card/Teles Sales    21150\n",
       "Online-Bill                             20408\n",
       "DD                                      16699\n",
       "Online Netbanking                        5987\n",
       "Journal Entry                            5845\n",
       "ECS,SI                                   4770\n",
       "Credit Card Mandate                       420\n",
       "Cash                                       61\n",
       "Name: First Premium Payment Type, dtype: int64"
      ]
     },
     "execution_count": 66,
     "metadata": {},
     "output_type": "execute_result"
    }
   ],
   "source": [
    "df_cat_miss['First Premium Payment Type'].value_counts()"
   ]
  },
  {
   "cell_type": "code",
   "execution_count": 67,
   "metadata": {},
   "outputs": [
    {
     "data": {
      "text/plain": [
       "N    63653\n",
       "Y     1220\n",
       "Name: Application Life Assured Smoker Declaration, dtype: int64"
      ]
     },
     "execution_count": 67,
     "metadata": {},
     "output_type": "execute_result"
    }
   ],
   "source": [
    "df_cat_miss['Application Life Assured Smoker Declaration'].value_counts()"
   ]
  },
  {
   "cell_type": "code",
   "execution_count": 68,
   "metadata": {},
   "outputs": [
    {
     "data": {
      "text/plain": [
       "Maharashtra                  15054\n",
       "Uttar Pradesh                10022\n",
       "Gujarat                       7223\n",
       "Punjab                        6563\n",
       "Tamil Nadu                    6212\n",
       "Delhi                         5865\n",
       "Haryana                       5375\n",
       "West Bengal                   5071\n",
       "Karnataka                     5035\n",
       "Rajasthan                     3882\n",
       "Madhya Pradesh                3659\n",
       "Telangana                     3369\n",
       "Andhra Pradesh                2779\n",
       "Odisha                        2766\n",
       "Kerala                        2389\n",
       "Bihar                         2003\n",
       "Assam                         1598\n",
       "Jharkhand                     1350\n",
       "Chattisgarh                   1150\n",
       "Himachal Pradesh               984\n",
       "Uttarakhand                    972\n",
       "Jammu & Kashmir                747\n",
       "Chandigarh                     426\n",
       "Goa                            382\n",
       "Manipur                        331\n",
       "Meghalaya                      209\n",
       "Tripura                        140\n",
       "Pondicherry                    137\n",
       "Dadra & Nagar Haveli           132\n",
       "Daman & Diu                    115\n",
       "Sikkim                         104\n",
       "Nagaland                        88\n",
       "Mizoram                         66\n",
       "Arunachal Pradesh               60\n",
       "Andaman & Nicobar Islands       11\n",
       "Name: Application Life Assured State, dtype: int64"
      ]
     },
     "execution_count": 68,
     "metadata": {},
     "output_type": "execute_result"
    }
   ],
   "source": [
    "df_cat_miss['Application Life Assured State'].value_counts()"
   ]
  },
  {
   "cell_type": "code",
   "execution_count": 69,
   "metadata": {
    "scrolled": true
   },
   "outputs": [
    {
     "data": {
      "text/plain": [
       "North 1    15657\n",
       "West       15295\n",
       "East       12994\n",
       "North 2     8060\n",
       "South 1     7667\n",
       "South 2     4972\n",
       "Name: HDFC Life Operational Zone, dtype: int64"
      ]
     },
     "execution_count": 69,
     "metadata": {},
     "output_type": "execute_result"
    }
   ],
   "source": [
    "df_cat_miss['HDFC Life Operational Zone'].value_counts()"
   ]
  },
  {
   "cell_type": "code",
   "execution_count": 70,
   "metadata": {},
   "outputs": [
    {
     "data": {
      "text/plain": [
       "Index(['Application Life Assured Alcohol Declaration',\n",
       "       'Application  Life Assured City', 'Application  Life Assured City Tier',\n",
       "       'Application  Life Assured Industry',\n",
       "       'Application Specific Sourcing Partner', 'First Premium Payment Type',\n",
       "       'Application Life Assured Smoker Declaration',\n",
       "       'Application Life Assured State', 'HDFC Life Operational Zone'],\n",
       "      dtype='object', name='Variable Detail')"
      ]
     },
     "execution_count": 70,
     "metadata": {},
     "output_type": "execute_result"
    }
   ],
   "source": [
    "df_cat_miss.columns"
   ]
  },
  {
   "cell_type": "code",
   "execution_count": 71,
   "metadata": {},
   "outputs": [],
   "source": [
    "## dropping all missing values rows"
   ]
  },
  {
   "cell_type": "code",
   "execution_count": 72,
   "metadata": {},
   "outputs": [],
   "source": [
    "df = df.dropna(how = 'any',subset = ['Application Life Assured Alcohol Declaration',\n",
    "       'Application  Life Assured City', 'Application  Life Assured City Tier',\n",
    "       'Application  Life Assured Industry',\n",
    "       'Application Specific Sourcing Partner', 'First Premium Payment Type',\n",
    "       'Application Life Assured Smoker Declaration',\n",
    "       'Application Life Assured State', 'HDFC Life Operational Zone'])"
   ]
  },
  {
   "cell_type": "code",
   "execution_count": 73,
   "metadata": {},
   "outputs": [],
   "source": [
    "df_cat = df_cat.dropna(how = 'any',subset = ['Application Life Assured Alcohol Declaration',\n",
    "       'Application  Life Assured City', 'Application  Life Assured City Tier',\n",
    "       'Application  Life Assured Industry',\n",
    "       'Application Specific Sourcing Partner', 'First Premium Payment Type',\n",
    "       'Application Life Assured Smoker Declaration',\n",
    "       'Application Life Assured State', 'HDFC Life Operational Zone'])"
   ]
  },
  {
   "cell_type": "code",
   "execution_count": 74,
   "metadata": {},
   "outputs": [
    {
     "data": {
      "text/plain": [
       "(25327, 37)"
      ]
     },
     "execution_count": 74,
     "metadata": {},
     "output_type": "execute_result"
    }
   ],
   "source": [
    "df.shape"
   ]
  },
  {
   "cell_type": "code",
   "execution_count": 75,
   "metadata": {},
   "outputs": [
    {
     "data": {
      "text/plain": [
       "(25327, 25)"
      ]
     },
     "execution_count": 75,
     "metadata": {},
     "output_type": "execute_result"
    }
   ],
   "source": [
    "df_cat.shape"
   ]
  },
  {
   "cell_type": "code",
   "execution_count": 76,
   "metadata": {},
   "outputs": [
    {
     "data": {
      "text/plain": [
       "Variable Detail\n",
       "Mapped Agent 13M Persistency                                              14138\n",
       "Mapped Agent Branch                                                           0\n",
       "Application Life Assured Alcohol Declaration                                  0\n",
       "Applicant's Policy Annualized Premium                                         0\n",
       "Mapped Agent Vintage                                                          0\n",
       "Auto Debit of Premium Opted Flag(Yes/No)                                      0\n",
       "Application Life Assured BMI                                                  2\n",
       "Total Risk Exposure of HDFC Life w.r.t. Life Assured                          0\n",
       "Application  Sourcing Channel                                                 0\n",
       "Application  Life Assured City                                                0\n",
       "Applicant's  Policy Contract Branch                                           0\n",
       "Application  Life Assured City Tier                                           0\n",
       "Application  Life Assured Age                                                 0\n",
       "Application  Life Assured Education                                           0\n",
       "Application  Life Assured Gender                                              0\n",
       "Application  Life Assured Income                                              5\n",
       "Application  Life Assured Industry                                            0\n",
       "Application  Life Assured Marital Status                                      0\n",
       "Application  Life Assured Nationality                                         0\n",
       "Application  Life Assured Occupation                                          0\n",
       "Applicant's Policy PAR/NON PAR/ULIP Tag                                       0\n",
       "Application Specific Sourcing Partner                                         0\n",
       "First Premium Payment Type                                                    0\n",
       "Applicant's Policy Product Category                                           0\n",
       "Applicant's Policy Premium Payment Frequency                                  0\n",
       "Applicant's Policy Product Name                                               0\n",
       "Application Login Date                                                        0\n",
       "Applicant's Policy Price Sensitivity(1-'Yes', 0-'No')                         0\n",
       "Application Life Assured Residential Status                                   0\n",
       "Applicant's Policy Risk Cessation Term                                        0\n",
       "Applicant's Policy Rider Opted Flag(1-'Yes', 0-'No')                          0\n",
       "Application Life Assured Smoker Declaration                                   0\n",
       "Application Life Assured State                                                0\n",
       "Application Sourcing Sub Channel                                              0\n",
       "Applicant's Policy Sum Assured                                                0\n",
       "HDFC Life Operational Zone                                                    0\n",
       "Target - Paid Premium Within 90 Days of Due Date Flag(1-'Yes', 0-'No')        0\n",
       "dtype: int64"
      ]
     },
     "execution_count": 76,
     "metadata": {},
     "output_type": "execute_result"
    }
   ],
   "source": [
    "df.isna().sum()"
   ]
  },
  {
   "cell_type": "code",
   "execution_count": 77,
   "metadata": {},
   "outputs": [],
   "source": [
    "df = df.dropna(how = 'any',subset =['Application Life Assured BMI','Application  Life Assured Income'])"
   ]
  },
  {
   "cell_type": "code",
   "execution_count": 78,
   "metadata": {
    "scrolled": true
   },
   "outputs": [
    {
     "data": {
      "text/plain": [
       "Variable Detail\n",
       "Mapped Agent 13M Persistency                                              14133\n",
       "Mapped Agent Branch                                                           0\n",
       "Application Life Assured Alcohol Declaration                                  0\n",
       "Applicant's Policy Annualized Premium                                         0\n",
       "Mapped Agent Vintage                                                          0\n",
       "Auto Debit of Premium Opted Flag(Yes/No)                                      0\n",
       "Application Life Assured BMI                                                  0\n",
       "Total Risk Exposure of HDFC Life w.r.t. Life Assured                          0\n",
       "Application  Sourcing Channel                                                 0\n",
       "Application  Life Assured City                                                0\n",
       "Applicant's  Policy Contract Branch                                           0\n",
       "Application  Life Assured City Tier                                           0\n",
       "Application  Life Assured Age                                                 0\n",
       "Application  Life Assured Education                                           0\n",
       "Application  Life Assured Gender                                              0\n",
       "Application  Life Assured Income                                              0\n",
       "Application  Life Assured Industry                                            0\n",
       "Application  Life Assured Marital Status                                      0\n",
       "Application  Life Assured Nationality                                         0\n",
       "Application  Life Assured Occupation                                          0\n",
       "Applicant's Policy PAR/NON PAR/ULIP Tag                                       0\n",
       "Application Specific Sourcing Partner                                         0\n",
       "First Premium Payment Type                                                    0\n",
       "Applicant's Policy Product Category                                           0\n",
       "Applicant's Policy Premium Payment Frequency                                  0\n",
       "Applicant's Policy Product Name                                               0\n",
       "Application Login Date                                                        0\n",
       "Applicant's Policy Price Sensitivity(1-'Yes', 0-'No')                         0\n",
       "Application Life Assured Residential Status                                   0\n",
       "Applicant's Policy Risk Cessation Term                                        0\n",
       "Applicant's Policy Rider Opted Flag(1-'Yes', 0-'No')                          0\n",
       "Application Life Assured Smoker Declaration                                   0\n",
       "Application Life Assured State                                                0\n",
       "Application Sourcing Sub Channel                                              0\n",
       "Applicant's Policy Sum Assured                                                0\n",
       "HDFC Life Operational Zone                                                    0\n",
       "Target - Paid Premium Within 90 Days of Due Date Flag(1-'Yes', 0-'No')        0\n",
       "dtype: int64"
      ]
     },
     "execution_count": 78,
     "metadata": {},
     "output_type": "execute_result"
    }
   ],
   "source": [
    "df.isna().sum()"
   ]
  },
  {
   "cell_type": "code",
   "execution_count": 79,
   "metadata": {},
   "outputs": [],
   "source": [
    "y = df['Mapped Agent 13M Persistency']"
   ]
  },
  {
   "cell_type": "code",
   "execution_count": 80,
   "metadata": {},
   "outputs": [
    {
     "data": {
      "text/plain": [
       "0.34833465706416283"
      ]
     },
     "execution_count": 80,
     "metadata": {},
     "output_type": "execute_result"
    }
   ],
   "source": [
    "y.std()/y.mean()"
   ]
  },
  {
   "cell_type": "code",
   "execution_count": 81,
   "metadata": {},
   "outputs": [
    {
     "data": {
      "text/plain": [
       "0.3179740080432891"
      ]
     },
     "execution_count": 81,
     "metadata": {},
     "output_type": "execute_result"
    }
   ],
   "source": [
    "y.std()/y.median()"
   ]
  },
  {
   "cell_type": "code",
   "execution_count": null,
   "metadata": {},
   "outputs": [],
   "source": [
    "x = df['Mapped Agent 13M Persistency'].median()\n",
    "x"
   ]
  },
  {
   "cell_type": "code",
   "execution_count": null,
   "metadata": {},
   "outputs": [],
   "source": [
    "## replacing missing values of 'Mapped Agent 13M Persistency' with median\n",
    "df['Mapped Agent 13M Persistency'][df['Mapped Agent 13M Persistency'].isna()] = x"
   ]
  },
  {
   "cell_type": "code",
   "execution_count": null,
   "metadata": {},
   "outputs": [],
   "source": [
    "df.isna().sum()"
   ]
  },
  {
   "cell_type": "code",
   "execution_count": null,
   "metadata": {},
   "outputs": [],
   "source": [
    "df.to_csv('data', index=False)"
   ]
  }
 ],
 "metadata": {
  "kernelspec": {
   "display_name": "Python 3",
   "language": "python",
   "name": "python3"
  },
  "language_info": {
   "codemirror_mode": {
    "name": "ipython",
    "version": 3
   },
   "file_extension": ".py",
   "mimetype": "text/x-python",
   "name": "python",
   "nbconvert_exporter": "python",
   "pygments_lexer": "ipython3",
   "version": "3.8.3"
  }
 },
 "nbformat": 4,
 "nbformat_minor": 2
}
